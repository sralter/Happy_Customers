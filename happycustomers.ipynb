{
 "cells": [
  {
   "cell_type": "markdown",
   "id": "7ca989e3-6fce-48fd-b44c-bd5e261375bf",
   "metadata": {},
   "source": [
    "# Happy Customers - An Apziva Project"
   ]
  },
  {
   "cell_type": "markdown",
   "id": "f4be1ab2-763b-43a1-bd04-809d0944c0df",
   "metadata": {},
   "source": [
    "By Samuel Alter"
   ]
  },
  {
   "cell_type": "markdown",
   "id": "604f2033-1c74-46e3-b1c9-8fc37a257748",
   "metadata": {},
   "source": [
    "This project centers on a customer survey dataset from a delivery company. The dataset consists of the following:\n",
    "* `Y`: The target attribute, indicating whether the customer noted their happiness or unhappiness\n",
    "* `X1`: Order was delivered on time\n",
    "* `X2`: Contents of the order was as expected (think: after the order has been delivered)\n",
    "* `X3`: I ordered everything that I wanted to order (think: while placing the order)\n",
    "* `X4`: I paid a good price for my order\n",
    "* `X5`: I am satisfied with my courier\n",
    "* `X6`: The app makes ordering easy for me\n",
    "\n",
    "Attributes `X1` through `X6` are on a 1 to 5 scale, with 5 indicating most agreement with the statement."
   ]
  },
  {
   "cell_type": "markdown",
   "id": "b5f15363-93ba-468e-8ff6-73effe14adb8",
   "metadata": {},
   "source": [
    "The goals of this project are to train a model that predicts whether a customer is happy or not, based on their answers to the survey. Specifically, I am to reach 73% accuracy or higher with my modeling, or explain why my solution is superior."
   ]
  },
  {
   "cell_type": "markdown",
   "id": "939dc854-a7cf-4cfc-8ed1-6fcd60fdf242",
   "metadata": {},
   "source": [
    "A stretch goal would be to determine which features are more important when predicting a customer's happiness. What is the minimal set of attributes or features that would preserve the most information about the problem, while at the same time increasing predictability? The aim here is to see if any question can be eliminated in the next survey round.\n",
    "\n",
    "The statistical analysis of the features can be found in the [Statistical Modeling](#statistical_modeling) section at the end of this document."
   ]
  },
  {
   "cell_type": "markdown",
   "id": "a05b6ad4-ccaa-4cf2-b614-68c593b9c147",
   "metadata": {},
   "source": [
    "## Table of Contents"
   ]
  },
  {
   "cell_type": "markdown",
   "id": "aadebfef-ac42-42dc-93da-86152a8f73a5",
   "metadata": {},
   "source": [
    "1. [EDA](#eda)\n",
    "> [EDA Summary](#eda_sum)\n",
    "1. [Initial `lazypredict` model exploration](#lazy_predict)\n",
    "> This is run in the `lazypredict` environment\n",
    "> * [Random seed initialization](#rand). This output is saved to a file so that it can be accessed later on in the notebook when using a different environment.\n",
    "> * [Read in and setup dataset](#read)\n",
    "> * [Run `LazyClassifier`](#lazy)\n",
    "1. [Switch to `sklearn` environment](#sklearn)\n",
    "> The sections involving ML algorithms are run in this environment\n",
    "1. `XGBoost`\n",
    "> * [Initial XGBoost model run](#xgboost_initial)\n",
    "> * [Grid search exploration with the `XGboost` algorithm](#xgboost)\n",
    "1. [`SGDClassifier`](#sgdc)\n",
    "> Grid search exploration with the `SGDClassifier` algorithm\n",
    "> * [`get_dummies`](#sgdc_dummies)\n",
    "> * [`train_test_split` on OHE'd dataset](#tts_ohe)\n",
    "> * [Pipeline with `SGDClassifier` and OHE'd data](#pipe_ohe)\n",
    "> * [Most important features of the OHE'd data](#rfe_ohe)\n",
    "> * [New pipeline with `SGDClassifier` and categorical (not OHE'd) data](#pipe_notohe)\n",
    "> * [Most important features of the non-OHE'd data](#rfe_notohe)\n",
    "> * [Last attempt at pipeline and grid search with thresholded (non-OHE'd) data](#thresholded_grid)\n",
    "> * [Most important features on the thresholded data](#rfe_threshold)\n",
    "1. [`hyperopt`](#hyper)\n",
    "> Our accuracies are still volatile and not ideal, so we will use the `hyperopt` package to help us arrive at better hyperparameters."
   ]
  },
  {
   "cell_type": "markdown",
   "id": "32a62449-24e0-4c75-93ee-f2f4349983d8",
   "metadata": {},
   "source": [
    "## EDA <a name='eda'></a>"
   ]
  },
  {
   "cell_type": "code",
   "execution_count": 217,
   "id": "73a639d5-0487-4963-9b3f-da593d1d56f7",
   "metadata": {},
   "outputs": [],
   "source": [
    "import pandas as pd\n",
    "import numpy as np\n",
    "import matplotlib.pyplot as plt\n",
    "import seaborn as sns"
   ]
  },
  {
   "cell_type": "code",
   "execution_count": 219,
   "id": "f679289a-2006-43ae-b5dd-a5b624f13ab6",
   "metadata": {},
   "outputs": [
    {
     "data": {
      "text/html": [
       "<div>\n",
       "<style scoped>\n",
       "    .dataframe tbody tr th:only-of-type {\n",
       "        vertical-align: middle;\n",
       "    }\n",
       "\n",
       "    .dataframe tbody tr th {\n",
       "        vertical-align: top;\n",
       "    }\n",
       "\n",
       "    .dataframe thead th {\n",
       "        text-align: right;\n",
       "    }\n",
       "</style>\n",
       "<table border=\"1\" class=\"dataframe\">\n",
       "  <thead>\n",
       "    <tr style=\"text-align: right;\">\n",
       "      <th></th>\n",
       "      <th>Y</th>\n",
       "      <th>X1</th>\n",
       "      <th>X2</th>\n",
       "      <th>X3</th>\n",
       "      <th>X4</th>\n",
       "      <th>X5</th>\n",
       "      <th>X6</th>\n",
       "    </tr>\n",
       "  </thead>\n",
       "  <tbody>\n",
       "    <tr>\n",
       "      <th>0</th>\n",
       "      <td>0</td>\n",
       "      <td>3</td>\n",
       "      <td>3</td>\n",
       "      <td>3</td>\n",
       "      <td>4</td>\n",
       "      <td>2</td>\n",
       "      <td>4</td>\n",
       "    </tr>\n",
       "    <tr>\n",
       "      <th>1</th>\n",
       "      <td>0</td>\n",
       "      <td>3</td>\n",
       "      <td>2</td>\n",
       "      <td>3</td>\n",
       "      <td>5</td>\n",
       "      <td>4</td>\n",
       "      <td>3</td>\n",
       "    </tr>\n",
       "    <tr>\n",
       "      <th>2</th>\n",
       "      <td>1</td>\n",
       "      <td>5</td>\n",
       "      <td>3</td>\n",
       "      <td>3</td>\n",
       "      <td>3</td>\n",
       "      <td>3</td>\n",
       "      <td>5</td>\n",
       "    </tr>\n",
       "  </tbody>\n",
       "</table>\n",
       "</div>"
      ],
      "text/plain": [
       "   Y  X1  X2  X3  X4  X5  X6\n",
       "0  0   3   3   3   4   2   4\n",
       "1  0   3   2   3   5   4   3\n",
       "2  1   5   3   3   3   3   5"
      ]
     },
     "execution_count": 219,
     "metadata": {},
     "output_type": "execute_result"
    }
   ],
   "source": [
    "df=pd.read_csv('../data/1_data.csv')\n",
    "df.head(3)"
   ]
  },
  {
   "cell_type": "markdown",
   "id": "86c2a886-4cf9-483f-8163-646da43ab0ee",
   "metadata": {},
   "source": [
    "Let's rename the columns to make them more intuitive."
   ]
  },
  {
   "cell_type": "code",
   "execution_count": 220,
   "id": "4889f8a2-234c-403f-97a5-f50356cb0461",
   "metadata": {},
   "outputs": [],
   "source": [
    "df.rename(columns={'Y':'y',\n",
    "                   'X1':'a_time',\n",
    "                   'X2':'b_contents',\n",
    "                   'X3':'c_complete',\n",
    "                   'X4':'d_price',\n",
    "                   'X5':'e_courier',\n",
    "                   'X6':'f_app'},inplace=True)\n",
    "\n",
    "# using alphabet prefixes to ensure correct order of columns"
   ]
  },
  {
   "cell_type": "code",
   "execution_count": 221,
   "id": "d5bc324c-a621-45da-baac-e511e2fb753f",
   "metadata": {},
   "outputs": [
    {
     "name": "stdout",
     "output_type": "stream",
     "text": [
      "There are 126 rows and 7 columns in the dataset\n"
     ]
    }
   ],
   "source": [
    "print(f\"There are {df.shape[0]} rows and {df.shape[1]} columns in the dataset\")"
   ]
  },
  {
   "cell_type": "code",
   "execution_count": 222,
   "id": "c8663c88-604b-4d89-90e0-bd12ddc5d8fc",
   "metadata": {},
   "outputs": [
    {
     "data": {
      "text/html": [
       "<div>\n",
       "<style scoped>\n",
       "    .dataframe tbody tr th:only-of-type {\n",
       "        vertical-align: middle;\n",
       "    }\n",
       "\n",
       "    .dataframe tbody tr th {\n",
       "        vertical-align: top;\n",
       "    }\n",
       "\n",
       "    .dataframe thead th {\n",
       "        text-align: right;\n",
       "    }\n",
       "</style>\n",
       "<table border=\"1\" class=\"dataframe\">\n",
       "  <thead>\n",
       "    <tr style=\"text-align: right;\">\n",
       "      <th></th>\n",
       "      <th>y</th>\n",
       "      <th>a_time</th>\n",
       "      <th>b_contents</th>\n",
       "      <th>c_complete</th>\n",
       "      <th>d_price</th>\n",
       "      <th>e_courier</th>\n",
       "      <th>f_app</th>\n",
       "    </tr>\n",
       "  </thead>\n",
       "  <tbody>\n",
       "    <tr>\n",
       "      <th>count</th>\n",
       "      <td>126.000000</td>\n",
       "      <td>126.000000</td>\n",
       "      <td>126.000000</td>\n",
       "      <td>126.000000</td>\n",
       "      <td>126.000000</td>\n",
       "      <td>126.000000</td>\n",
       "      <td>126.000000</td>\n",
       "    </tr>\n",
       "    <tr>\n",
       "      <th>mean</th>\n",
       "      <td>0.547619</td>\n",
       "      <td>4.333333</td>\n",
       "      <td>2.531746</td>\n",
       "      <td>3.309524</td>\n",
       "      <td>3.746032</td>\n",
       "      <td>3.650794</td>\n",
       "      <td>4.253968</td>\n",
       "    </tr>\n",
       "    <tr>\n",
       "      <th>std</th>\n",
       "      <td>0.499714</td>\n",
       "      <td>0.800000</td>\n",
       "      <td>1.114892</td>\n",
       "      <td>1.023440</td>\n",
       "      <td>0.875776</td>\n",
       "      <td>1.147641</td>\n",
       "      <td>0.809311</td>\n",
       "    </tr>\n",
       "    <tr>\n",
       "      <th>min</th>\n",
       "      <td>0.000000</td>\n",
       "      <td>1.000000</td>\n",
       "      <td>1.000000</td>\n",
       "      <td>1.000000</td>\n",
       "      <td>1.000000</td>\n",
       "      <td>1.000000</td>\n",
       "      <td>1.000000</td>\n",
       "    </tr>\n",
       "    <tr>\n",
       "      <th>25%</th>\n",
       "      <td>0.000000</td>\n",
       "      <td>4.000000</td>\n",
       "      <td>2.000000</td>\n",
       "      <td>3.000000</td>\n",
       "      <td>3.000000</td>\n",
       "      <td>3.000000</td>\n",
       "      <td>4.000000</td>\n",
       "    </tr>\n",
       "    <tr>\n",
       "      <th>50%</th>\n",
       "      <td>1.000000</td>\n",
       "      <td>5.000000</td>\n",
       "      <td>3.000000</td>\n",
       "      <td>3.000000</td>\n",
       "      <td>4.000000</td>\n",
       "      <td>4.000000</td>\n",
       "      <td>4.000000</td>\n",
       "    </tr>\n",
       "    <tr>\n",
       "      <th>75%</th>\n",
       "      <td>1.000000</td>\n",
       "      <td>5.000000</td>\n",
       "      <td>3.000000</td>\n",
       "      <td>4.000000</td>\n",
       "      <td>4.000000</td>\n",
       "      <td>4.000000</td>\n",
       "      <td>5.000000</td>\n",
       "    </tr>\n",
       "    <tr>\n",
       "      <th>max</th>\n",
       "      <td>1.000000</td>\n",
       "      <td>5.000000</td>\n",
       "      <td>5.000000</td>\n",
       "      <td>5.000000</td>\n",
       "      <td>5.000000</td>\n",
       "      <td>5.000000</td>\n",
       "      <td>5.000000</td>\n",
       "    </tr>\n",
       "  </tbody>\n",
       "</table>\n",
       "</div>"
      ],
      "text/plain": [
       "                y      a_time  b_contents  c_complete     d_price   e_courier  \\\n",
       "count  126.000000  126.000000  126.000000  126.000000  126.000000  126.000000   \n",
       "mean     0.547619    4.333333    2.531746    3.309524    3.746032    3.650794   \n",
       "std      0.499714    0.800000    1.114892    1.023440    0.875776    1.147641   \n",
       "min      0.000000    1.000000    1.000000    1.000000    1.000000    1.000000   \n",
       "25%      0.000000    4.000000    2.000000    3.000000    3.000000    3.000000   \n",
       "50%      1.000000    5.000000    3.000000    3.000000    4.000000    4.000000   \n",
       "75%      1.000000    5.000000    3.000000    4.000000    4.000000    4.000000   \n",
       "max      1.000000    5.000000    5.000000    5.000000    5.000000    5.000000   \n",
       "\n",
       "            f_app  \n",
       "count  126.000000  \n",
       "mean     4.253968  \n",
       "std      0.809311  \n",
       "min      1.000000  \n",
       "25%      4.000000  \n",
       "50%      4.000000  \n",
       "75%      5.000000  \n",
       "max      5.000000  "
      ]
     },
     "execution_count": 222,
     "metadata": {},
     "output_type": "execute_result"
    }
   ],
   "source": [
    "df.describe()"
   ]
  },
  {
   "cell_type": "markdown",
   "id": "46c11873-7a31-4e05-8a62-fe3903ed9aaa",
   "metadata": {},
   "source": [
    "It seems like most of the participants in the survey were happy about the time it took to receive the order and app experience, but all of this will require more exploration."
   ]
  },
  {
   "cell_type": "code",
   "execution_count": 223,
   "id": "93efb9c5-1b25-4b8b-a0bc-9660d99f8f30",
   "metadata": {},
   "outputs": [
    {
     "data": {
      "text/plain": [
       "1    69\n",
       "0    57\n",
       "Name: y, dtype: int64"
      ]
     },
     "execution_count": 223,
     "metadata": {},
     "output_type": "execute_result"
    }
   ],
   "source": [
    "df['y'].value_counts()"
   ]
  },
  {
   "cell_type": "markdown",
   "id": "45bc811c-c112-4725-b717-37beec08347a",
   "metadata": {},
   "source": [
    "### Figure 1: Distribution of target (Y)"
   ]
  },
  {
   "cell_type": "code",
   "execution_count": 224,
   "id": "effa1877-3f8e-4659-84ab-6904c55e53af",
   "metadata": {},
   "outputs": [
    {
     "data": {
      "image/png": "[encoded data removed]",
      "text/plain": [
       "<Figure size 600x400 with 1 Axes>"
      ]
     },
     "metadata": {},
     "output_type": "display_data"
    }
   ],
   "source": [
    "# data labels\n",
    "x=[0,1]\n",
    "y=[df['y'].value_counts()[0],df['y'].value_counts()[1]]\n",
    "\n",
    "plt.figure(figsize=(6, 4))\n",
    "ax=sns.countplot(data=df, x='y',zorder=3,)\n",
    "plt.title('Distribution of Customer Happiness in Target (y)')\n",
    "plt.xlabel('Target Values\\n0: Unhappy, 1: Happy')\n",
    "plt.ylabel('Count')\n",
    "ax.yaxis.grid(True,zorder=0)\n",
    "for i in range(len(x)):\n",
    "    plt.text(i, y[i], y[i], ha = 'center')\n",
    "plt.savefig('../figs/1_ydistribution.pdf')\n",
    "plt.savefig('../figs/1_ydistribution.png')\n",
    "plt.show()"
   ]
  },
  {
   "cell_type": "code",
   "execution_count": 225,
   "id": "a34a02ca-e9a0-4ec2-9f63-b1b0915e8e2b",
   "metadata": {},
   "outputs": [
    {
     "name": "stdout",
     "output_type": "stream",
     "text": [
      "In the dataset, 54.76% of respondents were happy,\n",
      "while 45.0% of respondents were unhappy.\n"
     ]
    }
   ],
   "source": [
    "print(f\"In the dataset, {round(df['y'].value_counts()[1]/df['y'].shape[0]*100,2)}% of respondents were happy,\\nwhile {round(df['y'].value_counts()[0]/df['y'].shape[0]*100,0)}% of respondents were unhappy.\")"
   ]
  },
  {
   "cell_type": "code",
   "execution_count": 226,
   "id": "51c56c0a-dc3d-41c1-be6d-ee942fcf0680",
   "metadata": {},
   "outputs": [],
   "source": [
    "# prepare X data for plotting\n",
    "col_list=[]\n",
    "\n",
    "for i in df.columns:\n",
    "    col_list.append(i)\n",
    "    \n",
    "col_list.remove('y')\n",
    "\n",
    "df_melted=df.melt(value_vars=col_list,var_name='Variable',value_name='Value')\n",
    "\n",
    "# calculate mean value per variable\n",
    "mean_values=df_melted.groupby('Variable')['Value'].mean().to_dict()"
   ]
  },
  {
   "cell_type": "code",
   "execution_count": 227,
   "id": "ed25691d-32f5-49a8-ac2c-672ad39a4e77",
   "metadata": {},
   "outputs": [
    {
     "data": {
      "text/plain": [
       "{'a_time': 4.333333333333333,\n",
       " 'b_contents': 2.5317460317460316,\n",
       " 'c_complete': 3.3095238095238093,\n",
       " 'd_price': 3.746031746031746,\n",
       " 'e_courier': 3.6507936507936507,\n",
       " 'f_app': 4.253968253968254}"
      ]
     },
     "execution_count": 227,
     "metadata": {},
     "output_type": "execute_result"
    }
   ],
   "source": [
    "mean_values"
   ]
  },
  {
   "cell_type": "code",
   "execution_count": 228,
   "id": "3f5b0d95-2da1-4639-ac2b-e193aea3e257",
   "metadata": {},
   "outputs": [
    {
     "data": {
      "text/plain": [
       "['a_time: 4.33',\n",
       " 'b_contents: 2.53',\n",
       " 'c_complete: 3.31',\n",
       " 'd_price: 3.75',\n",
       " 'e_courier: 3.65',\n",
       " 'f_app: 4.25']"
      ]
     },
     "execution_count": 228,
     "metadata": {},
     "output_type": "execute_result"
    }
   ],
   "source": [
    "# create custom labels for following figure\n",
    "labels=[f\"{variable}: {mean_values[variable]:.2f}\" for variable in mean_values.keys()]\n",
    "labels"
   ]
  },
  {
   "cell_type": "code",
   "execution_count": 229,
   "id": "70e8d936-407b-451e-b522-44379c5671b5",
   "metadata": {},
   "outputs": [
    {
     "data": {
      "text/plain": [
       "a_time        126\n",
       "b_contents    126\n",
       "c_complete    126\n",
       "d_price       126\n",
       "e_courier     126\n",
       "f_app         126\n",
       "Name: Variable, dtype: int64"
      ]
     },
     "execution_count": 229,
     "metadata": {},
     "output_type": "execute_result"
    }
   ],
   "source": [
    "df_melted['Variable'].value_counts()"
   ]
  },
  {
   "cell_type": "code",
   "execution_count": 230,
   "id": "c1d0ce8f-d200-49f4-b27e-d30cbced8f0e",
   "metadata": {},
   "outputs": [],
   "source": [
    "xlabs=['Delivery Time',\n",
    "       'Contents of Order',\n",
    "       'Order Completeness',\n",
    "       'Price for Order',\n",
    "       'Satisfaction with Courier',\n",
    "       'Satisfaction with App Experience']"
   ]
  },
  {
   "cell_type": "markdown",
   "id": "82d09724-857b-4ea6-897f-3391b79f3d02",
   "metadata": {},
   "source": [
    "### Figure 2: Distribution of survey results"
   ]
  },
  {
   "cell_type": "code",
   "execution_count": 231,
   "id": "fb0f0772-c568-4259-9243-887e34661004",
   "metadata": {},
   "outputs": [
    {
     "data": {
      "image/png": "[encoded data removed]",
      "text/plain": [
       "<Figure size 1200x800 with 1 Axes>"
      ]
     },
     "metadata": {},
     "output_type": "display_data"
    }
   ],
   "source": [
    "# plot distribution of survey results\n",
    "\n",
    "plt.figure(figsize=(12,8))\n",
    "ax=sns.countplot(data=df_melted,x='Variable',hue='Value')\n",
    "plt.suptitle('Count of Survey Results for Each Survey Question\\n1 being least satisfied and 5 being most satisfied')\n",
    "plt.xlabel('Survey Question')\n",
    "plt.ylabel('Count')\n",
    "ax.set_axisbelow(True)\n",
    "ax.yaxis.grid(True,which='major')\n",
    "ax.set_xticklabels(xlabs)\n",
    "plt.xticks(rotation=30)\n",
    "plt.legend(title='Response',loc='upper left')\n",
    "plt.tight_layout()\n",
    "plt.savefig('../figs/1_xdistribution.pdf')\n",
    "plt.savefig('../figs/1_xdistribution.png')\n",
    "plt.show()"
   ]
  },
  {
   "cell_type": "markdown",
   "id": "f35cf18d-59f5-4276-8292-b0bf9b6c4df5",
   "metadata": {},
   "source": [
    "This plot illustrates well the distribution of responses received in the survey. Although it is harder to draw conclusions from this figure, I think it is still valid to understand the overall trends in the data. Figure 3 has more explanatory value."
   ]
  },
  {
   "cell_type": "code",
   "execution_count": 232,
   "id": "ab91d264-9ae1-4c54-8d00-347da860f5e9",
   "metadata": {},
   "outputs": [
    {
     "data": {
      "text/plain": [
       "Variable\n",
       "a_time        4.33\n",
       "b_contents    2.53\n",
       "c_complete    3.31\n",
       "d_price       3.75\n",
       "e_courier     3.65\n",
       "f_app         4.25\n",
       "Name: Value, dtype: float64"
      ]
     },
     "execution_count": 232,
     "metadata": {},
     "output_type": "execute_result"
    }
   ],
   "source": [
    "# setup labels for mean values\n",
    "mean_values=df_melted.groupby('Variable')['Value'].mean()\n",
    "mean_values=mean_values.round(decimals=2)\n",
    "mean_values"
   ]
  },
  {
   "cell_type": "code",
   "execution_count": 233,
   "id": "820cd0f2-9d15-49a5-9bb9-3908e7053a2d",
   "metadata": {},
   "outputs": [],
   "source": [
    "# data labels\n",
    "x=[i for i in np.arange(6)]\n",
    "y=[mean_values[i] for i in np.arange(6)]"
   ]
  },
  {
   "cell_type": "markdown",
   "id": "08b82f79-5144-407f-8e51-bf98a872eb51",
   "metadata": {},
   "source": [
    "### Figure 3: Mean response to survey question"
   ]
  },
  {
   "cell_type": "code",
   "execution_count": 234,
   "id": "f4580fe6-20f9-47e4-b8a4-bad8a5577bef",
   "metadata": {},
   "outputs": [
    {
     "data": {
      "image/png": "[encoded data removed]",
      "text/plain": [
       "<Figure size 1000x600 with 1 Axes>"
      ]
     },
     "metadata": {},
     "output_type": "display_data"
    }
   ],
   "source": [
    "plt.figure(figsize=(10,6))\n",
    "ax=sns.barplot(data=df_melted,x='Variable',y='Value',ci=None,color='coral')\n",
    "plt.tight_layout(pad=10)\n",
    "# plot labels\n",
    "for i in range(len(x)):\n",
    "    plt.text(i, y[i], y[i], ha='center')\n",
    "ax.set_xticklabels(xlabs,rotation=30)\n",
    "ax.set_title('Mean Response to Survey Question')\n",
    "ax.set_ylabel('Mean Response')\n",
    "ax.set_xlabel('Survey Question')\n",
    "plt.savefig('../figs/1_xmeandistribution.pdf')\n",
    "plt.savefig('../figs/1_xmeandistribution.png')\n",
    "plt.show()"
   ]
  },
  {
   "cell_type": "markdown",
   "id": "211b654d-169d-4c8a-a459-117aa35b8115",
   "metadata": {},
   "source": [
    "The delivery time and app experience had the highest mean satisfaction in the survey, with the contents having the lowest overall."
   ]
  },
  {
   "cell_type": "markdown",
   "id": "27563ad5-0cc4-497f-93fa-f7217d4d70f8",
   "metadata": {},
   "source": [
    "### Figure 4: Correlation matrix"
   ]
  },
  {
   "cell_type": "code",
   "execution_count": 38,
   "id": "a8d5e2b7-dba5-4a7b-9709-e7e2f81e73ab",
   "metadata": {},
   "outputs": [
    {
     "data": {
      "image/png": "[encoded data removed]",
      "text/plain": [
       "<Figure size 1000x800 with 2 Axes>"
      ]
     },
     "metadata": {},
     "output_type": "display_data"
    }
   ],
   "source": [
    "# Compute the correlation matrix\n",
    "corr = df.corr()\n",
    "\n",
    "# Generate a mask for the upper triangle\n",
    "mask = np.triu(np.ones_like(corr, dtype=bool))\n",
    "\n",
    "# Set up the matplotlib figure\n",
    "f,ax = plt.subplots(figsize=(10, 8))\n",
    "\n",
    "# Generate a custom diverging colormap\n",
    "# cmap = sns.diverging_palette(230, 20, as_cmap=True)\n",
    "\n",
    "# Draw the heatmap with the mask and correct aspect ratio\n",
    "sns.heatmap(corr, mask=mask, cmap='coolwarm', vmax=.3, center=0,\n",
    "            square=True, linewidths=.5, annot=True,\n",
    "            cbar_kws={\"shrink\": .5})\n",
    "plt.title('Correlation Matrix\\nHigher absolute value indicates stronger correlation')\n",
    "plt.tight_layout()\n",
    "\n",
    "# save fig\n",
    "plt.savefig('../figs/1_corrmatrix.pdf')\n",
    "plt.savefig('../figs/1_corrmatrix.png')"
   ]
  },
  {
   "cell_type": "markdown",
   "id": "c16fc56b-fc49-4221-87b7-64dae7eca05e",
   "metadata": {},
   "source": [
    "The results of the correlation matrix show that if one aspect of the experience is positive, the customer will rate others positive as well. One interesting correlation to highlight is the courier and time are connected, which makes sense: the courier is the person that gives you your order, and if the courier is on time you probably will rate the courier highly too."
   ]
  },
  {
   "cell_type": "markdown",
   "id": "94369155-0f3d-4c3e-ab1f-99f61743a779",
   "metadata": {},
   "source": [
    "### EDA Summary <a name='eda_sum'></a>"
   ]
  },
  {
   "cell_type": "markdown",
   "id": "41dc5eba-8426-469b-9ad6-4d58821f9618",
   "metadata": {},
   "source": [
    "In the dataset that we were given, roughly half of the respondents were unhappy. From a business standpoint, this is an opportunity to increase the amount of satisfied customers. Hence the survey, ostensibly to understand how the company can improve the satisfaction of their customers.\n",
    "\n",
    "The results from the survey show that the delivery time and the app experience are places where the company is doing well. Areas for improvement are ensuring that the order is prepared correctly and customers being able to find what they need when they place an order.\n",
    "\n",
    "We need to do more modeling to understand which survey questions are most important and which can be removed. We will do this in the subsequent sections below."
   ]
  },
  {
   "cell_type": "markdown",
   "id": "ef7d1fe5-c95e-48e8-b1a1-4701ff959762",
   "metadata": {},
   "source": [
    "## Run this section in the `lazypredict` environment <a name='lazy_predict'></a>"
   ]
  },
  {
   "cell_type": "markdown",
   "id": "d36c7189-97ee-40ca-acd8-ab083d5d09a6",
   "metadata": {},
   "source": [
    "[`lazypredict`](#https://lazypredict.readthedocs.io/en/latest/) is a very helpful package that can run through generic builds of a multitude of models in order to get a high-level understanding of the performance of these models on your particular dataset. It is a great place to start and saves a lot of time that would be spent manually exploring the accuracy of different models."
   ]
  },
  {
   "cell_type": "code",
   "execution_count": 1,
   "id": "fcea55c3-bb5b-46e0-a01a-c4526332360a",
   "metadata": {},
   "outputs": [],
   "source": [
    "import numpy as np\n",
    "import pandas as pd"
   ]
  },
  {
   "cell_type": "code",
   "execution_count": 2,
   "id": "1afbabe0-bc61-4812-bf38-5f67e1ad356a",
   "metadata": {},
   "outputs": [],
   "source": [
    "from lazypredict.Supervised import LazyClassifier\n",
    "from sklearn.model_selection import train_test_split"
   ]
  },
  {
   "cell_type": "markdown",
   "id": "1922de96-1543-4266-a7d4-d3b87922cb88",
   "metadata": {},
   "source": [
    "### Specify random seed <a name='rand'></a>"
   ]
  },
  {
   "cell_type": "code",
   "execution_count": 212,
   "id": "e5e36c1b-b441-4ff0-8094-277db1442053",
   "metadata": {},
   "outputs": [],
   "source": [
    "# simple function to generate random integers\n",
    "\n",
    "def rand_gen(low=1,high=1e4):\n",
    "    rng=np.random.default_rng()\n",
    "    random_state=rng.integers(low=low,high=high)\n",
    "    return random_state"
   ]
  },
  {
   "cell_type": "code",
   "execution_count": 213,
   "id": "bf29304a-01e3-4379-b646-6e37ec02bb0a",
   "metadata": {},
   "outputs": [
    {
     "data": {
      "text/plain": [
       "1574"
      ]
     },
     "execution_count": 213,
     "metadata": {},
     "output_type": "execute_result"
    }
   ],
   "source": [
    "# define random seed\n",
    "seed=rand_gen()\n",
    "seed"
   ]
  },
  {
   "cell_type": "code",
   "execution_count": 214,
   "id": "c0df5821-5d49-4a54-9e59-9a71f0889de9",
   "metadata": {},
   "outputs": [],
   "source": [
    "# save random seed to file to access it later in the notebook\n",
    "with open('random_seed.txt','w') as file:\n",
    "    file.write(str(seed))"
   ]
  },
  {
   "cell_type": "code",
   "execution_count": 3,
   "id": "6b849850-76c1-43b8-b9ab-305cfeac12f4",
   "metadata": {},
   "outputs": [
    {
     "name": "stdout",
     "output_type": "stream",
     "text": [
      "1574\n"
     ]
    }
   ],
   "source": [
    "# verify that the number got saved\n",
    "with open('random_seed.txt','r') as file:\n",
    "    saved_seed=int(file.read())\n",
    "    print(saved_seed)\n",
    "    seed=saved_seed"
   ]
  },
  {
   "cell_type": "code",
   "execution_count": 33,
   "id": "4bf13a36-ea38-4830-b188-c12790a21cb3",
   "metadata": {},
   "outputs": [
    {
     "ename": "SyntaxError",
     "evalue": "unmatched ')' (4065202940.py, line 13)",
     "output_type": "error",
     "traceback": [
      "\u001b[0;36m  Cell \u001b[0;32mIn[33], line 13\u001b[0;36m\u001b[0m\n\u001b[0;31m    np.random.default_rng(seed))\u001b[0m\n\u001b[0m                               ^\u001b[0m\n\u001b[0;31mSyntaxError\u001b[0m\u001b[0;31m:\u001b[0m unmatched ')'\n"
     ]
    }
   ],
   "source": [
    "# source:\n",
    "# https://odsc.medium.com/properly-setting-the-random-seed-in-ml-experiments-not-as-simple-as-you-might-imagine-219969c84752\n",
    "\n",
    "# set `PYTHONHASHSEED` environment variable at a fixed value\n",
    "import os\n",
    "os.environ['PYTHONHASHSEED']=str(seed)\n",
    "# set `python` built-in pseudo-random generator at a fixed value\n",
    "import random\n",
    "random.seed(seed)\n",
    "# set `numpy` pseudo-random generator at a fixed value\n",
    "import numpy as np\n",
    "np.random.seed(seed)\n",
    "np.random.default_rng(seed))"
   ]
  },
  {
   "cell_type": "markdown",
   "id": "1afefa98-5610-43ca-807a-dea3fbc49765",
   "metadata": {},
   "source": [
    "### Read in and setup dataset <a name='read'></a>"
   ]
  },
  {
   "cell_type": "code",
   "execution_count": 5,
   "id": "f2bcbe63-40a0-44ce-8029-f350839ad215",
   "metadata": {},
   "outputs": [],
   "source": [
    "# read in and setup dataset\n",
    "\n",
    "df=pd.read_csv('../data/1_data.csv')\n",
    "\n",
    "# renaming columns to preserve order\n",
    "# and make them more intelligible\n",
    "df.rename(columns={'Y':'y',\n",
    "                   'X1':'a_time',\n",
    "                   'X2':'b_contents',\n",
    "                   'X3':'c_complete',\n",
    "                   'X4':'d_price',\n",
    "                   'X5':'e_courier',\n",
    "                   'X6':'f_app'},inplace=True)\n",
    "\n",
    "# df.dtypes\n",
    "\n",
    "X=df[[col for col in df.columns if col != 'y']].copy()\n",
    "y=df['y'].copy().astype('int8') # because it's a binary"
   ]
  },
  {
   "cell_type": "code",
   "execution_count": 6,
   "id": "9d323d74-488c-4762-8f60-66d3cd9a6a29",
   "metadata": {},
   "outputs": [],
   "source": [
    "X_train, \\\n",
    "X_test, \\\n",
    "y_train, \\\n",
    "y_test = train_test_split(X, \n",
    "                          y, \n",
    "                          test_size=0.2, \n",
    "                          stratify=y,\n",
    "                          random_state=seed)"
   ]
  },
  {
   "cell_type": "code",
   "execution_count": 7,
   "id": "b98747f7-3a28-4069-ba5a-30dd6df914d1",
   "metadata": {},
   "outputs": [
    {
     "name": "stdout",
     "output_type": "stream",
     "text": [
      "\n",
      "Shapes of splits:\n",
      "X_train: (100, 6)\n",
      "X_test:  (26, 6)\n",
      "y_train: (100,)\n",
      "y_test:  (26,)\n",
      "\n"
     ]
    }
   ],
   "source": [
    "print(f'''\n",
    "Shapes of splits:\n",
    "X_train: {X_train.shape}\n",
    "X_test:  {X_test.shape}\n",
    "y_train: {y_train.shape}\n",
    "y_test:  {y_test.shape}\n",
    "''')"
   ]
  },
  {
   "cell_type": "markdown",
   "id": "7e19d66a-4c4c-42b5-a20b-995244c98ebd",
   "metadata": {},
   "source": [
    "### Run LazyClassifier <a name='lazy'></a>"
   ]
  },
  {
   "cell_type": "code",
   "execution_count": 8,
   "id": "c3f4e431-5c79-402f-afa8-5c9d5582940f",
   "metadata": {
    "tags": []
   },
   "outputs": [],
   "source": [
    "clf = LazyClassifier(verbose=0,\n",
    "                     ignore_warnings=True,\n",
    "                     random_state=seed)"
   ]
  },
  {
   "cell_type": "code",
   "execution_count": 9,
   "id": "dadef9df-2809-4976-bdcc-9e87acc5e9ed",
   "metadata": {
    "collapsed": true,
    "jupyter": {
     "outputs_hidden": true
    },
    "tags": []
   },
   "outputs": [
    {
     "name": "stderr",
     "output_type": "stream",
     "text": [
      "100%|█████████████████████████████████████████████████████████| 29/29 [00:00<00:00, 42.66it/s]"
     ]
    },
    {
     "name": "stdout",
     "output_type": "stream",
     "text": [
      "[LightGBM] [Info] Number of positive: 55, number of negative: 45\n",
      "[LightGBM] [Info] Auto-choosing row-wise multi-threading, the overhead of testing was 0.000664 seconds.\n",
      "You can set `force_row_wise=true` to remove the overhead.\n",
      "And if memory is not enough, you can set `force_col_wise=true`.\n",
      "[LightGBM] [Info] Total Bins 31\n",
      "[LightGBM] [Info] Number of data points in the train set: 100, number of used features: 6\n",
      "[LightGBM] [Info] [binary:BoostFromScore]: pavg=0.550000 -> initscore=0.200671\n",
      "[LightGBM] [Info] Start training from score 0.200671\n",
      "[LightGBM] [Warning] No further splits with positive gain, best gain: -inf\n",
      "[LightGBM] [Warning] No further splits with positive gain, best gain: -inf\n",
      "[LightGBM] [Warning] No further splits with positive gain, best gain: -inf\n",
      "[LightGBM] [Warning] No further splits with positive gain, best gain: -inf\n",
      "[LightGBM] [Warning] No further splits with positive gain, best gain: -inf\n",
      "[LightGBM] [Warning] No further splits with positive gain, best gain: -inf\n",
      "[LightGBM] [Warning] No further splits with positive gain, best gain: -inf\n",
      "[LightGBM] [Warning] No further splits with positive gain, best gain: -inf\n",
      "[LightGBM] [Warning] No further splits with positive gain, best gain: -inf\n",
      "[LightGBM] [Warning] No further splits with positive gain, best gain: -inf\n",
      "[LightGBM] [Warning] No further splits with positive gain, best gain: -inf\n",
      "[LightGBM] [Warning] No further splits with positive gain, best gain: -inf\n",
      "[LightGBM] [Warning] No further splits with positive gain, best gain: -inf\n",
      "[LightGBM] [Warning] No further splits with positive gain, best gain: -inf\n",
      "[LightGBM] [Warning] No further splits with positive gain, best gain: -inf\n",
      "[LightGBM] [Warning] No further splits with positive gain, best gain: -inf\n",
      "[LightGBM] [Warning] No further splits with positive gain, best gain: -inf\n",
      "[LightGBM] [Warning] No further splits with positive gain, best gain: -inf\n",
      "[LightGBM] [Warning] No further splits with positive gain, best gain: -inf\n",
      "[LightGBM] [Warning] No further splits with positive gain, best gain: -inf\n",
      "[LightGBM] [Warning] No further splits with positive gain, best gain: -inf\n",
      "[LightGBM] [Warning] No further splits with positive gain, best gain: -inf\n",
      "[LightGBM] [Warning] No further splits with positive gain, best gain: -inf\n",
      "[LightGBM] [Warning] No further splits with positive gain, best gain: -inf\n",
      "[LightGBM] [Warning] No further splits with positive gain, best gain: -inf\n",
      "[LightGBM] [Warning] No further splits with positive gain, best gain: -inf\n",
      "[LightGBM] [Warning] No further splits with positive gain, best gain: -inf\n",
      "[LightGBM] [Warning] No further splits with positive gain, best gain: -inf\n",
      "[LightGBM] [Warning] No further splits with positive gain, best gain: -inf\n",
      "[LightGBM] [Warning] No further splits with positive gain, best gain: -inf\n",
      "[LightGBM] [Warning] No further splits with positive gain, best gain: -inf\n",
      "[LightGBM] [Warning] No further splits with positive gain, best gain: -inf\n",
      "[LightGBM] [Warning] No further splits with positive gain, best gain: -inf\n",
      "[LightGBM] [Warning] No further splits with positive gain, best gain: -inf\n",
      "[LightGBM] [Warning] No further splits with positive gain, best gain: -inf\n",
      "[LightGBM] [Warning] No further splits with positive gain, best gain: -inf\n",
      "[LightGBM] [Warning] No further splits with positive gain, best gain: -inf\n",
      "[LightGBM] [Warning] No further splits with positive gain, best gain: -inf\n",
      "[LightGBM] [Warning] No further splits with positive gain, best gain: -inf\n",
      "[LightGBM] [Warning] No further splits with positive gain, best gain: -inf\n",
      "[LightGBM] [Warning] No further splits with positive gain, best gain: -inf\n",
      "[LightGBM] [Warning] No further splits with positive gain, best gain: -inf\n",
      "[LightGBM] [Warning] No further splits with positive gain, best gain: -inf\n",
      "[LightGBM] [Warning] No further splits with positive gain, best gain: -inf\n",
      "[LightGBM] [Warning] No further splits with positive gain, best gain: -inf\n",
      "[LightGBM] [Warning] No further splits with positive gain, best gain: -inf\n",
      "[LightGBM] [Warning] No further splits with positive gain, best gain: -inf\n",
      "[LightGBM] [Warning] No further splits with positive gain, best gain: -inf\n",
      "[LightGBM] [Warning] No further splits with positive gain, best gain: -inf\n",
      "[LightGBM] [Warning] No further splits with positive gain, best gain: -inf\n",
      "[LightGBM] [Warning] No further splits with positive gain, best gain: -inf\n",
      "[LightGBM] [Warning] No further splits with positive gain, best gain: -inf\n",
      "[LightGBM] [Warning] No further splits with positive gain, best gain: -inf\n",
      "[LightGBM] [Warning] No further splits with positive gain, best gain: -inf\n",
      "[LightGBM] [Warning] No further splits with positive gain, best gain: -inf\n",
      "[LightGBM] [Warning] No further splits with positive gain, best gain: -inf\n",
      "[LightGBM] [Warning] No further splits with positive gain, best gain: -inf\n",
      "[LightGBM] [Warning] No further splits with positive gain, best gain: -inf\n",
      "[LightGBM] [Warning] No further splits with positive gain, best gain: -inf\n",
      "[LightGBM] [Warning] No further splits with positive gain, best gain: -inf\n",
      "[LightGBM] [Warning] No further splits with positive gain, best gain: -inf\n",
      "[LightGBM] [Warning] No further splits with positive gain, best gain: -inf\n",
      "[LightGBM] [Warning] No further splits with positive gain, best gain: -inf\n",
      "[LightGBM] [Warning] No further splits with positive gain, best gain: -inf\n",
      "[LightGBM] [Warning] No further splits with positive gain, best gain: -inf\n",
      "[LightGBM] [Warning] No further splits with positive gain, best gain: -inf\n",
      "[LightGBM] [Warning] No further splits with positive gain, best gain: -inf\n",
      "[LightGBM] [Warning] No further splits with positive gain, best gain: -inf\n",
      "[LightGBM] [Warning] No further splits with positive gain, best gain: -inf\n",
      "[LightGBM] [Warning] No further splits with positive gain, best gain: -inf\n",
      "[LightGBM] [Warning] No further splits with positive gain, best gain: -inf\n",
      "[LightGBM] [Warning] No further splits with positive gain, best gain: -inf\n",
      "[LightGBM] [Warning] No further splits with positive gain, best gain: -inf\n",
      "[LightGBM] [Warning] No further splits with positive gain, best gain: -inf\n",
      "[LightGBM] [Warning] No further splits with positive gain, best gain: -inf\n",
      "[LightGBM] [Warning] No further splits with positive gain, best gain: -inf\n",
      "[LightGBM] [Warning] No further splits with positive gain, best gain: -inf\n",
      "[LightGBM] [Warning] No further splits with positive gain, best gain: -inf\n",
      "[LightGBM] [Warning] No further splits with positive gain, best gain: -inf\n",
      "[LightGBM] [Warning] No further splits with positive gain, best gain: -inf\n",
      "[LightGBM] [Warning] No further splits with positive gain, best gain: -inf\n",
      "[LightGBM] [Warning] No further splits with positive gain, best gain: -inf\n",
      "[LightGBM] [Warning] No further splits with positive gain, best gain: -inf\n",
      "[LightGBM] [Warning] No further splits with positive gain, best gain: -inf\n",
      "[LightGBM] [Warning] No further splits with positive gain, best gain: -inf\n",
      "[LightGBM] [Warning] No further splits with positive gain, best gain: -inf\n",
      "[LightGBM] [Warning] No further splits with positive gain, best gain: -inf\n",
      "[LightGBM] [Warning] No further splits with positive gain, best gain: -inf\n",
      "[LightGBM] [Warning] No further splits with positive gain, best gain: -inf\n",
      "[LightGBM] [Warning] No further splits with positive gain, best gain: -inf\n",
      "[LightGBM] [Warning] No further splits with positive gain, best gain: -inf\n",
      "[LightGBM] [Warning] No further splits with positive gain, best gain: -inf\n",
      "[LightGBM] [Warning] No further splits with positive gain, best gain: -inf\n",
      "[LightGBM] [Warning] No further splits with positive gain, best gain: -inf\n",
      "[LightGBM] [Warning] No further splits with positive gain, best gain: -inf\n",
      "[LightGBM] [Warning] No further splits with positive gain, best gain: -inf\n",
      "[LightGBM] [Warning] No further splits with positive gain, best gain: -inf\n",
      "[LightGBM] [Warning] No further splits with positive gain, best gain: -inf\n",
      "[LightGBM] [Warning] No further splits with positive gain, best gain: -inf\n",
      "[LightGBM] [Warning] No further splits with positive gain, best gain: -inf\n"
     ]
    },
    {
     "name": "stderr",
     "output_type": "stream",
     "text": [
      "\n"
     ]
    }
   ],
   "source": [
    "models, predictions = clf.fit(X_train=X_train,\n",
    "                              X_test=X_test,\n",
    "                              y_train=y_train,\n",
    "                              y_test=y_test)"
   ]
  },
  {
   "cell_type": "markdown",
   "id": "c5022f09-7e03-4c68-9e9f-a316d12368a8",
   "metadata": {},
   "source": [
    "Results from the `LazyClassifier`:  <a name='lazy_predict_results'></a>"
   ]
  },
  {
   "cell_type": "code",
   "execution_count": 10,
   "id": "270c1846-dd4e-49ea-be0e-50f04040aa1e",
   "metadata": {
    "tags": []
   },
   "outputs": [
    {
     "data": {
      "text/html": [
       "<div>\n",
       "<style scoped>\n",
       "    .dataframe tbody tr th:only-of-type {\n",
       "        vertical-align: middle;\n",
       "    }\n",
       "\n",
       "    .dataframe tbody tr th {\n",
       "        vertical-align: top;\n",
       "    }\n",
       "\n",
       "    .dataframe thead th {\n",
       "        text-align: right;\n",
       "    }\n",
       "</style>\n",
       "<table border=\"1\" class=\"dataframe\">\n",
       "  <thead>\n",
       "    <tr style=\"text-align: right;\">\n",
       "      <th></th>\n",
       "      <th>Accuracy</th>\n",
       "      <th>Balanced Accuracy</th>\n",
       "      <th>ROC AUC</th>\n",
       "      <th>F1 Score</th>\n",
       "      <th>Time Taken</th>\n",
       "    </tr>\n",
       "    <tr>\n",
       "      <th>Model</th>\n",
       "      <th></th>\n",
       "      <th></th>\n",
       "      <th></th>\n",
       "      <th></th>\n",
       "      <th></th>\n",
       "    </tr>\n",
       "  </thead>\n",
       "  <tbody>\n",
       "    <tr>\n",
       "      <th>LGBMClassifier</th>\n",
       "      <td>0.73</td>\n",
       "      <td>0.73</td>\n",
       "      <td>0.73</td>\n",
       "      <td>0.73</td>\n",
       "      <td>0.17</td>\n",
       "    </tr>\n",
       "    <tr>\n",
       "      <th>BernoulliNB</th>\n",
       "      <td>0.73</td>\n",
       "      <td>0.73</td>\n",
       "      <td>0.73</td>\n",
       "      <td>0.73</td>\n",
       "      <td>0.01</td>\n",
       "    </tr>\n",
       "    <tr>\n",
       "      <th>SGDClassifier</th>\n",
       "      <td>0.62</td>\n",
       "      <td>0.62</td>\n",
       "      <td>0.62</td>\n",
       "      <td>0.61</td>\n",
       "      <td>0.01</td>\n",
       "    </tr>\n",
       "    <tr>\n",
       "      <th>NearestCentroid</th>\n",
       "      <td>0.62</td>\n",
       "      <td>0.62</td>\n",
       "      <td>0.62</td>\n",
       "      <td>0.62</td>\n",
       "      <td>0.01</td>\n",
       "    </tr>\n",
       "    <tr>\n",
       "      <th>Perceptron</th>\n",
       "      <td>0.62</td>\n",
       "      <td>0.61</td>\n",
       "      <td>0.61</td>\n",
       "      <td>0.61</td>\n",
       "      <td>0.01</td>\n",
       "    </tr>\n",
       "    <tr>\n",
       "      <th>NuSVC</th>\n",
       "      <td>0.58</td>\n",
       "      <td>0.57</td>\n",
       "      <td>0.57</td>\n",
       "      <td>0.58</td>\n",
       "      <td>0.01</td>\n",
       "    </tr>\n",
       "    <tr>\n",
       "      <th>GaussianNB</th>\n",
       "      <td>0.58</td>\n",
       "      <td>0.57</td>\n",
       "      <td>0.57</td>\n",
       "      <td>0.57</td>\n",
       "      <td>0.01</td>\n",
       "    </tr>\n",
       "    <tr>\n",
       "      <th>CalibratedClassifierCV</th>\n",
       "      <td>0.58</td>\n",
       "      <td>0.55</td>\n",
       "      <td>0.55</td>\n",
       "      <td>0.50</td>\n",
       "      <td>0.02</td>\n",
       "    </tr>\n",
       "    <tr>\n",
       "      <th>QuadraticDiscriminantAnalysis</th>\n",
       "      <td>0.54</td>\n",
       "      <td>0.54</td>\n",
       "      <td>0.54</td>\n",
       "      <td>0.54</td>\n",
       "      <td>0.01</td>\n",
       "    </tr>\n",
       "    <tr>\n",
       "      <th>LogisticRegression</th>\n",
       "      <td>0.54</td>\n",
       "      <td>0.53</td>\n",
       "      <td>0.53</td>\n",
       "      <td>0.53</td>\n",
       "      <td>0.01</td>\n",
       "    </tr>\n",
       "    <tr>\n",
       "      <th>RidgeClassifierCV</th>\n",
       "      <td>0.54</td>\n",
       "      <td>0.53</td>\n",
       "      <td>0.53</td>\n",
       "      <td>0.53</td>\n",
       "      <td>0.01</td>\n",
       "    </tr>\n",
       "    <tr>\n",
       "      <th>RidgeClassifier</th>\n",
       "      <td>0.54</td>\n",
       "      <td>0.53</td>\n",
       "      <td>0.53</td>\n",
       "      <td>0.53</td>\n",
       "      <td>0.03</td>\n",
       "    </tr>\n",
       "    <tr>\n",
       "      <th>LinearSVC</th>\n",
       "      <td>0.54</td>\n",
       "      <td>0.53</td>\n",
       "      <td>0.53</td>\n",
       "      <td>0.53</td>\n",
       "      <td>0.01</td>\n",
       "    </tr>\n",
       "    <tr>\n",
       "      <th>LinearDiscriminantAnalysis</th>\n",
       "      <td>0.54</td>\n",
       "      <td>0.53</td>\n",
       "      <td>0.53</td>\n",
       "      <td>0.53</td>\n",
       "      <td>0.01</td>\n",
       "    </tr>\n",
       "    <tr>\n",
       "      <th>SVC</th>\n",
       "      <td>0.54</td>\n",
       "      <td>0.52</td>\n",
       "      <td>0.52</td>\n",
       "      <td>0.50</td>\n",
       "      <td>0.01</td>\n",
       "    </tr>\n",
       "    <tr>\n",
       "      <th>DummyClassifier</th>\n",
       "      <td>0.54</td>\n",
       "      <td>0.50</td>\n",
       "      <td>0.50</td>\n",
       "      <td>0.38</td>\n",
       "      <td>0.01</td>\n",
       "    </tr>\n",
       "    <tr>\n",
       "      <th>KNeighborsClassifier</th>\n",
       "      <td>0.50</td>\n",
       "      <td>0.48</td>\n",
       "      <td>0.48</td>\n",
       "      <td>0.47</td>\n",
       "      <td>0.01</td>\n",
       "    </tr>\n",
       "    <tr>\n",
       "      <th>AdaBoostClassifier</th>\n",
       "      <td>0.50</td>\n",
       "      <td>0.48</td>\n",
       "      <td>0.48</td>\n",
       "      <td>0.47</td>\n",
       "      <td>0.06</td>\n",
       "    </tr>\n",
       "    <tr>\n",
       "      <th>ExtraTreesClassifier</th>\n",
       "      <td>0.46</td>\n",
       "      <td>0.46</td>\n",
       "      <td>0.46</td>\n",
       "      <td>0.46</td>\n",
       "      <td>0.06</td>\n",
       "    </tr>\n",
       "    <tr>\n",
       "      <th>DecisionTreeClassifier</th>\n",
       "      <td>0.46</td>\n",
       "      <td>0.46</td>\n",
       "      <td>0.46</td>\n",
       "      <td>0.46</td>\n",
       "      <td>0.01</td>\n",
       "    </tr>\n",
       "    <tr>\n",
       "      <th>XGBClassifier</th>\n",
       "      <td>0.46</td>\n",
       "      <td>0.46</td>\n",
       "      <td>0.46</td>\n",
       "      <td>0.46</td>\n",
       "      <td>0.04</td>\n",
       "    </tr>\n",
       "    <tr>\n",
       "      <th>PassiveAggressiveClassifier</th>\n",
       "      <td>0.46</td>\n",
       "      <td>0.45</td>\n",
       "      <td>0.45</td>\n",
       "      <td>0.44</td>\n",
       "      <td>0.01</td>\n",
       "    </tr>\n",
       "    <tr>\n",
       "      <th>RandomForestClassifier</th>\n",
       "      <td>0.42</td>\n",
       "      <td>0.42</td>\n",
       "      <td>0.42</td>\n",
       "      <td>0.42</td>\n",
       "      <td>0.13</td>\n",
       "    </tr>\n",
       "    <tr>\n",
       "      <th>BaggingClassifier</th>\n",
       "      <td>0.38</td>\n",
       "      <td>0.39</td>\n",
       "      <td>0.39</td>\n",
       "      <td>0.38</td>\n",
       "      <td>0.02</td>\n",
       "    </tr>\n",
       "    <tr>\n",
       "      <th>ExtraTreeClassifier</th>\n",
       "      <td>0.38</td>\n",
       "      <td>0.39</td>\n",
       "      <td>0.39</td>\n",
       "      <td>0.38</td>\n",
       "      <td>0.01</td>\n",
       "    </tr>\n",
       "    <tr>\n",
       "      <th>LabelSpreading</th>\n",
       "      <td>0.38</td>\n",
       "      <td>0.38</td>\n",
       "      <td>0.38</td>\n",
       "      <td>0.38</td>\n",
       "      <td>0.01</td>\n",
       "    </tr>\n",
       "    <tr>\n",
       "      <th>LabelPropagation</th>\n",
       "      <td>0.38</td>\n",
       "      <td>0.38</td>\n",
       "      <td>0.38</td>\n",
       "      <td>0.38</td>\n",
       "      <td>0.01</td>\n",
       "    </tr>\n",
       "  </tbody>\n",
       "</table>\n",
       "</div>"
      ],
      "text/plain": [
       "                               Accuracy  Balanced Accuracy  ROC AUC  F1 Score  \\\n",
       "Model                                                                           \n",
       "LGBMClassifier                     0.73               0.73     0.73      0.73   \n",
       "BernoulliNB                        0.73               0.73     0.73      0.73   \n",
       "SGDClassifier                      0.62               0.62     0.62      0.61   \n",
       "NearestCentroid                    0.62               0.62     0.62      0.62   \n",
       "Perceptron                         0.62               0.61     0.61      0.61   \n",
       "NuSVC                              0.58               0.57     0.57      0.58   \n",
       "GaussianNB                         0.58               0.57     0.57      0.57   \n",
       "CalibratedClassifierCV             0.58               0.55     0.55      0.50   \n",
       "QuadraticDiscriminantAnalysis      0.54               0.54     0.54      0.54   \n",
       "LogisticRegression                 0.54               0.53     0.53      0.53   \n",
       "RidgeClassifierCV                  0.54               0.53     0.53      0.53   \n",
       "RidgeClassifier                    0.54               0.53     0.53      0.53   \n",
       "LinearSVC                          0.54               0.53     0.53      0.53   \n",
       "LinearDiscriminantAnalysis         0.54               0.53     0.53      0.53   \n",
       "SVC                                0.54               0.52     0.52      0.50   \n",
       "DummyClassifier                    0.54               0.50     0.50      0.38   \n",
       "KNeighborsClassifier               0.50               0.48     0.48      0.47   \n",
       "AdaBoostClassifier                 0.50               0.48     0.48      0.47   \n",
       "ExtraTreesClassifier               0.46               0.46     0.46      0.46   \n",
       "DecisionTreeClassifier             0.46               0.46     0.46      0.46   \n",
       "XGBClassifier                      0.46               0.46     0.46      0.46   \n",
       "PassiveAggressiveClassifier        0.46               0.45     0.45      0.44   \n",
       "RandomForestClassifier             0.42               0.42     0.42      0.42   \n",
       "BaggingClassifier                  0.38               0.39     0.39      0.38   \n",
       "ExtraTreeClassifier                0.38               0.39     0.39      0.38   \n",
       "LabelSpreading                     0.38               0.38     0.38      0.38   \n",
       "LabelPropagation                   0.38               0.38     0.38      0.38   \n",
       "\n",
       "                               Time Taken  \n",
       "Model                                      \n",
       "LGBMClassifier                       0.17  \n",
       "BernoulliNB                          0.01  \n",
       "SGDClassifier                        0.01  \n",
       "NearestCentroid                      0.01  \n",
       "Perceptron                           0.01  \n",
       "NuSVC                                0.01  \n",
       "GaussianNB                           0.01  \n",
       "CalibratedClassifierCV               0.02  \n",
       "QuadraticDiscriminantAnalysis        0.01  \n",
       "LogisticRegression                   0.01  \n",
       "RidgeClassifierCV                    0.01  \n",
       "RidgeClassifier                      0.03  \n",
       "LinearSVC                            0.01  \n",
       "LinearDiscriminantAnalysis           0.01  \n",
       "SVC                                  0.01  \n",
       "DummyClassifier                      0.01  \n",
       "KNeighborsClassifier                 0.01  \n",
       "AdaBoostClassifier                   0.06  \n",
       "ExtraTreesClassifier                 0.06  \n",
       "DecisionTreeClassifier               0.01  \n",
       "XGBClassifier                        0.04  \n",
       "PassiveAggressiveClassifier          0.01  \n",
       "RandomForestClassifier               0.13  \n",
       "BaggingClassifier                    0.02  \n",
       "ExtraTreeClassifier                  0.01  \n",
       "LabelSpreading                       0.01  \n",
       "LabelPropagation                     0.01  "
      ]
     },
     "execution_count": 10,
     "metadata": {},
     "output_type": "execute_result"
    }
   ],
   "source": [
    "models"
   ]
  },
  {
   "cell_type": "code",
   "execution_count": 11,
   "id": "bcbc9c46-4448-4e2a-9d33-222a8e86007d",
   "metadata": {},
   "outputs": [],
   "source": [
    "models.to_csv('../joblib/1_lazypredict_20240604.csv')"
   ]
  },
  {
   "cell_type": "markdown",
   "id": "1a2f2d13-07c6-4e05-983f-5b35d76f30b8",
   "metadata": {},
   "source": [
    "## Switch to `sklearn` environment <a name='sklearn'></a>"
   ]
  },
  {
   "cell_type": "code",
   "execution_count": 2,
   "id": "18a145a8-8f16-4295-b6bd-ca9858f865da",
   "metadata": {},
   "outputs": [],
   "source": [
    "import numpy as np\n",
    "import pandas as pd"
   ]
  },
  {
   "cell_type": "code",
   "execution_count": 3,
   "id": "482c2617-6bca-43fd-89c6-5c90f8a92c66",
   "metadata": {},
   "outputs": [],
   "source": [
    "models=pd.read_csv('../joblib/1_lazypredict_20240530.csv')"
   ]
  },
  {
   "cell_type": "code",
   "execution_count": 4,
   "id": "02f26c08-22ab-4135-a5cb-599e7392c619",
   "metadata": {},
   "outputs": [
    {
     "data": {
      "text/html": [
       "<div>\n",
       "<style scoped>\n",
       "    .dataframe tbody tr th:only-of-type {\n",
       "        vertical-align: middle;\n",
       "    }\n",
       "\n",
       "    .dataframe tbody tr th {\n",
       "        vertical-align: top;\n",
       "    }\n",
       "\n",
       "    .dataframe thead th {\n",
       "        text-align: right;\n",
       "    }\n",
       "</style>\n",
       "<table border=\"1\" class=\"dataframe\">\n",
       "  <thead>\n",
       "    <tr style=\"text-align: right;\">\n",
       "      <th></th>\n",
       "      <th>Model</th>\n",
       "      <th>Accuracy</th>\n",
       "      <th>Balanced Accuracy</th>\n",
       "      <th>ROC AUC</th>\n",
       "      <th>F1 Score</th>\n",
       "      <th>Time Taken</th>\n",
       "    </tr>\n",
       "  </thead>\n",
       "  <tbody>\n",
       "    <tr>\n",
       "      <th>0</th>\n",
       "      <td>ExtraTreeClassifier</td>\n",
       "      <td>0.653846</td>\n",
       "      <td>0.636905</td>\n",
       "      <td>0.636905</td>\n",
       "      <td>0.634523</td>\n",
       "      <td>0.003223</td>\n",
       "    </tr>\n",
       "    <tr>\n",
       "      <th>1</th>\n",
       "      <td>AdaBoostClassifier</td>\n",
       "      <td>0.615385</td>\n",
       "      <td>0.607143</td>\n",
       "      <td>0.607143</td>\n",
       "      <td>0.610723</td>\n",
       "      <td>0.043834</td>\n",
       "    </tr>\n",
       "    <tr>\n",
       "      <th>2</th>\n",
       "      <td>LabelPropagation</td>\n",
       "      <td>0.576923</td>\n",
       "      <td>0.571429</td>\n",
       "      <td>0.571429</td>\n",
       "      <td>0.575020</td>\n",
       "      <td>0.013798</td>\n",
       "    </tr>\n",
       "    <tr>\n",
       "      <th>3</th>\n",
       "      <td>LabelSpreading</td>\n",
       "      <td>0.576923</td>\n",
       "      <td>0.571429</td>\n",
       "      <td>0.571429</td>\n",
       "      <td>0.575020</td>\n",
       "      <td>0.003540</td>\n",
       "    </tr>\n",
       "    <tr>\n",
       "      <th>4</th>\n",
       "      <td>XGBClassifier</td>\n",
       "      <td>0.576923</td>\n",
       "      <td>0.565476</td>\n",
       "      <td>0.565476</td>\n",
       "      <td>0.567175</td>\n",
       "      <td>0.111497</td>\n",
       "    </tr>\n",
       "    <tr>\n",
       "      <th>5</th>\n",
       "      <td>ExtraTreesClassifier</td>\n",
       "      <td>0.576923</td>\n",
       "      <td>0.559524</td>\n",
       "      <td>0.559524</td>\n",
       "      <td>0.553306</td>\n",
       "      <td>0.033341</td>\n",
       "    </tr>\n",
       "    <tr>\n",
       "      <th>6</th>\n",
       "      <td>BernoulliNB</td>\n",
       "      <td>0.538462</td>\n",
       "      <td>0.535714</td>\n",
       "      <td>0.535714</td>\n",
       "      <td>0.538462</td>\n",
       "      <td>0.003711</td>\n",
       "    </tr>\n",
       "    <tr>\n",
       "      <th>7</th>\n",
       "      <td>RandomForestClassifier</td>\n",
       "      <td>0.538462</td>\n",
       "      <td>0.523810</td>\n",
       "      <td>0.523810</td>\n",
       "      <td>0.521154</td>\n",
       "      <td>0.082804</td>\n",
       "    </tr>\n",
       "    <tr>\n",
       "      <th>8</th>\n",
       "      <td>NuSVC</td>\n",
       "      <td>0.538462</td>\n",
       "      <td>0.523810</td>\n",
       "      <td>0.523810</td>\n",
       "      <td>0.521154</td>\n",
       "      <td>0.007902</td>\n",
       "    </tr>\n",
       "    <tr>\n",
       "      <th>9</th>\n",
       "      <td>SGDClassifier</td>\n",
       "      <td>0.500000</td>\n",
       "      <td>0.511905</td>\n",
       "      <td>0.511905</td>\n",
       "      <td>0.488756</td>\n",
       "      <td>0.003640</td>\n",
       "    </tr>\n",
       "    <tr>\n",
       "      <th>10</th>\n",
       "      <td>NearestCentroid</td>\n",
       "      <td>0.500000</td>\n",
       "      <td>0.500000</td>\n",
       "      <td>0.500000</td>\n",
       "      <td>0.500741</td>\n",
       "      <td>0.004347</td>\n",
       "    </tr>\n",
       "    <tr>\n",
       "      <th>11</th>\n",
       "      <td>DummyClassifier</td>\n",
       "      <td>0.538462</td>\n",
       "      <td>0.500000</td>\n",
       "      <td>0.500000</td>\n",
       "      <td>0.376923</td>\n",
       "      <td>0.003034</td>\n",
       "    </tr>\n",
       "    <tr>\n",
       "      <th>12</th>\n",
       "      <td>LGBMClassifier</td>\n",
       "      <td>0.500000</td>\n",
       "      <td>0.494048</td>\n",
       "      <td>0.494048</td>\n",
       "      <td>0.497751</td>\n",
       "      <td>0.075934</td>\n",
       "    </tr>\n",
       "    <tr>\n",
       "      <th>13</th>\n",
       "      <td>QuadraticDiscriminantAnalysis</td>\n",
       "      <td>0.500000</td>\n",
       "      <td>0.488095</td>\n",
       "      <td>0.488095</td>\n",
       "      <td>0.488479</td>\n",
       "      <td>0.011332</td>\n",
       "    </tr>\n",
       "    <tr>\n",
       "      <th>14</th>\n",
       "      <td>DecisionTreeClassifier</td>\n",
       "      <td>0.500000</td>\n",
       "      <td>0.488095</td>\n",
       "      <td>0.488095</td>\n",
       "      <td>0.488479</td>\n",
       "      <td>0.003699</td>\n",
       "    </tr>\n",
       "    <tr>\n",
       "      <th>15</th>\n",
       "      <td>PassiveAggressiveClassifier</td>\n",
       "      <td>0.500000</td>\n",
       "      <td>0.476190</td>\n",
       "      <td>0.476190</td>\n",
       "      <td>0.447059</td>\n",
       "      <td>0.006489</td>\n",
       "    </tr>\n",
       "    <tr>\n",
       "      <th>16</th>\n",
       "      <td>GaussianNB</td>\n",
       "      <td>0.461538</td>\n",
       "      <td>0.458333</td>\n",
       "      <td>0.458333</td>\n",
       "      <td>0.461538</td>\n",
       "      <td>0.004524</td>\n",
       "    </tr>\n",
       "    <tr>\n",
       "      <th>17</th>\n",
       "      <td>BaggingClassifier</td>\n",
       "      <td>0.461538</td>\n",
       "      <td>0.452381</td>\n",
       "      <td>0.452381</td>\n",
       "      <td>0.455012</td>\n",
       "      <td>0.011726</td>\n",
       "    </tr>\n",
       "    <tr>\n",
       "      <th>18</th>\n",
       "      <td>LogisticRegression</td>\n",
       "      <td>0.461538</td>\n",
       "      <td>0.452381</td>\n",
       "      <td>0.452381</td>\n",
       "      <td>0.455012</td>\n",
       "      <td>0.008354</td>\n",
       "    </tr>\n",
       "    <tr>\n",
       "      <th>19</th>\n",
       "      <td>LinearDiscriminantAnalysis</td>\n",
       "      <td>0.461538</td>\n",
       "      <td>0.452381</td>\n",
       "      <td>0.452381</td>\n",
       "      <td>0.455012</td>\n",
       "      <td>0.005912</td>\n",
       "    </tr>\n",
       "    <tr>\n",
       "      <th>20</th>\n",
       "      <td>RidgeClassifier</td>\n",
       "      <td>0.461538</td>\n",
       "      <td>0.452381</td>\n",
       "      <td>0.452381</td>\n",
       "      <td>0.455012</td>\n",
       "      <td>0.004404</td>\n",
       "    </tr>\n",
       "    <tr>\n",
       "      <th>21</th>\n",
       "      <td>RidgeClassifierCV</td>\n",
       "      <td>0.461538</td>\n",
       "      <td>0.452381</td>\n",
       "      <td>0.452381</td>\n",
       "      <td>0.455012</td>\n",
       "      <td>0.006483</td>\n",
       "    </tr>\n",
       "    <tr>\n",
       "      <th>22</th>\n",
       "      <td>SVC</td>\n",
       "      <td>0.461538</td>\n",
       "      <td>0.452381</td>\n",
       "      <td>0.452381</td>\n",
       "      <td>0.455012</td>\n",
       "      <td>0.006373</td>\n",
       "    </tr>\n",
       "    <tr>\n",
       "      <th>23</th>\n",
       "      <td>CalibratedClassifierCV</td>\n",
       "      <td>0.461538</td>\n",
       "      <td>0.452381</td>\n",
       "      <td>0.452381</td>\n",
       "      <td>0.455012</td>\n",
       "      <td>0.009436</td>\n",
       "    </tr>\n",
       "    <tr>\n",
       "      <th>24</th>\n",
       "      <td>LinearSVC</td>\n",
       "      <td>0.461538</td>\n",
       "      <td>0.452381</td>\n",
       "      <td>0.452381</td>\n",
       "      <td>0.455012</td>\n",
       "      <td>0.011726</td>\n",
       "    </tr>\n",
       "    <tr>\n",
       "      <th>25</th>\n",
       "      <td>Perceptron</td>\n",
       "      <td>0.461538</td>\n",
       "      <td>0.440476</td>\n",
       "      <td>0.440476</td>\n",
       "      <td>0.419306</td>\n",
       "      <td>0.005561</td>\n",
       "    </tr>\n",
       "    <tr>\n",
       "      <th>26</th>\n",
       "      <td>KNeighborsClassifier</td>\n",
       "      <td>0.423077</td>\n",
       "      <td>0.416667</td>\n",
       "      <td>0.416667</td>\n",
       "      <td>0.420482</td>\n",
       "      <td>0.005636</td>\n",
       "    </tr>\n",
       "  </tbody>\n",
       "</table>\n",
       "</div>"
      ],
      "text/plain": [
       "                            Model  Accuracy  Balanced Accuracy   ROC AUC  \\\n",
       "0             ExtraTreeClassifier  0.653846           0.636905  0.636905   \n",
       "1              AdaBoostClassifier  0.615385           0.607143  0.607143   \n",
       "2                LabelPropagation  0.576923           0.571429  0.571429   \n",
       "3                  LabelSpreading  0.576923           0.571429  0.571429   \n",
       "4                   XGBClassifier  0.576923           0.565476  0.565476   \n",
       "5            ExtraTreesClassifier  0.576923           0.559524  0.559524   \n",
       "6                     BernoulliNB  0.538462           0.535714  0.535714   \n",
       "7          RandomForestClassifier  0.538462           0.523810  0.523810   \n",
       "8                           NuSVC  0.538462           0.523810  0.523810   \n",
       "9                   SGDClassifier  0.500000           0.511905  0.511905   \n",
       "10                NearestCentroid  0.500000           0.500000  0.500000   \n",
       "11                DummyClassifier  0.538462           0.500000  0.500000   \n",
       "12                 LGBMClassifier  0.500000           0.494048  0.494048   \n",
       "13  QuadraticDiscriminantAnalysis  0.500000           0.488095  0.488095   \n",
       "14         DecisionTreeClassifier  0.500000           0.488095  0.488095   \n",
       "15    PassiveAggressiveClassifier  0.500000           0.476190  0.476190   \n",
       "16                     GaussianNB  0.461538           0.458333  0.458333   \n",
       "17              BaggingClassifier  0.461538           0.452381  0.452381   \n",
       "18             LogisticRegression  0.461538           0.452381  0.452381   \n",
       "19     LinearDiscriminantAnalysis  0.461538           0.452381  0.452381   \n",
       "20                RidgeClassifier  0.461538           0.452381  0.452381   \n",
       "21              RidgeClassifierCV  0.461538           0.452381  0.452381   \n",
       "22                            SVC  0.461538           0.452381  0.452381   \n",
       "23         CalibratedClassifierCV  0.461538           0.452381  0.452381   \n",
       "24                      LinearSVC  0.461538           0.452381  0.452381   \n",
       "25                     Perceptron  0.461538           0.440476  0.440476   \n",
       "26           KNeighborsClassifier  0.423077           0.416667  0.416667   \n",
       "\n",
       "    F1 Score  Time Taken  \n",
       "0   0.634523    0.003223  \n",
       "1   0.610723    0.043834  \n",
       "2   0.575020    0.013798  \n",
       "3   0.575020    0.003540  \n",
       "4   0.567175    0.111497  \n",
       "5   0.553306    0.033341  \n",
       "6   0.538462    0.003711  \n",
       "7   0.521154    0.082804  \n",
       "8   0.521154    0.007902  \n",
       "9   0.488756    0.003640  \n",
       "10  0.500741    0.004347  \n",
       "11  0.376923    0.003034  \n",
       "12  0.497751    0.075934  \n",
       "13  0.488479    0.011332  \n",
       "14  0.488479    0.003699  \n",
       "15  0.447059    0.006489  \n",
       "16  0.461538    0.004524  \n",
       "17  0.455012    0.011726  \n",
       "18  0.455012    0.008354  \n",
       "19  0.455012    0.005912  \n",
       "20  0.455012    0.004404  \n",
       "21  0.455012    0.006483  \n",
       "22  0.455012    0.006373  \n",
       "23  0.455012    0.009436  \n",
       "24  0.455012    0.011726  \n",
       "25  0.419306    0.005561  \n",
       "26  0.420482    0.005636  "
      ]
     },
     "execution_count": 4,
     "metadata": {},
     "output_type": "execute_result"
    }
   ],
   "source": [
    "models"
   ]
  },
  {
   "cell_type": "markdown",
   "id": "6c573aac-bd50-4dbd-984e-b4c0f9815811",
   "metadata": {},
   "source": [
    "After exploring alternatives, including `LGBMClassifier`, I will now use `XGBoost` instead. In a previous iteration, a previous `random_seed`, it had given me the second-highest accuracy. You'll note that XGBoost is now at a different rank in the model options. This is a lesson that I must always specify a `random_state` to ensure reproducibility."
   ]
  },
  {
   "cell_type": "markdown",
   "id": "1b511c6b-1b16-42b7-961d-622909cee8b4",
   "metadata": {},
   "source": [
    "### Imports"
   ]
  },
  {
   "cell_type": "code",
   "execution_count": 5,
   "id": "99e9814c-b8bb-4891-a954-ed577dc4faa9",
   "metadata": {},
   "outputs": [],
   "source": [
    "from sklearn.model_selection import train_test_split\n",
    "from xgboost import XGBClassifier\n",
    "from sklearn.metrics import accuracy_score, confusion_matrix, classification_report"
   ]
  },
  {
   "cell_type": "code",
   "execution_count": 39,
   "id": "89336421-c89f-477e-954b-4e4ab3385419",
   "metadata": {},
   "outputs": [
    {
     "name": "stdout",
     "output_type": "stream",
     "text": [
      "1574\n"
     ]
    }
   ],
   "source": [
    "# open saved random seed from earlier in the notebook\n",
    "with open('random_seed.txt','r') as file:\n",
    "    saved_seed=int(file.read())\n",
    "    print(saved_seed)\n",
    "    seed=saved_seed"
   ]
  },
  {
   "cell_type": "code",
   "execution_count": 7,
   "id": "20930b14-1d28-4d66-bdf4-8840333800f5",
   "metadata": {},
   "outputs": [
    {
     "name": "stdout",
     "output_type": "stream",
     "text": [
      "\n",
      "Shapes of splits:\n",
      "X_train: (100, 6)\n",
      "X_test:  (26, 6)\n",
      "y_train: (100,)\n",
      "y_test:  (26,)\n",
      "\n"
     ]
    }
   ],
   "source": [
    "# read in and setup dataset\n",
    "\n",
    "df=pd.read_csv('../data/1_data.csv')\n",
    "\n",
    "# renaming columns to preserve order\n",
    "# and make them more intelligible\n",
    "df.rename(columns={'Y':'y',\n",
    "                   'X1':'a_time',\n",
    "                   'X2':'b_contents',\n",
    "                   'X3':'c_complete',\n",
    "                   'X4':'d_price',\n",
    "                   'X5':'e_courier',\n",
    "                   'X6':'f_app'},inplace=True)\n",
    "\n",
    "X=df[[col for col in df.columns if col != 'y']].copy()\n",
    "y=df['y'].copy().astype('int8') # because it's a binary\n",
    "                                # let's use less memory\n",
    "    \n",
    "X_train, \\\n",
    "X_test, \\\n",
    "y_train, \\\n",
    "y_test = train_test_split(X, \n",
    "                          y, \n",
    "                          test_size=0.2, \n",
    "                          stratify=y,\n",
    "                          random_state=seed)\n",
    "\n",
    "print(f'''\n",
    "Shapes of splits:\n",
    "X_train: {X_train.shape}\n",
    "X_test:  {X_test.shape}\n",
    "y_train: {y_train.shape}\n",
    "y_test:  {y_test.shape}\n",
    "''')"
   ]
  },
  {
   "cell_type": "markdown",
   "id": "012faf84-a2ae-4b29-a729-678e58de73c4",
   "metadata": {},
   "source": [
    "### Initial model run <a name='xgboost_initial'></a>"
   ]
  },
  {
   "cell_type": "code",
   "execution_count": 40,
   "id": "fc9fad64-7dfc-4be0-b55c-5451f5e3af4d",
   "metadata": {},
   "outputs": [
    {
     "name": "stdout",
     "output_type": "stream",
     "text": [
      "Score on test: 0.46153846153846156\n",
      "              precision    recall  f1-score   support\n",
      "\n",
      "           0       0.42      0.42      0.42        12\n",
      "           1       0.50      0.50      0.50        14\n",
      "\n",
      "    accuracy                           0.46        26\n",
      "   macro avg       0.46      0.46      0.46        26\n",
      "weighted avg       0.46      0.46      0.46        26\n",
      "\n"
     ]
    }
   ],
   "source": [
    "xgbc = XGBClassifier(random_state=seed)\n",
    "xgbc.fit(X_train, y_train)\n",
    "\n",
    "y_pred = xgbc.predict(X_test)\n",
    "print(f'Score on test: {xgbc.score(X_test,y_test)}')\n",
    "print(classification_report(y_test, y_pred))"
   ]
  },
  {
   "cell_type": "markdown",
   "id": "226be221-974f-42f1-901a-c038bbac5235",
   "metadata": {},
   "source": [
    "The base model is not great yet. Let's keep going forward."
   ]
  },
  {
   "cell_type": "markdown",
   "id": "f0ee6633-66cd-4264-927b-c98e3a82b9a0",
   "metadata": {},
   "source": [
    "### Grid Search Exploration with `XGBoost`<a name='xgboost'></a>"
   ]
  },
  {
   "cell_type": "code",
   "execution_count": 10,
   "id": "d454bb34-5eb4-48a6-90b9-81b0e9b5af6d",
   "metadata": {},
   "outputs": [],
   "source": [
    "from sklearn.model_selection import GridSearchCV,StratifiedKFold,cross_val_score\n",
    "import joblib"
   ]
  },
  {
   "cell_type": "code",
   "execution_count": 16,
   "id": "55a94c80-027f-4c52-b06c-a7a1f7024953",
   "metadata": {
    "tags": []
   },
   "outputs": [
    {
     "data": {
      "text/plain": [
       "['../joblib/1_gridsearch_xgbc_20240530.pkl']"
      ]
     },
     "execution_count": 16,
     "metadata": {},
     "output_type": "execute_result"
    }
   ],
   "source": [
    "xgbc = XGBClassifier(random_state=seed)\n",
    "\n",
    "# commenting this out because it was giving us errors\n",
    "# as the data is not a categorical dtype\n",
    "\n",
    "# specifying the k-fold so that we can control the randomness\n",
    "# statified_k_fold=StratifiedKFold(n_splits=5,\n",
    "#                                  random_state=random_state,\n",
    "#                                  shuffle=True)\n",
    "\n",
    "parameters = {\n",
    "    'alpha': [0], #(list(np.linspace(0,1,3))),\n",
    "    'gamma': [0], #(list(np.linspace(0,1,3))),\n",
    "    'lambda': (list(np.linspace(0.275,0.325,6))),\n",
    "    'learning_rate': (np.logspace(0.211,0.213,9)),\n",
    "    'max_depth': [2], #(list(np.arange(1,4))),\n",
    "    'min_child_weight': (list(np.linspace(3.5,4.5,9))),\n",
    "    'n_estimators': (np.arange(53,58))\n",
    "}\n",
    "\n",
    "# same here - I wanted to control the kfolds\n",
    "# but it was giving me trouble\n",
    "\n",
    "# Convert categorical features to one-hot encoded features\n",
    "# X_train_encoded = pd.get_dummies(X_train)\n",
    "\n",
    "grid_search = GridSearchCV(xgbc, \n",
    "                           parameters, \n",
    "                           cv = 5,#statified_k_fold, \n",
    "                           n_jobs = -1, \n",
    "                           verbose = 0)\n",
    "\n",
    "# grid_search.fit(X_train_encoded, y_train)\n",
    "grid_search.fit(X_train, y_train)\n",
    "\n",
    "# save trained model to pickle file\n",
    "joblib_file='../joblib/1_gridsearch_xgbc_20240530.pkl'\n",
    "joblib.dump(grid_search,joblib_file)"
   ]
  },
  {
   "cell_type": "code",
   "execution_count": 17,
   "id": "0298ad0c-beb4-4741-b4d5-727cea239986",
   "metadata": {},
   "outputs": [],
   "source": [
    "# load grid search file\n",
    "joblib_file='../joblib/1_gridsearch_xgbc_20240530.pkl'\n",
    "loaded_grid_search=joblib.load(joblib_file)"
   ]
  },
  {
   "cell_type": "code",
   "execution_count": 18,
   "id": "56f86f36-ae6e-41e8-b91f-a20fc5176612",
   "metadata": {
    "tags": []
   },
   "outputs": [
    {
     "name": "stdout",
     "output_type": "stream",
     "text": [
      "best score: 0.6700000000000002\n",
      "best parameters: {'alpha': 0, 'gamma': 0, 'lambda': 0.275, 'learning_rate': 1.6302342008295345, 'max_depth': 2, 'min_child_weight': 3.5, 'n_estimators': 53}\n"
     ]
    }
   ],
   "source": [
    "# best score\n",
    "print(f\"best score: {loaded_grid_search.best_score_}\")\n",
    "\n",
    "# best parameters \n",
    "print(f\"best parameters: {loaded_grid_search.best_params_}\")"
   ]
  },
  {
   "cell_type": "markdown",
   "id": "5c4da173-94c4-4d7a-94af-4f12b2abfc70",
   "metadata": {},
   "source": [
    "List of other best scores from previous `random_seeds` and iterations below:"
   ]
  },
  {
   "cell_type": "markdown",
   "id": "f29555a6-69cc-4890-99ba-cd070dc82e0c",
   "metadata": {},
   "source": [
    "```python\n",
    "best score: 0.64\n",
    "best parameters: {'alpha': 0, 'gamma': 0, 'lambda': 0.275, 'learning_rate': 1.625548755750484, 'max_depth': 2, 'min_child_weight': 4.375, 'n_estimators': 53}\n",
    "```"
   ]
  },
  {
   "cell_type": "markdown",
   "id": "5856bf4f-5a8f-499e-a48e-528acdbdc0aa",
   "metadata": {},
   "source": [
    "```python\n",
    "best score: 0.6900000000000001\n",
    "best parameters: {'alpha': 0, 'gamma': 0, 'lambda': 0.3, 'learning_rate': 1.6292960326397223, 'max_depth': 2, 'min_child_weight': 4.0, 'n_estimators': 55}\n",
    "```"
   ]
  },
  {
   "cell_type": "markdown",
   "id": "f0f9ab38-7f99-4905-9476-151faa640c2e",
   "metadata": {},
   "source": [
    "```python\n",
    "best score: 0.68\n",
    "best parameters: {'alpha': 0, 'gamma': 0, 'lambda': 0.275, 'learning_rate': 1.6330519478943344, 'max_depth': 2, 'min_child_weight': 3.875, 'n_estimators': 56}\n",
    "```"
   ]
  },
  {
   "cell_type": "markdown",
   "id": "e991f880-efc2-40a4-9fc1-64001640c07c",
   "metadata": {},
   "source": [
    "Let's now confirm results with running the best parameters again. I will use a pipeline as I want to ensure that I can include a `random_state` and make sure that the model understands that we're dealing with categorical data."
   ]
  },
  {
   "cell_type": "code",
   "execution_count": 20,
   "id": "319f2ff0-81d8-4ef6-a49b-e6fb47b12aba",
   "metadata": {},
   "outputs": [],
   "source": [
    "from sklearn.pipeline import Pipeline\n",
    "\n",
    "# X columns are categorical so they need to be OHE'd\n",
    "from sklearn.preprocessing import OneHotEncoder\n",
    "from sklearn.compose import ColumnTransformer\n",
    "from sklearn.model_selection import StratifiedKFold"
   ]
  },
  {
   "cell_type": "code",
   "execution_count": 21,
   "id": "3c31458f-f69b-467d-bb7d-5ee701fbff5a",
   "metadata": {},
   "outputs": [
    {
     "name": "stdout",
     "output_type": "stream",
     "text": [
      "Cross-validated accuracy: 57.88% ± 8.47%\n"
     ]
    }
   ],
   "source": [
    "# setup classifier\n",
    "model=XGBClassifier(alpha=0,\n",
    "                    gamma=0,\n",
    "                    reg_lambda=0.3,\n",
    "                    learning_rate=1.6292960326397223,\n",
    "                    max_depth=2,\n",
    "                    min_child_weight=4,\n",
    "                    n_estimators=55,\n",
    "                    random_state=seed)\n",
    "\n",
    "# preprocessor to handle categorical features, make them OHE'd\n",
    "# it will ignore any categories that are not found in X_test\n",
    "preprocessor = ColumnTransformer(\n",
    "    transformers=[\n",
    "        ('cat', OneHotEncoder(handle_unknown='ignore'), [0, 1])\n",
    "    ])\n",
    "\n",
    "# create pipeline\n",
    "pipeline=Pipeline([\n",
    "    ('preprocessor',preprocessor),\n",
    "    ('xgb',model)\n",
    "])\n",
    "\n",
    "# allow for five cross-validation folds\n",
    "stratified_k_fold=StratifiedKFold(n_splits=5,\n",
    "                                 random_state=seed,\n",
    "                                 shuffle=True)\n",
    "\n",
    "# perform cross-validation and print accuracy\n",
    "scores=cross_val_score(pipeline, \n",
    "                       X, \n",
    "                       y, \n",
    "                       cv=stratified_k_fold, \n",
    "                       scoring='accuracy')\n",
    "\n",
    "print('Cross-validated accuracy: '\\\n",
    "f'{scores.mean()*100:.2f}% ± {scores.std()*100:.2f}%')"
   ]
  },
  {
   "cell_type": "markdown",
   "id": "53cf566b-105f-4888-a164-70abf19dc80f",
   "metadata": {},
   "source": [
    "I'm satisfied with that. It's close enough. It's great to see that we were able to increase the accuracy from <50% to >50%. It's still not a great accuracy level, but much better."
   ]
  },
  {
   "cell_type": "markdown",
   "id": "8e2b7292-1c7b-4c49-9db7-b9f49f7e8fd2",
   "metadata": {},
   "source": [
    "### `SGDClassifier` <a name='sgdc'></a>"
   ]
  },
  {
   "cell_type": "markdown",
   "id": "635e8e35-4aee-4d55-b1fa-84eb93296249",
   "metadata": {},
   "source": [
    "Per the past results from the `lazypredict` [here](#lazy_predict_results), I will switch to the `SGDClassifier`. I will also employ a more in-depth pipeline to include other steps, like `RFE`, for feature elimination. This gets at the stretch goal of the company who gave us the dataset."
   ]
  },
  {
   "cell_type": "markdown",
   "id": "513d085e-180f-40bb-a0c2-18179521e24b",
   "metadata": {},
   "source": [
    "We should `get_dummies` on our dataset and run a correlation matrix because I'm curious. With the dataset transformed to be OneHotEncoded, rather than staying categorical, would different correlations jump out at us? Let's see."
   ]
  },
  {
   "cell_type": "markdown",
   "id": "269b2dad-703d-4eb6-85c8-ddc9ac458506",
   "metadata": {},
   "source": [
    "#### `get_dummies`<a name='sgdc_dummies'></a>"
   ]
  },
  {
   "cell_type": "code",
   "execution_count": 9,
   "id": "884b9f95-1993-4517-befe-96a21b419633",
   "metadata": {},
   "outputs": [
    {
     "name": "stdout",
     "output_type": "stream",
     "text": [
      "X shape: (126, 6)\n",
      "y shape: (126,)\n"
     ]
    }
   ],
   "source": [
    "# read in and setup dataset again\n",
    "\n",
    "df=pd.read_csv('../data/1_data.csv')\n",
    "\n",
    "# renaming columns to preserve order\n",
    "# and make them more intelligible\n",
    "df.rename(columns={'Y':'y',\n",
    "                   'X1':'a_time',\n",
    "                   'X2':'b_contents',\n",
    "                   'X3':'c_complete',\n",
    "                   'X4':'d_price',\n",
    "                   'X5':'e_courier',\n",
    "                   'X6':'f_app'},inplace=True)\n",
    "\n",
    "X=df[[col for col in df.columns if col != 'y']].copy()\n",
    "y=df['y'].copy().astype('int8') # because it's a binary\n",
    "                                # let's use less memory\n",
    "\n",
    "print(\"X shape:\",X.shape)\n",
    "print(\"y shape:\",y.shape)"
   ]
  },
  {
   "cell_type": "code",
   "execution_count": 10,
   "id": "d360c1c2-cb6b-44eb-aae3-8f802635596c",
   "metadata": {},
   "outputs": [
    {
     "data": {
      "text/plain": [
       "a_time        int64\n",
       "b_contents    int64\n",
       "c_complete    int64\n",
       "d_price       int64\n",
       "e_courier     int64\n",
       "f_app         int64\n",
       "dtype: object"
      ]
     },
     "execution_count": 10,
     "metadata": {},
     "output_type": "execute_result"
    }
   ],
   "source": [
    "X.dtypes"
   ]
  },
  {
   "cell_type": "markdown",
   "id": "25f6321a-2357-4a5d-b42e-1d1d8fd13844",
   "metadata": {},
   "source": [
    "`pd.get_dummies` requires the data be categorical:"
   ]
  },
  {
   "cell_type": "code",
   "execution_count": 11,
   "id": "1e0789f2-bfc0-4353-a2c3-c8fce2c48506",
   "metadata": {},
   "outputs": [
    {
     "data": {
      "text/plain": [
       "a_time        category\n",
       "b_contents    category\n",
       "c_complete    category\n",
       "d_price       category\n",
       "e_courier     category\n",
       "f_app         category\n",
       "dtype: object"
      ]
     },
     "execution_count": 11,
     "metadata": {},
     "output_type": "execute_result"
    }
   ],
   "source": [
    "X_cat=X.copy()\n",
    "\n",
    "for col in X_cat.columns:\n",
    "    X_cat[col] = X_cat[col].astype('category')\n",
    "    \n",
    "X_cat.dtypes"
   ]
  },
  {
   "cell_type": "code",
   "execution_count": 12,
   "id": "c3abffa2-0e67-442c-82a2-f9fcabe3ac9b",
   "metadata": {},
   "outputs": [],
   "source": [
    "X_ohe=pd.get_dummies(data=X_cat,\n",
    "                     prefix=list(X_cat.columns),\n",
    "                     drop_first=False) # I want to \n",
    "                                       # see all survey responses\n",
    "                                       # that are in dataset"
   ]
  },
  {
   "cell_type": "code",
   "execution_count": 13,
   "id": "70a1a838-f46a-41cb-bdc4-afdcad453013",
   "metadata": {},
   "outputs": [
    {
     "data": {
      "image/png": "[encoded data removed]",
      "text/plain": [
       "<Figure size 1000x800 with 2 Axes>"
      ]
     },
     "metadata": {},
     "output_type": "display_data"
    }
   ],
   "source": [
    "from matplotlib import pyplot as plt\n",
    "import seaborn as sns\n",
    "\n",
    "# Compute the correlation matrix\n",
    "corr = X_ohe.corr()\n",
    "\n",
    "# Generate a mask for the upper triangle\n",
    "mask = np.triu(np.ones_like(corr, dtype=bool))\n",
    "\n",
    "# Set up the matplotlib figure\n",
    "f,ax = plt.subplots(figsize=(10, 8))\n",
    "\n",
    "# Generate a custom diverging colormap\n",
    "# cmap = sns.diverging_palette(230, 20, as_cmap=True)\n",
    "\n",
    "# Draw the heatmap with the mask and correct aspect ratio\n",
    "sns.heatmap(corr, mask=mask, cmap='coolwarm', vmax=.3, center=0,\n",
    "            square=True, linewidths=.5, annot=True,\n",
    "            cbar_kws={\"shrink\": .5},\n",
    "            annot_kws={\"size\":5})\n",
    "plt.title(\"Correlation Matrix for OHE'd Data\\nHigher absolute value indicates stronger correlation (positive [red] or negative [blue])\")\n",
    "plt.tight_layout()\n",
    "\n",
    "# save fig\n",
    "plt.savefig('../figs/1_corrmatrix_ohe.pdf')\n",
    "plt.savefig('../figs/1_corrmatrix_ohe.png')"
   ]
  },
  {
   "cell_type": "markdown",
   "id": "be663e3e-51ff-40e6-a5e9-47c16445f37e",
   "metadata": {},
   "source": [
    "Nothing much to learn here except that if a specific category scored high, other categories likely scored high. This is also true if categories scored low. Some categories are missing as there is no data recorded for them. For example, no respondent scored `time` as a `2`.\n",
    "\n",
    "I'm curious why, for example, people that scored the `app` as `4` were not likely to score the `time` as `5`. This may be explained later in our modeling and statistical analysis."
   ]
  },
  {
   "cell_type": "markdown",
   "id": "761872e1-587b-4722-a7e5-04eeda730a47",
   "metadata": {},
   "source": [
    "#### `train_test_split` on the OHE'd dataset <a name='tts_ohe'></a>"
   ]
  },
  {
   "cell_type": "code",
   "execution_count": 14,
   "id": "bd601bb2-5f99-49f0-9f29-7824e2135a4b",
   "metadata": {},
   "outputs": [],
   "source": [
    "# train/test split\n",
    "X_train_ohe, \\\n",
    "X_test_ohe, \\\n",
    "y_train_ohe, \\\n",
    "y_test_ohe = train_test_split(X_ohe, \n",
    "                          y, \n",
    "                          test_size=0.2, \n",
    "                          stratify=y,\n",
    "                          random_state=seed)"
   ]
  },
  {
   "cell_type": "code",
   "execution_count": 15,
   "id": "8fb3bf61-67e1-441f-bfa5-80816ac510f9",
   "metadata": {},
   "outputs": [
    {
     "name": "stdout",
     "output_type": "stream",
     "text": [
      "\n",
      "Shapes of splits:\n",
      "X_train: (100, 29)\n",
      "X_test:  (26, 29)\n",
      "y_train: (100,)\n",
      "y_test:  (26,)\n",
      "\n"
     ]
    }
   ],
   "source": [
    "# confirm that the split occurred\n",
    "print(f'''\n",
    "Shapes of splits:\n",
    "X_train: {X_train_ohe.shape}\n",
    "X_test:  {X_test_ohe.shape}\n",
    "y_train: {y_train_ohe.shape}\n",
    "y_test:  {y_test_ohe.shape}\n",
    "''')"
   ]
  },
  {
   "cell_type": "code",
   "execution_count": 17,
   "id": "d9bb61c6-2db9-4025-a526-42d31efb1360",
   "metadata": {},
   "outputs": [
    {
     "data": {
      "text/html": [
       "<div>\n",
       "<style scoped>\n",
       "    .dataframe tbody tr th:only-of-type {\n",
       "        vertical-align: middle;\n",
       "    }\n",
       "\n",
       "    .dataframe tbody tr th {\n",
       "        vertical-align: top;\n",
       "    }\n",
       "\n",
       "    .dataframe thead th {\n",
       "        text-align: right;\n",
       "    }\n",
       "</style>\n",
       "<table border=\"1\" class=\"dataframe\">\n",
       "  <thead>\n",
       "    <tr style=\"text-align: right;\">\n",
       "      <th></th>\n",
       "      <th>a_time_1</th>\n",
       "      <th>a_time_3</th>\n",
       "      <th>a_time_4</th>\n",
       "      <th>a_time_5</th>\n",
       "      <th>b_contents_1</th>\n",
       "      <th>b_contents_2</th>\n",
       "      <th>b_contents_3</th>\n",
       "      <th>b_contents_4</th>\n",
       "      <th>b_contents_5</th>\n",
       "      <th>c_complete_1</th>\n",
       "      <th>...</th>\n",
       "      <th>e_courier_1</th>\n",
       "      <th>e_courier_2</th>\n",
       "      <th>e_courier_3</th>\n",
       "      <th>e_courier_4</th>\n",
       "      <th>e_courier_5</th>\n",
       "      <th>f_app_1</th>\n",
       "      <th>f_app_2</th>\n",
       "      <th>f_app_3</th>\n",
       "      <th>f_app_4</th>\n",
       "      <th>f_app_5</th>\n",
       "    </tr>\n",
       "  </thead>\n",
       "  <tbody>\n",
       "    <tr>\n",
       "      <th>94</th>\n",
       "      <td>0</td>\n",
       "      <td>1</td>\n",
       "      <td>0</td>\n",
       "      <td>0</td>\n",
       "      <td>1</td>\n",
       "      <td>0</td>\n",
       "      <td>0</td>\n",
       "      <td>0</td>\n",
       "      <td>0</td>\n",
       "      <td>0</td>\n",
       "      <td>...</td>\n",
       "      <td>1</td>\n",
       "      <td>0</td>\n",
       "      <td>0</td>\n",
       "      <td>0</td>\n",
       "      <td>0</td>\n",
       "      <td>0</td>\n",
       "      <td>1</td>\n",
       "      <td>0</td>\n",
       "      <td>0</td>\n",
       "      <td>0</td>\n",
       "    </tr>\n",
       "    <tr>\n",
       "      <th>28</th>\n",
       "      <td>0</td>\n",
       "      <td>1</td>\n",
       "      <td>0</td>\n",
       "      <td>0</td>\n",
       "      <td>0</td>\n",
       "      <td>0</td>\n",
       "      <td>1</td>\n",
       "      <td>0</td>\n",
       "      <td>0</td>\n",
       "      <td>1</td>\n",
       "      <td>...</td>\n",
       "      <td>0</td>\n",
       "      <td>0</td>\n",
       "      <td>1</td>\n",
       "      <td>0</td>\n",
       "      <td>0</td>\n",
       "      <td>0</td>\n",
       "      <td>0</td>\n",
       "      <td>0</td>\n",
       "      <td>1</td>\n",
       "      <td>0</td>\n",
       "    </tr>\n",
       "    <tr>\n",
       "      <th>24</th>\n",
       "      <td>0</td>\n",
       "      <td>0</td>\n",
       "      <td>1</td>\n",
       "      <td>0</td>\n",
       "      <td>0</td>\n",
       "      <td>0</td>\n",
       "      <td>1</td>\n",
       "      <td>0</td>\n",
       "      <td>0</td>\n",
       "      <td>0</td>\n",
       "      <td>...</td>\n",
       "      <td>0</td>\n",
       "      <td>0</td>\n",
       "      <td>1</td>\n",
       "      <td>0</td>\n",
       "      <td>0</td>\n",
       "      <td>0</td>\n",
       "      <td>0</td>\n",
       "      <td>0</td>\n",
       "      <td>1</td>\n",
       "      <td>0</td>\n",
       "    </tr>\n",
       "  </tbody>\n",
       "</table>\n",
       "<p>3 rows × 29 columns</p>\n",
       "</div>"
      ],
      "text/plain": [
       "    a_time_1  a_time_3  a_time_4  a_time_5  b_contents_1  b_contents_2  \\\n",
       "94         0         1         0         0             1             0   \n",
       "28         0         1         0         0             0             0   \n",
       "24         0         0         1         0             0             0   \n",
       "\n",
       "    b_contents_3  b_contents_4  b_contents_5  c_complete_1  ...  e_courier_1  \\\n",
       "94             0             0             0             0  ...            1   \n",
       "28             1             0             0             1  ...            0   \n",
       "24             1             0             0             0  ...            0   \n",
       "\n",
       "    e_courier_2  e_courier_3  e_courier_4  e_courier_5  f_app_1  f_app_2  \\\n",
       "94            0            0            0            0        0        1   \n",
       "28            0            1            0            0        0        0   \n",
       "24            0            1            0            0        0        0   \n",
       "\n",
       "    f_app_3  f_app_4  f_app_5  \n",
       "94        0        0        0  \n",
       "28        0        1        0  \n",
       "24        0        1        0  \n",
       "\n",
       "[3 rows x 29 columns]"
      ]
     },
     "execution_count": 17,
     "metadata": {},
     "output_type": "execute_result"
    }
   ],
   "source": [
    "X_train_ohe.sample(3)"
   ]
  },
  {
   "cell_type": "markdown",
   "id": "6ebcfeee-a408-4eee-9c0c-e4ac1b6a3110",
   "metadata": {},
   "source": [
    "Great, now we're ready for a new pipeline with `SGDClassifier`."
   ]
  },
  {
   "cell_type": "markdown",
   "id": "7ef467a6-b1ee-4c96-919e-210ae1284d24",
   "metadata": {},
   "source": [
    "#### New Pipeline with `SGDClassifier` and OneHotEncoded X data <a name='pipe_ohe'></a>"
   ]
  },
  {
   "cell_type": "markdown",
   "id": "299773a1-cc52-43c0-a0e2-a3f892202111",
   "metadata": {},
   "source": [
    "##### More notes on the Pipeline choices:"
   ]
  },
  {
   "cell_type": "markdown",
   "id": "9880d767-12c4-4e2c-99ec-a61f5add7a5e",
   "metadata": {},
   "source": [
    "* `RFE` is great for feature selection, as it can help you understand which features are most important. RFE requires a base estimator to assign weights to features. We can use a logistic regression model.\n",
    "* We're using the `SGDClassifier` as the final step in our pipeline as it scored the top accuracy in our `lazypredict` run.\n",
    "* We'll set up a grid search so that we can explore the hyperparameter space to find the best hyperparameters for our dataset."
   ]
  },
  {
   "cell_type": "code",
   "execution_count": 30,
   "id": "10aacc66-0bd6-4c39-bc69-e23cd6416bad",
   "metadata": {},
   "outputs": [],
   "source": [
    "from sklearn.feature_selection import RFE\n",
    "from sklearn.linear_model import LogisticRegression\n",
    "from sklearn.linear_model import SGDClassifier\n",
    "from sklearn.pipeline import make_pipeline\n",
    "from sklearn.ensemble import RandomForestClassifier"
   ]
  },
  {
   "cell_type": "code",
   "execution_count": 31,
   "id": "c308d60a-683c-40c5-ae65-3f32d2984e98",
   "metadata": {},
   "outputs": [
    {
     "name": "stdout",
     "output_type": "stream",
     "text": [
      "Fitting 5 folds for each of 2160 candidates, totalling 10800 fits\n"
     ]
    },
    {
     "data": {
      "text/plain": [
       "['../joblib/1_gridsearch_rfe_sgd_20240530.pkl']"
      ]
     },
     "execution_count": 31,
     "metadata": {},
     "output_type": "execute_result"
    }
   ],
   "source": [
    "# specifying the k-fold so that we can control the randomness\n",
    "\n",
    "stratified_k_fold=StratifiedKFold(n_splits=5,\n",
    "                                 random_state=seed,\n",
    "                                 shuffle=True)\n",
    "\n",
    "estimators=[\n",
    "    ('rfe',RFE(estimator=LogisticRegression(random_state=seed))),\n",
    "    ('sgd',SGDClassifier(random_state=seed))]\n",
    "\n",
    "pipeline = Pipeline(estimators)\n",
    "\n",
    "param_grid = [\n",
    "    {\n",
    "        'rfe__n_features_to_select': list(np.arange(1, 7)),\n",
    "        'rfe__importance_getter': ['feature_importances_','auto'],\n",
    "        'sgd__max_iter': list(np.logspace(2, 5, 4).astype('int')),\n",
    "        'sgd__alpha': list(np.logspace(-5, -1, 5)),\n",
    "        'sgd__loss': ['hinge', 'log_loss', 'modified_huber'],\n",
    "        'sgd__penalty': ['l2', 'l1', 'elasticnet'],\n",
    "        'sgd__learning_rate': ['optimal'],\n",
    "        'rfe__estimator': [LogisticRegression(random_state=seed)],\n",
    "        'rfe__importance_getter': ['auto']\n",
    "    },\n",
    "    {\n",
    "        'rfe__n_features_to_select': list(np.arange(1, 7)),\n",
    "        'sgd__max_iter': list(np.logspace(2, 5, 4).astype('int')),\n",
    "        'sgd__alpha': list(np.logspace(-5, -1, 5)),\n",
    "        'sgd__loss': ['hinge', 'log_loss', 'modified_huber'],\n",
    "        'sgd__penalty': ['l2', 'l1', 'elasticnet'],\n",
    "        'sgd__learning_rate': ['optimal'],\n",
    "        'rfe__estimator': [RandomForestClassifier(random_state=seed)],\n",
    "        'rfe__importance_getter': ['auto']\n",
    "    }\n",
    "]\n",
    "\n",
    "# perform grid search with cross-validation\n",
    "grid_search = GridSearchCV(pipeline,\n",
    "                           param_grid,\n",
    "                           cv=stratified_k_fold,\n",
    "                           verbose=1,\n",
    "                           n_jobs=-1)\n",
    "\n",
    "grid_search.fit(X_train_ohe, y_train_ohe)\n",
    "\n",
    "# save trained model to pickle file\n",
    "joblib_file='../joblib/1_gridsearch_rfe_sgd_20240530.pkl'\n",
    "joblib.dump(grid_search,joblib_file)"
   ]
  },
  {
   "cell_type": "code",
   "execution_count": 32,
   "id": "3177e10c-d8fe-4b18-bf51-8fc2ab9b9126",
   "metadata": {},
   "outputs": [],
   "source": [
    "# load grid search file\n",
    "joblib_file='../joblib/1_gridsearch_rfe_sgd_20240530.pkl'\n",
    "loaded_grid_search=joblib.load(joblib_file)"
   ]
  },
  {
   "cell_type": "code",
   "execution_count": 33,
   "id": "0a361a0c-2c9e-4345-8478-aa83c26012c4",
   "metadata": {},
   "outputs": [
    {
     "name": "stdout",
     "output_type": "stream",
     "text": [
      "best score: 0.6599999999999999\n",
      "best parameters: {'rfe__estimator': RandomForestClassifier(random_state=36791776), 'rfe__importance_getter': 'auto', 'rfe__n_features_to_select': 5, 'sgd__alpha': 0.01, 'sgd__learning_rate': 'optimal', 'sgd__loss': 'modified_huber', 'sgd__max_iter': 100, 'sgd__penalty': 'l1'}\n"
     ]
    }
   ],
   "source": [
    "# best score\n",
    "print(f\"best score: {loaded_grid_search.best_score_}\")\n",
    "\n",
    "# best parameters \n",
    "print(f\"best parameters: {loaded_grid_search.best_params_}\")"
   ]
  },
  {
   "cell_type": "code",
   "execution_count": 34,
   "id": "aec54efb-22b0-474e-b301-97c74477ce46",
   "metadata": {},
   "outputs": [],
   "source": [
    "from sklearn.metrics import accuracy_score,precision_score,recall_score,f1_score"
   ]
  },
  {
   "cell_type": "code",
   "execution_count": 35,
   "id": "68ef9769-e680-4b04-b671-46b089ec8416",
   "metadata": {},
   "outputs": [
    {
     "name": "stdout",
     "output_type": "stream",
     "text": [
      "Test Accuracy: 0.38461538461538464\n",
      "Precision:     0.375\n",
      "Recall:        0.21428571428571427\n",
      "F1 Score:      0.2727272727272727\n"
     ]
    }
   ],
   "source": [
    "# Make predictions on the test set using the best model\n",
    "y_pred_ohe = loaded_grid_search.best_estimator_.predict(X_test_ohe)\n",
    "\n",
    "# Calculate and print the evaluation metrics\n",
    "metrics = {\n",
    "    'accuracy': accuracy_score(y_test_ohe, y_pred_ohe),\n",
    "    'precision': precision_score(y_test_ohe, y_pred_ohe),\n",
    "    'recall': recall_score(y_test_ohe, y_pred_ohe),\n",
    "    'f1': f1_score(y_test_ohe, y_pred_ohe)\n",
    "}\n",
    "\n",
    "print(\"Test Accuracy:\", metrics['accuracy'])\n",
    "print(\"Precision:    \", metrics['precision'])\n",
    "print(\"Recall:       \", metrics['recall'])\n",
    "print(\"F1 Score:     \", metrics['f1'])"
   ]
  },
  {
   "cell_type": "markdown",
   "id": "06feccc2-0bd8-447e-a111-1c79ef5cd9dd",
   "metadata": {},
   "source": [
    "This result is quite terrible."
   ]
  },
  {
   "cell_type": "markdown",
   "id": "26e29103-42e8-404b-9318-1c84df88addc",
   "metadata": {},
   "source": [
    "Confirm that the accuracy percentage is based on `X_test` and not `X_train` - so if we run the cell below, we should get the same accuracy from the grid search:"
   ]
  },
  {
   "cell_type": "code",
   "execution_count": 36,
   "id": "406a92ca-a958-4e6f-ab0b-8a2174d86720",
   "metadata": {},
   "outputs": [
    {
     "name": "stdout",
     "output_type": "stream",
     "text": [
      "Test Accuracy: 0.64\n",
      "Precision:     0.7435897435897436\n",
      "Recall:        0.5272727272727272\n",
      "F1 Score:      0.6170212765957446\n"
     ]
    }
   ],
   "source": [
    "y_pred_ohe = loaded_grid_search.best_estimator_.predict(X_train_ohe)\n",
    "\n",
    "# Calculate and print the evaluation metrics\n",
    "metrics = {\n",
    "    'accuracy': accuracy_score(y_train_ohe, y_pred_ohe),\n",
    "    'precision': precision_score(y_train_ohe, y_pred_ohe),\n",
    "    'recall': recall_score(y_train_ohe, y_pred_ohe),\n",
    "    'f1': f1_score(y_train_ohe, y_pred_ohe)\n",
    "}\n",
    "\n",
    "print(\"Test Accuracy:\", metrics['accuracy'])\n",
    "print(\"Precision:    \", metrics['precision'])\n",
    "print(\"Recall:       \", metrics['recall'])\n",
    "print(\"F1 Score:     \", metrics['f1'])"
   ]
  },
  {
   "cell_type": "markdown",
   "id": "42035f11-a1f0-4681-bd0c-6f38c8b8ee7d",
   "metadata": {},
   "source": [
    "##### Extracting the most important features from the dataset: <a name='rfe_ohe'></a>"
   ]
  },
  {
   "cell_type": "code",
   "execution_count": 37,
   "id": "71f3fde0-96cd-4661-aefe-bd30278622c1",
   "metadata": {},
   "outputs": [
    {
     "name": "stdout",
     "output_type": "stream",
     "text": [
      "The top features that are most important:\n",
      "Index(['a_time_5', 'c_complete_4', 'd_price_4', 'e_courier_5', 'f_app_4'], dtype='object')\n"
     ]
    },
    {
     "data": {
      "text/html": [
       "<div>\n",
       "<style scoped>\n",
       "    .dataframe tbody tr th:only-of-type {\n",
       "        vertical-align: middle;\n",
       "    }\n",
       "\n",
       "    .dataframe tbody tr th {\n",
       "        vertical-align: top;\n",
       "    }\n",
       "\n",
       "    .dataframe thead th {\n",
       "        text-align: right;\n",
       "    }\n",
       "</style>\n",
       "<table border=\"1\" class=\"dataframe\">\n",
       "  <thead>\n",
       "    <tr style=\"text-align: right;\">\n",
       "      <th></th>\n",
       "      <th>Feature</th>\n",
       "      <th>Ranking</th>\n",
       "    </tr>\n",
       "  </thead>\n",
       "  <tbody>\n",
       "    <tr>\n",
       "      <th>12</th>\n",
       "      <td>c_complete_4</td>\n",
       "      <td>1</td>\n",
       "    </tr>\n",
       "    <tr>\n",
       "      <th>3</th>\n",
       "      <td>a_time_5</td>\n",
       "      <td>1</td>\n",
       "    </tr>\n",
       "    <tr>\n",
       "      <th>17</th>\n",
       "      <td>d_price_4</td>\n",
       "      <td>1</td>\n",
       "    </tr>\n",
       "    <tr>\n",
       "      <th>27</th>\n",
       "      <td>f_app_4</td>\n",
       "      <td>1</td>\n",
       "    </tr>\n",
       "    <tr>\n",
       "      <th>23</th>\n",
       "      <td>e_courier_5</td>\n",
       "      <td>1</td>\n",
       "    </tr>\n",
       "  </tbody>\n",
       "</table>\n",
       "</div>"
      ],
      "text/plain": [
       "         Feature  Ranking\n",
       "12  c_complete_4        1\n",
       "3       a_time_5        1\n",
       "17     d_price_4        1\n",
       "27       f_app_4        1\n",
       "23   e_courier_5        1"
      ]
     },
     "execution_count": 37,
     "metadata": {},
     "output_type": "execute_result"
    }
   ],
   "source": [
    "# get best estimator from grid search\n",
    "best_estimator=loaded_grid_search.best_estimator_\n",
    "\n",
    "# access RFE transformer within pipeline\n",
    "rfe=best_estimator.named_steps['rfe']\n",
    "\n",
    "# get selected features\n",
    "selected_features_indices=rfe.support_\n",
    "\n",
    "# extract names of selected features\n",
    "selected_features=X_train_ohe.columns[selected_features_indices]\n",
    "\n",
    "print(f\"The top features that are most important:\\n{selected_features}\")\n",
    "\n",
    "# obtain ranking of features\n",
    "feature_ranking=rfe.ranking_\n",
    "\n",
    "# feature names\n",
    "feature_names=X_train_ohe.columns\n",
    "\n",
    "# create dataframe to store feature names and rankings\n",
    "feature_ranking_df=pd.DataFrame({'Feature': feature_names,\n",
    "                                 'Ranking': feature_ranking})\n",
    "\n",
    "feature_ranking_df=feature_ranking_df.sort_values(by='Ranking')\n",
    "\n",
    "# arbitrary subset of the entire df\n",
    "# (the entire df includes all columns and their importance rank)\n",
    "# feature_ranking_df\n",
    "feature_ranking_df.head(5)"
   ]
  },
  {
   "cell_type": "markdown",
   "id": "88e30ad9-469e-43a0-b702-22f4782d36d0",
   "metadata": {},
   "source": [
    "This is really great to see, that the `RFE` was able to pull out what it thinks are the most important features. It is not as informative for a human, as these features are a binary representation of categorical data. Let's try running the non-binary version of the dataset through the trained model. Maybe we'll get more informative results?"
   ]
  },
  {
   "cell_type": "code",
   "execution_count": 44,
   "id": "fd0edc58-1fe4-4bd2-8f50-fbe16261cb4c",
   "metadata": {},
   "outputs": [
    {
     "data": {
      "text/html": [
       "<div>\n",
       "<style scoped>\n",
       "    .dataframe tbody tr th:only-of-type {\n",
       "        vertical-align: middle;\n",
       "    }\n",
       "\n",
       "    .dataframe tbody tr th {\n",
       "        vertical-align: top;\n",
       "    }\n",
       "\n",
       "    .dataframe thead th {\n",
       "        text-align: right;\n",
       "    }\n",
       "</style>\n",
       "<table border=\"1\" class=\"dataframe\">\n",
       "  <thead>\n",
       "    <tr style=\"text-align: right;\">\n",
       "      <th></th>\n",
       "      <th>Feature</th>\n",
       "      <th>Ranking</th>\n",
       "    </tr>\n",
       "  </thead>\n",
       "  <tbody>\n",
       "    <tr>\n",
       "      <th>12</th>\n",
       "      <td>c_complete_4</td>\n",
       "      <td>1</td>\n",
       "    </tr>\n",
       "    <tr>\n",
       "      <th>3</th>\n",
       "      <td>a_time_5</td>\n",
       "      <td>1</td>\n",
       "    </tr>\n",
       "    <tr>\n",
       "      <th>17</th>\n",
       "      <td>d_price_4</td>\n",
       "      <td>1</td>\n",
       "    </tr>\n",
       "    <tr>\n",
       "      <th>27</th>\n",
       "      <td>f_app_4</td>\n",
       "      <td>1</td>\n",
       "    </tr>\n",
       "    <tr>\n",
       "      <th>23</th>\n",
       "      <td>e_courier_5</td>\n",
       "      <td>1</td>\n",
       "    </tr>\n",
       "    <tr>\n",
       "      <th>6</th>\n",
       "      <td>b_contents_3</td>\n",
       "      <td>2</td>\n",
       "    </tr>\n",
       "    <tr>\n",
       "      <th>11</th>\n",
       "      <td>c_complete_3</td>\n",
       "      <td>3</td>\n",
       "    </tr>\n",
       "    <tr>\n",
       "      <th>2</th>\n",
       "      <td>a_time_4</td>\n",
       "      <td>4</td>\n",
       "    </tr>\n",
       "    <tr>\n",
       "      <th>21</th>\n",
       "      <td>e_courier_3</td>\n",
       "      <td>5</td>\n",
       "    </tr>\n",
       "    <tr>\n",
       "      <th>4</th>\n",
       "      <td>b_contents_1</td>\n",
       "      <td>6</td>\n",
       "    </tr>\n",
       "    <tr>\n",
       "      <th>18</th>\n",
       "      <td>d_price_5</td>\n",
       "      <td>7</td>\n",
       "    </tr>\n",
       "    <tr>\n",
       "      <th>22</th>\n",
       "      <td>e_courier_4</td>\n",
       "      <td>8</td>\n",
       "    </tr>\n",
       "    <tr>\n",
       "      <th>16</th>\n",
       "      <td>d_price_3</td>\n",
       "      <td>9</td>\n",
       "    </tr>\n",
       "    <tr>\n",
       "      <th>28</th>\n",
       "      <td>f_app_5</td>\n",
       "      <td>10</td>\n",
       "    </tr>\n",
       "    <tr>\n",
       "      <th>5</th>\n",
       "      <td>b_contents_2</td>\n",
       "      <td>11</td>\n",
       "    </tr>\n",
       "    <tr>\n",
       "      <th>1</th>\n",
       "      <td>a_time_3</td>\n",
       "      <td>12</td>\n",
       "    </tr>\n",
       "    <tr>\n",
       "      <th>20</th>\n",
       "      <td>e_courier_2</td>\n",
       "      <td>13</td>\n",
       "    </tr>\n",
       "    <tr>\n",
       "      <th>26</th>\n",
       "      <td>f_app_3</td>\n",
       "      <td>14</td>\n",
       "    </tr>\n",
       "    <tr>\n",
       "      <th>7</th>\n",
       "      <td>b_contents_4</td>\n",
       "      <td>15</td>\n",
       "    </tr>\n",
       "    <tr>\n",
       "      <th>10</th>\n",
       "      <td>c_complete_2</td>\n",
       "      <td>16</td>\n",
       "    </tr>\n",
       "    <tr>\n",
       "      <th>13</th>\n",
       "      <td>c_complete_5</td>\n",
       "      <td>17</td>\n",
       "    </tr>\n",
       "    <tr>\n",
       "      <th>15</th>\n",
       "      <td>d_price_2</td>\n",
       "      <td>18</td>\n",
       "    </tr>\n",
       "    <tr>\n",
       "      <th>19</th>\n",
       "      <td>e_courier_1</td>\n",
       "      <td>19</td>\n",
       "    </tr>\n",
       "    <tr>\n",
       "      <th>9</th>\n",
       "      <td>c_complete_1</td>\n",
       "      <td>20</td>\n",
       "    </tr>\n",
       "    <tr>\n",
       "      <th>8</th>\n",
       "      <td>b_contents_5</td>\n",
       "      <td>21</td>\n",
       "    </tr>\n",
       "    <tr>\n",
       "      <th>0</th>\n",
       "      <td>a_time_1</td>\n",
       "      <td>22</td>\n",
       "    </tr>\n",
       "    <tr>\n",
       "      <th>14</th>\n",
       "      <td>d_price_1</td>\n",
       "      <td>23</td>\n",
       "    </tr>\n",
       "    <tr>\n",
       "      <th>25</th>\n",
       "      <td>f_app_2</td>\n",
       "      <td>24</td>\n",
       "    </tr>\n",
       "    <tr>\n",
       "      <th>24</th>\n",
       "      <td>f_app_1</td>\n",
       "      <td>25</td>\n",
       "    </tr>\n",
       "  </tbody>\n",
       "</table>\n",
       "</div>"
      ],
      "text/plain": [
       "         Feature  Ranking\n",
       "12  c_complete_4        1\n",
       "3       a_time_5        1\n",
       "17     d_price_4        1\n",
       "27       f_app_4        1\n",
       "23   e_courier_5        1\n",
       "6   b_contents_3        2\n",
       "11  c_complete_3        3\n",
       "2       a_time_4        4\n",
       "21   e_courier_3        5\n",
       "4   b_contents_1        6\n",
       "18     d_price_5        7\n",
       "22   e_courier_4        8\n",
       "16     d_price_3        9\n",
       "28       f_app_5       10\n",
       "5   b_contents_2       11\n",
       "1       a_time_3       12\n",
       "20   e_courier_2       13\n",
       "26       f_app_3       14\n",
       "7   b_contents_4       15\n",
       "10  c_complete_2       16\n",
       "13  c_complete_5       17\n",
       "15     d_price_2       18\n",
       "19   e_courier_1       19\n",
       "9   c_complete_1       20\n",
       "8   b_contents_5       21\n",
       "0       a_time_1       22\n",
       "14     d_price_1       23\n",
       "25       f_app_2       24\n",
       "24       f_app_1       25"
      ]
     },
     "execution_count": 44,
     "metadata": {},
     "output_type": "execute_result"
    }
   ],
   "source": [
    "feature_ranking_df"
   ]
  },
  {
   "cell_type": "code",
   "execution_count": 53,
   "id": "8e50893b-f4e4-4f18-9899-b0098fd0beb0",
   "metadata": {},
   "outputs": [],
   "source": [
    "# save feature rankings\n",
    "feature_ranking_df.to_csv('../data/1_feature_ranking_df_20240530.csv')"
   ]
  },
  {
   "cell_type": "markdown",
   "id": "8b3d10e5-4c70-458a-acca-4b9e8968cb81",
   "metadata": {},
   "source": [
    "#### New pipeline with `SGDClassifier` and categorical (not OHE'd) X data <a name='pipe_notohe'></a>"
   ]
  },
  {
   "cell_type": "markdown",
   "id": "75a7db04-a434-4921-a246-36345a904511",
   "metadata": {},
   "source": [
    "##### Redefine X data without OneHotEncodings:"
   ]
  },
  {
   "cell_type": "code",
   "execution_count": 20,
   "id": "ce777b96-625a-4e84-b9f6-ee1b45076ab3",
   "metadata": {},
   "outputs": [
    {
     "name": "stdout",
     "output_type": "stream",
     "text": [
      "X shape: (126, 6)\n",
      "y shape: (126,)\n"
     ]
    }
   ],
   "source": [
    "# read in and setup dataset again\n",
    "\n",
    "df=pd.read_csv('../data/1_data.csv')\n",
    "\n",
    "# renaming columns to preserve order\n",
    "# and make them more intelligible\n",
    "df.rename(columns={'Y':'y',\n",
    "                   'X1':'a_time',\n",
    "                   'X2':'b_contents',\n",
    "                   'X3':'c_complete',\n",
    "                   'X4':'d_price',\n",
    "                   'X5':'e_courier',\n",
    "                   'X6':'f_app'},inplace=True)\n",
    "\n",
    "X=df[[col for col in df.columns if col != 'y']].copy()\n",
    "y=df['y'].copy().astype('int8') # because it's a binary\n",
    "                                # let's use less memory\n",
    "\n",
    "print(\"X shape:\",X.shape)\n",
    "print(\"y shape:\",y.shape)"
   ]
  },
  {
   "cell_type": "code",
   "execution_count": 21,
   "id": "e6f9a109-521d-41d6-98d3-6fecf38b3012",
   "metadata": {},
   "outputs": [
    {
     "data": {
      "text/plain": [
       "a_time        int64\n",
       "b_contents    int64\n",
       "c_complete    int64\n",
       "d_price       int64\n",
       "e_courier     int64\n",
       "f_app         int64\n",
       "dtype: object"
      ]
     },
     "execution_count": 21,
     "metadata": {},
     "output_type": "execute_result"
    }
   ],
   "source": [
    "X.dtypes"
   ]
  },
  {
   "cell_type": "code",
   "execution_count": 22,
   "id": "254e0570-85a7-47a5-8ec7-fb55632a7330",
   "metadata": {},
   "outputs": [
    {
     "data": {
      "text/plain": [
       "a_time        category\n",
       "b_contents    category\n",
       "c_complete    category\n",
       "d_price       category\n",
       "e_courier     category\n",
       "f_app         category\n",
       "dtype: object"
      ]
     },
     "execution_count": 22,
     "metadata": {},
     "output_type": "execute_result"
    }
   ],
   "source": [
    "X_cat=X.copy()\n",
    "\n",
    "for col in X_cat.columns:\n",
    "    X_cat[col] = X_cat[col].astype('category')\n",
    "    \n",
    "X_cat.dtypes"
   ]
  },
  {
   "cell_type": "code",
   "execution_count": 23,
   "id": "363d5c84-eb7d-4b99-8c92-c269eb10822b",
   "metadata": {},
   "outputs": [],
   "source": [
    "# train/test split\n",
    "X_train_cat, \\\n",
    "X_test_cat, \\\n",
    "y_train_cat, \\\n",
    "y_test_cat = train_test_split(X_cat, \n",
    "                          y, \n",
    "                          test_size=0.2, \n",
    "                          stratify=y,\n",
    "                          random_state=seed)"
   ]
  },
  {
   "cell_type": "code",
   "execution_count": 24,
   "id": "81caa2f6-f332-4a72-b909-da06f85cd19d",
   "metadata": {},
   "outputs": [
    {
     "data": {
      "text/plain": [
       "(100, 6)"
      ]
     },
     "execution_count": 24,
     "metadata": {},
     "output_type": "execute_result"
    }
   ],
   "source": [
    "X_train_cat.shape"
   ]
  },
  {
   "cell_type": "code",
   "execution_count": 25,
   "id": "b1317b8a-b26c-4956-871e-95cd3eb1d9bb",
   "metadata": {},
   "outputs": [
    {
     "data": {
      "text/html": [
       "<div>\n",
       "<style scoped>\n",
       "    .dataframe tbody tr th:only-of-type {\n",
       "        vertical-align: middle;\n",
       "    }\n",
       "\n",
       "    .dataframe tbody tr th {\n",
       "        vertical-align: top;\n",
       "    }\n",
       "\n",
       "    .dataframe thead th {\n",
       "        text-align: right;\n",
       "    }\n",
       "</style>\n",
       "<table border=\"1\" class=\"dataframe\">\n",
       "  <thead>\n",
       "    <tr style=\"text-align: right;\">\n",
       "      <th></th>\n",
       "      <th>a_time</th>\n",
       "      <th>b_contents</th>\n",
       "      <th>c_complete</th>\n",
       "      <th>d_price</th>\n",
       "      <th>e_courier</th>\n",
       "      <th>f_app</th>\n",
       "    </tr>\n",
       "  </thead>\n",
       "  <tbody>\n",
       "    <tr>\n",
       "      <th>74</th>\n",
       "      <td>5</td>\n",
       "      <td>2</td>\n",
       "      <td>5</td>\n",
       "      <td>5</td>\n",
       "      <td>5</td>\n",
       "      <td>5</td>\n",
       "    </tr>\n",
       "    <tr>\n",
       "      <th>121</th>\n",
       "      <td>5</td>\n",
       "      <td>2</td>\n",
       "      <td>3</td>\n",
       "      <td>4</td>\n",
       "      <td>4</td>\n",
       "      <td>3</td>\n",
       "    </tr>\n",
       "    <tr>\n",
       "      <th>65</th>\n",
       "      <td>4</td>\n",
       "      <td>1</td>\n",
       "      <td>3</td>\n",
       "      <td>4</td>\n",
       "      <td>4</td>\n",
       "      <td>4</td>\n",
       "    </tr>\n",
       "  </tbody>\n",
       "</table>\n",
       "</div>"
      ],
      "text/plain": [
       "    a_time b_contents c_complete d_price e_courier f_app\n",
       "74       5          2          5       5         5     5\n",
       "121      5          2          3       4         4     3\n",
       "65       4          1          3       4         4     4"
      ]
     },
     "execution_count": 25,
     "metadata": {},
     "output_type": "execute_result"
    }
   ],
   "source": [
    "X_train_cat.head(3)"
   ]
  },
  {
   "cell_type": "code",
   "execution_count": 54,
   "id": "ff2e1c82-f9ac-4a7d-bafb-f613d2faedf6",
   "metadata": {},
   "outputs": [
    {
     "name": "stdout",
     "output_type": "stream",
     "text": [
      "Fitting 5 folds for each of 2160 candidates, totalling 10800 fits\n"
     ]
    },
    {
     "data": {
      "text/html": [
       "<style>#sk-container-id-1 {color: black;background-color: white;}#sk-container-id-1 pre{padding: 0;}#sk-container-id-1 div.sk-toggleable {background-color: white;}#sk-container-id-1 label.sk-toggleable__label {cursor: pointer;display: block;width: 100%;margin-bottom: 0;padding: 0.3em;box-sizing: border-box;text-align: center;}#sk-container-id-1 label.sk-toggleable__label-arrow:before {content: \"▸\";float: left;margin-right: 0.25em;color: #696969;}#sk-container-id-1 label.sk-toggleable__label-arrow:hover:before {color: black;}#sk-container-id-1 div.sk-estimator:hover label.sk-toggleable__label-arrow:before {color: black;}#sk-container-id-1 div.sk-toggleable__content {max-height: 0;max-width: 0;overflow: hidden;text-align: left;background-color: #f0f8ff;}#sk-container-id-1 div.sk-toggleable__content pre {margin: 0.2em;color: black;border-radius: 0.25em;background-color: #f0f8ff;}#sk-container-id-1 input.sk-toggleable__control:checked~div.sk-toggleable__content {max-height: 200px;max-width: 100%;overflow: auto;}#sk-container-id-1 input.sk-toggleable__control:checked~label.sk-toggleable__label-arrow:before {content: \"▾\";}#sk-container-id-1 div.sk-estimator input.sk-toggleable__control:checked~label.sk-toggleable__label {background-color: #d4ebff;}#sk-container-id-1 div.sk-label input.sk-toggleable__control:checked~label.sk-toggleable__label {background-color: #d4ebff;}#sk-container-id-1 input.sk-hidden--visually {border: 0;clip: rect(1px 1px 1px 1px);clip: rect(1px, 1px, 1px, 1px);height: 1px;margin: -1px;overflow: hidden;padding: 0;position: absolute;width: 1px;}#sk-container-id-1 div.sk-estimator {font-family: monospace;background-color: #f0f8ff;border: 1px dotted black;border-radius: 0.25em;box-sizing: border-box;margin-bottom: 0.5em;}#sk-container-id-1 div.sk-estimator:hover {background-color: #d4ebff;}#sk-container-id-1 div.sk-parallel-item::after {content: \"\";width: 100%;border-bottom: 1px solid gray;flex-grow: 1;}#sk-container-id-1 div.sk-label:hover label.sk-toggleable__label {background-color: #d4ebff;}#sk-container-id-1 div.sk-serial::before {content: \"\";position: absolute;border-left: 1px solid gray;box-sizing: border-box;top: 0;bottom: 0;left: 50%;z-index: 0;}#sk-container-id-1 div.sk-serial {display: flex;flex-direction: column;align-items: center;background-color: white;padding-right: 0.2em;padding-left: 0.2em;position: relative;}#sk-container-id-1 div.sk-item {position: relative;z-index: 1;}#sk-container-id-1 div.sk-parallel {display: flex;align-items: stretch;justify-content: center;background-color: white;position: relative;}#sk-container-id-1 div.sk-item::before, #sk-container-id-1 div.sk-parallel-item::before {content: \"\";position: absolute;border-left: 1px solid gray;box-sizing: border-box;top: 0;bottom: 0;left: 50%;z-index: -1;}#sk-container-id-1 div.sk-parallel-item {display: flex;flex-direction: column;z-index: 1;position: relative;background-color: white;}#sk-container-id-1 div.sk-parallel-item:first-child::after {align-self: flex-end;width: 50%;}#sk-container-id-1 div.sk-parallel-item:last-child::after {align-self: flex-start;width: 50%;}#sk-container-id-1 div.sk-parallel-item:only-child::after {width: 0;}#sk-container-id-1 div.sk-dashed-wrapped {border: 1px dashed gray;margin: 0 0.4em 0.5em 0.4em;box-sizing: border-box;padding-bottom: 0.4em;background-color: white;}#sk-container-id-1 div.sk-label label {font-family: monospace;font-weight: bold;display: inline-block;line-height: 1.2em;}#sk-container-id-1 div.sk-label-container {text-align: center;}#sk-container-id-1 div.sk-container {/* jupyter's `normalize.less` sets `[hidden] { display: none; }` but bootstrap.min.css set `[hidden] { display: none !important; }` so we also need the `!important` here to be able to override the default hidden behavior on the sphinx rendered scikit-learn.org. See: https://github.com/scikit-learn/scikit-learn/issues/21755 */display: inline-block !important;position: relative;}#sk-container-id-1 div.sk-text-repr-fallback {display: none;}</style><div id=\"sk-container-id-1\" class=\"sk-top-container\"><div class=\"sk-text-repr-fallback\"><pre>GridSearchCV(cv=StratifiedKFold(n_splits=5, random_state=79056830, shuffle=True),\n",
       "             estimator=Pipeline(steps=[(&#x27;rfe&#x27;,\n",
       "                                        RFE(estimator=LogisticRegression(random_state=79056830))),\n",
       "                                       (&#x27;sgd&#x27;,\n",
       "                                        SGDClassifier(random_state=79056830))]),\n",
       "             n_jobs=-1,\n",
       "             param_grid=[{&#x27;rfe__estimator&#x27;: [LogisticRegression(random_state=79056830)],\n",
       "                          &#x27;rfe__importance_getter&#x27;: [&#x27;auto&#x27;],\n",
       "                          &#x27;rfe__n_feature...\n",
       "                         {&#x27;rfe__estimator&#x27;: [RandomForestClassifier(random_state=79056830)],\n",
       "                          &#x27;rfe__importance_getter&#x27;: [&#x27;auto&#x27;],\n",
       "                          &#x27;rfe__n_features_to_select&#x27;: [1, 2, 3, 4, 5, 6],\n",
       "                          &#x27;sgd__alpha&#x27;: [1e-05, 0.0001, 0.001, 0.01, 0.1],\n",
       "                          &#x27;sgd__learning_rate&#x27;: [&#x27;optimal&#x27;],\n",
       "                          &#x27;sgd__loss&#x27;: [&#x27;hinge&#x27;, &#x27;log_loss&#x27;, &#x27;modified_huber&#x27;],\n",
       "                          &#x27;sgd__max_iter&#x27;: [100, 1000, 10000, 100000],\n",
       "                          &#x27;sgd__penalty&#x27;: [&#x27;l2&#x27;, &#x27;l1&#x27;, &#x27;elasticnet&#x27;]}],\n",
       "             verbose=1)</pre><b>In a Jupyter environment, please rerun this cell to show the HTML representation or trust the notebook. <br />On GitHub, the HTML representation is unable to render, please try loading this page with nbviewer.org.</b></div><div class=\"sk-container\" hidden><div class=\"sk-item sk-dashed-wrapped\"><div class=\"sk-label-container\"><div class=\"sk-label sk-toggleable\"><input class=\"sk-toggleable__control sk-hidden--visually\" id=\"sk-estimator-id-1\" type=\"checkbox\" ><label for=\"sk-estimator-id-1\" class=\"sk-toggleable__label sk-toggleable__label-arrow\">GridSearchCV</label><div class=\"sk-toggleable__content\"><pre>GridSearchCV(cv=StratifiedKFold(n_splits=5, random_state=79056830, shuffle=True),\n",
       "             estimator=Pipeline(steps=[(&#x27;rfe&#x27;,\n",
       "                                        RFE(estimator=LogisticRegression(random_state=79056830))),\n",
       "                                       (&#x27;sgd&#x27;,\n",
       "                                        SGDClassifier(random_state=79056830))]),\n",
       "             n_jobs=-1,\n",
       "             param_grid=[{&#x27;rfe__estimator&#x27;: [LogisticRegression(random_state=79056830)],\n",
       "                          &#x27;rfe__importance_getter&#x27;: [&#x27;auto&#x27;],\n",
       "                          &#x27;rfe__n_feature...\n",
       "                         {&#x27;rfe__estimator&#x27;: [RandomForestClassifier(random_state=79056830)],\n",
       "                          &#x27;rfe__importance_getter&#x27;: [&#x27;auto&#x27;],\n",
       "                          &#x27;rfe__n_features_to_select&#x27;: [1, 2, 3, 4, 5, 6],\n",
       "                          &#x27;sgd__alpha&#x27;: [1e-05, 0.0001, 0.001, 0.01, 0.1],\n",
       "                          &#x27;sgd__learning_rate&#x27;: [&#x27;optimal&#x27;],\n",
       "                          &#x27;sgd__loss&#x27;: [&#x27;hinge&#x27;, &#x27;log_loss&#x27;, &#x27;modified_huber&#x27;],\n",
       "                          &#x27;sgd__max_iter&#x27;: [100, 1000, 10000, 100000],\n",
       "                          &#x27;sgd__penalty&#x27;: [&#x27;l2&#x27;, &#x27;l1&#x27;, &#x27;elasticnet&#x27;]}],\n",
       "             verbose=1)</pre></div></div></div><div class=\"sk-parallel\"><div class=\"sk-parallel-item\"><div class=\"sk-item\"><div class=\"sk-label-container\"><div class=\"sk-label sk-toggleable\"><input class=\"sk-toggleable__control sk-hidden--visually\" id=\"sk-estimator-id-2\" type=\"checkbox\" ><label for=\"sk-estimator-id-2\" class=\"sk-toggleable__label sk-toggleable__label-arrow\">estimator: Pipeline</label><div class=\"sk-toggleable__content\"><pre>Pipeline(steps=[(&#x27;rfe&#x27;,\n",
       "                 RFE(estimator=LogisticRegression(random_state=79056830))),\n",
       "                (&#x27;sgd&#x27;, SGDClassifier(random_state=79056830))])</pre></div></div></div><div class=\"sk-serial\"><div class=\"sk-item\"><div class=\"sk-serial\"><div class=\"sk-item sk-dashed-wrapped\"><div class=\"sk-label-container\"><div class=\"sk-label sk-toggleable\"><input class=\"sk-toggleable__control sk-hidden--visually\" id=\"sk-estimator-id-3\" type=\"checkbox\" ><label for=\"sk-estimator-id-3\" class=\"sk-toggleable__label sk-toggleable__label-arrow\">rfe: RFE</label><div class=\"sk-toggleable__content\"><pre>RFE(estimator=LogisticRegression(random_state=79056830))</pre></div></div></div><div class=\"sk-parallel\"><div class=\"sk-parallel-item\"><div class=\"sk-item\"><div class=\"sk-label-container\"><div class=\"sk-label sk-toggleable\"><input class=\"sk-toggleable__control sk-hidden--visually\" id=\"sk-estimator-id-4\" type=\"checkbox\" ><label for=\"sk-estimator-id-4\" class=\"sk-toggleable__label sk-toggleable__label-arrow\">estimator: LogisticRegression</label><div class=\"sk-toggleable__content\"><pre>LogisticRegression(random_state=79056830)</pre></div></div></div><div class=\"sk-serial\"><div class=\"sk-item\"><div class=\"sk-estimator sk-toggleable\"><input class=\"sk-toggleable__control sk-hidden--visually\" id=\"sk-estimator-id-5\" type=\"checkbox\" ><label for=\"sk-estimator-id-5\" class=\"sk-toggleable__label sk-toggleable__label-arrow\">LogisticRegression</label><div class=\"sk-toggleable__content\"><pre>LogisticRegression(random_state=79056830)</pre></div></div></div></div></div></div></div></div><div class=\"sk-item\"><div class=\"sk-estimator sk-toggleable\"><input class=\"sk-toggleable__control sk-hidden--visually\" id=\"sk-estimator-id-6\" type=\"checkbox\" ><label for=\"sk-estimator-id-6\" class=\"sk-toggleable__label sk-toggleable__label-arrow\">SGDClassifier</label><div class=\"sk-toggleable__content\"><pre>SGDClassifier(random_state=79056830)</pre></div></div></div></div></div></div></div></div></div></div></div></div>"
      ],
      "text/plain": [
       "GridSearchCV(cv=StratifiedKFold(n_splits=5, random_state=79056830, shuffle=True),\n",
       "             estimator=Pipeline(steps=[('rfe',\n",
       "                                        RFE(estimator=LogisticRegression(random_state=79056830))),\n",
       "                                       ('sgd',\n",
       "                                        SGDClassifier(random_state=79056830))]),\n",
       "             n_jobs=-1,\n",
       "             param_grid=[{'rfe__estimator': [LogisticRegression(random_state=79056830)],\n",
       "                          'rfe__importance_getter': ['auto'],\n",
       "                          'rfe__n_feature...\n",
       "                         {'rfe__estimator': [RandomForestClassifier(random_state=79056830)],\n",
       "                          'rfe__importance_getter': ['auto'],\n",
       "                          'rfe__n_features_to_select': [1, 2, 3, 4, 5, 6],\n",
       "                          'sgd__alpha': [1e-05, 0.0001, 0.001, 0.01, 0.1],\n",
       "                          'sgd__learning_rate': ['optimal'],\n",
       "                          'sgd__loss': ['hinge', 'log_loss', 'modified_huber'],\n",
       "                          'sgd__max_iter': [100, 1000, 10000, 100000],\n",
       "                          'sgd__penalty': ['l2', 'l1', 'elasticnet']}],\n",
       "             verbose=1)"
      ]
     },
     "execution_count": 54,
     "metadata": {},
     "output_type": "execute_result"
    }
   ],
   "source": [
    "# specifying the k-fold so that we can control the randomness\n",
    "stratified_k_fold=StratifiedKFold(n_splits=5,\n",
    "                                 random_state=seed,\n",
    "                                 shuffle=True)\n",
    "\n",
    "estimators=[\n",
    "    ('rfe',RFE(estimator=LogisticRegression(random_state=seed))),\n",
    "    ('sgd',SGDClassifier(random_state=seed))]\n",
    "\n",
    "pipeline = Pipeline(estimators)\n",
    "\n",
    "param_grid = [\n",
    "    {\n",
    "        'rfe__n_features_to_select': list(np.arange(1, 7)),\n",
    "        'rfe__importance_getter': ['feature_importances_','auto'],\n",
    "        'sgd__max_iter': list(np.logspace(2, 5, 4).astype('int')),\n",
    "        'sgd__alpha': list(np.logspace(-5, -1, 5)),\n",
    "        'sgd__loss': ['hinge', 'log_loss', 'modified_huber'],\n",
    "        'sgd__penalty': ['l2', 'l1', 'elasticnet'],\n",
    "        'sgd__learning_rate': ['optimal'],\n",
    "        'rfe__estimator': [LogisticRegression(random_state=seed)],\n",
    "        'rfe__importance_getter': ['auto']\n",
    "    },\n",
    "    {\n",
    "        'rfe__n_features_to_select': list(np.arange(1, 7)),\n",
    "        'sgd__max_iter': list(np.logspace(2, 5, 4).astype('int')),\n",
    "        'sgd__alpha': list(np.logspace(-5, -1, 5)),\n",
    "        'sgd__loss': ['hinge', 'log_loss', 'modified_huber'],\n",
    "        'sgd__penalty': ['l2', 'l1', 'elasticnet'],\n",
    "        'sgd__learning_rate': ['optimal'],\n",
    "        'rfe__estimator': [RandomForestClassifier(random_state=seed)],\n",
    "        'rfe__importance_getter': ['auto']\n",
    "    }\n",
    "]\n",
    "\n",
    "# perform grid search with cross-validation\n",
    "grid_search = GridSearchCV(pipeline,\n",
    "                           param_grid,\n",
    "                           cv=stratified_k_fold,\n",
    "                           verbose=1,\n",
    "                           n_jobs=-1)\n",
    "\n",
    "# note that this is now on the categorical\n",
    "# X_train and y_train, not OHE'd data\n",
    "grid_search.fit(X_train_cat, y_train_cat)"
   ]
  },
  {
   "cell_type": "code",
   "execution_count": 55,
   "id": "359e5173-d50d-44f3-95cc-3bd8ee1e2380",
   "metadata": {},
   "outputs": [
    {
     "name": "stdout",
     "output_type": "stream",
     "text": [
      "2024-05-31 08:45:12.632571\n"
     ]
    },
    {
     "data": {
      "text/plain": [
       "['../joblib/1_gridsearch_rfe_sgd_2024-05-31_08-45-12.pkl']"
      ]
     },
     "execution_count": 55,
     "metadata": {},
     "output_type": "execute_result"
    }
   ],
   "source": [
    "# save trained model to pickle file\n",
    "# but first, get unique datetime tag \n",
    "# to differentiate pickle files\n",
    "from datetime import datetime\n",
    "\n",
    "# get current date and time\n",
    "current_datetime=datetime.now()\n",
    "\n",
    "# print current date and time to check\n",
    "print(current_datetime)\n",
    "\n",
    "# format the datetime for a filename\n",
    "datetime_suffix=current_datetime.strftime(\"%Y-%m-%d_%H-%M-%S\")\n",
    "\n",
    "# create filename with the datetime suffix\n",
    "joblib_file=f'../joblib/1_gridsearch_rfe_sgd_{datetime_suffix}.pkl'\n",
    "\n",
    "# save model\n",
    "joblib.dump(grid_search,joblib_file)"
   ]
  },
  {
   "cell_type": "code",
   "execution_count": 56,
   "id": "d3fe5b79-833b-4b2c-842b-396d7fe9ddd7",
   "metadata": {},
   "outputs": [],
   "source": [
    "# load model\n",
    "joblib_file=f'../joblib/1_gridsearch_rfe_sgd_{datetime_suffix}.pkl'\n",
    "loaded_grid_search=joblib.load(joblib_file)"
   ]
  },
  {
   "cell_type": "code",
   "execution_count": 57,
   "id": "fff56066-1996-410f-a683-341c04b4ec37",
   "metadata": {},
   "outputs": [
    {
     "name": "stdout",
     "output_type": "stream",
     "text": [
      "best score: 0.67\n",
      "best parameters: {'rfe__estimator': LogisticRegression(random_state=79056830), 'rfe__importance_getter': 'auto', 'rfe__n_features_to_select': 3, 'sgd__alpha': 0.1, 'sgd__learning_rate': 'optimal', 'sgd__loss': 'hinge', 'sgd__max_iter': 100, 'sgd__penalty': 'elasticnet'}\n"
     ]
    }
   ],
   "source": [
    "# best score\n",
    "print(f\"best score: {loaded_grid_search.best_score_}\")\n",
    "\n",
    "# best parameters \n",
    "print(f\"best parameters: {loaded_grid_search.best_params_}\")"
   ]
  },
  {
   "cell_type": "code",
   "execution_count": 58,
   "id": "605b5af8-6ab1-4f56-923c-ed9321f8c17e",
   "metadata": {},
   "outputs": [
    {
     "name": "stdout",
     "output_type": "stream",
     "text": [
      "Test Accuracy: 0.5769230769230769\n",
      "Precision:     0.5714285714285714\n",
      "Recall:        0.8571428571428571\n",
      "F1 Score:      0.6857142857142857\n"
     ]
    }
   ],
   "source": [
    "# Make predictions on the test set using the best model\n",
    "y_pred_cat = loaded_grid_search.best_estimator_.predict(X_test_cat)\n",
    "\n",
    "# Calculate and print the evaluation metrics\n",
    "metrics = {\n",
    "    'accuracy': accuracy_score(y_test_cat, y_pred_cat),\n",
    "    'precision': precision_score(y_test_cat, y_pred_cat),\n",
    "    'recall': recall_score(y_test_cat, y_pred_cat),\n",
    "    'f1': f1_score(y_test_cat, y_pred_cat)\n",
    "}\n",
    "\n",
    "print(\"Test Accuracy:\", metrics['accuracy'])\n",
    "print(\"Precision:    \", metrics['precision'])\n",
    "print(\"Recall:       \", metrics['recall'])\n",
    "print(\"F1 Score:     \", metrics['f1'])"
   ]
  },
  {
   "cell_type": "markdown",
   "id": "3ea75361-d0b6-4b41-b5ab-ce045be2f8ec",
   "metadata": {},
   "source": [
    "Not a great accuracy result."
   ]
  },
  {
   "cell_type": "markdown",
   "id": "00a2601a-0ae6-44a9-a413-2cae2b3ca207",
   "metadata": {},
   "source": [
    "##### Extracting the most important features from the dataset: <a name='rfe_notohe'></a>"
   ]
  },
  {
   "cell_type": "code",
   "execution_count": 62,
   "id": "66ce381d-50f4-431e-a7b5-a581e2adb14e",
   "metadata": {},
   "outputs": [
    {
     "name": "stdout",
     "output_type": "stream",
     "text": [
      "The top features that are most important:\n",
      "Index(['a_time', 'b_contents', 'e_courier'], dtype='object')\n"
     ]
    },
    {
     "data": {
      "text/html": [
       "<div>\n",
       "<style scoped>\n",
       "    .dataframe tbody tr th:only-of-type {\n",
       "        vertical-align: middle;\n",
       "    }\n",
       "\n",
       "    .dataframe tbody tr th {\n",
       "        vertical-align: top;\n",
       "    }\n",
       "\n",
       "    .dataframe thead th {\n",
       "        text-align: right;\n",
       "    }\n",
       "</style>\n",
       "<table border=\"1\" class=\"dataframe\">\n",
       "  <thead>\n",
       "    <tr style=\"text-align: right;\">\n",
       "      <th></th>\n",
       "      <th>Feature</th>\n",
       "      <th>Ranking</th>\n",
       "    </tr>\n",
       "  </thead>\n",
       "  <tbody>\n",
       "    <tr>\n",
       "      <th>0</th>\n",
       "      <td>a_time</td>\n",
       "      <td>1</td>\n",
       "    </tr>\n",
       "    <tr>\n",
       "      <th>1</th>\n",
       "      <td>b_contents</td>\n",
       "      <td>1</td>\n",
       "    </tr>\n",
       "    <tr>\n",
       "      <th>4</th>\n",
       "      <td>e_courier</td>\n",
       "      <td>1</td>\n",
       "    </tr>\n",
       "    <tr>\n",
       "      <th>5</th>\n",
       "      <td>f_app</td>\n",
       "      <td>2</td>\n",
       "    </tr>\n",
       "    <tr>\n",
       "      <th>2</th>\n",
       "      <td>c_complete</td>\n",
       "      <td>3</td>\n",
       "    </tr>\n",
       "    <tr>\n",
       "      <th>3</th>\n",
       "      <td>d_price</td>\n",
       "      <td>4</td>\n",
       "    </tr>\n",
       "  </tbody>\n",
       "</table>\n",
       "</div>"
      ],
      "text/plain": [
       "      Feature  Ranking\n",
       "0      a_time        1\n",
       "1  b_contents        1\n",
       "4   e_courier        1\n",
       "5       f_app        2\n",
       "2  c_complete        3\n",
       "3     d_price        4"
      ]
     },
     "execution_count": 62,
     "metadata": {},
     "output_type": "execute_result"
    }
   ],
   "source": [
    "# get best estimator from grid search\n",
    "best_estimator=loaded_grid_search.best_estimator_\n",
    "\n",
    "# access RFE transformer within pipeline\n",
    "rfe=best_estimator.named_steps['rfe']\n",
    "\n",
    "# get selected features\n",
    "selected_features_indices=rfe.support_\n",
    "\n",
    "# extract names of selected features\n",
    "selected_features=X_train_cat.columns[selected_features_indices]\n",
    "\n",
    "print(f\"The top features that are most important:\\n{selected_features}\")\n",
    "\n",
    "# obtain ranking of features\n",
    "feature_ranking=rfe.ranking_\n",
    "\n",
    "# feature names\n",
    "feature_names=X_train_cat.columns\n",
    "\n",
    "# create dataframe datetime_suffixture names and rankings\n",
    "feature_ranking_df_cat=pd.DataFrame({'Feature': feature_names,\n",
    "                                 'Ranking': feature_ranking})\n",
    "\n",
    "feature_ranking_df_cat=feature_ranking_df_cat.sort_values(by='Ranking')\n",
    "\n",
    "feature_ranking_df_cat"
   ]
  },
  {
   "cell_type": "code",
   "execution_count": 61,
   "id": "a4151f18-7608-4e3d-814a-9d5c6e0e68b0",
   "metadata": {},
   "outputs": [],
   "source": [
    "# save feature rankings\n",
    "feature_ranking_df_cat.to_csv('../data/1_feature_ranking_df_cat_20240531.csv')"
   ]
  },
  {
   "cell_type": "markdown",
   "id": "644fad59-9978-460b-88de-7767ca5f5cca",
   "metadata": {},
   "source": [
    "This feature ranking is a lot easier to understand. Here, we can see that time, contents, and the performance of the courier are most important for this iteration of the model. Interestingly, price is not an important predictor."
   ]
  },
  {
   "cell_type": "markdown",
   "id": "70c3cb1b-6c3e-4e42-8223-a32d21a321ef",
   "metadata": {},
   "source": [
    "#### Final pipeline/grid search with thresholded data <a name='thresholded_grid'></a>"
   ]
  },
  {
   "cell_type": "code",
   "execution_count": 26,
   "id": "75ce0038-c1fa-4ae4-b99e-5426843ac841",
   "metadata": {},
   "outputs": [
    {
     "data": {
      "text/html": [
       "<div>\n",
       "<style scoped>\n",
       "    .dataframe tbody tr th:only-of-type {\n",
       "        vertical-align: middle;\n",
       "    }\n",
       "\n",
       "    .dataframe tbody tr th {\n",
       "        vertical-align: top;\n",
       "    }\n",
       "\n",
       "    .dataframe thead th {\n",
       "        text-align: right;\n",
       "    }\n",
       "</style>\n",
       "<table border=\"1\" class=\"dataframe\">\n",
       "  <thead>\n",
       "    <tr style=\"text-align: right;\">\n",
       "      <th></th>\n",
       "      <th>a_time</th>\n",
       "      <th>b_contents</th>\n",
       "      <th>c_complete</th>\n",
       "      <th>d_price</th>\n",
       "      <th>e_courier</th>\n",
       "      <th>f_app</th>\n",
       "    </tr>\n",
       "  </thead>\n",
       "  <tbody>\n",
       "    <tr>\n",
       "      <th>0</th>\n",
       "      <td>0</td>\n",
       "      <td>0</td>\n",
       "      <td>0</td>\n",
       "      <td>1</td>\n",
       "      <td>0</td>\n",
       "      <td>1</td>\n",
       "    </tr>\n",
       "    <tr>\n",
       "      <th>1</th>\n",
       "      <td>0</td>\n",
       "      <td>0</td>\n",
       "      <td>0</td>\n",
       "      <td>1</td>\n",
       "      <td>1</td>\n",
       "      <td>0</td>\n",
       "    </tr>\n",
       "    <tr>\n",
       "      <th>2</th>\n",
       "      <td>1</td>\n",
       "      <td>0</td>\n",
       "      <td>0</td>\n",
       "      <td>0</td>\n",
       "      <td>0</td>\n",
       "      <td>1</td>\n",
       "    </tr>\n",
       "  </tbody>\n",
       "</table>\n",
       "</div>"
      ],
      "text/plain": [
       "   a_time  b_contents  c_complete  d_price  e_courier  f_app\n",
       "0       0           0           0        1          0      1\n",
       "1       0           0           0        1          1      0\n",
       "2       1           0           0        0          0      1"
      ]
     },
     "execution_count": 26,
     "metadata": {},
     "output_type": "execute_result"
    }
   ],
   "source": [
    "# define thresholding function\n",
    "# if the person scored a category as a 4 or 5,\n",
    "# we give a value of 1. Otherwise, we give it a 0\n",
    "threshold_func = lambda x: 1 if x >= 4 else 0\n",
    "\n",
    "# apply the function to the dataframe\n",
    "X_threshold = X.applymap(threshold_func)\n",
    "X_threshold.head(3)"
   ]
  },
  {
   "cell_type": "code",
   "execution_count": 28,
   "id": "db5046b0-eaac-47cb-aa85-0ccdbebbbd98",
   "metadata": {},
   "outputs": [],
   "source": [
    "# train/test split\n",
    "X_train_threshold, \\\n",
    "X_test_threshold, \\\n",
    "y_train_threshold, \\\n",
    "y_test_threshold = train_test_split(X_threshold, \n",
    "                          y, \n",
    "                          test_size=0.2, \n",
    "                          stratify=y,\n",
    "                          random_state=seed)"
   ]
  },
  {
   "cell_type": "code",
   "execution_count": 29,
   "id": "006253ba-0097-456f-94ae-a9f21ec853d7",
   "metadata": {},
   "outputs": [
    {
     "data": {
      "text/plain": [
       "(100, 6)"
      ]
     },
     "execution_count": 29,
     "metadata": {},
     "output_type": "execute_result"
    }
   ],
   "source": [
    "X_train_threshold.shape"
   ]
  },
  {
   "cell_type": "code",
   "execution_count": 30,
   "id": "b6678966-5d35-4e96-a449-d77c7084e87f",
   "metadata": {},
   "outputs": [
    {
     "data": {
      "text/html": [
       "<div>\n",
       "<style scoped>\n",
       "    .dataframe tbody tr th:only-of-type {\n",
       "        vertical-align: middle;\n",
       "    }\n",
       "\n",
       "    .dataframe tbody tr th {\n",
       "        vertical-align: top;\n",
       "    }\n",
       "\n",
       "    .dataframe thead th {\n",
       "        text-align: right;\n",
       "    }\n",
       "</style>\n",
       "<table border=\"1\" class=\"dataframe\">\n",
       "  <thead>\n",
       "    <tr style=\"text-align: right;\">\n",
       "      <th></th>\n",
       "      <th>a_time</th>\n",
       "      <th>b_contents</th>\n",
       "      <th>c_complete</th>\n",
       "      <th>d_price</th>\n",
       "      <th>e_courier</th>\n",
       "      <th>f_app</th>\n",
       "    </tr>\n",
       "  </thead>\n",
       "  <tbody>\n",
       "    <tr>\n",
       "      <th>74</th>\n",
       "      <td>1</td>\n",
       "      <td>0</td>\n",
       "      <td>1</td>\n",
       "      <td>1</td>\n",
       "      <td>1</td>\n",
       "      <td>1</td>\n",
       "    </tr>\n",
       "    <tr>\n",
       "      <th>121</th>\n",
       "      <td>1</td>\n",
       "      <td>0</td>\n",
       "      <td>0</td>\n",
       "      <td>1</td>\n",
       "      <td>1</td>\n",
       "      <td>0</td>\n",
       "    </tr>\n",
       "    <tr>\n",
       "      <th>65</th>\n",
       "      <td>1</td>\n",
       "      <td>0</td>\n",
       "      <td>0</td>\n",
       "      <td>1</td>\n",
       "      <td>1</td>\n",
       "      <td>1</td>\n",
       "    </tr>\n",
       "  </tbody>\n",
       "</table>\n",
       "</div>"
      ],
      "text/plain": [
       "     a_time  b_contents  c_complete  d_price  e_courier  f_app\n",
       "74        1           0           1        1          1      1\n",
       "121       1           0           0        1          1      0\n",
       "65        1           0           0        1          1      1"
      ]
     },
     "execution_count": 30,
     "metadata": {},
     "output_type": "execute_result"
    }
   ],
   "source": [
    "X_train_threshold.head(3)"
   ]
  },
  {
   "cell_type": "code",
   "execution_count": 87,
   "id": "f557122d-0fa7-4c00-99fe-a2a882ae151b",
   "metadata": {},
   "outputs": [
    {
     "name": "stdout",
     "output_type": "stream",
     "text": [
      "Fitting 5 folds for each of 2160 candidates, totalling 10800 fits\n"
     ]
    },
    {
     "data": {
      "text/html": [
       "<style>#sk-container-id-2 {color: black;background-color: white;}#sk-container-id-2 pre{padding: 0;}#sk-container-id-2 div.sk-toggleable {background-color: white;}#sk-container-id-2 label.sk-toggleable__label {cursor: pointer;display: block;width: 100%;margin-bottom: 0;padding: 0.3em;box-sizing: border-box;text-align: center;}#sk-container-id-2 label.sk-toggleable__label-arrow:before {content: \"▸\";float: left;margin-right: 0.25em;color: #696969;}#sk-container-id-2 label.sk-toggleable__label-arrow:hover:before {color: black;}#sk-container-id-2 div.sk-estimator:hover label.sk-toggleable__label-arrow:before {color: black;}#sk-container-id-2 div.sk-toggleable__content {max-height: 0;max-width: 0;overflow: hidden;text-align: left;background-color: #f0f8ff;}#sk-container-id-2 div.sk-toggleable__content pre {margin: 0.2em;color: black;border-radius: 0.25em;background-color: #f0f8ff;}#sk-container-id-2 input.sk-toggleable__control:checked~div.sk-toggleable__content {max-height: 200px;max-width: 100%;overflow: auto;}#sk-container-id-2 input.sk-toggleable__control:checked~label.sk-toggleable__label-arrow:before {content: \"▾\";}#sk-container-id-2 div.sk-estimator input.sk-toggleable__control:checked~label.sk-toggleable__label {background-color: #d4ebff;}#sk-container-id-2 div.sk-label input.sk-toggleable__control:checked~label.sk-toggleable__label {background-color: #d4ebff;}#sk-container-id-2 input.sk-hidden--visually {border: 0;clip: rect(1px 1px 1px 1px);clip: rect(1px, 1px, 1px, 1px);height: 1px;margin: -1px;overflow: hidden;padding: 0;position: absolute;width: 1px;}#sk-container-id-2 div.sk-estimator {font-family: monospace;background-color: #f0f8ff;border: 1px dotted black;border-radius: 0.25em;box-sizing: border-box;margin-bottom: 0.5em;}#sk-container-id-2 div.sk-estimator:hover {background-color: #d4ebff;}#sk-container-id-2 div.sk-parallel-item::after {content: \"\";width: 100%;border-bottom: 1px solid gray;flex-grow: 1;}#sk-container-id-2 div.sk-label:hover label.sk-toggleable__label {background-color: #d4ebff;}#sk-container-id-2 div.sk-serial::before {content: \"\";position: absolute;border-left: 1px solid gray;box-sizing: border-box;top: 0;bottom: 0;left: 50%;z-index: 0;}#sk-container-id-2 div.sk-serial {display: flex;flex-direction: column;align-items: center;background-color: white;padding-right: 0.2em;padding-left: 0.2em;position: relative;}#sk-container-id-2 div.sk-item {position: relative;z-index: 1;}#sk-container-id-2 div.sk-parallel {display: flex;align-items: stretch;justify-content: center;background-color: white;position: relative;}#sk-container-id-2 div.sk-item::before, #sk-container-id-2 div.sk-parallel-item::before {content: \"\";position: absolute;border-left: 1px solid gray;box-sizing: border-box;top: 0;bottom: 0;left: 50%;z-index: -1;}#sk-container-id-2 div.sk-parallel-item {display: flex;flex-direction: column;z-index: 1;position: relative;background-color: white;}#sk-container-id-2 div.sk-parallel-item:first-child::after {align-self: flex-end;width: 50%;}#sk-container-id-2 div.sk-parallel-item:last-child::after {align-self: flex-start;width: 50%;}#sk-container-id-2 div.sk-parallel-item:only-child::after {width: 0;}#sk-container-id-2 div.sk-dashed-wrapped {border: 1px dashed gray;margin: 0 0.4em 0.5em 0.4em;box-sizing: border-box;padding-bottom: 0.4em;background-color: white;}#sk-container-id-2 div.sk-label label {font-family: monospace;font-weight: bold;display: inline-block;line-height: 1.2em;}#sk-container-id-2 div.sk-label-container {text-align: center;}#sk-container-id-2 div.sk-container {/* jupyter's `normalize.less` sets `[hidden] { display: none; }` but bootstrap.min.css set `[hidden] { display: none !important; }` so we also need the `!important` here to be able to override the default hidden behavior on the sphinx rendered scikit-learn.org. See: https://github.com/scikit-learn/scikit-learn/issues/21755 */display: inline-block !important;position: relative;}#sk-container-id-2 div.sk-text-repr-fallback {display: none;}</style><div id=\"sk-container-id-2\" class=\"sk-top-container\"><div class=\"sk-text-repr-fallback\"><pre>GridSearchCV(cv=StratifiedKFold(n_splits=5, random_state=79056830, shuffle=True),\n",
       "             estimator=Pipeline(steps=[(&#x27;rfe&#x27;,\n",
       "                                        RFE(estimator=LogisticRegression(random_state=79056830))),\n",
       "                                       (&#x27;sgd&#x27;,\n",
       "                                        SGDClassifier(random_state=79056830))]),\n",
       "             n_jobs=-1,\n",
       "             param_grid=[{&#x27;rfe__estimator&#x27;: [LogisticRegression(random_state=79056830)],\n",
       "                          &#x27;rfe__importance_getter&#x27;: [&#x27;auto&#x27;],\n",
       "                          &#x27;rfe__n_feature...\n",
       "                         {&#x27;rfe__estimator&#x27;: [RandomForestClassifier(random_state=79056830)],\n",
       "                          &#x27;rfe__importance_getter&#x27;: [&#x27;auto&#x27;],\n",
       "                          &#x27;rfe__n_features_to_select&#x27;: [1, 2, 3, 4, 5, 6],\n",
       "                          &#x27;sgd__alpha&#x27;: [1e-05, 0.0001, 0.001, 0.01, 0.1],\n",
       "                          &#x27;sgd__learning_rate&#x27;: [&#x27;optimal&#x27;],\n",
       "                          &#x27;sgd__loss&#x27;: [&#x27;hinge&#x27;, &#x27;log_loss&#x27;, &#x27;modified_huber&#x27;],\n",
       "                          &#x27;sgd__max_iter&#x27;: [100, 1000, 10000, 100000],\n",
       "                          &#x27;sgd__penalty&#x27;: [&#x27;l2&#x27;, &#x27;l1&#x27;, &#x27;elasticnet&#x27;]}],\n",
       "             verbose=1)</pre><b>In a Jupyter environment, please rerun this cell to show the HTML representation or trust the notebook. <br />On GitHub, the HTML representation is unable to render, please try loading this page with nbviewer.org.</b></div><div class=\"sk-container\" hidden><div class=\"sk-item sk-dashed-wrapped\"><div class=\"sk-label-container\"><div class=\"sk-label sk-toggleable\"><input class=\"sk-toggleable__control sk-hidden--visually\" id=\"sk-estimator-id-7\" type=\"checkbox\" ><label for=\"sk-estimator-id-7\" class=\"sk-toggleable__label sk-toggleable__label-arrow\">GridSearchCV</label><div class=\"sk-toggleable__content\"><pre>GridSearchCV(cv=StratifiedKFold(n_splits=5, random_state=79056830, shuffle=True),\n",
       "             estimator=Pipeline(steps=[(&#x27;rfe&#x27;,\n",
       "                                        RFE(estimator=LogisticRegression(random_state=79056830))),\n",
       "                                       (&#x27;sgd&#x27;,\n",
       "                                        SGDClassifier(random_state=79056830))]),\n",
       "             n_jobs=-1,\n",
       "             param_grid=[{&#x27;rfe__estimator&#x27;: [LogisticRegression(random_state=79056830)],\n",
       "                          &#x27;rfe__importance_getter&#x27;: [&#x27;auto&#x27;],\n",
       "                          &#x27;rfe__n_feature...\n",
       "                         {&#x27;rfe__estimator&#x27;: [RandomForestClassifier(random_state=79056830)],\n",
       "                          &#x27;rfe__importance_getter&#x27;: [&#x27;auto&#x27;],\n",
       "                          &#x27;rfe__n_features_to_select&#x27;: [1, 2, 3, 4, 5, 6],\n",
       "                          &#x27;sgd__alpha&#x27;: [1e-05, 0.0001, 0.001, 0.01, 0.1],\n",
       "                          &#x27;sgd__learning_rate&#x27;: [&#x27;optimal&#x27;],\n",
       "                          &#x27;sgd__loss&#x27;: [&#x27;hinge&#x27;, &#x27;log_loss&#x27;, &#x27;modified_huber&#x27;],\n",
       "                          &#x27;sgd__max_iter&#x27;: [100, 1000, 10000, 100000],\n",
       "                          &#x27;sgd__penalty&#x27;: [&#x27;l2&#x27;, &#x27;l1&#x27;, &#x27;elasticnet&#x27;]}],\n",
       "             verbose=1)</pre></div></div></div><div class=\"sk-parallel\"><div class=\"sk-parallel-item\"><div class=\"sk-item\"><div class=\"sk-label-container\"><div class=\"sk-label sk-toggleable\"><input class=\"sk-toggleable__control sk-hidden--visually\" id=\"sk-estimator-id-8\" type=\"checkbox\" ><label for=\"sk-estimator-id-8\" class=\"sk-toggleable__label sk-toggleable__label-arrow\">estimator: Pipeline</label><div class=\"sk-toggleable__content\"><pre>Pipeline(steps=[(&#x27;rfe&#x27;,\n",
       "                 RFE(estimator=LogisticRegression(random_state=79056830))),\n",
       "                (&#x27;sgd&#x27;, SGDClassifier(random_state=79056830))])</pre></div></div></div><div class=\"sk-serial\"><div class=\"sk-item\"><div class=\"sk-serial\"><div class=\"sk-item sk-dashed-wrapped\"><div class=\"sk-label-container\"><div class=\"sk-label sk-toggleable\"><input class=\"sk-toggleable__control sk-hidden--visually\" id=\"sk-estimator-id-9\" type=\"checkbox\" ><label for=\"sk-estimator-id-9\" class=\"sk-toggleable__label sk-toggleable__label-arrow\">rfe: RFE</label><div class=\"sk-toggleable__content\"><pre>RFE(estimator=LogisticRegression(random_state=79056830))</pre></div></div></div><div class=\"sk-parallel\"><div class=\"sk-parallel-item\"><div class=\"sk-item\"><div class=\"sk-label-container\"><div class=\"sk-label sk-toggleable\"><input class=\"sk-toggleable__control sk-hidden--visually\" id=\"sk-estimator-id-10\" type=\"checkbox\" ><label for=\"sk-estimator-id-10\" class=\"sk-toggleable__label sk-toggleable__label-arrow\">estimator: LogisticRegression</label><div class=\"sk-toggleable__content\"><pre>LogisticRegression(random_state=79056830)</pre></div></div></div><div class=\"sk-serial\"><div class=\"sk-item\"><div class=\"sk-estimator sk-toggleable\"><input class=\"sk-toggleable__control sk-hidden--visually\" id=\"sk-estimator-id-11\" type=\"checkbox\" ><label for=\"sk-estimator-id-11\" class=\"sk-toggleable__label sk-toggleable__label-arrow\">LogisticRegression</label><div class=\"sk-toggleable__content\"><pre>LogisticRegression(random_state=79056830)</pre></div></div></div></div></div></div></div></div><div class=\"sk-item\"><div class=\"sk-estimator sk-toggleable\"><input class=\"sk-toggleable__control sk-hidden--visually\" id=\"sk-estimator-id-12\" type=\"checkbox\" ><label for=\"sk-estimator-id-12\" class=\"sk-toggleable__label sk-toggleable__label-arrow\">SGDClassifier</label><div class=\"sk-toggleable__content\"><pre>SGDClassifier(random_state=79056830)</pre></div></div></div></div></div></div></div></div></div></div></div></div>"
      ],
      "text/plain": [
       "GridSearchCV(cv=StratifiedKFold(n_splits=5, random_state=79056830, shuffle=True),\n",
       "             estimator=Pipeline(steps=[('rfe',\n",
       "                                        RFE(estimator=LogisticRegression(random_state=79056830))),\n",
       "                                       ('sgd',\n",
       "                                        SGDClassifier(random_state=79056830))]),\n",
       "             n_jobs=-1,\n",
       "             param_grid=[{'rfe__estimator': [LogisticRegression(random_state=79056830)],\n",
       "                          'rfe__importance_getter': ['auto'],\n",
       "                          'rfe__n_feature...\n",
       "                         {'rfe__estimator': [RandomForestClassifier(random_state=79056830)],\n",
       "                          'rfe__importance_getter': ['auto'],\n",
       "                          'rfe__n_features_to_select': [1, 2, 3, 4, 5, 6],\n",
       "                          'sgd__alpha': [1e-05, 0.0001, 0.001, 0.01, 0.1],\n",
       "                          'sgd__learning_rate': ['optimal'],\n",
       "                          'sgd__loss': ['hinge', 'log_loss', 'modified_huber'],\n",
       "                          'sgd__max_iter': [100, 1000, 10000, 100000],\n",
       "                          'sgd__penalty': ['l2', 'l1', 'elasticnet']}],\n",
       "             verbose=1)"
      ]
     },
     "execution_count": 87,
     "metadata": {},
     "output_type": "execute_result"
    }
   ],
   "source": [
    "# specifying the k-fold so that we can control the randomness\n",
    "stratified_k_fold=StratifiedKFold(n_splits=5,\n",
    "                                 random_state=seed,\n",
    "                                 shuffle=True)\n",
    "\n",
    "estimators=[\n",
    "    ('rfe',RFE(estimator=LogisticRegression(random_state=seed))),\n",
    "    ('sgd',SGDClassifier(random_state=seed))]\n",
    "\n",
    "pipeline = Pipeline(estimators)\n",
    "\n",
    "param_grid = [\n",
    "    {\n",
    "        'rfe__n_features_to_select': list(np.arange(1, 7)),\n",
    "        'rfe__importance_getter': ['feature_importances_','auto'],\n",
    "        'sgd__max_iter': list(np.logspace(2, 5, 4).astype('int')),\n",
    "        'sgd__alpha': list(np.logspace(-5, -1, 5)),\n",
    "        'sgd__loss': ['hinge', 'log_loss', 'modified_huber'],\n",
    "        'sgd__penalty': ['l2', 'l1', 'elasticnet'],\n",
    "        'sgd__learning_rate': ['optimal'],\n",
    "        'rfe__estimator': [LogisticRegression(random_state=seed)],\n",
    "        'rfe__importance_getter': ['auto']\n",
    "    },\n",
    "    {\n",
    "        'rfe__n_features_to_select': list(np.arange(1, 7)),\n",
    "        'sgd__max_iter': list(np.logspace(2, 5, 4).astype('int')),\n",
    "        'sgd__alpha': list(np.logspace(-5, -1, 5)),\n",
    "        'sgd__loss': ['hinge', 'log_loss', 'modified_huber'],\n",
    "        'sgd__penalty': ['l2', 'l1', 'elasticnet'],\n",
    "        'sgd__learning_rate': ['optimal'],\n",
    "        'rfe__estimator': [RandomForestClassifier(random_state=seed)],\n",
    "        'rfe__importance_getter': ['auto']\n",
    "    }\n",
    "]\n",
    "\n",
    "# perform grid search with cross-validation\n",
    "grid_search = GridSearchCV(pipeline,\n",
    "                           param_grid,\n",
    "                           cv=stratified_k_fold,\n",
    "                           verbose=1,\n",
    "                           n_jobs=-1)\n",
    "\n",
    "\n",
    "# X_train and y_train on thresholded data\n",
    "grid_search.fit(X_train_threshold, y_train_threshold)"
   ]
  },
  {
   "cell_type": "code",
   "execution_count": 88,
   "id": "354da2b0-c703-4126-97cf-9ec49a6440e9",
   "metadata": {},
   "outputs": [
    {
     "name": "stdout",
     "output_type": "stream",
     "text": [
      "2024-05-31 09:42:23.082348\n"
     ]
    },
    {
     "data": {
      "text/plain": [
       "['../joblib/1_gridsearch_rfe_sgd_threshold_2024-05-31_09-42-23.pkl']"
      ]
     },
     "execution_count": 88,
     "metadata": {},
     "output_type": "execute_result"
    }
   ],
   "source": [
    "# save trained model to pickle file\n",
    "# but first, get unique datetime tag \n",
    "# to differentiate pickle files\n",
    "from datetime import datetime\n",
    "\n",
    "# get current date and time\n",
    "current_datetime=datetime.now()\n",
    "\n",
    "# print current date and time to check\n",
    "print(current_datetime)\n",
    "\n",
    "# format the datetime for a filename\n",
    "datetime_suffix=current_datetime.strftime(\"%Y-%m-%d_%H-%M-%S\")\n",
    "\n",
    "# create filename with the datetime suffix\n",
    "joblib_file=f'../joblib/1_gridsearch_rfe_sgd_threshold_{datetime_suffix}.pkl'\n",
    "\n",
    "# save model\n",
    "joblib.dump(grid_search,joblib_file)"
   ]
  },
  {
   "cell_type": "code",
   "execution_count": 89,
   "id": "1f2dbc5d-440a-469b-a8ea-3582e6067d52",
   "metadata": {},
   "outputs": [],
   "source": [
    "# load model\n",
    "joblib_file=f'../joblib/1_gridsearch_rfe_sgd_threshold_{datetime_suffix}.pkl'\n",
    "loaded_grid_search=joblib.load(joblib_file)"
   ]
  },
  {
   "cell_type": "code",
   "execution_count": 90,
   "id": "8389c607-5986-4f82-a1c7-0f99e2b4e070",
   "metadata": {},
   "outputs": [
    {
     "name": "stdout",
     "output_type": "stream",
     "text": [
      "best score: 0.65\n",
      "best parameters: {'rfe__estimator': RandomForestClassifier(random_state=79056830), 'rfe__importance_getter': 'auto', 'rfe__n_features_to_select': 2, 'sgd__alpha': 0.01, 'sgd__learning_rate': 'optimal', 'sgd__loss': 'log_loss', 'sgd__max_iter': 100, 'sgd__penalty': 'l2'}\n"
     ]
    }
   ],
   "source": [
    "# best score\n",
    "print(f\"best score: {loaded_grid_search.best_score_}\")\n",
    "\n",
    "# best parameters \n",
    "print(f\"best parameters: {loaded_grid_search.best_params_}\")"
   ]
  },
  {
   "cell_type": "code",
   "execution_count": 91,
   "id": "9ac33d85-24e4-4525-9a62-6f2f3b34eb19",
   "metadata": {},
   "outputs": [
    {
     "name": "stdout",
     "output_type": "stream",
     "text": [
      "Test Accuracy: 0.46153846153846156\n",
      "Precision:     0.5\n",
      "Recall:        0.5\n",
      "F1 Score:      0.5\n"
     ]
    }
   ],
   "source": [
    "# Make predictions on the test set using the best model\n",
    "y_pred_threshold = loaded_grid_search.best_estimator_.predict(X_test_threshold)\n",
    "\n",
    "# Calculate and print the evaluation metrics\n",
    "metrics = {\n",
    "    'accuracy': accuracy_score(y_test_threshold, y_pred_threshold),\n",
    "    'precision': precision_score(y_test_threshold, y_pred_threshold),\n",
    "    'recall': recall_score(y_test_threshold, y_pred_threshold),\n",
    "    'f1': f1_score(y_test_threshold, y_pred_threshold)\n",
    "}\n",
    "\n",
    "print(\"Test Accuracy:\", metrics['accuracy'])\n",
    "print(\"Precision:    \", metrics['precision'])\n",
    "print(\"Recall:       \", metrics['recall'])\n",
    "print(\"F1 Score:     \", metrics['f1'])"
   ]
  },
  {
   "cell_type": "markdown",
   "id": "9a9ef4cd-5731-47ab-8e24-ec29806bbee5",
   "metadata": {},
   "source": [
    "Still a pretty dismal accuracy result."
   ]
  },
  {
   "cell_type": "markdown",
   "id": "ba3f86bd-930c-4395-9479-19940a1f2e9c",
   "metadata": {},
   "source": [
    "##### Extracting the most important features from the dataset: <a name='rfe_threshold'></a>"
   ]
  },
  {
   "cell_type": "code",
   "execution_count": 92,
   "id": "8633ef59-c988-4c53-af24-4f1b8cc52c60",
   "metadata": {},
   "outputs": [
    {
     "name": "stdout",
     "output_type": "stream",
     "text": [
      "The top features that are most important:\n",
      "Index(['a_time', 'e_courier'], dtype='object')\n"
     ]
    },
    {
     "data": {
      "text/html": [
       "<div>\n",
       "<style scoped>\n",
       "    .dataframe tbody tr th:only-of-type {\n",
       "        vertical-align: middle;\n",
       "    }\n",
       "\n",
       "    .dataframe tbody tr th {\n",
       "        vertical-align: top;\n",
       "    }\n",
       "\n",
       "    .dataframe thead th {\n",
       "        text-align: right;\n",
       "    }\n",
       "</style>\n",
       "<table border=\"1\" class=\"dataframe\">\n",
       "  <thead>\n",
       "    <tr style=\"text-align: right;\">\n",
       "      <th></th>\n",
       "      <th>Feature</th>\n",
       "      <th>Ranking</th>\n",
       "    </tr>\n",
       "  </thead>\n",
       "  <tbody>\n",
       "    <tr>\n",
       "      <th>0</th>\n",
       "      <td>a_time</td>\n",
       "      <td>1</td>\n",
       "    </tr>\n",
       "    <tr>\n",
       "      <th>1</th>\n",
       "      <td>b_contents</td>\n",
       "      <td>1</td>\n",
       "    </tr>\n",
       "    <tr>\n",
       "      <th>4</th>\n",
       "      <td>e_courier</td>\n",
       "      <td>1</td>\n",
       "    </tr>\n",
       "    <tr>\n",
       "      <th>5</th>\n",
       "      <td>f_app</td>\n",
       "      <td>2</td>\n",
       "    </tr>\n",
       "    <tr>\n",
       "      <th>2</th>\n",
       "      <td>c_complete</td>\n",
       "      <td>3</td>\n",
       "    </tr>\n",
       "    <tr>\n",
       "      <th>3</th>\n",
       "      <td>d_price</td>\n",
       "      <td>4</td>\n",
       "    </tr>\n",
       "  </tbody>\n",
       "</table>\n",
       "</div>"
      ],
      "text/plain": [
       "      Feature  Ranking\n",
       "0      a_time        1\n",
       "1  b_contents        1\n",
       "4   e_courier        1\n",
       "5       f_app        2\n",
       "2  c_complete        3\n",
       "3     d_price        4"
      ]
     },
     "execution_count": 92,
     "metadata": {},
     "output_type": "execute_result"
    }
   ],
   "source": [
    "# get best estimator from grid search\n",
    "best_estimator=loaded_grid_search.best_estimator_\n",
    "\n",
    "# access RFE transformer within pipeline\n",
    "rfe=best_estimator.named_steps['rfe']\n",
    "\n",
    "# get selected features\n",
    "selected_features_indices=rfe.support_\n",
    "\n",
    "# extract names of selected features\n",
    "selected_features=X_train_cat.columns[selected_features_indices]\n",
    "\n",
    "print(f\"The top features that are most important:\\n{selected_features}\")\n",
    "\n",
    "# obtain ranking of features\n",
    "feature_ranking=rfe.ranking_\n",
    "\n",
    "# feature names\n",
    "feature_names=X_train_cat.columns\n",
    "\n",
    "# create dataframe datetime_suffixture names and rankings\n",
    "feature_ranking_df_threshold=pd.DataFrame({'Feature': feature_names,\n",
    "                                 'Ranking': feature_ranking})\n",
    "\n",
    "feature_ranking_df_threshold=feature_ranking_df_cat.sort_values(by='Ranking')\n",
    "\n",
    "feature_ranking_df_threshold"
   ]
  },
  {
   "cell_type": "code",
   "execution_count": 93,
   "id": "a745dcd1-4182-4ae2-90f0-0ddd8f11ead2",
   "metadata": {},
   "outputs": [],
   "source": [
    "# save feature rankings\n",
    "feature_ranking_df_threshold.to_csv('../data/1_feature_ranking_df_threshold_20240531.csv')"
   ]
  },
  {
   "cell_type": "markdown",
   "id": "2314a29f-57de-4512-973f-204dea12434a",
   "metadata": {},
   "source": [
    "This is a promising result, in that the same features are being shown as important here as well as in previous iterations of the pipeline above. `time`, `contents`, and `courier` are equally important, while `app`, `complete`, and `price` are less important."
   ]
  },
  {
   "cell_type": "markdown",
   "id": "0422a138-a51d-45bc-90da-ac7a748b40a0",
   "metadata": {},
   "source": [
    "Our accuracies are not consistent, so we will shift to using the `hyperopt` package to help us arrive at more optimal hyperparameters."
   ]
  },
  {
   "cell_type": "markdown",
   "id": "ef40be09-ecd2-493d-9774-aa5f0564fd6d",
   "metadata": {},
   "source": [
    "### `hyperopt` <a name='hyper'></a>"
   ]
  },
  {
   "cell_type": "markdown",
   "id": "1fad3378-4841-4bea-b40d-234ad5989622",
   "metadata": {},
   "source": [
    "Tutorial is [here](#http://hyperopt.github.io/hyperopt/tutorials/01.BasicTutorial/) and [here](#https://towardsdev.com/optimizing-hyperparameters-with-hyperopt-a-hands-on-tutorial-2839efcbc177?gi=de88b6cfe1cd).  \n",
    "And I'm following examples from [here](#https://github.com/hyperopt/hyperopt-sklearn) and [here](#https://medium.com/district-data-labs/parameter-tuning-with-hyperopt-faa86acdfdce)."
   ]
  },
  {
   "cell_type": "code",
   "execution_count": 8,
   "id": "e96fb511-3e7e-49d5-b404-47ed91f03ebd",
   "metadata": {},
   "outputs": [],
   "source": [
    "import numpy as np\n",
    "import pandas as pd\n",
    "\n",
    "from sklearn import datasets\n",
    "from sklearn.ensemble import ExtraTreesClassifier\n",
    "from sklearn.feature_selection import RFE\n",
    "from sklearn.model_selection import cross_val_score\n",
    "from hyperopt import fmin, tpe, hp, STATUS_OK, Trials\n",
    "from sklearn.model_selection import train_test_split"
   ]
  },
  {
   "cell_type": "code",
   "execution_count": 9,
   "id": "5b410ac0-bace-4958-8c76-5402b553e6f3",
   "metadata": {},
   "outputs": [
    {
     "name": "stdout",
     "output_type": "stream",
     "text": [
      "1574\n"
     ]
    }
   ],
   "source": [
    "# access random seed\n",
    "with open('random_seed.txt','r') as file:\n",
    "    saved_seed=int(file.read())\n",
    "    print(saved_seed)\n",
    "    seed=saved_seed"
   ]
  },
  {
   "cell_type": "code",
   "execution_count": 10,
   "id": "3b94c842-6bc6-4314-a87a-a633b99d79ee",
   "metadata": {},
   "outputs": [],
   "source": [
    "# source:\n",
    "# https://odsc.medium.com/properly-setting-the-random-seed-in-ml-experiments-not-as-simple-as-you-might-imagine-219969c84752\n",
    "\n",
    "# set `PYTHONHASHSEED` environment variable at a fixed value\n",
    "import os\n",
    "os.environ['PYTHONHASHSEED']=str(seed)\n",
    "# set `python` built-in pseudo-random generator at a fixed value\n",
    "import random\n",
    "random.seed(seed)\n",
    "# set `numpy` pseudo-random generator at a fixed value\n",
    "import numpy as np\n",
    "np.random.seed(seed)"
   ]
  },
  {
   "cell_type": "code",
   "execution_count": 11,
   "id": "a30698df-706e-4755-b9ab-825365e054c4",
   "metadata": {},
   "outputs": [
    {
     "name": "stdout",
     "output_type": "stream",
     "text": [
      "X shape: (126, 6)\n",
      "y shape: (126,)\n"
     ]
    }
   ],
   "source": [
    "# read in and setup dataset again\n",
    "\n",
    "df=pd.read_csv('../data/1_data.csv')\n",
    "\n",
    "# renaming columns to preserve order\n",
    "# and make them more intelligible\n",
    "df.rename(columns={'Y':'y',\n",
    "                   'X1':'a_time',\n",
    "                   'X2':'b_contents',\n",
    "                   'X3':'c_complete',\n",
    "                   'X4':'d_price',\n",
    "                   'X5':'e_courier',\n",
    "                   'X6':'f_app'},inplace=True)\n",
    "\n",
    "X=df[[col for col in df.columns if col != 'y']].copy()\n",
    "y=df['y'].copy().astype('int8') # because it's a binary\n",
    "                                # let's use less memory\n",
    "\n",
    "print(\"X shape:\",X.shape)\n",
    "print(\"y shape:\",y.shape)\n",
    "\n",
    "# define thresholding function\n",
    "# if the person scored a category as a 4 or 5,\n",
    "# we give a value of 1. Otherwise, we give it a 0\n",
    "threshold_func = lambda x: 1 if x >= 4 else 0\n",
    "\n",
    "# apply the function to the dataframe\n",
    "X_threshold = X.applymap(threshold_func)\n",
    "X_threshold\n",
    "\n",
    "# train/test split\n",
    "X_train_threshold, \\\n",
    "X_test_threshold, \\\n",
    "y_train_threshold, \\\n",
    "y_test_threshold = train_test_split(X_threshold, \n",
    "                          y, \n",
    "                          test_size=0.2, \n",
    "                          stratify=y,\n",
    "                          random_state=seed)"
   ]
  },
  {
   "cell_type": "code",
   "execution_count": 12,
   "id": "fedde8be-e2da-4abc-97a6-09b82fa54bff",
   "metadata": {},
   "outputs": [
    {
     "data": {
      "text/html": [
       "<div>\n",
       "<style scoped>\n",
       "    .dataframe tbody tr th:only-of-type {\n",
       "        vertical-align: middle;\n",
       "    }\n",
       "\n",
       "    .dataframe tbody tr th {\n",
       "        vertical-align: top;\n",
       "    }\n",
       "\n",
       "    .dataframe thead th {\n",
       "        text-align: right;\n",
       "    }\n",
       "</style>\n",
       "<table border=\"1\" class=\"dataframe\">\n",
       "  <thead>\n",
       "    <tr style=\"text-align: right;\">\n",
       "      <th></th>\n",
       "      <th>a_time</th>\n",
       "      <th>b_contents</th>\n",
       "      <th>c_complete</th>\n",
       "      <th>d_price</th>\n",
       "      <th>e_courier</th>\n",
       "      <th>f_app</th>\n",
       "    </tr>\n",
       "  </thead>\n",
       "  <tbody>\n",
       "    <tr>\n",
       "      <th>0</th>\n",
       "      <td>0</td>\n",
       "      <td>0</td>\n",
       "      <td>0</td>\n",
       "      <td>1</td>\n",
       "      <td>0</td>\n",
       "      <td>1</td>\n",
       "    </tr>\n",
       "    <tr>\n",
       "      <th>1</th>\n",
       "      <td>0</td>\n",
       "      <td>0</td>\n",
       "      <td>0</td>\n",
       "      <td>1</td>\n",
       "      <td>1</td>\n",
       "      <td>0</td>\n",
       "    </tr>\n",
       "    <tr>\n",
       "      <th>2</th>\n",
       "      <td>1</td>\n",
       "      <td>0</td>\n",
       "      <td>0</td>\n",
       "      <td>0</td>\n",
       "      <td>0</td>\n",
       "      <td>1</td>\n",
       "    </tr>\n",
       "  </tbody>\n",
       "</table>\n",
       "</div>"
      ],
      "text/plain": [
       "   a_time  b_contents  c_complete  d_price  e_courier  f_app\n",
       "0       0           0           0        1          0      1\n",
       "1       0           0           0        1          1      0\n",
       "2       1           0           0        0          0      1"
      ]
     },
     "execution_count": 12,
     "metadata": {},
     "output_type": "execute_result"
    }
   ],
   "source": [
    "X_threshold.head(3)"
   ]
  },
  {
   "cell_type": "markdown",
   "id": "f4a848c4-e73a-4434-a405-006fa737a201",
   "metadata": {},
   "source": [
    "#### Notes on `hyperopt` parameters"
   ]
  },
  {
   "cell_type": "markdown",
   "id": "63f6b87e-c10b-48fa-8416-8518303594c2",
   "metadata": {},
   "source": [
    "* Using `RFE` to select which features are most important\n",
    "* `ExtraTreeClassifier` is used as the final model as it gave good results from the `LazyPredict`"
   ]
  },
  {
   "cell_type": "code",
   "execution_count": 27,
   "id": "b591a3ab-9aae-4e50-99ee-d67efd970ea5",
   "metadata": {},
   "outputs": [
    {
     "data": {
      "text/plain": [
       "1574.0"
      ]
     },
     "execution_count": 27,
     "metadata": {},
     "output_type": "execute_result"
    }
   ],
   "source": [
    "test=float(seed)\n",
    "type(test)\n",
    "test"
   ]
  },
  {
   "cell_type": "code",
   "execution_count": 35,
   "id": "a2e6c594-b56c-4445-b57b-b5610719cafa",
   "metadata": {
    "tags": []
   },
   "outputs": [
    {
     "name": "stdout",
     "output_type": "stream",
     "text": [
      "new best:                                                                                     \n",
      "0.484                                                                                         \n",
      "using                                                                                         \n",
      "extratrees                                                                                    \n",
      "new best:                                                                                     \n",
      "0.5076923076923077                                                                            \n",
      "using                                                                                         \n",
      "extratrees                                                                                    \n",
      "new best:                                                                                     \n",
      "0.5636923076923076                                                                            \n",
      "using                                                                                         \n",
      "extratrees                                                                                    \n",
      "new best:                                                                                     \n",
      "0.5876923076923077                                                                            \n",
      "using                                                                                         \n",
      "extratrees                                                                                    \n",
      "iters:                                                                                        \n",
      "25                                                                                            \n",
      ", acc:                                                                                        \n",
      "0.5636923076923076                                                                            \n",
      "using                                                                                         \n",
      "{'criterion': 'entropy', 'max_depth': 14, 'n_estimators': 90, 'n_features_to_select': 3, 'type': 'extratrees'}\n",
      "new best:                                                                                     \n",
      "0.604                                                                                         \n",
      "using                                                                                         \n",
      "extratrees                                                                                    \n",
      "iters:                                                                                        \n",
      "50                                                                                            \n",
      ", acc:                                                                                        \n",
      "0.5156923076923077                                                                            \n",
      "using                                                                                         \n",
      "{'criterion': 'gini', 'max_depth': 6, 'n_estimators': 67, 'n_features_to_select': 3, 'type': 'extratrees'}\n",
      "iters:                                                                                        \n",
      "75                                                                                            \n",
      ", acc:                                                                                        \n",
      "0.5956923076923076                                                                            \n",
      "using                                                                                         \n",
      "{'criterion': 'entropy', 'max_depth': 1, 'n_estimators': 16, 'n_features_to_select': 6, 'type': 'extratrees'}\n",
      "iters:                                                                                        \n",
      "100                                                                                           \n",
      ", acc:                                                                                        \n",
      "0.532                                                                                         \n",
      "using                                                                                         \n",
      "{'criterion': 'gini', 'max_depth': 17, 'n_estimators': 76, 'n_features_to_select': 2, 'type': 'extratrees'}\n",
      "100%|█████████████████████████████████| 100/100 [00:53<00:00,  1.87trial/s, best loss: -0.604]\n",
      "best:\n",
      "{'criterion': 'gini', 'max_depth': 1, 'n_estimators': 34, 'n_features_to_select': 3, 'type': 'extratrees'}\n"
     ]
    }
   ],
   "source": [
    "class HyperoptOptimizer:\n",
    "    def __init__(self, X, y):\n",
    "        self.X = X\n",
    "        self.y = y\n",
    "        self.best = 0\n",
    "        self.count = 0\n",
    "\n",
    "    def hyperopt_train_test(self, params):\n",
    "        # Extract RFE parameters\n",
    "        n_features_to_select = params['n_features_to_select']\n",
    "        del params['n_features_to_select']\n",
    "        \n",
    "        # extract classifier type\n",
    "        t = params['type']\n",
    "        del params['type']\n",
    "        \n",
    "        # define classifier based on type\n",
    "        if t == 'extratrees':\n",
    "            clf = ExtraTreesClassifier(**params)\n",
    "        else:\n",
    "            return 0\n",
    "        \n",
    "        # define RFE with the classifier\n",
    "        rfe = RFE(estimator=clf, \n",
    "                  n_features_to_select=n_features_to_select)\n",
    "        \n",
    "        # perform cross-validation\n",
    "        return cross_val_score(rfe, self.X, self.y).mean()\n",
    "\n",
    "    def objective(self, params):\n",
    "        self.count += 1\n",
    "        acc = self.hyperopt_train_test(params.copy())\n",
    "        if acc > self.best:\n",
    "            print('new best:', acc, 'using', params['type'])\n",
    "            self.best = acc\n",
    "        if self.count % 25 == 0:\n",
    "            print('iters:', self.count, ', acc:', acc, 'using', params)\n",
    "        return {'loss': -acc, 'status': STATUS_OK}\n",
    "\n",
    "# define hyperparameter space\n",
    "space = hp.choice('classifier_type', [\n",
    "    {\n",
    "        'type': 'extratrees',\n",
    "        'n_features_to_select': hp.choice('n_features_to_select', \n",
    "                                          range(1, X.shape[1]+1)),\n",
    "        'n_estimators': hp.choice('n_estimators', range(10, 100)),\n",
    "        'max_depth': hp.choice('max_depth', range(1, 20)),\n",
    "        'criterion': hp.choice('criterion', [\"gini\", \"entropy\"])\n",
    "    }\n",
    "])\n",
    "\n",
    "# instantiate optimizer\n",
    "optimizer = HyperoptOptimizer(X_threshold, y)\n",
    "\n",
    "# initialize trials object\n",
    "trials = Trials()\n",
    "\n",
    "rstate = np.random.default_rng(seed)\n",
    "\n",
    "# run optimization\n",
    "best = fmin(optimizer.objective, \n",
    "            space, \n",
    "            algo=tpe.suggest, \n",
    "            max_evals=100, \n",
    "            trials=trials,\n",
    "            rstate=rstate,\n",
    "            return_argmin=False)\n",
    "print('best:')\n",
    "print(best)"
   ]
  },
  {
   "cell_type": "code",
   "execution_count": 36,
   "id": "95288840-cc07-4675-b416-b23d1b8331be",
   "metadata": {},
   "outputs": [
    {
     "data": {
      "text/plain": [
       "{'state': 2,\n",
       " 'tid': 30,\n",
       " 'spec': None,\n",
       " 'result': {'loss': -0.604, 'status': 'ok'},\n",
       " 'misc': {'tid': 30,\n",
       "  'cmd': ('domain_attachment', 'FMinIter_Domain'),\n",
       "  'workdir': None,\n",
       "  'idxs': {'classifier_type': [30],\n",
       "   'criterion': [30],\n",
       "   'max_depth': [30],\n",
       "   'n_estimators': [30],\n",
       "   'n_features_to_select': [30]},\n",
       "  'vals': {'classifier_type': [0],\n",
       "   'criterion': [0],\n",
       "   'max_depth': [0],\n",
       "   'n_estimators': [24],\n",
       "   'n_features_to_select': [2]}},\n",
       " 'exp_key': None,\n",
       " 'owner': None,\n",
       " 'version': 0,\n",
       " 'book_time': datetime.datetime(2024, 6, 6, 14, 46, 55, 788000),\n",
       " 'refresh_time': datetime.datetime(2024, 6, 6, 14, 46, 56, 167000)}"
      ]
     },
     "execution_count": 36,
     "metadata": {},
     "output_type": "execute_result"
    }
   ],
   "source": [
    "trials.best_trial"
   ]
  },
  {
   "cell_type": "code",
   "execution_count": 39,
   "id": "42bb6791-e5fa-4a4f-811d-3bef0c7b1359",
   "metadata": {},
   "outputs": [
    {
     "data": {
      "text/plain": [
       "{'criterion': 'gini',\n",
       " 'max_depth': 1,\n",
       " 'n_estimators': 34,\n",
       " 'n_features_to_select': 3,\n",
       " 'type': 'extratrees'}"
      ]
     },
     "execution_count": 39,
     "metadata": {},
     "output_type": "execute_result"
    }
   ],
   "source": [
    "best"
   ]
  },
  {
   "cell_type": "code",
   "execution_count": 38,
   "id": "54f76b0f-311d-4e9f-8196-4dda84ca54e4",
   "metadata": {},
   "outputs": [],
   "source": [
    "# Retrieve the best hyperparameters found\n",
    "# optimal_params = {k: v for k, v in best.items() if k in space}"
   ]
  },
  {
   "cell_type": "markdown",
   "id": "c41acf12-4c3f-4300-9492-44f04be3c1d8",
   "metadata": {},
   "source": [
    "Save the best parameters:"
   ]
  },
  {
   "cell_type": "code",
   "execution_count": 125,
   "id": "64204bcf-c9b2-468b-8734-779fad3d6ec2",
   "metadata": {},
   "outputs": [],
   "source": [
    "import json\n",
    "\n",
    "with open('../joblib/1_hyperopt_bestparams_20240603.json','w') as file:\n",
    "    file.write(json.dumps(best,default=str))"
   ]
  },
  {
   "cell_type": "code",
   "execution_count": 126,
   "id": "d23cde0c-cbec-40ca-8694-a347594836d2",
   "metadata": {
    "tags": []
   },
   "outputs": [],
   "source": [
    "# extract best parameters\n",
    "best_params=trials.best_trial"
   ]
  },
  {
   "cell_type": "code",
   "execution_count": 133,
   "id": "a8866838-8e44-411d-9b59-0b291c1f5050",
   "metadata": {},
   "outputs": [],
   "source": [
    "import datetime"
   ]
  },
  {
   "cell_type": "code",
   "execution_count": 134,
   "id": "3cc58161-fd9b-44bb-acae-4f4fa91e8e77",
   "metadata": {},
   "outputs": [],
   "source": [
    "def myconverter(obj):\n",
    "# source: https://stackoverflow.com/questions/50916422/python-typeerror-object-of-type-int64-is-not-json-serializable\n",
    "        if isinstance(obj, np.integer):\n",
    "            return int(obj)\n",
    "        elif isinstance(obj, np.floating):\n",
    "            return float(obj)\n",
    "        elif isinstance(obj, np.ndarray):\n",
    "            return obj.tolist()\n",
    "        elif isinstance(obj, datetime.datetime):\n",
    "            return obj.__str__()"
   ]
  },
  {
   "cell_type": "code",
   "execution_count": 135,
   "id": "17f06540-0e90-4271-803e-e49c0026c200",
   "metadata": {},
   "outputs": [],
   "source": [
    "with open('../joblib/1_hyperopt_bestparams_20240604.json','w') as file:\n",
    "    file.write(json.dumps(best_params,default=myconverter))"
   ]
  },
  {
   "cell_type": "code",
   "execution_count": 146,
   "id": "c2a62988-f781-4227-9abf-33c0de9694ce",
   "metadata": {},
   "outputs": [
    {
     "data": {
      "text/plain": [
       "[1042]"
      ]
     },
     "execution_count": 146,
     "metadata": {},
     "output_type": "execute_result"
    }
   ],
   "source": [
    "best_params['misc']['idxs']['n_features_to_select']"
   ]
  },
  {
   "cell_type": "code",
   "execution_count": 155,
   "id": "936379a0-35ea-4483-abc9-78c9b88f4358",
   "metadata": {},
   "outputs": [
    {
     "ename": "KeyError",
     "evalue": "'model'",
     "output_type": "error",
     "traceback": [
      "\u001b[0;31m---------------------------------------------------------------------------\u001b[0m",
      "\u001b[0;31mKeyError\u001b[0m                                  Traceback (most recent call last)",
      "Cell \u001b[0;32mIn[155], line 1\u001b[0m\n\u001b[0;32m----> 1\u001b[0m best_model \u001b[38;5;241m=\u001b[39m \u001b[43mtrials\u001b[49m\u001b[38;5;241;43m.\u001b[39;49m\u001b[43mresults\u001b[49m\u001b[43m[\u001b[49m\u001b[43mnp\u001b[49m\u001b[38;5;241;43m.\u001b[39;49m\u001b[43margmin\u001b[49m\u001b[43m(\u001b[49m\u001b[43m[\u001b[49m\u001b[43mr\u001b[49m\u001b[43m[\u001b[49m\u001b[38;5;124;43m'\u001b[39;49m\u001b[38;5;124;43mloss\u001b[39;49m\u001b[38;5;124;43m'\u001b[39;49m\u001b[43m]\u001b[49m\u001b[43m \u001b[49m\u001b[38;5;28;43;01mfor\u001b[39;49;00m\u001b[43m \u001b[49m\u001b[43mr\u001b[49m\u001b[43m \u001b[49m\u001b[38;5;129;43;01min\u001b[39;49;00m\u001b[43m \u001b[49m\n\u001b[1;32m      2\u001b[0m \u001b[43m    \u001b[49m\u001b[43mtrials\u001b[49m\u001b[38;5;241;43m.\u001b[39;49m\u001b[43mresults\u001b[49m\u001b[43m]\u001b[49m\u001b[43m)\u001b[49m\u001b[43m]\u001b[49m\u001b[43m[\u001b[49m\u001b[38;5;124;43m'\u001b[39;49m\u001b[38;5;124;43mmodel\u001b[39;49m\u001b[38;5;124;43m'\u001b[39;49m\u001b[43m]\u001b[49m\n\u001b[1;32m      3\u001b[0m best_params \u001b[38;5;241m=\u001b[39m trials\u001b[38;5;241m.\u001b[39mresults[np\u001b[38;5;241m.\u001b[39margmin([r[\u001b[38;5;124m'\u001b[39m\u001b[38;5;124mloss\u001b[39m\u001b[38;5;124m'\u001b[39m] \u001b[38;5;28;01mfor\u001b[39;00m r \u001b[38;5;129;01min\u001b[39;00m \n\u001b[1;32m      4\u001b[0m     trials\u001b[38;5;241m.\u001b[39mresults])][\u001b[38;5;124m'\u001b[39m\u001b[38;5;124mparams\u001b[39m\u001b[38;5;124m'\u001b[39m]\n\u001b[1;32m      5\u001b[0m worst_model \u001b[38;5;241m=\u001b[39m trials\u001b[38;5;241m.\u001b[39mresults[np\u001b[38;5;241m.\u001b[39margmax([r[\u001b[38;5;124m'\u001b[39m\u001b[38;5;124mloss\u001b[39m\u001b[38;5;124m'\u001b[39m] \u001b[38;5;28;01mfor\u001b[39;00m r \u001b[38;5;129;01min\u001b[39;00m \n\u001b[1;32m      6\u001b[0m     trials\u001b[38;5;241m.\u001b[39mresults])][\u001b[38;5;124m'\u001b[39m\u001b[38;5;124mmodel\u001b[39m\u001b[38;5;124m'\u001b[39m]\n",
      "\u001b[0;31mKeyError\u001b[0m: 'model'"
     ]
    }
   ],
   "source": [
    "best_model = trials.results[np.argmin([r['loss'] for r in \n",
    "    trials.results])]['model']\n",
    "best_params = trials.results[np.argmin([r['loss'] for r in \n",
    "    trials.results])]['params']\n",
    "worst_model = trials.results[np.argmax([r['loss'] for r in \n",
    "    trials.results])]['model']\n",
    "worst_params = trials.results[np.argmax([r['loss'] for r in \n",
    "    trials.results])]['params']"
   ]
  },
  {
   "cell_type": "markdown",
   "id": "0ae257f2-4c90-47cb-bbcf-2718c2929010",
   "metadata": {},
   "source": [
    "Run the best parameters on the dataset:"
   ]
  },
  {
   "cell_type": "code",
   "execution_count": 139,
   "id": "846e84d0-3800-4101-9333-640ca8be5e02",
   "metadata": {},
   "outputs": [],
   "source": [
    "import json\n",
    "from sklearn import datasets\n",
    "from sklearn.ensemble import ExtraTreesClassifier\n",
    "from sklearn.feature_selection import RFE\n",
    "from sklearn.model_selection import train_test_split"
   ]
  },
  {
   "cell_type": "code",
   "execution_count": 190,
   "id": "523d1661-a95f-46ae-a5ed-f4be728c4edd",
   "metadata": {
    "tags": []
   },
   "outputs": [
    {
     "ename": "KeyError",
     "evalue": "'n_features_to_select'",
     "output_type": "error",
     "traceback": [
      "\u001b[0;31m---------------------------------------------------------------------------\u001b[0m",
      "\u001b[0;31mKeyError\u001b[0m                                  Traceback (most recent call last)",
      "Cell \u001b[0;32mIn[190], line 6\u001b[0m\n\u001b[1;32m      3\u001b[0m     best_params \u001b[38;5;241m=\u001b[39m json\u001b[38;5;241m.\u001b[39mload(f)\n\u001b[1;32m      5\u001b[0m \u001b[38;5;66;03m# extract best parameters\u001b[39;00m\n\u001b[0;32m----> 6\u001b[0m best_n_features_to_select \u001b[38;5;241m=\u001b[39m \u001b[43mbest_params\u001b[49m\u001b[43m[\u001b[49m\u001b[38;5;124;43m'\u001b[39;49m\u001b[38;5;124;43mn_features_to_select\u001b[39;49m\u001b[38;5;124;43m'\u001b[39;49m\u001b[43m]\u001b[49m\n\u001b[1;32m      7\u001b[0m \u001b[38;5;28;01mdel\u001b[39;00m best_params[\u001b[38;5;124m'\u001b[39m\u001b[38;5;124mn_features_to_select\u001b[39m\u001b[38;5;124m'\u001b[39m]\n\u001b[1;32m      8\u001b[0m best_type \u001b[38;5;241m=\u001b[39m best_params[\u001b[38;5;124m'\u001b[39m\u001b[38;5;124mtype\u001b[39m\u001b[38;5;124m'\u001b[39m]\n",
      "\u001b[0;31mKeyError\u001b[0m: 'n_features_to_select'"
     ]
    }
   ],
   "source": [
    "# load best parameters from JSON file\n",
    "with open('../joblib/1_hyperopt_bestparams_20240604.json', 'r') as f:\n",
    "    best_params = json.load(f)\n",
    "\n",
    "# extract best parameters\n",
    "best_n_features_to_select = best_params['n_features_to_select']\n",
    "del best_params['n_features_to_select']\n",
    "best_type = best_params['type']\n",
    "del best_params['type']\n",
    "\n",
    "# train final model using best parameters\n",
    "if best_type == 'extratrees':\n",
    "    final_clf = ExtraTreesClassifier(**best_params, random_state=42)\n",
    "    \n",
    "# define RFE with final classifier\n",
    "final_rfe = RFE(estimator=final_clf, \n",
    "                n_features_to_select=best_n_features_to_select)\n",
    "\n",
    "# fit final model on entire training set\n",
    "final_rfe.fit(X_train, y_train)\n",
    "\n",
    "# evaluate final model on test set\n",
    "final_score = final_rfe.score(X_test, y_test)\n",
    "print('Final test score:', final_score)"
   ]
  },
  {
   "cell_type": "markdown",
   "id": "19abb483-84a3-4e7a-86a9-4afdd441a4e8",
   "metadata": {},
   "source": [
    "Next attempt is adapted from tutorial from [MachineLearningMastery.com](#https://machinelearningmastery.com/hyperopt-for-automated-machine-learning-with-scikit-learn/):"
   ]
  },
  {
   "cell_type": "code",
   "execution_count": 198,
   "id": "c528a314-24f6-40a1-ab2b-29687b2dd924",
   "metadata": {},
   "outputs": [
    {
     "name": "stdout",
     "output_type": "stream",
     "text": [
      "  0%|                                                   | 0/1 [00:00<?, ?trial/s, best loss=?]\n"
     ]
    },
    {
     "ename": "AttributeError",
     "evalue": "'numpy.random.mtrand.RandomState' object has no attribute 'integers'",
     "output_type": "error",
     "traceback": [
      "\u001b[0;31m---------------------------------------------------------------------------\u001b[0m",
      "\u001b[0;31mAttributeError\u001b[0m                            Traceback (most recent call last)",
      "Cell \u001b[0;32mIn[198], line 17\u001b[0m\n\u001b[1;32m      9\u001b[0m model \u001b[38;5;241m=\u001b[39m HyperoptEstimator(regressor\u001b[38;5;241m=\u001b[39many_regressor(\u001b[38;5;124m'\u001b[39m\u001b[38;5;124mreg\u001b[39m\u001b[38;5;124m'\u001b[39m), \n\u001b[1;32m     10\u001b[0m                           preprocessing\u001b[38;5;241m=\u001b[39many_preprocessing(\u001b[38;5;124m'\u001b[39m\u001b[38;5;124mpre\u001b[39m\u001b[38;5;124m'\u001b[39m), \n\u001b[1;32m     11\u001b[0m                           loss_fn\u001b[38;5;241m=\u001b[39mmean_absolute_error, \n\u001b[0;32m   (...)\u001b[0m\n\u001b[1;32m     14\u001b[0m                           trial_timeout\u001b[38;5;241m=\u001b[39m\u001b[38;5;241m30\u001b[39m,\n\u001b[1;32m     15\u001b[0m                           seed\u001b[38;5;241m=\u001b[39mseed)\n\u001b[1;32m     16\u001b[0m \u001b[38;5;66;03m# perform the search\u001b[39;00m\n\u001b[0;32m---> 17\u001b[0m \u001b[43mmodel\u001b[49m\u001b[38;5;241;43m.\u001b[39;49m\u001b[43mfit\u001b[49m\u001b[43m(\u001b[49m\u001b[43mX_train_threshold\u001b[49m\u001b[43m,\u001b[49m\u001b[43m \u001b[49m\u001b[43my_train_threshold\u001b[49m\u001b[43m,\u001b[49m\u001b[43mrandom_state\u001b[49m\u001b[38;5;241;43m=\u001b[39;49m\u001b[43mseed\u001b[49m\u001b[43m)\u001b[49m\n\u001b[1;32m     18\u001b[0m \u001b[38;5;66;03m# summarize performance\u001b[39;00m\n\u001b[1;32m     19\u001b[0m mae \u001b[38;5;241m=\u001b[39m model\u001b[38;5;241m.\u001b[39mscore(X_test_threshold, y_test_threshold)\n",
      "File \u001b[0;32m/Applications/Anaconda/anaconda3/envs/sklearn/lib/python3.9/site-packages/hpsklearn/estimator.py:746\u001b[0m, in \u001b[0;36mhyperopt_estimator.fit\u001b[0;34m(self, X, y, EX_list, valid_size, n_folds, cv_shuffle, warm_start, random_state, weights)\u001b[0m\n\u001b[1;32m    743\u001b[0m \u001b[38;5;28;01mwhile\u001b[39;00m \u001b[38;5;28mlen\u001b[39m(\u001b[38;5;28mself\u001b[39m\u001b[38;5;241m.\u001b[39mtrials\u001b[38;5;241m.\u001b[39mtrials) \u001b[38;5;241m<\u001b[39m adjusted_max_evals:\n\u001b[1;32m    744\u001b[0m     increment \u001b[38;5;241m=\u001b[39m \u001b[38;5;28mmin\u001b[39m(\u001b[38;5;28mself\u001b[39m\u001b[38;5;241m.\u001b[39mfit_increment,\n\u001b[1;32m    745\u001b[0m                     adjusted_max_evals \u001b[38;5;241m-\u001b[39m \u001b[38;5;28mlen\u001b[39m(\u001b[38;5;28mself\u001b[39m\u001b[38;5;241m.\u001b[39mtrials\u001b[38;5;241m.\u001b[39mtrials))\n\u001b[0;32m--> 746\u001b[0m     \u001b[43mfit_iter\u001b[49m\u001b[38;5;241;43m.\u001b[39;49m\u001b[43msend\u001b[49m\u001b[43m(\u001b[49m\u001b[43mincrement\u001b[49m\u001b[43m)\u001b[49m\n\u001b[1;32m    747\u001b[0m     \u001b[38;5;28;01mif\u001b[39;00m filename \u001b[38;5;129;01mis\u001b[39;00m \u001b[38;5;129;01mnot\u001b[39;00m \u001b[38;5;28;01mNone\u001b[39;00m:\n\u001b[1;32m    748\u001b[0m         \u001b[38;5;28;01mwith\u001b[39;00m \u001b[38;5;28mopen\u001b[39m(filename, \u001b[38;5;124m'\u001b[39m\u001b[38;5;124mwb\u001b[39m\u001b[38;5;124m'\u001b[39m) \u001b[38;5;28;01mas\u001b[39;00m dump_file:\n",
      "File \u001b[0;32m/Applications/Anaconda/anaconda3/envs/sklearn/lib/python3.9/site-packages/hpsklearn/estimator.py:648\u001b[0m, in \u001b[0;36mhyperopt_estimator.fit_iter\u001b[0;34m(self, X, y, EX_list, valid_size, n_folds, cv_shuffle, warm_start, random_state, weights, increment)\u001b[0m\n\u001b[1;32m    645\u001b[0m \u001b[38;5;66;03m#FIXME: temporary workaround for rstate issue #35\u001b[39;00m\n\u001b[1;32m    646\u001b[0m \u001b[38;5;66;03m#       latest hyperopt.fmin() on master does not match PyPI\u001b[39;00m\n\u001b[1;32m    647\u001b[0m \u001b[38;5;28;01mif\u001b[39;00m \u001b[38;5;124m'\u001b[39m\u001b[38;5;124mrstate\u001b[39m\u001b[38;5;124m'\u001b[39m \u001b[38;5;129;01min\u001b[39;00m inspect\u001b[38;5;241m.\u001b[39mgetargspec(hyperopt\u001b[38;5;241m.\u001b[39mfmin)\u001b[38;5;241m.\u001b[39margs:\n\u001b[0;32m--> 648\u001b[0m     \u001b[43mhyperopt\u001b[49m\u001b[38;5;241;43m.\u001b[39;49m\u001b[43mfmin\u001b[49m\u001b[43m(\u001b[49m\u001b[43mfn_with_timeout\u001b[49m\u001b[43m,\u001b[49m\n\u001b[1;32m    649\u001b[0m \u001b[43m                  \u001b[49m\u001b[43mspace\u001b[49m\u001b[38;5;241;43m=\u001b[39;49m\u001b[38;5;28;43mself\u001b[39;49m\u001b[38;5;241;43m.\u001b[39;49m\u001b[43mspace\u001b[49m\u001b[43m,\u001b[49m\n\u001b[1;32m    650\u001b[0m \u001b[43m                  \u001b[49m\u001b[43malgo\u001b[49m\u001b[38;5;241;43m=\u001b[39;49m\u001b[38;5;28;43mself\u001b[39;49m\u001b[38;5;241;43m.\u001b[39;49m\u001b[43malgo\u001b[49m\u001b[43m,\u001b[49m\n\u001b[1;32m    651\u001b[0m \u001b[43m                  \u001b[49m\u001b[43mtrials\u001b[49m\u001b[38;5;241;43m=\u001b[39;49m\u001b[38;5;28;43mself\u001b[39;49m\u001b[38;5;241;43m.\u001b[39;49m\u001b[43mtrials\u001b[49m\u001b[43m,\u001b[49m\n\u001b[1;32m    652\u001b[0m \u001b[43m                  \u001b[49m\u001b[43mmax_evals\u001b[49m\u001b[38;5;241;43m=\u001b[39;49m\u001b[38;5;28;43mlen\u001b[39;49m\u001b[43m(\u001b[49m\u001b[38;5;28;43mself\u001b[39;49m\u001b[38;5;241;43m.\u001b[39;49m\u001b[43mtrials\u001b[49m\u001b[38;5;241;43m.\u001b[39;49m\u001b[43mtrials\u001b[49m\u001b[43m)\u001b[49m\u001b[43m \u001b[49m\u001b[38;5;241;43m+\u001b[39;49m\u001b[43m \u001b[49m\u001b[43mincrement\u001b[49m\u001b[43m,\u001b[49m\n\u001b[1;32m    653\u001b[0m \u001b[43m                  \u001b[49m\u001b[43mrstate\u001b[49m\u001b[38;5;241;43m=\u001b[39;49m\u001b[38;5;28;43mself\u001b[39;49m\u001b[38;5;241;43m.\u001b[39;49m\u001b[43mrstate\u001b[49m\u001b[43m,\u001b[49m\n\u001b[1;32m    654\u001b[0m \u001b[43m                  \u001b[49m\u001b[38;5;66;43;03m# -- let exceptions crash the program,\u001b[39;49;00m\n\u001b[1;32m    655\u001b[0m \u001b[43m                  \u001b[49m\u001b[38;5;66;43;03m#    so we notice them.\u001b[39;49;00m\n\u001b[1;32m    656\u001b[0m \u001b[43m                  \u001b[49m\u001b[43mcatch_eval_exceptions\u001b[49m\u001b[38;5;241;43m=\u001b[39;49m\u001b[38;5;28;43;01mFalse\u001b[39;49;00m\u001b[43m,\u001b[49m\n\u001b[1;32m    657\u001b[0m \u001b[43m                  \u001b[49m\u001b[43mreturn_argmin\u001b[49m\u001b[38;5;241;43m=\u001b[39;49m\u001b[38;5;28;43;01mFalse\u001b[39;49;00m\u001b[43m,\u001b[49m\u001b[43m \u001b[49m\u001b[38;5;66;43;03m# -- in case no success so far\u001b[39;49;00m\n\u001b[1;32m    658\u001b[0m \u001b[43m                 \u001b[49m\u001b[43m)\u001b[49m\n\u001b[1;32m    659\u001b[0m \u001b[38;5;28;01melse\u001b[39;00m:\n\u001b[1;32m    660\u001b[0m     \u001b[38;5;28;01mif\u001b[39;00m \u001b[38;5;28mself\u001b[39m\u001b[38;5;241m.\u001b[39mseed \u001b[38;5;129;01mis\u001b[39;00m \u001b[38;5;28;01mNone\u001b[39;00m:\n",
      "File \u001b[0;32m/Applications/Anaconda/anaconda3/envs/sklearn/lib/python3.9/site-packages/hyperopt/fmin.py:540\u001b[0m, in \u001b[0;36mfmin\u001b[0;34m(fn, space, algo, max_evals, timeout, loss_threshold, trials, rstate, allow_trials_fmin, pass_expr_memo_ctrl, catch_eval_exceptions, verbose, return_argmin, points_to_evaluate, max_queue_len, show_progressbar, early_stop_fn, trials_save_file)\u001b[0m\n\u001b[1;32m    537\u001b[0m     fn \u001b[38;5;241m=\u001b[39m __objective_fmin_wrapper(fn)\n\u001b[1;32m    539\u001b[0m \u001b[38;5;28;01mif\u001b[39;00m allow_trials_fmin \u001b[38;5;129;01mand\u001b[39;00m \u001b[38;5;28mhasattr\u001b[39m(trials, \u001b[38;5;124m\"\u001b[39m\u001b[38;5;124mfmin\u001b[39m\u001b[38;5;124m\"\u001b[39m):\n\u001b[0;32m--> 540\u001b[0m     \u001b[38;5;28;01mreturn\u001b[39;00m \u001b[43mtrials\u001b[49m\u001b[38;5;241;43m.\u001b[39;49m\u001b[43mfmin\u001b[49m\u001b[43m(\u001b[49m\n\u001b[1;32m    541\u001b[0m \u001b[43m        \u001b[49m\u001b[43mfn\u001b[49m\u001b[43m,\u001b[49m\n\u001b[1;32m    542\u001b[0m \u001b[43m        \u001b[49m\u001b[43mspace\u001b[49m\u001b[43m,\u001b[49m\n\u001b[1;32m    543\u001b[0m \u001b[43m        \u001b[49m\u001b[43malgo\u001b[49m\u001b[38;5;241;43m=\u001b[39;49m\u001b[43malgo\u001b[49m\u001b[43m,\u001b[49m\n\u001b[1;32m    544\u001b[0m \u001b[43m        \u001b[49m\u001b[43mmax_evals\u001b[49m\u001b[38;5;241;43m=\u001b[39;49m\u001b[43mmax_evals\u001b[49m\u001b[43m,\u001b[49m\n\u001b[1;32m    545\u001b[0m \u001b[43m        \u001b[49m\u001b[43mtimeout\u001b[49m\u001b[38;5;241;43m=\u001b[39;49m\u001b[43mtimeout\u001b[49m\u001b[43m,\u001b[49m\n\u001b[1;32m    546\u001b[0m \u001b[43m        \u001b[49m\u001b[43mloss_threshold\u001b[49m\u001b[38;5;241;43m=\u001b[39;49m\u001b[43mloss_threshold\u001b[49m\u001b[43m,\u001b[49m\n\u001b[1;32m    547\u001b[0m \u001b[43m        \u001b[49m\u001b[43mmax_queue_len\u001b[49m\u001b[38;5;241;43m=\u001b[39;49m\u001b[43mmax_queue_len\u001b[49m\u001b[43m,\u001b[49m\n\u001b[1;32m    548\u001b[0m \u001b[43m        \u001b[49m\u001b[43mrstate\u001b[49m\u001b[38;5;241;43m=\u001b[39;49m\u001b[43mrstate\u001b[49m\u001b[43m,\u001b[49m\n\u001b[1;32m    549\u001b[0m \u001b[43m        \u001b[49m\u001b[43mpass_expr_memo_ctrl\u001b[49m\u001b[38;5;241;43m=\u001b[39;49m\u001b[43mpass_expr_memo_ctrl\u001b[49m\u001b[43m,\u001b[49m\n\u001b[1;32m    550\u001b[0m \u001b[43m        \u001b[49m\u001b[43mverbose\u001b[49m\u001b[38;5;241;43m=\u001b[39;49m\u001b[43mverbose\u001b[49m\u001b[43m,\u001b[49m\n\u001b[1;32m    551\u001b[0m \u001b[43m        \u001b[49m\u001b[43mcatch_eval_exceptions\u001b[49m\u001b[38;5;241;43m=\u001b[39;49m\u001b[43mcatch_eval_exceptions\u001b[49m\u001b[43m,\u001b[49m\n\u001b[1;32m    552\u001b[0m \u001b[43m        \u001b[49m\u001b[43mreturn_argmin\u001b[49m\u001b[38;5;241;43m=\u001b[39;49m\u001b[43mreturn_argmin\u001b[49m\u001b[43m,\u001b[49m\n\u001b[1;32m    553\u001b[0m \u001b[43m        \u001b[49m\u001b[43mshow_progressbar\u001b[49m\u001b[38;5;241;43m=\u001b[39;49m\u001b[43mshow_progressbar\u001b[49m\u001b[43m,\u001b[49m\n\u001b[1;32m    554\u001b[0m \u001b[43m        \u001b[49m\u001b[43mearly_stop_fn\u001b[49m\u001b[38;5;241;43m=\u001b[39;49m\u001b[43mearly_stop_fn\u001b[49m\u001b[43m,\u001b[49m\n\u001b[1;32m    555\u001b[0m \u001b[43m        \u001b[49m\u001b[43mtrials_save_file\u001b[49m\u001b[38;5;241;43m=\u001b[39;49m\u001b[43mtrials_save_file\u001b[49m\u001b[43m,\u001b[49m\n\u001b[1;32m    556\u001b[0m \u001b[43m    \u001b[49m\u001b[43m)\u001b[49m\n\u001b[1;32m    558\u001b[0m \u001b[38;5;28;01mif\u001b[39;00m trials \u001b[38;5;129;01mis\u001b[39;00m \u001b[38;5;28;01mNone\u001b[39;00m:\n\u001b[1;32m    559\u001b[0m     \u001b[38;5;28;01mif\u001b[39;00m os\u001b[38;5;241m.\u001b[39mpath\u001b[38;5;241m.\u001b[39mexists(trials_save_file):\n",
      "File \u001b[0;32m/Applications/Anaconda/anaconda3/envs/sklearn/lib/python3.9/site-packages/hyperopt/base.py:671\u001b[0m, in \u001b[0;36mTrials.fmin\u001b[0;34m(self, fn, space, algo, max_evals, timeout, loss_threshold, max_queue_len, rstate, verbose, pass_expr_memo_ctrl, catch_eval_exceptions, return_argmin, show_progressbar, early_stop_fn, trials_save_file)\u001b[0m\n\u001b[1;32m    666\u001b[0m \u001b[38;5;66;03m# -- Stop-gap implementation!\u001b[39;00m\n\u001b[1;32m    667\u001b[0m \u001b[38;5;66;03m#    fmin should have been a Trials method in the first place\u001b[39;00m\n\u001b[1;32m    668\u001b[0m \u001b[38;5;66;03m#    but for now it's still sitting in another file.\u001b[39;00m\n\u001b[1;32m    669\u001b[0m \u001b[38;5;28;01mfrom\u001b[39;00m \u001b[38;5;21;01m.\u001b[39;00m\u001b[38;5;21;01mfmin\u001b[39;00m \u001b[38;5;28;01mimport\u001b[39;00m fmin\n\u001b[0;32m--> 671\u001b[0m \u001b[38;5;28;01mreturn\u001b[39;00m \u001b[43mfmin\u001b[49m\u001b[43m(\u001b[49m\n\u001b[1;32m    672\u001b[0m \u001b[43m    \u001b[49m\u001b[43mfn\u001b[49m\u001b[43m,\u001b[49m\n\u001b[1;32m    673\u001b[0m \u001b[43m    \u001b[49m\u001b[43mspace\u001b[49m\u001b[43m,\u001b[49m\n\u001b[1;32m    674\u001b[0m \u001b[43m    \u001b[49m\u001b[43malgo\u001b[49m\u001b[38;5;241;43m=\u001b[39;49m\u001b[43malgo\u001b[49m\u001b[43m,\u001b[49m\n\u001b[1;32m    675\u001b[0m \u001b[43m    \u001b[49m\u001b[43mmax_evals\u001b[49m\u001b[38;5;241;43m=\u001b[39;49m\u001b[43mmax_evals\u001b[49m\u001b[43m,\u001b[49m\n\u001b[1;32m    676\u001b[0m \u001b[43m    \u001b[49m\u001b[43mtimeout\u001b[49m\u001b[38;5;241;43m=\u001b[39;49m\u001b[43mtimeout\u001b[49m\u001b[43m,\u001b[49m\n\u001b[1;32m    677\u001b[0m \u001b[43m    \u001b[49m\u001b[43mloss_threshold\u001b[49m\u001b[38;5;241;43m=\u001b[39;49m\u001b[43mloss_threshold\u001b[49m\u001b[43m,\u001b[49m\n\u001b[1;32m    678\u001b[0m \u001b[43m    \u001b[49m\u001b[43mtrials\u001b[49m\u001b[38;5;241;43m=\u001b[39;49m\u001b[38;5;28;43mself\u001b[39;49m\u001b[43m,\u001b[49m\n\u001b[1;32m    679\u001b[0m \u001b[43m    \u001b[49m\u001b[43mrstate\u001b[49m\u001b[38;5;241;43m=\u001b[39;49m\u001b[43mrstate\u001b[49m\u001b[43m,\u001b[49m\n\u001b[1;32m    680\u001b[0m \u001b[43m    \u001b[49m\u001b[43mverbose\u001b[49m\u001b[38;5;241;43m=\u001b[39;49m\u001b[43mverbose\u001b[49m\u001b[43m,\u001b[49m\n\u001b[1;32m    681\u001b[0m \u001b[43m    \u001b[49m\u001b[43mmax_queue_len\u001b[49m\u001b[38;5;241;43m=\u001b[39;49m\u001b[43mmax_queue_len\u001b[49m\u001b[43m,\u001b[49m\n\u001b[1;32m    682\u001b[0m \u001b[43m    \u001b[49m\u001b[43mallow_trials_fmin\u001b[49m\u001b[38;5;241;43m=\u001b[39;49m\u001b[38;5;28;43;01mFalse\u001b[39;49;00m\u001b[43m,\u001b[49m\u001b[43m  \u001b[49m\u001b[38;5;66;43;03m# -- prevent recursion\u001b[39;49;00m\n\u001b[1;32m    683\u001b[0m \u001b[43m    \u001b[49m\u001b[43mpass_expr_memo_ctrl\u001b[49m\u001b[38;5;241;43m=\u001b[39;49m\u001b[43mpass_expr_memo_ctrl\u001b[49m\u001b[43m,\u001b[49m\n\u001b[1;32m    684\u001b[0m \u001b[43m    \u001b[49m\u001b[43mcatch_eval_exceptions\u001b[49m\u001b[38;5;241;43m=\u001b[39;49m\u001b[43mcatch_eval_exceptions\u001b[49m\u001b[43m,\u001b[49m\n\u001b[1;32m    685\u001b[0m \u001b[43m    \u001b[49m\u001b[43mreturn_argmin\u001b[49m\u001b[38;5;241;43m=\u001b[39;49m\u001b[43mreturn_argmin\u001b[49m\u001b[43m,\u001b[49m\n\u001b[1;32m    686\u001b[0m \u001b[43m    \u001b[49m\u001b[43mshow_progressbar\u001b[49m\u001b[38;5;241;43m=\u001b[39;49m\u001b[43mshow_progressbar\u001b[49m\u001b[43m,\u001b[49m\n\u001b[1;32m    687\u001b[0m \u001b[43m    \u001b[49m\u001b[43mearly_stop_fn\u001b[49m\u001b[38;5;241;43m=\u001b[39;49m\u001b[43mearly_stop_fn\u001b[49m\u001b[43m,\u001b[49m\n\u001b[1;32m    688\u001b[0m \u001b[43m    \u001b[49m\u001b[43mtrials_save_file\u001b[49m\u001b[38;5;241;43m=\u001b[39;49m\u001b[43mtrials_save_file\u001b[49m\u001b[43m,\u001b[49m\n\u001b[1;32m    689\u001b[0m \u001b[43m\u001b[49m\u001b[43m)\u001b[49m\n",
      "File \u001b[0;32m/Applications/Anaconda/anaconda3/envs/sklearn/lib/python3.9/site-packages/hyperopt/fmin.py:586\u001b[0m, in \u001b[0;36mfmin\u001b[0;34m(fn, space, algo, max_evals, timeout, loss_threshold, trials, rstate, allow_trials_fmin, pass_expr_memo_ctrl, catch_eval_exceptions, verbose, return_argmin, points_to_evaluate, max_queue_len, show_progressbar, early_stop_fn, trials_save_file)\u001b[0m\n\u001b[1;32m    583\u001b[0m rval\u001b[38;5;241m.\u001b[39mcatch_eval_exceptions \u001b[38;5;241m=\u001b[39m catch_eval_exceptions\n\u001b[1;32m    585\u001b[0m \u001b[38;5;66;03m# next line is where the fmin is actually executed\u001b[39;00m\n\u001b[0;32m--> 586\u001b[0m \u001b[43mrval\u001b[49m\u001b[38;5;241;43m.\u001b[39;49m\u001b[43mexhaust\u001b[49m\u001b[43m(\u001b[49m\u001b[43m)\u001b[49m\n\u001b[1;32m    588\u001b[0m \u001b[38;5;28;01mif\u001b[39;00m return_argmin:\n\u001b[1;32m    589\u001b[0m     \u001b[38;5;28;01mif\u001b[39;00m \u001b[38;5;28mlen\u001b[39m(trials\u001b[38;5;241m.\u001b[39mtrials) \u001b[38;5;241m==\u001b[39m \u001b[38;5;241m0\u001b[39m:\n",
      "File \u001b[0;32m/Applications/Anaconda/anaconda3/envs/sklearn/lib/python3.9/site-packages/hyperopt/fmin.py:364\u001b[0m, in \u001b[0;36mFMinIter.exhaust\u001b[0;34m(self)\u001b[0m\n\u001b[1;32m    362\u001b[0m \u001b[38;5;28;01mdef\u001b[39;00m \u001b[38;5;21mexhaust\u001b[39m(\u001b[38;5;28mself\u001b[39m):\n\u001b[1;32m    363\u001b[0m     n_done \u001b[38;5;241m=\u001b[39m \u001b[38;5;28mlen\u001b[39m(\u001b[38;5;28mself\u001b[39m\u001b[38;5;241m.\u001b[39mtrials)\n\u001b[0;32m--> 364\u001b[0m     \u001b[38;5;28;43mself\u001b[39;49m\u001b[38;5;241;43m.\u001b[39;49m\u001b[43mrun\u001b[49m\u001b[43m(\u001b[49m\u001b[38;5;28;43mself\u001b[39;49m\u001b[38;5;241;43m.\u001b[39;49m\u001b[43mmax_evals\u001b[49m\u001b[43m \u001b[49m\u001b[38;5;241;43m-\u001b[39;49m\u001b[43m \u001b[49m\u001b[43mn_done\u001b[49m\u001b[43m,\u001b[49m\u001b[43m \u001b[49m\u001b[43mblock_until_done\u001b[49m\u001b[38;5;241;43m=\u001b[39;49m\u001b[38;5;28;43mself\u001b[39;49m\u001b[38;5;241;43m.\u001b[39;49m\u001b[43masynchronous\u001b[49m\u001b[43m)\u001b[49m\n\u001b[1;32m    365\u001b[0m     \u001b[38;5;28mself\u001b[39m\u001b[38;5;241m.\u001b[39mtrials\u001b[38;5;241m.\u001b[39mrefresh()\n\u001b[1;32m    366\u001b[0m     \u001b[38;5;28;01mreturn\u001b[39;00m \u001b[38;5;28mself\u001b[39m\n",
      "File \u001b[0;32m/Applications/Anaconda/anaconda3/envs/sklearn/lib/python3.9/site-packages/hyperopt/fmin.py:279\u001b[0m, in \u001b[0;36mFMinIter.run\u001b[0;34m(self, N, block_until_done)\u001b[0m\n\u001b[1;32m    273\u001b[0m \u001b[38;5;28mself\u001b[39m\u001b[38;5;241m.\u001b[39mtrials\u001b[38;5;241m.\u001b[39mrefresh()\n\u001b[1;32m    274\u001b[0m \u001b[38;5;66;03m# Based on existing trials and the domain, use `algo` to probe in\u001b[39;00m\n\u001b[1;32m    275\u001b[0m \u001b[38;5;66;03m# new hp points. Save the results of those inspections into\u001b[39;00m\n\u001b[1;32m    276\u001b[0m \u001b[38;5;66;03m# `new_trials`. This is the core of `run`, all the rest is just\u001b[39;00m\n\u001b[1;32m    277\u001b[0m \u001b[38;5;66;03m# processes orchestration\u001b[39;00m\n\u001b[1;32m    278\u001b[0m new_trials \u001b[38;5;241m=\u001b[39m algo(\n\u001b[0;32m--> 279\u001b[0m     new_ids, \u001b[38;5;28mself\u001b[39m\u001b[38;5;241m.\u001b[39mdomain, trials, \u001b[38;5;28;43mself\u001b[39;49m\u001b[38;5;241;43m.\u001b[39;49m\u001b[43mrstate\u001b[49m\u001b[38;5;241;43m.\u001b[39;49m\u001b[43mintegers\u001b[49m(\u001b[38;5;241m2\u001b[39m \u001b[38;5;241m*\u001b[39m\u001b[38;5;241m*\u001b[39m \u001b[38;5;241m31\u001b[39m \u001b[38;5;241m-\u001b[39m \u001b[38;5;241m1\u001b[39m)\n\u001b[1;32m    280\u001b[0m )\n\u001b[1;32m    281\u001b[0m \u001b[38;5;28;01massert\u001b[39;00m \u001b[38;5;28mlen\u001b[39m(new_ids) \u001b[38;5;241m>\u001b[39m\u001b[38;5;241m=\u001b[39m \u001b[38;5;28mlen\u001b[39m(new_trials)\n\u001b[1;32m    283\u001b[0m \u001b[38;5;28;01mif\u001b[39;00m \u001b[38;5;28mlen\u001b[39m(new_trials):\n",
      "\u001b[0;31mAttributeError\u001b[0m: 'numpy.random.mtrand.RandomState' object has no attribute 'integers'"
     ]
    }
   ],
   "source": [
    "from sklearn.model_selection import train_test_split\n",
    "from sklearn.metrics import mean_absolute_error\n",
    "from hpsklearn import HyperoptEstimator\n",
    "from hpsklearn import any_regressor\n",
    "from hpsklearn import any_preprocessing\n",
    "from hyperopt import tpe\n",
    "\n",
    "# define search\n",
    "model = HyperoptEstimator(regressor=any_regressor('reg'), \n",
    "                          preprocessing=any_preprocessing('pre'), \n",
    "                          loss_fn=mean_absolute_error, \n",
    "                          algo=tpe.suggest, \n",
    "                          max_evals=50, \n",
    "                          trial_timeout=30,\n",
    "                          seed=seed)\n",
    "# perform the search\n",
    "model.fit(X_train_threshold, y_train_threshold,random_state=seed)\n",
    "# summarize performance\n",
    "mae = model.score(X_test_threshold, y_test_threshold)\n",
    "print(\"MAE: %.3f\" % mae)\n",
    "# summarize the best model\n",
    "print(model.best_model())"
   ]
  },
  {
   "cell_type": "code",
   "execution_count": null,
   "id": "0229e4f1-dae7-4714-bf50-4043b1db910d",
   "metadata": {},
   "outputs": [],
   "source": []
  },
  {
   "cell_type": "markdown",
   "id": "27f37d0e-48c4-49ce-959a-5c7d8f5e893e",
   "metadata": {},
   "source": [
    "### Statistical Modeling with `Statsmodels` <a name=\"statistical_modeling\"></a>"
   ]
  },
  {
   "cell_type": "code",
   "execution_count": 33,
   "id": "9066609a-9201-4692-8149-df8d4041c435",
   "metadata": {},
   "outputs": [],
   "source": [
    "import statsmodels.api as sm"
   ]
  },
  {
   "cell_type": "code",
   "execution_count": 34,
   "id": "5da626ed-88df-4928-adc1-bdf5031cd5dc",
   "metadata": {},
   "outputs": [],
   "source": [
    "# read in and setup dataset again\n",
    "\n",
    "df=pd.read_csv('../data/1_data.csv')\n",
    "\n",
    "# renaming columns to preserve order\n",
    "# and make them more intelligible\n",
    "df.rename(columns={'Y':'y',\n",
    "                   'X1':'a_time',\n",
    "                   'X2':'b_contents',\n",
    "                   'X3':'c_complete',\n",
    "                   'X4':'d_price',\n",
    "                   'X5':'e_courier',\n",
    "                   'X6':'f_app'},inplace=True)\n",
    "\n",
    "X=df[[col for col in df.columns if col != 'y']].copy()\n",
    "y=df['y'].copy().astype('int8') # because it's a binary\n",
    "                                # let's use less memory\n",
    "\n",
    "# print(\"X shape:\",X.shape)\n",
    "# print(\"y shape:\",y.shape)\n",
    "\n",
    "# print(X.dtypes)\n",
    "\n",
    "X_cat=X.copy()\n",
    "\n",
    "for col in X_cat.columns:\n",
    "    X_cat[col] = X_cat[col].astype('category')\n",
    "    \n",
    "# X_cat.dtypes\n",
    "\n",
    "X_ohe=pd.get_dummies(data=X_cat,\n",
    "                     prefix=list(X_cat.columns),\n",
    "                     drop_first=False) # I think we need to \n",
    "                                       # see all survey responses\n",
    "                                       # that are in dataset"
   ]
  },
  {
   "cell_type": "code",
   "execution_count": 35,
   "id": "3794b466-60be-4144-ba7b-12259837932c",
   "metadata": {},
   "outputs": [],
   "source": [
    "# add constant to our X\n",
    "X_const=sm.add_constant(X_ohe[[col for col in X_ohe.columns if col != 'y']])"
   ]
  },
  {
   "cell_type": "code",
   "execution_count": 36,
   "id": "d2436467-cc97-4800-af9c-2dff9c4adf72",
   "metadata": {},
   "outputs": [
    {
     "data": {
      "text/html": [
       "<div>\n",
       "<style scoped>\n",
       "    .dataframe tbody tr th:only-of-type {\n",
       "        vertical-align: middle;\n",
       "    }\n",
       "\n",
       "    .dataframe tbody tr th {\n",
       "        vertical-align: top;\n",
       "    }\n",
       "\n",
       "    .dataframe thead th {\n",
       "        text-align: right;\n",
       "    }\n",
       "</style>\n",
       "<table border=\"1\" class=\"dataframe\">\n",
       "  <thead>\n",
       "    <tr style=\"text-align: right;\">\n",
       "      <th></th>\n",
       "      <th>const</th>\n",
       "      <th>a_time_1</th>\n",
       "      <th>a_time_3</th>\n",
       "      <th>a_time_4</th>\n",
       "      <th>a_time_5</th>\n",
       "      <th>b_contents_1</th>\n",
       "      <th>b_contents_2</th>\n",
       "      <th>b_contents_3</th>\n",
       "      <th>b_contents_4</th>\n",
       "      <th>b_contents_5</th>\n",
       "      <th>...</th>\n",
       "      <th>e_courier_1</th>\n",
       "      <th>e_courier_2</th>\n",
       "      <th>e_courier_3</th>\n",
       "      <th>e_courier_4</th>\n",
       "      <th>e_courier_5</th>\n",
       "      <th>f_app_1</th>\n",
       "      <th>f_app_2</th>\n",
       "      <th>f_app_3</th>\n",
       "      <th>f_app_4</th>\n",
       "      <th>f_app_5</th>\n",
       "    </tr>\n",
       "  </thead>\n",
       "  <tbody>\n",
       "    <tr>\n",
       "      <th>0</th>\n",
       "      <td>1.0</td>\n",
       "      <td>0</td>\n",
       "      <td>1</td>\n",
       "      <td>0</td>\n",
       "      <td>0</td>\n",
       "      <td>0</td>\n",
       "      <td>0</td>\n",
       "      <td>1</td>\n",
       "      <td>0</td>\n",
       "      <td>0</td>\n",
       "      <td>...</td>\n",
       "      <td>0</td>\n",
       "      <td>1</td>\n",
       "      <td>0</td>\n",
       "      <td>0</td>\n",
       "      <td>0</td>\n",
       "      <td>0</td>\n",
       "      <td>0</td>\n",
       "      <td>0</td>\n",
       "      <td>1</td>\n",
       "      <td>0</td>\n",
       "    </tr>\n",
       "    <tr>\n",
       "      <th>1</th>\n",
       "      <td>1.0</td>\n",
       "      <td>0</td>\n",
       "      <td>1</td>\n",
       "      <td>0</td>\n",
       "      <td>0</td>\n",
       "      <td>0</td>\n",
       "      <td>1</td>\n",
       "      <td>0</td>\n",
       "      <td>0</td>\n",
       "      <td>0</td>\n",
       "      <td>...</td>\n",
       "      <td>0</td>\n",
       "      <td>0</td>\n",
       "      <td>0</td>\n",
       "      <td>1</td>\n",
       "      <td>0</td>\n",
       "      <td>0</td>\n",
       "      <td>0</td>\n",
       "      <td>1</td>\n",
       "      <td>0</td>\n",
       "      <td>0</td>\n",
       "    </tr>\n",
       "    <tr>\n",
       "      <th>2</th>\n",
       "      <td>1.0</td>\n",
       "      <td>0</td>\n",
       "      <td>0</td>\n",
       "      <td>0</td>\n",
       "      <td>1</td>\n",
       "      <td>0</td>\n",
       "      <td>0</td>\n",
       "      <td>1</td>\n",
       "      <td>0</td>\n",
       "      <td>0</td>\n",
       "      <td>...</td>\n",
       "      <td>0</td>\n",
       "      <td>0</td>\n",
       "      <td>1</td>\n",
       "      <td>0</td>\n",
       "      <td>0</td>\n",
       "      <td>0</td>\n",
       "      <td>0</td>\n",
       "      <td>0</td>\n",
       "      <td>0</td>\n",
       "      <td>1</td>\n",
       "    </tr>\n",
       "  </tbody>\n",
       "</table>\n",
       "<p>3 rows × 30 columns</p>\n",
       "</div>"
      ],
      "text/plain": [
       "   const  a_time_1  a_time_3  a_time_4  a_time_5  b_contents_1  b_contents_2  \\\n",
       "0    1.0         0         1         0         0             0             0   \n",
       "1    1.0         0         1         0         0             0             1   \n",
       "2    1.0         0         0         0         1             0             0   \n",
       "\n",
       "   b_contents_3  b_contents_4  b_contents_5  ...  e_courier_1  e_courier_2  \\\n",
       "0             1             0             0  ...            0            1   \n",
       "1             0             0             0  ...            0            0   \n",
       "2             1             0             0  ...            0            0   \n",
       "\n",
       "   e_courier_3  e_courier_4  e_courier_5  f_app_1  f_app_2  f_app_3  f_app_4  \\\n",
       "0            0            0            0        0        0        0        1   \n",
       "1            0            1            0        0        0        1        0   \n",
       "2            1            0            0        0        0        0        0   \n",
       "\n",
       "   f_app_5  \n",
       "0        0  \n",
       "1        0  \n",
       "2        1  \n",
       "\n",
       "[3 rows x 30 columns]"
      ]
     },
     "execution_count": 36,
     "metadata": {},
     "output_type": "execute_result"
    }
   ],
   "source": [
    "# check it out\n",
    "X_const.head(3)"
   ]
  },
  {
   "cell_type": "code",
   "execution_count": 234,
   "id": "d367c6a6-9bf9-44b4-9d7d-8d3035b72258",
   "metadata": {},
   "outputs": [
    {
     "data": {
      "text/plain": [
       "Series([], dtype: object)"
      ]
     },
     "execution_count": 234,
     "metadata": {},
     "output_type": "execute_result"
    }
   ],
   "source": [
    "X_const.dtypes"
   ]
  },
  {
   "cell_type": "code",
   "execution_count": 229,
   "id": "a35f0184-46ba-45bb-8489-e52a82944826",
   "metadata": {},
   "outputs": [
    {
     "data": {
      "text/plain": [
       "(126,)"
      ]
     },
     "execution_count": 229,
     "metadata": {},
     "output_type": "execute_result"
    }
   ],
   "source": [
    "y.shape"
   ]
  },
  {
   "cell_type": "code",
   "execution_count": 231,
   "id": "a9621f03-1c9b-4ed3-82bc-a877ec7a992c",
   "metadata": {},
   "outputs": [
    {
     "ename": "ValueError",
     "evalue": "zero-size array to reduction operation maximum which has no identity",
     "output_type": "error",
     "traceback": [
      "\u001b[0;31m---------------------------------------------------------------------------\u001b[0m",
      "\u001b[0;31mValueError\u001b[0m                                Traceback (most recent call last)",
      "Cell \u001b[0;32mIn[231], line 2\u001b[0m\n\u001b[1;32m      1\u001b[0m \u001b[38;5;66;03m# instantiate the logistic regression model \u001b[39;00m\n\u001b[0;32m----> 2\u001b[0m logreg \u001b[38;5;241m=\u001b[39m \u001b[43msm\u001b[49m\u001b[38;5;241;43m.\u001b[39;49m\u001b[43mLogit\u001b[49m\u001b[43m(\u001b[49m\u001b[43my\u001b[49m\u001b[43m,\u001b[49m\u001b[43m \u001b[49m\u001b[43mX_const\u001b[49m\u001b[43m)\u001b[49m\n\u001b[1;32m      4\u001b[0m \u001b[38;5;66;03m# fit the model\u001b[39;00m\n\u001b[1;32m      5\u001b[0m logreg_results \u001b[38;5;241m=\u001b[39m logreg\u001b[38;5;241m.\u001b[39mfit()\n",
      "File \u001b[0;32m/Applications/Anaconda/anaconda3/envs/sklearn/lib/python3.9/site-packages/statsmodels/discrete/discrete_model.py:462\u001b[0m, in \u001b[0;36mBinaryModel.__init__\u001b[0;34m(self, endog, exog, check_rank, **kwargs)\u001b[0m\n\u001b[1;32m    459\u001b[0m \u001b[38;5;28;01mdef\u001b[39;00m \u001b[38;5;21m__init__\u001b[39m(\u001b[38;5;28mself\u001b[39m, endog, exog, check_rank\u001b[38;5;241m=\u001b[39m\u001b[38;5;28;01mTrue\u001b[39;00m, \u001b[38;5;241m*\u001b[39m\u001b[38;5;241m*\u001b[39mkwargs):\n\u001b[1;32m    460\u001b[0m     \u001b[38;5;66;03m# unconditional check, requires no extra kwargs added by subclasses\u001b[39;00m\n\u001b[1;32m    461\u001b[0m     \u001b[38;5;28mself\u001b[39m\u001b[38;5;241m.\u001b[39m_check_kwargs(kwargs)\n\u001b[0;32m--> 462\u001b[0m     \u001b[38;5;28;43msuper\u001b[39;49m\u001b[43m(\u001b[49m\u001b[43m)\u001b[49m\u001b[38;5;241;43m.\u001b[39;49m\u001b[38;5;21;43m__init__\u001b[39;49m\u001b[43m(\u001b[49m\u001b[43mendog\u001b[49m\u001b[43m,\u001b[49m\u001b[43m \u001b[49m\u001b[43mexog\u001b[49m\u001b[43m,\u001b[49m\u001b[43m \u001b[49m\u001b[43mcheck_rank\u001b[49m\u001b[43m,\u001b[49m\u001b[43m \u001b[49m\u001b[38;5;241;43m*\u001b[39;49m\u001b[38;5;241;43m*\u001b[39;49m\u001b[43mkwargs\u001b[49m\u001b[43m)\u001b[49m\n\u001b[1;32m    463\u001b[0m     \u001b[38;5;28;01mif\u001b[39;00m \u001b[38;5;129;01mnot\u001b[39;00m \u001b[38;5;28missubclass\u001b[39m(\u001b[38;5;28mself\u001b[39m\u001b[38;5;241m.\u001b[39m\u001b[38;5;18m__class__\u001b[39m, MultinomialModel):\n\u001b[1;32m    464\u001b[0m         \u001b[38;5;28;01mif\u001b[39;00m \u001b[38;5;129;01mnot\u001b[39;00m np\u001b[38;5;241m.\u001b[39mall((\u001b[38;5;28mself\u001b[39m\u001b[38;5;241m.\u001b[39mendog \u001b[38;5;241m>\u001b[39m\u001b[38;5;241m=\u001b[39m \u001b[38;5;241m0\u001b[39m) \u001b[38;5;241m&\u001b[39m (\u001b[38;5;28mself\u001b[39m\u001b[38;5;241m.\u001b[39mendog \u001b[38;5;241m<\u001b[39m\u001b[38;5;241m=\u001b[39m \u001b[38;5;241m1\u001b[39m)):\n",
      "File \u001b[0;32m/Applications/Anaconda/anaconda3/envs/sklearn/lib/python3.9/site-packages/statsmodels/discrete/discrete_model.py:178\u001b[0m, in \u001b[0;36mDiscreteModel.__init__\u001b[0;34m(self, endog, exog, check_rank, **kwargs)\u001b[0m\n\u001b[1;32m    176\u001b[0m \u001b[38;5;28;01mdef\u001b[39;00m \u001b[38;5;21m__init__\u001b[39m(\u001b[38;5;28mself\u001b[39m, endog, exog, check_rank\u001b[38;5;241m=\u001b[39m\u001b[38;5;28;01mTrue\u001b[39;00m, \u001b[38;5;241m*\u001b[39m\u001b[38;5;241m*\u001b[39mkwargs):\n\u001b[1;32m    177\u001b[0m     \u001b[38;5;28mself\u001b[39m\u001b[38;5;241m.\u001b[39m_check_rank \u001b[38;5;241m=\u001b[39m check_rank\n\u001b[0;32m--> 178\u001b[0m     \u001b[38;5;28;43msuper\u001b[39;49m\u001b[43m(\u001b[49m\u001b[43m)\u001b[49m\u001b[38;5;241;43m.\u001b[39;49m\u001b[38;5;21;43m__init__\u001b[39;49m\u001b[43m(\u001b[49m\u001b[43mendog\u001b[49m\u001b[43m,\u001b[49m\u001b[43m \u001b[49m\u001b[43mexog\u001b[49m\u001b[43m,\u001b[49m\u001b[43m \u001b[49m\u001b[38;5;241;43m*\u001b[39;49m\u001b[38;5;241;43m*\u001b[39;49m\u001b[43mkwargs\u001b[49m\u001b[43m)\u001b[49m\n\u001b[1;32m    179\u001b[0m     \u001b[38;5;28mself\u001b[39m\u001b[38;5;241m.\u001b[39mraise_on_perfect_prediction \u001b[38;5;241m=\u001b[39m \u001b[38;5;28;01mTrue\u001b[39;00m\n",
      "File \u001b[0;32m/Applications/Anaconda/anaconda3/envs/sklearn/lib/python3.9/site-packages/statsmodels/base/model.py:267\u001b[0m, in \u001b[0;36mLikelihoodModel.__init__\u001b[0;34m(self, endog, exog, **kwargs)\u001b[0m\n\u001b[1;32m    266\u001b[0m \u001b[38;5;28;01mdef\u001b[39;00m \u001b[38;5;21m__init__\u001b[39m(\u001b[38;5;28mself\u001b[39m, endog, exog\u001b[38;5;241m=\u001b[39m\u001b[38;5;28;01mNone\u001b[39;00m, \u001b[38;5;241m*\u001b[39m\u001b[38;5;241m*\u001b[39mkwargs):\n\u001b[0;32m--> 267\u001b[0m     \u001b[38;5;28;43msuper\u001b[39;49m\u001b[43m(\u001b[49m\u001b[43m)\u001b[49m\u001b[38;5;241;43m.\u001b[39;49m\u001b[38;5;21;43m__init__\u001b[39;49m\u001b[43m(\u001b[49m\u001b[43mendog\u001b[49m\u001b[43m,\u001b[49m\u001b[43m \u001b[49m\u001b[43mexog\u001b[49m\u001b[43m,\u001b[49m\u001b[43m \u001b[49m\u001b[38;5;241;43m*\u001b[39;49m\u001b[38;5;241;43m*\u001b[39;49m\u001b[43mkwargs\u001b[49m\u001b[43m)\u001b[49m\n\u001b[1;32m    268\u001b[0m     \u001b[38;5;28mself\u001b[39m\u001b[38;5;241m.\u001b[39minitialize()\n",
      "File \u001b[0;32m/Applications/Anaconda/anaconda3/envs/sklearn/lib/python3.9/site-packages/statsmodels/base/model.py:92\u001b[0m, in \u001b[0;36mModel.__init__\u001b[0;34m(self, endog, exog, **kwargs)\u001b[0m\n\u001b[1;32m     90\u001b[0m missing \u001b[38;5;241m=\u001b[39m kwargs\u001b[38;5;241m.\u001b[39mpop(\u001b[38;5;124m'\u001b[39m\u001b[38;5;124mmissing\u001b[39m\u001b[38;5;124m'\u001b[39m, \u001b[38;5;124m'\u001b[39m\u001b[38;5;124mnone\u001b[39m\u001b[38;5;124m'\u001b[39m)\n\u001b[1;32m     91\u001b[0m hasconst \u001b[38;5;241m=\u001b[39m kwargs\u001b[38;5;241m.\u001b[39mpop(\u001b[38;5;124m'\u001b[39m\u001b[38;5;124mhasconst\u001b[39m\u001b[38;5;124m'\u001b[39m, \u001b[38;5;28;01mNone\u001b[39;00m)\n\u001b[0;32m---> 92\u001b[0m \u001b[38;5;28mself\u001b[39m\u001b[38;5;241m.\u001b[39mdata \u001b[38;5;241m=\u001b[39m \u001b[38;5;28;43mself\u001b[39;49m\u001b[38;5;241;43m.\u001b[39;49m\u001b[43m_handle_data\u001b[49m\u001b[43m(\u001b[49m\u001b[43mendog\u001b[49m\u001b[43m,\u001b[49m\u001b[43m \u001b[49m\u001b[43mexog\u001b[49m\u001b[43m,\u001b[49m\u001b[43m \u001b[49m\u001b[43mmissing\u001b[49m\u001b[43m,\u001b[49m\u001b[43m \u001b[49m\u001b[43mhasconst\u001b[49m\u001b[43m,\u001b[49m\n\u001b[1;32m     93\u001b[0m \u001b[43m                              \u001b[49m\u001b[38;5;241;43m*\u001b[39;49m\u001b[38;5;241;43m*\u001b[39;49m\u001b[43mkwargs\u001b[49m\u001b[43m)\u001b[49m\n\u001b[1;32m     94\u001b[0m \u001b[38;5;28mself\u001b[39m\u001b[38;5;241m.\u001b[39mk_constant \u001b[38;5;241m=\u001b[39m \u001b[38;5;28mself\u001b[39m\u001b[38;5;241m.\u001b[39mdata\u001b[38;5;241m.\u001b[39mk_constant\n\u001b[1;32m     95\u001b[0m \u001b[38;5;28mself\u001b[39m\u001b[38;5;241m.\u001b[39mexog \u001b[38;5;241m=\u001b[39m \u001b[38;5;28mself\u001b[39m\u001b[38;5;241m.\u001b[39mdata\u001b[38;5;241m.\u001b[39mexog\n",
      "File \u001b[0;32m/Applications/Anaconda/anaconda3/envs/sklearn/lib/python3.9/site-packages/statsmodels/base/model.py:132\u001b[0m, in \u001b[0;36mModel._handle_data\u001b[0;34m(self, endog, exog, missing, hasconst, **kwargs)\u001b[0m\n\u001b[1;32m    131\u001b[0m \u001b[38;5;28;01mdef\u001b[39;00m \u001b[38;5;21m_handle_data\u001b[39m(\u001b[38;5;28mself\u001b[39m, endog, exog, missing, hasconst, \u001b[38;5;241m*\u001b[39m\u001b[38;5;241m*\u001b[39mkwargs):\n\u001b[0;32m--> 132\u001b[0m     data \u001b[38;5;241m=\u001b[39m \u001b[43mhandle_data\u001b[49m\u001b[43m(\u001b[49m\u001b[43mendog\u001b[49m\u001b[43m,\u001b[49m\u001b[43m \u001b[49m\u001b[43mexog\u001b[49m\u001b[43m,\u001b[49m\u001b[43m \u001b[49m\u001b[43mmissing\u001b[49m\u001b[43m,\u001b[49m\u001b[43m \u001b[49m\u001b[43mhasconst\u001b[49m\u001b[43m,\u001b[49m\u001b[43m \u001b[49m\u001b[38;5;241;43m*\u001b[39;49m\u001b[38;5;241;43m*\u001b[39;49m\u001b[43mkwargs\u001b[49m\u001b[43m)\u001b[49m\n\u001b[1;32m    133\u001b[0m     \u001b[38;5;66;03m# kwargs arrays could have changed, easier to just attach here\u001b[39;00m\n\u001b[1;32m    134\u001b[0m     \u001b[38;5;28;01mfor\u001b[39;00m key \u001b[38;5;129;01min\u001b[39;00m kwargs:\n",
      "File \u001b[0;32m/Applications/Anaconda/anaconda3/envs/sklearn/lib/python3.9/site-packages/statsmodels/base/data.py:673\u001b[0m, in \u001b[0;36mhandle_data\u001b[0;34m(endog, exog, missing, hasconst, **kwargs)\u001b[0m\n\u001b[1;32m    670\u001b[0m     exog \u001b[38;5;241m=\u001b[39m np\u001b[38;5;241m.\u001b[39masarray(exog)\n\u001b[1;32m    672\u001b[0m klass \u001b[38;5;241m=\u001b[39m handle_data_class_factory(endog, exog)\n\u001b[0;32m--> 673\u001b[0m \u001b[38;5;28;01mreturn\u001b[39;00m \u001b[43mklass\u001b[49m\u001b[43m(\u001b[49m\u001b[43mendog\u001b[49m\u001b[43m,\u001b[49m\u001b[43m \u001b[49m\u001b[43mexog\u001b[49m\u001b[38;5;241;43m=\u001b[39;49m\u001b[43mexog\u001b[49m\u001b[43m,\u001b[49m\u001b[43m \u001b[49m\u001b[43mmissing\u001b[49m\u001b[38;5;241;43m=\u001b[39;49m\u001b[43mmissing\u001b[49m\u001b[43m,\u001b[49m\u001b[43m \u001b[49m\u001b[43mhasconst\u001b[49m\u001b[38;5;241;43m=\u001b[39;49m\u001b[43mhasconst\u001b[49m\u001b[43m,\u001b[49m\n\u001b[1;32m    674\u001b[0m \u001b[43m             \u001b[49m\u001b[38;5;241;43m*\u001b[39;49m\u001b[38;5;241;43m*\u001b[39;49m\u001b[43mkwargs\u001b[49m\u001b[43m)\u001b[49m\n",
      "File \u001b[0;32m/Applications/Anaconda/anaconda3/envs/sklearn/lib/python3.9/site-packages/statsmodels/base/data.py:86\u001b[0m, in \u001b[0;36mModelData.__init__\u001b[0;34m(self, endog, exog, missing, hasconst, **kwargs)\u001b[0m\n\u001b[1;32m     84\u001b[0m \u001b[38;5;28mself\u001b[39m\u001b[38;5;241m.\u001b[39mconst_idx \u001b[38;5;241m=\u001b[39m \u001b[38;5;28;01mNone\u001b[39;00m\n\u001b[1;32m     85\u001b[0m \u001b[38;5;28mself\u001b[39m\u001b[38;5;241m.\u001b[39mk_constant \u001b[38;5;241m=\u001b[39m \u001b[38;5;241m0\u001b[39m\n\u001b[0;32m---> 86\u001b[0m \u001b[38;5;28;43mself\u001b[39;49m\u001b[38;5;241;43m.\u001b[39;49m\u001b[43m_handle_constant\u001b[49m\u001b[43m(\u001b[49m\u001b[43mhasconst\u001b[49m\u001b[43m)\u001b[49m\n\u001b[1;32m     87\u001b[0m \u001b[38;5;28mself\u001b[39m\u001b[38;5;241m.\u001b[39m_check_integrity()\n\u001b[1;32m     88\u001b[0m \u001b[38;5;28mself\u001b[39m\u001b[38;5;241m.\u001b[39m_cache \u001b[38;5;241m=\u001b[39m {}\n",
      "File \u001b[0;32m/Applications/Anaconda/anaconda3/envs/sklearn/lib/python3.9/site-packages/statsmodels/base/data.py:176\u001b[0m, in \u001b[0;36mModelData._handle_constant\u001b[0;34m(self, hasconst)\u001b[0m\n\u001b[1;32m    173\u001b[0m augmented_exog \u001b[38;5;241m=\u001b[39m np\u001b[38;5;241m.\u001b[39mcolumn_stack(\n\u001b[1;32m    174\u001b[0m             (np\u001b[38;5;241m.\u001b[39mones(\u001b[38;5;28mself\u001b[39m\u001b[38;5;241m.\u001b[39mexog\u001b[38;5;241m.\u001b[39mshape[\u001b[38;5;241m0\u001b[39m]), \u001b[38;5;28mself\u001b[39m\u001b[38;5;241m.\u001b[39mexog))\n\u001b[1;32m    175\u001b[0m rank_augm \u001b[38;5;241m=\u001b[39m np\u001b[38;5;241m.\u001b[39mlinalg\u001b[38;5;241m.\u001b[39mmatrix_rank(augmented_exog)\n\u001b[0;32m--> 176\u001b[0m rank_orig \u001b[38;5;241m=\u001b[39m \u001b[43mnp\u001b[49m\u001b[38;5;241;43m.\u001b[39;49m\u001b[43mlinalg\u001b[49m\u001b[38;5;241;43m.\u001b[39;49m\u001b[43mmatrix_rank\u001b[49m\u001b[43m(\u001b[49m\u001b[38;5;28;43mself\u001b[39;49m\u001b[38;5;241;43m.\u001b[39;49m\u001b[43mexog\u001b[49m\u001b[43m)\u001b[49m\n\u001b[1;32m    177\u001b[0m \u001b[38;5;28mself\u001b[39m\u001b[38;5;241m.\u001b[39mk_constant \u001b[38;5;241m=\u001b[39m \u001b[38;5;28mint\u001b[39m(rank_orig \u001b[38;5;241m==\u001b[39m rank_augm)\n\u001b[1;32m    178\u001b[0m \u001b[38;5;28mself\u001b[39m\u001b[38;5;241m.\u001b[39mconst_idx \u001b[38;5;241m=\u001b[39m \u001b[38;5;28;01mNone\u001b[39;00m\n",
      "File \u001b[0;32m/Applications/Anaconda/anaconda3/envs/sklearn/lib/python3.9/site-packages/numpy/linalg/linalg.py:1924\u001b[0m, in \u001b[0;36mmatrix_rank\u001b[0;34m(A, tol, hermitian)\u001b[0m\n\u001b[1;32m   1922\u001b[0m S \u001b[38;5;241m=\u001b[39m svd(A, compute_uv\u001b[38;5;241m=\u001b[39m\u001b[38;5;28;01mFalse\u001b[39;00m, hermitian\u001b[38;5;241m=\u001b[39mhermitian)\n\u001b[1;32m   1923\u001b[0m \u001b[38;5;28;01mif\u001b[39;00m tol \u001b[38;5;129;01mis\u001b[39;00m \u001b[38;5;28;01mNone\u001b[39;00m:\n\u001b[0;32m-> 1924\u001b[0m     tol \u001b[38;5;241m=\u001b[39m \u001b[43mS\u001b[49m\u001b[38;5;241;43m.\u001b[39;49m\u001b[43mmax\u001b[49m\u001b[43m(\u001b[49m\u001b[43maxis\u001b[49m\u001b[38;5;241;43m=\u001b[39;49m\u001b[38;5;241;43m-\u001b[39;49m\u001b[38;5;241;43m1\u001b[39;49m\u001b[43m,\u001b[49m\u001b[43m \u001b[49m\u001b[43mkeepdims\u001b[49m\u001b[38;5;241;43m=\u001b[39;49m\u001b[38;5;28;43;01mTrue\u001b[39;49;00m\u001b[43m)\u001b[49m \u001b[38;5;241m*\u001b[39m \u001b[38;5;28mmax\u001b[39m(A\u001b[38;5;241m.\u001b[39mshape[\u001b[38;5;241m-\u001b[39m\u001b[38;5;241m2\u001b[39m:]) \u001b[38;5;241m*\u001b[39m finfo(S\u001b[38;5;241m.\u001b[39mdtype)\u001b[38;5;241m.\u001b[39meps\n\u001b[1;32m   1925\u001b[0m \u001b[38;5;28;01melse\u001b[39;00m:\n\u001b[1;32m   1926\u001b[0m     tol \u001b[38;5;241m=\u001b[39m asarray(tol)[\u001b[38;5;241m.\u001b[39m\u001b[38;5;241m.\u001b[39m\u001b[38;5;241m.\u001b[39m, newaxis]\n",
      "File \u001b[0;32m/Applications/Anaconda/anaconda3/envs/sklearn/lib/python3.9/site-packages/numpy/core/_methods.py:41\u001b[0m, in \u001b[0;36m_amax\u001b[0;34m(a, axis, out, keepdims, initial, where)\u001b[0m\n\u001b[1;32m     39\u001b[0m \u001b[38;5;28;01mdef\u001b[39;00m \u001b[38;5;21m_amax\u001b[39m(a, axis\u001b[38;5;241m=\u001b[39m\u001b[38;5;28;01mNone\u001b[39;00m, out\u001b[38;5;241m=\u001b[39m\u001b[38;5;28;01mNone\u001b[39;00m, keepdims\u001b[38;5;241m=\u001b[39m\u001b[38;5;28;01mFalse\u001b[39;00m,\n\u001b[1;32m     40\u001b[0m           initial\u001b[38;5;241m=\u001b[39m_NoValue, where\u001b[38;5;241m=\u001b[39m\u001b[38;5;28;01mTrue\u001b[39;00m):\n\u001b[0;32m---> 41\u001b[0m     \u001b[38;5;28;01mreturn\u001b[39;00m \u001b[43mumr_maximum\u001b[49m\u001b[43m(\u001b[49m\u001b[43ma\u001b[49m\u001b[43m,\u001b[49m\u001b[43m \u001b[49m\u001b[43maxis\u001b[49m\u001b[43m,\u001b[49m\u001b[43m \u001b[49m\u001b[38;5;28;43;01mNone\u001b[39;49;00m\u001b[43m,\u001b[49m\u001b[43m \u001b[49m\u001b[43mout\u001b[49m\u001b[43m,\u001b[49m\u001b[43m \u001b[49m\u001b[43mkeepdims\u001b[49m\u001b[43m,\u001b[49m\u001b[43m \u001b[49m\u001b[43minitial\u001b[49m\u001b[43m,\u001b[49m\u001b[43m \u001b[49m\u001b[43mwhere\u001b[49m\u001b[43m)\u001b[49m\n",
      "\u001b[0;31mValueError\u001b[0m: zero-size array to reduction operation maximum which has no identity"
     ]
    }
   ],
   "source": [
    "# instantiate the logistic regression model \n",
    "logreg = sm.Logit(y, X_const)\n",
    "\n",
    "# fit the model\n",
    "logreg_results = logreg.fit()\n",
    "\n",
    "# display the results \n",
    "logreg_results.summary()"
   ]
  },
  {
   "cell_type": "markdown",
   "id": "96bf0a21-b632-428d-9ffd-af746226dc32",
   "metadata": {},
   "source": [
    "PLACEHOLDER TEXT  \n",
    "All features have p-values above 0.05 except time, which is just under the limit."
   ]
  },
  {
   "cell_type": "code",
   "execution_count": 209,
   "id": "e6f51e43-cae8-4535-8c6f-784b00ce9df4",
   "metadata": {},
   "outputs": [
    {
     "ename": "NameError",
     "evalue": "name 'logreg_results' is not defined",
     "output_type": "error",
     "traceback": [
      "\u001b[0;31m---------------------------------------------------------------------------\u001b[0m",
      "\u001b[0;31mNameError\u001b[0m                                 Traceback (most recent call last)",
      "Cell \u001b[0;32mIn[209], line 3\u001b[0m\n\u001b[1;32m      1\u001b[0m \u001b[38;5;66;03m# getting the model predictions as probabilities \u001b[39;00m\n\u001b[1;32m      2\u001b[0m \u001b[38;5;66;03m# and saving to 'y_proba'\u001b[39;00m\n\u001b[0;32m----> 3\u001b[0m y_proba \u001b[38;5;241m=\u001b[39m \u001b[43mlogreg_results\u001b[49m\u001b[38;5;241m.\u001b[39mpredict(X_const)\n\u001b[1;32m      5\u001b[0m \u001b[38;5;66;03m# view \u001b[39;00m\n\u001b[1;32m      6\u001b[0m y_proba\n",
      "\u001b[0;31mNameError\u001b[0m: name 'logreg_results' is not defined"
     ]
    }
   ],
   "source": [
    "# getting the model predictions as probabilities \n",
    "# and saving to 'y_proba'\n",
    "y_proba = logreg_results.predict(X_const)\n",
    "\n",
    "# view \n",
    "y_proba"
   ]
  },
  {
   "cell_type": "code",
   "execution_count": 210,
   "id": "53e00bf8-034b-49a2-b448-7d5c2a05058c",
   "metadata": {},
   "outputs": [
    {
     "ename": "NameError",
     "evalue": "name 'y_proba' is not defined",
     "output_type": "error",
     "traceback": [
      "\u001b[0;31m---------------------------------------------------------------------------\u001b[0m",
      "\u001b[0;31mNameError\u001b[0m                                 Traceback (most recent call last)",
      "Cell \u001b[0;32mIn[210], line 4\u001b[0m\n\u001b[1;32m      1\u001b[0m \u001b[38;5;66;03m# assume probability >=50%\u001b[39;00m\n\u001b[1;32m      2\u001b[0m \u001b[38;5;66;03m# is a happy customer prediction\u001b[39;00m\n\u001b[1;32m      3\u001b[0m \u001b[38;5;66;03m# so we'll make the soft preds into hard preds\u001b[39;00m\n\u001b[0;32m----> 4\u001b[0m y_pred \u001b[38;5;241m=\u001b[39m np\u001b[38;5;241m.\u001b[39mwhere(\u001b[43my_proba\u001b[49m \u001b[38;5;241m>\u001b[39m\u001b[38;5;241m=\u001b[39m \u001b[38;5;241m0.5\u001b[39m, \u001b[38;5;241m1\u001b[39m, \u001b[38;5;241m0\u001b[39m)\n\u001b[1;32m      6\u001b[0m \u001b[38;5;66;03m# look at the model's predictions\u001b[39;00m\n\u001b[1;32m      7\u001b[0m y_pred\n",
      "\u001b[0;31mNameError\u001b[0m: name 'y_proba' is not defined"
     ]
    }
   ],
   "source": [
    "# assume probability >=50%\n",
    "# is a happy customer prediction\n",
    "# so we'll make the soft preds into hard preds\n",
    "y_pred = np.where(y_proba >= 0.5, 1, 0)\n",
    "\n",
    "# look at the model's predictions\n",
    "y_pred"
   ]
  },
  {
   "cell_type": "code",
   "execution_count": 211,
   "id": "49733a6a-603f-478a-ac13-510de61ad51c",
   "metadata": {},
   "outputs": [
    {
     "ename": "ValueError",
     "evalue": "('Lengths must match to compare', (126,), (26,))",
     "output_type": "error",
     "traceback": [
      "\u001b[0;31m---------------------------------------------------------------------------\u001b[0m",
      "\u001b[0;31mValueError\u001b[0m                                Traceback (most recent call last)",
      "Cell \u001b[0;32mIn[211], line 4\u001b[0m\n\u001b[1;32m      1\u001b[0m \u001b[38;5;66;03m# calculate accuracy\u001b[39;00m\n\u001b[1;32m      2\u001b[0m \u001b[38;5;66;03m# find where predicted = true survival\u001b[39;00m\n\u001b[1;32m      3\u001b[0m \u001b[38;5;66;03m# then divide by the number of predictions/passengers\u001b[39;00m\n\u001b[0;32m----> 4\u001b[0m acc \u001b[38;5;241m=\u001b[39m (\u001b[43my_pred\u001b[49m\u001b[43m \u001b[49m\u001b[38;5;241;43m==\u001b[39;49m\u001b[43m \u001b[49m\u001b[43my\u001b[49m)\u001b[38;5;241m.\u001b[39msum()\u001b[38;5;241m/\u001b[39mdf\u001b[38;5;241m.\u001b[39mshape[\u001b[38;5;241m0\u001b[39m]\n\u001b[1;32m      6\u001b[0m \u001b[38;5;66;03m# Print the accuracy score\u001b[39;00m\n\u001b[1;32m      7\u001b[0m \u001b[38;5;28mprint\u001b[39m(\u001b[38;5;124mf\u001b[39m\u001b[38;5;124m'\u001b[39m\u001b[38;5;124mModel accuracy = \u001b[39m\u001b[38;5;132;01m{\u001b[39;00macc\u001b[38;5;132;01m}\u001b[39;00m\u001b[38;5;124m'\u001b[39m)\n",
      "File \u001b[0;32m/Applications/Anaconda/anaconda3/envs/sklearn/lib/python3.9/site-packages/pandas/core/generic.py:2113\u001b[0m, in \u001b[0;36mNDFrame.__array_ufunc__\u001b[0;34m(self, ufunc, method, *inputs, **kwargs)\u001b[0m\n\u001b[1;32m   2109\u001b[0m \u001b[38;5;129m@final\u001b[39m\n\u001b[1;32m   2110\u001b[0m \u001b[38;5;28;01mdef\u001b[39;00m \u001b[38;5;21m__array_ufunc__\u001b[39m(\n\u001b[1;32m   2111\u001b[0m     \u001b[38;5;28mself\u001b[39m, ufunc: np\u001b[38;5;241m.\u001b[39mufunc, method: \u001b[38;5;28mstr\u001b[39m, \u001b[38;5;241m*\u001b[39minputs: Any, \u001b[38;5;241m*\u001b[39m\u001b[38;5;241m*\u001b[39mkwargs: Any\n\u001b[1;32m   2112\u001b[0m ):\n\u001b[0;32m-> 2113\u001b[0m     \u001b[38;5;28;01mreturn\u001b[39;00m \u001b[43marraylike\u001b[49m\u001b[38;5;241;43m.\u001b[39;49m\u001b[43marray_ufunc\u001b[49m\u001b[43m(\u001b[49m\u001b[38;5;28;43mself\u001b[39;49m\u001b[43m,\u001b[49m\u001b[43m \u001b[49m\u001b[43mufunc\u001b[49m\u001b[43m,\u001b[49m\u001b[43m \u001b[49m\u001b[43mmethod\u001b[49m\u001b[43m,\u001b[49m\u001b[43m \u001b[49m\u001b[38;5;241;43m*\u001b[39;49m\u001b[43minputs\u001b[49m\u001b[43m,\u001b[49m\u001b[43m \u001b[49m\u001b[38;5;241;43m*\u001b[39;49m\u001b[38;5;241;43m*\u001b[39;49m\u001b[43mkwargs\u001b[49m\u001b[43m)\u001b[49m\n",
      "File \u001b[0;32m/Applications/Anaconda/anaconda3/envs/sklearn/lib/python3.9/site-packages/pandas/core/arraylike.py:265\u001b[0m, in \u001b[0;36marray_ufunc\u001b[0;34m(self, ufunc, method, *inputs, **kwargs)\u001b[0m\n\u001b[1;32m    262\u001b[0m     \u001b[38;5;28;01mreturn\u001b[39;00m result\n\u001b[1;32m    264\u001b[0m \u001b[38;5;66;03m# for binary ops, use our custom dunder methods\u001b[39;00m\n\u001b[0;32m--> 265\u001b[0m result \u001b[38;5;241m=\u001b[39m \u001b[43mmaybe_dispatch_ufunc_to_dunder_op\u001b[49m\u001b[43m(\u001b[49m\u001b[38;5;28;43mself\u001b[39;49m\u001b[43m,\u001b[49m\u001b[43m \u001b[49m\u001b[43mufunc\u001b[49m\u001b[43m,\u001b[49m\u001b[43m \u001b[49m\u001b[43mmethod\u001b[49m\u001b[43m,\u001b[49m\u001b[43m \u001b[49m\u001b[38;5;241;43m*\u001b[39;49m\u001b[43minputs\u001b[49m\u001b[43m,\u001b[49m\u001b[43m \u001b[49m\u001b[38;5;241;43m*\u001b[39;49m\u001b[38;5;241;43m*\u001b[39;49m\u001b[43mkwargs\u001b[49m\u001b[43m)\u001b[49m\n\u001b[1;32m    266\u001b[0m \u001b[38;5;28;01mif\u001b[39;00m result \u001b[38;5;129;01mis\u001b[39;00m \u001b[38;5;129;01mnot\u001b[39;00m \u001b[38;5;28mNotImplemented\u001b[39m:\n\u001b[1;32m    267\u001b[0m     \u001b[38;5;28;01mreturn\u001b[39;00m result\n",
      "File \u001b[0;32m/Applications/Anaconda/anaconda3/envs/sklearn/lib/python3.9/site-packages/pandas/_libs/ops_dispatch.pyx:113\u001b[0m, in \u001b[0;36mpandas._libs.ops_dispatch.maybe_dispatch_ufunc_to_dunder_op\u001b[0;34m()\u001b[0m\n",
      "File \u001b[0;32m/Applications/Anaconda/anaconda3/envs/sklearn/lib/python3.9/site-packages/pandas/core/ops/common.py:72\u001b[0m, in \u001b[0;36m_unpack_zerodim_and_defer.<locals>.new_method\u001b[0;34m(self, other)\u001b[0m\n\u001b[1;32m     68\u001b[0m             \u001b[38;5;28;01mreturn\u001b[39;00m \u001b[38;5;28mNotImplemented\u001b[39m\n\u001b[1;32m     70\u001b[0m other \u001b[38;5;241m=\u001b[39m item_from_zerodim(other)\n\u001b[0;32m---> 72\u001b[0m \u001b[38;5;28;01mreturn\u001b[39;00m \u001b[43mmethod\u001b[49m\u001b[43m(\u001b[49m\u001b[38;5;28;43mself\u001b[39;49m\u001b[43m,\u001b[49m\u001b[43m \u001b[49m\u001b[43mother\u001b[49m\u001b[43m)\u001b[49m\n",
      "File \u001b[0;32m/Applications/Anaconda/anaconda3/envs/sklearn/lib/python3.9/site-packages/pandas/core/arraylike.py:42\u001b[0m, in \u001b[0;36mOpsMixin.__eq__\u001b[0;34m(self, other)\u001b[0m\n\u001b[1;32m     40\u001b[0m \u001b[38;5;129m@unpack_zerodim_and_defer\u001b[39m(\u001b[38;5;124m\"\u001b[39m\u001b[38;5;124m__eq__\u001b[39m\u001b[38;5;124m\"\u001b[39m)\n\u001b[1;32m     41\u001b[0m \u001b[38;5;28;01mdef\u001b[39;00m \u001b[38;5;21m__eq__\u001b[39m(\u001b[38;5;28mself\u001b[39m, other):\n\u001b[0;32m---> 42\u001b[0m     \u001b[38;5;28;01mreturn\u001b[39;00m \u001b[38;5;28;43mself\u001b[39;49m\u001b[38;5;241;43m.\u001b[39;49m\u001b[43m_cmp_method\u001b[49m\u001b[43m(\u001b[49m\u001b[43mother\u001b[49m\u001b[43m,\u001b[49m\u001b[43m \u001b[49m\u001b[43moperator\u001b[49m\u001b[38;5;241;43m.\u001b[39;49m\u001b[43meq\u001b[49m\u001b[43m)\u001b[49m\n",
      "File \u001b[0;32m/Applications/Anaconda/anaconda3/envs/sklearn/lib/python3.9/site-packages/pandas/core/series.py:6243\u001b[0m, in \u001b[0;36mSeries._cmp_method\u001b[0;34m(self, other, op)\u001b[0m\n\u001b[1;32m   6240\u001b[0m rvalues \u001b[38;5;241m=\u001b[39m extract_array(other, extract_numpy\u001b[38;5;241m=\u001b[39m\u001b[38;5;28;01mTrue\u001b[39;00m, extract_range\u001b[38;5;241m=\u001b[39m\u001b[38;5;28;01mTrue\u001b[39;00m)\n\u001b[1;32m   6242\u001b[0m \u001b[38;5;28;01mwith\u001b[39;00m np\u001b[38;5;241m.\u001b[39merrstate(\u001b[38;5;28mall\u001b[39m\u001b[38;5;241m=\u001b[39m\u001b[38;5;124m\"\u001b[39m\u001b[38;5;124mignore\u001b[39m\u001b[38;5;124m\"\u001b[39m):\n\u001b[0;32m-> 6243\u001b[0m     res_values \u001b[38;5;241m=\u001b[39m \u001b[43mops\u001b[49m\u001b[38;5;241;43m.\u001b[39;49m\u001b[43mcomparison_op\u001b[49m\u001b[43m(\u001b[49m\u001b[43mlvalues\u001b[49m\u001b[43m,\u001b[49m\u001b[43m \u001b[49m\u001b[43mrvalues\u001b[49m\u001b[43m,\u001b[49m\u001b[43m \u001b[49m\u001b[43mop\u001b[49m\u001b[43m)\u001b[49m\n\u001b[1;32m   6245\u001b[0m \u001b[38;5;28;01mreturn\u001b[39;00m \u001b[38;5;28mself\u001b[39m\u001b[38;5;241m.\u001b[39m_construct_result(res_values, name\u001b[38;5;241m=\u001b[39mres_name)\n",
      "File \u001b[0;32m/Applications/Anaconda/anaconda3/envs/sklearn/lib/python3.9/site-packages/pandas/core/ops/array_ops.py:264\u001b[0m, in \u001b[0;36mcomparison_op\u001b[0;34m(left, right, op)\u001b[0m\n\u001b[1;32m    259\u001b[0m \u001b[38;5;28;01mif\u001b[39;00m \u001b[38;5;28misinstance\u001b[39m(rvalues, (np\u001b[38;5;241m.\u001b[39mndarray, ABCExtensionArray)):\n\u001b[1;32m    260\u001b[0m     \u001b[38;5;66;03m# TODO: make this treatment consistent across ops and classes.\u001b[39;00m\n\u001b[1;32m    261\u001b[0m     \u001b[38;5;66;03m#  We are not catching all listlikes here (e.g. frozenset, tuple)\u001b[39;00m\n\u001b[1;32m    262\u001b[0m     \u001b[38;5;66;03m#  The ambiguous case is object-dtype.  See GH#27803\u001b[39;00m\n\u001b[1;32m    263\u001b[0m     \u001b[38;5;28;01mif\u001b[39;00m \u001b[38;5;28mlen\u001b[39m(lvalues) \u001b[38;5;241m!=\u001b[39m \u001b[38;5;28mlen\u001b[39m(rvalues):\n\u001b[0;32m--> 264\u001b[0m         \u001b[38;5;28;01mraise\u001b[39;00m \u001b[38;5;167;01mValueError\u001b[39;00m(\n\u001b[1;32m    265\u001b[0m             \u001b[38;5;124m\"\u001b[39m\u001b[38;5;124mLengths must match to compare\u001b[39m\u001b[38;5;124m\"\u001b[39m, lvalues\u001b[38;5;241m.\u001b[39mshape, rvalues\u001b[38;5;241m.\u001b[39mshape\n\u001b[1;32m    266\u001b[0m         )\n\u001b[1;32m    268\u001b[0m \u001b[38;5;28;01mif\u001b[39;00m should_extension_dispatch(lvalues, rvalues) \u001b[38;5;129;01mor\u001b[39;00m (\n\u001b[1;32m    269\u001b[0m     (\u001b[38;5;28misinstance\u001b[39m(rvalues, (Timedelta, BaseOffset, Timestamp)) \u001b[38;5;129;01mor\u001b[39;00m right \u001b[38;5;129;01mis\u001b[39;00m NaT)\n\u001b[1;32m    270\u001b[0m     \u001b[38;5;129;01mand\u001b[39;00m \u001b[38;5;129;01mnot\u001b[39;00m is_object_dtype(lvalues\u001b[38;5;241m.\u001b[39mdtype)\n\u001b[1;32m    271\u001b[0m ):\n\u001b[1;32m    272\u001b[0m     \u001b[38;5;66;03m# Call the method on lvalues\u001b[39;00m\n\u001b[1;32m    273\u001b[0m     res_values \u001b[38;5;241m=\u001b[39m op(lvalues, rvalues)\n",
      "\u001b[0;31mValueError\u001b[0m: ('Lengths must match to compare', (126,), (26,))"
     ]
    }
   ],
   "source": [
    "# calculate accuracy\n",
    "# find where predicted = true survival\n",
    "# then divide by the number of predictions/passengers\n",
    "acc = (y_pred == y).sum()/df.shape[0]\n",
    "\n",
    "# Print the accuracy score\n",
    "print(f'Model accuracy = {acc}')"
   ]
  },
  {
   "cell_type": "code",
   "execution_count": 212,
   "id": "56a6baac-a753-4980-adca-bf4b1d075164",
   "metadata": {},
   "outputs": [
    {
     "ename": "NameError",
     "evalue": "name 'logreg_results' is not defined",
     "output_type": "error",
     "traceback": [
      "\u001b[0;31m---------------------------------------------------------------------------\u001b[0m",
      "\u001b[0;31mNameError\u001b[0m                                 Traceback (most recent call last)",
      "Cell \u001b[0;32mIn[212], line 2\u001b[0m\n\u001b[1;32m      1\u001b[0m \u001b[38;5;66;03m# put params into a dataframe\u001b[39;00m\n\u001b[0;32m----> 2\u001b[0m results_df \u001b[38;5;241m=\u001b[39m pd\u001b[38;5;241m.\u001b[39mDataFrame(\u001b[43mlogreg_results\u001b[49m\u001b[38;5;241m.\u001b[39mparams, columns\u001b[38;5;241m=\u001b[39m[\u001b[38;5;124m'\u001b[39m\u001b[38;5;124mCoefficient\u001b[39m\u001b[38;5;124m'\u001b[39m])\n\u001b[1;32m      4\u001b[0m \u001b[38;5;66;03m# view the dataframe\u001b[39;00m\n\u001b[1;32m      5\u001b[0m results_df\n",
      "\u001b[0;31mNameError\u001b[0m: name 'logreg_results' is not defined"
     ]
    }
   ],
   "source": [
    "# put params into a dataframe\n",
    "results_df = pd.DataFrame(logreg_results.params, columns=['Coefficient'])\n",
    "\n",
    "# view the dataframe\n",
    "results_df"
   ]
  },
  {
   "cell_type": "code",
   "execution_count": 213,
   "id": "a4ce8ee4-ad79-4806-8b2e-fc75bd7a421b",
   "metadata": {},
   "outputs": [
    {
     "ename": "NameError",
     "evalue": "name 'results_df' is not defined",
     "output_type": "error",
     "traceback": [
      "\u001b[0;31m---------------------------------------------------------------------------\u001b[0m",
      "\u001b[0;31mNameError\u001b[0m                                 Traceback (most recent call last)",
      "Cell \u001b[0;32mIn[213], line 3\u001b[0m\n\u001b[1;32m      1\u001b[0m \u001b[38;5;66;03m# calculate and add the odds ratios to results_df\u001b[39;00m\n\u001b[1;32m      2\u001b[0m \u001b[38;5;66;03m# log odds is more interpretable\u001b[39;00m\n\u001b[0;32m----> 3\u001b[0m results_df[\u001b[38;5;124m'\u001b[39m\u001b[38;5;124modds_ratio\u001b[39m\u001b[38;5;124m'\u001b[39m] \u001b[38;5;241m=\u001b[39m np\u001b[38;5;241m.\u001b[39mexp(\u001b[43mresults_df\u001b[49m[\u001b[38;5;124m'\u001b[39m\u001b[38;5;124mCoefficient\u001b[39m\u001b[38;5;124m'\u001b[39m])\n\u001b[1;32m      5\u001b[0m \u001b[38;5;66;03m# display the dataframe\u001b[39;00m\n\u001b[1;32m      6\u001b[0m results_df\n",
      "\u001b[0;31mNameError\u001b[0m: name 'results_df' is not defined"
     ]
    }
   ],
   "source": [
    "# calculate and add the odds ratios to results_df\n",
    "# log odds is more interpretable\n",
    "results_df['odds_ratio'] = np.exp(results_df['Coefficient'])\n",
    "\n",
    "# display the dataframe\n",
    "results_df"
   ]
  },
  {
   "cell_type": "markdown",
   "id": "0b4dc69e-d83e-4fc7-b591-0b48751128cb",
   "metadata": {},
   "source": [
    "Each component of the survey shows that it has an impact on the overall happiness of the customer. Time is the largest factor, which makes sense: when you're hungry, you want food as soon as possible."
   ]
  },
  {
   "cell_type": "markdown",
   "id": "449df782-1939-4117-b021-be6783c2829c",
   "metadata": {},
   "source": [
    "Given that the p-values of time was the only factor that was below the 0.05 threshold suggests that we should try this again with only time as the independent variable."
   ]
  },
  {
   "cell_type": "code",
   "execution_count": 214,
   "id": "b852209d-1dfa-4a9c-8959-05b2663ded8e",
   "metadata": {},
   "outputs": [],
   "source": [
    "# add constant to our X\n",
    "X_const=sm.add_constant(df[[col for col in df.columns if col != 'y']])"
   ]
  },
  {
   "cell_type": "code",
   "execution_count": 215,
   "id": "b80a5c6e-cd04-4057-83f7-9141809d6eb1",
   "metadata": {},
   "outputs": [
    {
     "data": {
      "text/html": [
       "<div>\n",
       "<style scoped>\n",
       "    .dataframe tbody tr th:only-of-type {\n",
       "        vertical-align: middle;\n",
       "    }\n",
       "\n",
       "    .dataframe tbody tr th {\n",
       "        vertical-align: top;\n",
       "    }\n",
       "\n",
       "    .dataframe thead th {\n",
       "        text-align: right;\n",
       "    }\n",
       "</style>\n",
       "<table border=\"1\" class=\"dataframe\">\n",
       "  <thead>\n",
       "    <tr style=\"text-align: right;\">\n",
       "      <th></th>\n",
       "    </tr>\n",
       "  </thead>\n",
       "  <tbody>\n",
       "    <tr>\n",
       "      <th>0</th>\n",
       "    </tr>\n",
       "    <tr>\n",
       "      <th>1</th>\n",
       "    </tr>\n",
       "    <tr>\n",
       "      <th>2</th>\n",
       "    </tr>\n",
       "    <tr>\n",
       "      <th>3</th>\n",
       "    </tr>\n",
       "    <tr>\n",
       "      <th>4</th>\n",
       "    </tr>\n",
       "    <tr>\n",
       "      <th>...</th>\n",
       "    </tr>\n",
       "    <tr>\n",
       "      <th>121</th>\n",
       "    </tr>\n",
       "    <tr>\n",
       "      <th>122</th>\n",
       "    </tr>\n",
       "    <tr>\n",
       "      <th>123</th>\n",
       "    </tr>\n",
       "    <tr>\n",
       "      <th>124</th>\n",
       "    </tr>\n",
       "    <tr>\n",
       "      <th>125</th>\n",
       "    </tr>\n",
       "  </tbody>\n",
       "</table>\n",
       "<p>126 rows × 0 columns</p>\n",
       "</div>"
      ],
      "text/plain": [
       "Empty DataFrame\n",
       "Columns: []\n",
       "Index: [0, 1, 2, 3, 4, 5, 6, 7, 8, 9, 10, 11, 12, 13, 14, 15, 16, 17, 18, 19, 20, 21, 22, 23, 24, 25, 26, 27, 28, 29, 30, 31, 32, 33, 34, 35, 36, 37, 38, 39, 40, 41, 42, 43, 44, 45, 46, 47, 48, 49, 50, 51, 52, 53, 54, 55, 56, 57, 58, 59, 60, 61, 62, 63, 64, 65, 66, 67, 68, 69, 70, 71, 72, 73, 74, 75, 76, 77, 78, 79, 80, 81, 82, 83, 84, 85, 86, 87, 88, 89, 90, 91, 92, 93, 94, 95, 96, 97, 98, 99, ...]\n",
       "\n",
       "[126 rows x 0 columns]"
      ]
     },
     "execution_count": 215,
     "metadata": {},
     "output_type": "execute_result"
    }
   ],
   "source": [
    "# check it out\n",
    "X_const=X_const.drop([col for col in X_const.columns if (col !='a_time') or (col !='const')],axis=1)\n",
    "X_const"
   ]
  },
  {
   "cell_type": "code",
   "execution_count": 216,
   "id": "714b1dd5-2c33-4fd7-9d87-d5d416006c81",
   "metadata": {},
   "outputs": [
    {
     "ename": "ValueError",
     "evalue": "zero-size array to reduction operation maximum which has no identity",
     "output_type": "error",
     "traceback": [
      "\u001b[0;31m---------------------------------------------------------------------------\u001b[0m",
      "\u001b[0;31mValueError\u001b[0m                                Traceback (most recent call last)",
      "Cell \u001b[0;32mIn[216], line 2\u001b[0m\n\u001b[1;32m      1\u001b[0m \u001b[38;5;66;03m# instantiate the logistic regression model \u001b[39;00m\n\u001b[0;32m----> 2\u001b[0m logreg \u001b[38;5;241m=\u001b[39m \u001b[43msm\u001b[49m\u001b[38;5;241;43m.\u001b[39;49m\u001b[43mLogit\u001b[49m\u001b[43m(\u001b[49m\u001b[43my\u001b[49m\u001b[43m,\u001b[49m\u001b[43m \u001b[49m\u001b[43mX_const\u001b[49m\u001b[43m)\u001b[49m\n\u001b[1;32m      4\u001b[0m \u001b[38;5;66;03m# fit the model\u001b[39;00m\n\u001b[1;32m      5\u001b[0m logreg_results \u001b[38;5;241m=\u001b[39m logreg\u001b[38;5;241m.\u001b[39mfit()\n",
      "File \u001b[0;32m/Applications/Anaconda/anaconda3/envs/sklearn/lib/python3.9/site-packages/statsmodels/discrete/discrete_model.py:462\u001b[0m, in \u001b[0;36mBinaryModel.__init__\u001b[0;34m(self, endog, exog, check_rank, **kwargs)\u001b[0m\n\u001b[1;32m    459\u001b[0m \u001b[38;5;28;01mdef\u001b[39;00m \u001b[38;5;21m__init__\u001b[39m(\u001b[38;5;28mself\u001b[39m, endog, exog, check_rank\u001b[38;5;241m=\u001b[39m\u001b[38;5;28;01mTrue\u001b[39;00m, \u001b[38;5;241m*\u001b[39m\u001b[38;5;241m*\u001b[39mkwargs):\n\u001b[1;32m    460\u001b[0m     \u001b[38;5;66;03m# unconditional check, requires no extra kwargs added by subclasses\u001b[39;00m\n\u001b[1;32m    461\u001b[0m     \u001b[38;5;28mself\u001b[39m\u001b[38;5;241m.\u001b[39m_check_kwargs(kwargs)\n\u001b[0;32m--> 462\u001b[0m     \u001b[38;5;28;43msuper\u001b[39;49m\u001b[43m(\u001b[49m\u001b[43m)\u001b[49m\u001b[38;5;241;43m.\u001b[39;49m\u001b[38;5;21;43m__init__\u001b[39;49m\u001b[43m(\u001b[49m\u001b[43mendog\u001b[49m\u001b[43m,\u001b[49m\u001b[43m \u001b[49m\u001b[43mexog\u001b[49m\u001b[43m,\u001b[49m\u001b[43m \u001b[49m\u001b[43mcheck_rank\u001b[49m\u001b[43m,\u001b[49m\u001b[43m \u001b[49m\u001b[38;5;241;43m*\u001b[39;49m\u001b[38;5;241;43m*\u001b[39;49m\u001b[43mkwargs\u001b[49m\u001b[43m)\u001b[49m\n\u001b[1;32m    463\u001b[0m     \u001b[38;5;28;01mif\u001b[39;00m \u001b[38;5;129;01mnot\u001b[39;00m \u001b[38;5;28missubclass\u001b[39m(\u001b[38;5;28mself\u001b[39m\u001b[38;5;241m.\u001b[39m\u001b[38;5;18m__class__\u001b[39m, MultinomialModel):\n\u001b[1;32m    464\u001b[0m         \u001b[38;5;28;01mif\u001b[39;00m \u001b[38;5;129;01mnot\u001b[39;00m np\u001b[38;5;241m.\u001b[39mall((\u001b[38;5;28mself\u001b[39m\u001b[38;5;241m.\u001b[39mendog \u001b[38;5;241m>\u001b[39m\u001b[38;5;241m=\u001b[39m \u001b[38;5;241m0\u001b[39m) \u001b[38;5;241m&\u001b[39m (\u001b[38;5;28mself\u001b[39m\u001b[38;5;241m.\u001b[39mendog \u001b[38;5;241m<\u001b[39m\u001b[38;5;241m=\u001b[39m \u001b[38;5;241m1\u001b[39m)):\n",
      "File \u001b[0;32m/Applications/Anaconda/anaconda3/envs/sklearn/lib/python3.9/site-packages/statsmodels/discrete/discrete_model.py:178\u001b[0m, in \u001b[0;36mDiscreteModel.__init__\u001b[0;34m(self, endog, exog, check_rank, **kwargs)\u001b[0m\n\u001b[1;32m    176\u001b[0m \u001b[38;5;28;01mdef\u001b[39;00m \u001b[38;5;21m__init__\u001b[39m(\u001b[38;5;28mself\u001b[39m, endog, exog, check_rank\u001b[38;5;241m=\u001b[39m\u001b[38;5;28;01mTrue\u001b[39;00m, \u001b[38;5;241m*\u001b[39m\u001b[38;5;241m*\u001b[39mkwargs):\n\u001b[1;32m    177\u001b[0m     \u001b[38;5;28mself\u001b[39m\u001b[38;5;241m.\u001b[39m_check_rank \u001b[38;5;241m=\u001b[39m check_rank\n\u001b[0;32m--> 178\u001b[0m     \u001b[38;5;28;43msuper\u001b[39;49m\u001b[43m(\u001b[49m\u001b[43m)\u001b[49m\u001b[38;5;241;43m.\u001b[39;49m\u001b[38;5;21;43m__init__\u001b[39;49m\u001b[43m(\u001b[49m\u001b[43mendog\u001b[49m\u001b[43m,\u001b[49m\u001b[43m \u001b[49m\u001b[43mexog\u001b[49m\u001b[43m,\u001b[49m\u001b[43m \u001b[49m\u001b[38;5;241;43m*\u001b[39;49m\u001b[38;5;241;43m*\u001b[39;49m\u001b[43mkwargs\u001b[49m\u001b[43m)\u001b[49m\n\u001b[1;32m    179\u001b[0m     \u001b[38;5;28mself\u001b[39m\u001b[38;5;241m.\u001b[39mraise_on_perfect_prediction \u001b[38;5;241m=\u001b[39m \u001b[38;5;28;01mTrue\u001b[39;00m\n",
      "File \u001b[0;32m/Applications/Anaconda/anaconda3/envs/sklearn/lib/python3.9/site-packages/statsmodels/base/model.py:267\u001b[0m, in \u001b[0;36mLikelihoodModel.__init__\u001b[0;34m(self, endog, exog, **kwargs)\u001b[0m\n\u001b[1;32m    266\u001b[0m \u001b[38;5;28;01mdef\u001b[39;00m \u001b[38;5;21m__init__\u001b[39m(\u001b[38;5;28mself\u001b[39m, endog, exog\u001b[38;5;241m=\u001b[39m\u001b[38;5;28;01mNone\u001b[39;00m, \u001b[38;5;241m*\u001b[39m\u001b[38;5;241m*\u001b[39mkwargs):\n\u001b[0;32m--> 267\u001b[0m     \u001b[38;5;28;43msuper\u001b[39;49m\u001b[43m(\u001b[49m\u001b[43m)\u001b[49m\u001b[38;5;241;43m.\u001b[39;49m\u001b[38;5;21;43m__init__\u001b[39;49m\u001b[43m(\u001b[49m\u001b[43mendog\u001b[49m\u001b[43m,\u001b[49m\u001b[43m \u001b[49m\u001b[43mexog\u001b[49m\u001b[43m,\u001b[49m\u001b[43m \u001b[49m\u001b[38;5;241;43m*\u001b[39;49m\u001b[38;5;241;43m*\u001b[39;49m\u001b[43mkwargs\u001b[49m\u001b[43m)\u001b[49m\n\u001b[1;32m    268\u001b[0m     \u001b[38;5;28mself\u001b[39m\u001b[38;5;241m.\u001b[39minitialize()\n",
      "File \u001b[0;32m/Applications/Anaconda/anaconda3/envs/sklearn/lib/python3.9/site-packages/statsmodels/base/model.py:92\u001b[0m, in \u001b[0;36mModel.__init__\u001b[0;34m(self, endog, exog, **kwargs)\u001b[0m\n\u001b[1;32m     90\u001b[0m missing \u001b[38;5;241m=\u001b[39m kwargs\u001b[38;5;241m.\u001b[39mpop(\u001b[38;5;124m'\u001b[39m\u001b[38;5;124mmissing\u001b[39m\u001b[38;5;124m'\u001b[39m, \u001b[38;5;124m'\u001b[39m\u001b[38;5;124mnone\u001b[39m\u001b[38;5;124m'\u001b[39m)\n\u001b[1;32m     91\u001b[0m hasconst \u001b[38;5;241m=\u001b[39m kwargs\u001b[38;5;241m.\u001b[39mpop(\u001b[38;5;124m'\u001b[39m\u001b[38;5;124mhasconst\u001b[39m\u001b[38;5;124m'\u001b[39m, \u001b[38;5;28;01mNone\u001b[39;00m)\n\u001b[0;32m---> 92\u001b[0m \u001b[38;5;28mself\u001b[39m\u001b[38;5;241m.\u001b[39mdata \u001b[38;5;241m=\u001b[39m \u001b[38;5;28;43mself\u001b[39;49m\u001b[38;5;241;43m.\u001b[39;49m\u001b[43m_handle_data\u001b[49m\u001b[43m(\u001b[49m\u001b[43mendog\u001b[49m\u001b[43m,\u001b[49m\u001b[43m \u001b[49m\u001b[43mexog\u001b[49m\u001b[43m,\u001b[49m\u001b[43m \u001b[49m\u001b[43mmissing\u001b[49m\u001b[43m,\u001b[49m\u001b[43m \u001b[49m\u001b[43mhasconst\u001b[49m\u001b[43m,\u001b[49m\n\u001b[1;32m     93\u001b[0m \u001b[43m                              \u001b[49m\u001b[38;5;241;43m*\u001b[39;49m\u001b[38;5;241;43m*\u001b[39;49m\u001b[43mkwargs\u001b[49m\u001b[43m)\u001b[49m\n\u001b[1;32m     94\u001b[0m \u001b[38;5;28mself\u001b[39m\u001b[38;5;241m.\u001b[39mk_constant \u001b[38;5;241m=\u001b[39m \u001b[38;5;28mself\u001b[39m\u001b[38;5;241m.\u001b[39mdata\u001b[38;5;241m.\u001b[39mk_constant\n\u001b[1;32m     95\u001b[0m \u001b[38;5;28mself\u001b[39m\u001b[38;5;241m.\u001b[39mexog \u001b[38;5;241m=\u001b[39m \u001b[38;5;28mself\u001b[39m\u001b[38;5;241m.\u001b[39mdata\u001b[38;5;241m.\u001b[39mexog\n",
      "File \u001b[0;32m/Applications/Anaconda/anaconda3/envs/sklearn/lib/python3.9/site-packages/statsmodels/base/model.py:132\u001b[0m, in \u001b[0;36mModel._handle_data\u001b[0;34m(self, endog, exog, missing, hasconst, **kwargs)\u001b[0m\n\u001b[1;32m    131\u001b[0m \u001b[38;5;28;01mdef\u001b[39;00m \u001b[38;5;21m_handle_data\u001b[39m(\u001b[38;5;28mself\u001b[39m, endog, exog, missing, hasconst, \u001b[38;5;241m*\u001b[39m\u001b[38;5;241m*\u001b[39mkwargs):\n\u001b[0;32m--> 132\u001b[0m     data \u001b[38;5;241m=\u001b[39m \u001b[43mhandle_data\u001b[49m\u001b[43m(\u001b[49m\u001b[43mendog\u001b[49m\u001b[43m,\u001b[49m\u001b[43m \u001b[49m\u001b[43mexog\u001b[49m\u001b[43m,\u001b[49m\u001b[43m \u001b[49m\u001b[43mmissing\u001b[49m\u001b[43m,\u001b[49m\u001b[43m \u001b[49m\u001b[43mhasconst\u001b[49m\u001b[43m,\u001b[49m\u001b[43m \u001b[49m\u001b[38;5;241;43m*\u001b[39;49m\u001b[38;5;241;43m*\u001b[39;49m\u001b[43mkwargs\u001b[49m\u001b[43m)\u001b[49m\n\u001b[1;32m    133\u001b[0m     \u001b[38;5;66;03m# kwargs arrays could have changed, easier to just attach here\u001b[39;00m\n\u001b[1;32m    134\u001b[0m     \u001b[38;5;28;01mfor\u001b[39;00m key \u001b[38;5;129;01min\u001b[39;00m kwargs:\n",
      "File \u001b[0;32m/Applications/Anaconda/anaconda3/envs/sklearn/lib/python3.9/site-packages/statsmodels/base/data.py:673\u001b[0m, in \u001b[0;36mhandle_data\u001b[0;34m(endog, exog, missing, hasconst, **kwargs)\u001b[0m\n\u001b[1;32m    670\u001b[0m     exog \u001b[38;5;241m=\u001b[39m np\u001b[38;5;241m.\u001b[39masarray(exog)\n\u001b[1;32m    672\u001b[0m klass \u001b[38;5;241m=\u001b[39m handle_data_class_factory(endog, exog)\n\u001b[0;32m--> 673\u001b[0m \u001b[38;5;28;01mreturn\u001b[39;00m \u001b[43mklass\u001b[49m\u001b[43m(\u001b[49m\u001b[43mendog\u001b[49m\u001b[43m,\u001b[49m\u001b[43m \u001b[49m\u001b[43mexog\u001b[49m\u001b[38;5;241;43m=\u001b[39;49m\u001b[43mexog\u001b[49m\u001b[43m,\u001b[49m\u001b[43m \u001b[49m\u001b[43mmissing\u001b[49m\u001b[38;5;241;43m=\u001b[39;49m\u001b[43mmissing\u001b[49m\u001b[43m,\u001b[49m\u001b[43m \u001b[49m\u001b[43mhasconst\u001b[49m\u001b[38;5;241;43m=\u001b[39;49m\u001b[43mhasconst\u001b[49m\u001b[43m,\u001b[49m\n\u001b[1;32m    674\u001b[0m \u001b[43m             \u001b[49m\u001b[38;5;241;43m*\u001b[39;49m\u001b[38;5;241;43m*\u001b[39;49m\u001b[43mkwargs\u001b[49m\u001b[43m)\u001b[49m\n",
      "File \u001b[0;32m/Applications/Anaconda/anaconda3/envs/sklearn/lib/python3.9/site-packages/statsmodels/base/data.py:86\u001b[0m, in \u001b[0;36mModelData.__init__\u001b[0;34m(self, endog, exog, missing, hasconst, **kwargs)\u001b[0m\n\u001b[1;32m     84\u001b[0m \u001b[38;5;28mself\u001b[39m\u001b[38;5;241m.\u001b[39mconst_idx \u001b[38;5;241m=\u001b[39m \u001b[38;5;28;01mNone\u001b[39;00m\n\u001b[1;32m     85\u001b[0m \u001b[38;5;28mself\u001b[39m\u001b[38;5;241m.\u001b[39mk_constant \u001b[38;5;241m=\u001b[39m \u001b[38;5;241m0\u001b[39m\n\u001b[0;32m---> 86\u001b[0m \u001b[38;5;28;43mself\u001b[39;49m\u001b[38;5;241;43m.\u001b[39;49m\u001b[43m_handle_constant\u001b[49m\u001b[43m(\u001b[49m\u001b[43mhasconst\u001b[49m\u001b[43m)\u001b[49m\n\u001b[1;32m     87\u001b[0m \u001b[38;5;28mself\u001b[39m\u001b[38;5;241m.\u001b[39m_check_integrity()\n\u001b[1;32m     88\u001b[0m \u001b[38;5;28mself\u001b[39m\u001b[38;5;241m.\u001b[39m_cache \u001b[38;5;241m=\u001b[39m {}\n",
      "File \u001b[0;32m/Applications/Anaconda/anaconda3/envs/sklearn/lib/python3.9/site-packages/statsmodels/base/data.py:176\u001b[0m, in \u001b[0;36mModelData._handle_constant\u001b[0;34m(self, hasconst)\u001b[0m\n\u001b[1;32m    173\u001b[0m augmented_exog \u001b[38;5;241m=\u001b[39m np\u001b[38;5;241m.\u001b[39mcolumn_stack(\n\u001b[1;32m    174\u001b[0m             (np\u001b[38;5;241m.\u001b[39mones(\u001b[38;5;28mself\u001b[39m\u001b[38;5;241m.\u001b[39mexog\u001b[38;5;241m.\u001b[39mshape[\u001b[38;5;241m0\u001b[39m]), \u001b[38;5;28mself\u001b[39m\u001b[38;5;241m.\u001b[39mexog))\n\u001b[1;32m    175\u001b[0m rank_augm \u001b[38;5;241m=\u001b[39m np\u001b[38;5;241m.\u001b[39mlinalg\u001b[38;5;241m.\u001b[39mmatrix_rank(augmented_exog)\n\u001b[0;32m--> 176\u001b[0m rank_orig \u001b[38;5;241m=\u001b[39m \u001b[43mnp\u001b[49m\u001b[38;5;241;43m.\u001b[39;49m\u001b[43mlinalg\u001b[49m\u001b[38;5;241;43m.\u001b[39;49m\u001b[43mmatrix_rank\u001b[49m\u001b[43m(\u001b[49m\u001b[38;5;28;43mself\u001b[39;49m\u001b[38;5;241;43m.\u001b[39;49m\u001b[43mexog\u001b[49m\u001b[43m)\u001b[49m\n\u001b[1;32m    177\u001b[0m \u001b[38;5;28mself\u001b[39m\u001b[38;5;241m.\u001b[39mk_constant \u001b[38;5;241m=\u001b[39m \u001b[38;5;28mint\u001b[39m(rank_orig \u001b[38;5;241m==\u001b[39m rank_augm)\n\u001b[1;32m    178\u001b[0m \u001b[38;5;28mself\u001b[39m\u001b[38;5;241m.\u001b[39mconst_idx \u001b[38;5;241m=\u001b[39m \u001b[38;5;28;01mNone\u001b[39;00m\n",
      "File \u001b[0;32m/Applications/Anaconda/anaconda3/envs/sklearn/lib/python3.9/site-packages/numpy/linalg/linalg.py:1924\u001b[0m, in \u001b[0;36mmatrix_rank\u001b[0;34m(A, tol, hermitian)\u001b[0m\n\u001b[1;32m   1922\u001b[0m S \u001b[38;5;241m=\u001b[39m svd(A, compute_uv\u001b[38;5;241m=\u001b[39m\u001b[38;5;28;01mFalse\u001b[39;00m, hermitian\u001b[38;5;241m=\u001b[39mhermitian)\n\u001b[1;32m   1923\u001b[0m \u001b[38;5;28;01mif\u001b[39;00m tol \u001b[38;5;129;01mis\u001b[39;00m \u001b[38;5;28;01mNone\u001b[39;00m:\n\u001b[0;32m-> 1924\u001b[0m     tol \u001b[38;5;241m=\u001b[39m \u001b[43mS\u001b[49m\u001b[38;5;241;43m.\u001b[39;49m\u001b[43mmax\u001b[49m\u001b[43m(\u001b[49m\u001b[43maxis\u001b[49m\u001b[38;5;241;43m=\u001b[39;49m\u001b[38;5;241;43m-\u001b[39;49m\u001b[38;5;241;43m1\u001b[39;49m\u001b[43m,\u001b[49m\u001b[43m \u001b[49m\u001b[43mkeepdims\u001b[49m\u001b[38;5;241;43m=\u001b[39;49m\u001b[38;5;28;43;01mTrue\u001b[39;49;00m\u001b[43m)\u001b[49m \u001b[38;5;241m*\u001b[39m \u001b[38;5;28mmax\u001b[39m(A\u001b[38;5;241m.\u001b[39mshape[\u001b[38;5;241m-\u001b[39m\u001b[38;5;241m2\u001b[39m:]) \u001b[38;5;241m*\u001b[39m finfo(S\u001b[38;5;241m.\u001b[39mdtype)\u001b[38;5;241m.\u001b[39meps\n\u001b[1;32m   1925\u001b[0m \u001b[38;5;28;01melse\u001b[39;00m:\n\u001b[1;32m   1926\u001b[0m     tol \u001b[38;5;241m=\u001b[39m asarray(tol)[\u001b[38;5;241m.\u001b[39m\u001b[38;5;241m.\u001b[39m\u001b[38;5;241m.\u001b[39m, newaxis]\n",
      "File \u001b[0;32m/Applications/Anaconda/anaconda3/envs/sklearn/lib/python3.9/site-packages/numpy/core/_methods.py:41\u001b[0m, in \u001b[0;36m_amax\u001b[0;34m(a, axis, out, keepdims, initial, where)\u001b[0m\n\u001b[1;32m     39\u001b[0m \u001b[38;5;28;01mdef\u001b[39;00m \u001b[38;5;21m_amax\u001b[39m(a, axis\u001b[38;5;241m=\u001b[39m\u001b[38;5;28;01mNone\u001b[39;00m, out\u001b[38;5;241m=\u001b[39m\u001b[38;5;28;01mNone\u001b[39;00m, keepdims\u001b[38;5;241m=\u001b[39m\u001b[38;5;28;01mFalse\u001b[39;00m,\n\u001b[1;32m     40\u001b[0m           initial\u001b[38;5;241m=\u001b[39m_NoValue, where\u001b[38;5;241m=\u001b[39m\u001b[38;5;28;01mTrue\u001b[39;00m):\n\u001b[0;32m---> 41\u001b[0m     \u001b[38;5;28;01mreturn\u001b[39;00m \u001b[43mumr_maximum\u001b[49m\u001b[43m(\u001b[49m\u001b[43ma\u001b[49m\u001b[43m,\u001b[49m\u001b[43m \u001b[49m\u001b[43maxis\u001b[49m\u001b[43m,\u001b[49m\u001b[43m \u001b[49m\u001b[38;5;28;43;01mNone\u001b[39;49;00m\u001b[43m,\u001b[49m\u001b[43m \u001b[49m\u001b[43mout\u001b[49m\u001b[43m,\u001b[49m\u001b[43m \u001b[49m\u001b[43mkeepdims\u001b[49m\u001b[43m,\u001b[49m\u001b[43m \u001b[49m\u001b[43minitial\u001b[49m\u001b[43m,\u001b[49m\u001b[43m \u001b[49m\u001b[43mwhere\u001b[49m\u001b[43m)\u001b[49m\n",
      "\u001b[0;31mValueError\u001b[0m: zero-size array to reduction operation maximum which has no identity"
     ]
    }
   ],
   "source": [
    "# instantiate the logistic regression model \n",
    "logreg = sm.Logit(y, X_const)\n",
    "\n",
    "# fit the model\n",
    "logreg_results = logreg.fit()\n",
    "\n",
    "# display the results \n",
    "logreg_results.summary()"
   ]
  },
  {
   "cell_type": "code",
   "execution_count": 217,
   "id": "974a51fe-81fb-474b-8fcc-caec54446a6e",
   "metadata": {},
   "outputs": [
    {
     "ename": "NameError",
     "evalue": "name 'logreg_results' is not defined",
     "output_type": "error",
     "traceback": [
      "\u001b[0;31m---------------------------------------------------------------------------\u001b[0m",
      "\u001b[0;31mNameError\u001b[0m                                 Traceback (most recent call last)",
      "Cell \u001b[0;32mIn[217], line 3\u001b[0m\n\u001b[1;32m      1\u001b[0m \u001b[38;5;66;03m# getting the model predictions as probabilities \u001b[39;00m\n\u001b[1;32m      2\u001b[0m \u001b[38;5;66;03m# and saving to 'y_proba'\u001b[39;00m\n\u001b[0;32m----> 3\u001b[0m y_proba \u001b[38;5;241m=\u001b[39m \u001b[43mlogreg_results\u001b[49m\u001b[38;5;241m.\u001b[39mpredict(X_const)\n\u001b[1;32m      5\u001b[0m \u001b[38;5;66;03m# view \u001b[39;00m\n\u001b[1;32m      6\u001b[0m y_proba\n",
      "\u001b[0;31mNameError\u001b[0m: name 'logreg_results' is not defined"
     ]
    }
   ],
   "source": [
    "# getting the model predictions as probabilities \n",
    "# and saving to 'y_proba'\n",
    "y_proba = logreg_results.predict(X_const)\n",
    "\n",
    "# view \n",
    "y_proba"
   ]
  },
  {
   "cell_type": "code",
   "execution_count": 218,
   "id": "fc671e94-5aeb-41a1-88cd-4ddd4528c25f",
   "metadata": {},
   "outputs": [
    {
     "ename": "NameError",
     "evalue": "name 'y_proba' is not defined",
     "output_type": "error",
     "traceback": [
      "\u001b[0;31m---------------------------------------------------------------------------\u001b[0m",
      "\u001b[0;31mNameError\u001b[0m                                 Traceback (most recent call last)",
      "Cell \u001b[0;32mIn[218], line 4\u001b[0m\n\u001b[1;32m      1\u001b[0m \u001b[38;5;66;03m# assume probability >=50%\u001b[39;00m\n\u001b[1;32m      2\u001b[0m \u001b[38;5;66;03m# is a happy customer prediction\u001b[39;00m\n\u001b[1;32m      3\u001b[0m \u001b[38;5;66;03m# so we'll make the soft preds into hard preds\u001b[39;00m\n\u001b[0;32m----> 4\u001b[0m y_pred \u001b[38;5;241m=\u001b[39m np\u001b[38;5;241m.\u001b[39mwhere(\u001b[43my_proba\u001b[49m \u001b[38;5;241m>\u001b[39m\u001b[38;5;241m=\u001b[39m \u001b[38;5;241m0.5\u001b[39m, \u001b[38;5;241m1\u001b[39m, \u001b[38;5;241m0\u001b[39m)\n\u001b[1;32m      6\u001b[0m \u001b[38;5;66;03m# look at the model's predictions\u001b[39;00m\n\u001b[1;32m      7\u001b[0m y_pred\n",
      "\u001b[0;31mNameError\u001b[0m: name 'y_proba' is not defined"
     ]
    }
   ],
   "source": [
    "# assume probability >=50%\n",
    "# is a happy customer prediction\n",
    "# so we'll make the soft preds into hard preds\n",
    "y_pred = np.where(y_proba >= 0.5, 1, 0)\n",
    "\n",
    "# look at the model's predictions\n",
    "y_pred"
   ]
  },
  {
   "cell_type": "code",
   "execution_count": 219,
   "id": "6b5f3dbf-4021-433a-ba9e-2c2b009a969d",
   "metadata": {},
   "outputs": [
    {
     "ename": "ValueError",
     "evalue": "('Lengths must match to compare', (126,), (26,))",
     "output_type": "error",
     "traceback": [
      "\u001b[0;31m---------------------------------------------------------------------------\u001b[0m",
      "\u001b[0;31mValueError\u001b[0m                                Traceback (most recent call last)",
      "Cell \u001b[0;32mIn[219], line 4\u001b[0m\n\u001b[1;32m      1\u001b[0m \u001b[38;5;66;03m# calculate accuracy\u001b[39;00m\n\u001b[1;32m      2\u001b[0m \u001b[38;5;66;03m# find where predicted = true survival\u001b[39;00m\n\u001b[1;32m      3\u001b[0m \u001b[38;5;66;03m# then divide by the number of predictions/passengers\u001b[39;00m\n\u001b[0;32m----> 4\u001b[0m acc \u001b[38;5;241m=\u001b[39m (\u001b[43my_pred\u001b[49m\u001b[43m \u001b[49m\u001b[38;5;241;43m==\u001b[39;49m\u001b[43m \u001b[49m\u001b[43my\u001b[49m)\u001b[38;5;241m.\u001b[39msum()\u001b[38;5;241m/\u001b[39mdf\u001b[38;5;241m.\u001b[39mshape[\u001b[38;5;241m0\u001b[39m]\n\u001b[1;32m      6\u001b[0m \u001b[38;5;66;03m# Print the accuracy score\u001b[39;00m\n\u001b[1;32m      7\u001b[0m \u001b[38;5;28mprint\u001b[39m(\u001b[38;5;124mf\u001b[39m\u001b[38;5;124m'\u001b[39m\u001b[38;5;124mModel accuracy = \u001b[39m\u001b[38;5;132;01m{\u001b[39;00macc\u001b[38;5;132;01m}\u001b[39;00m\u001b[38;5;124m'\u001b[39m)\n",
      "File \u001b[0;32m/Applications/Anaconda/anaconda3/envs/sklearn/lib/python3.9/site-packages/pandas/core/generic.py:2113\u001b[0m, in \u001b[0;36mNDFrame.__array_ufunc__\u001b[0;34m(self, ufunc, method, *inputs, **kwargs)\u001b[0m\n\u001b[1;32m   2109\u001b[0m \u001b[38;5;129m@final\u001b[39m\n\u001b[1;32m   2110\u001b[0m \u001b[38;5;28;01mdef\u001b[39;00m \u001b[38;5;21m__array_ufunc__\u001b[39m(\n\u001b[1;32m   2111\u001b[0m     \u001b[38;5;28mself\u001b[39m, ufunc: np\u001b[38;5;241m.\u001b[39mufunc, method: \u001b[38;5;28mstr\u001b[39m, \u001b[38;5;241m*\u001b[39minputs: Any, \u001b[38;5;241m*\u001b[39m\u001b[38;5;241m*\u001b[39mkwargs: Any\n\u001b[1;32m   2112\u001b[0m ):\n\u001b[0;32m-> 2113\u001b[0m     \u001b[38;5;28;01mreturn\u001b[39;00m \u001b[43marraylike\u001b[49m\u001b[38;5;241;43m.\u001b[39;49m\u001b[43marray_ufunc\u001b[49m\u001b[43m(\u001b[49m\u001b[38;5;28;43mself\u001b[39;49m\u001b[43m,\u001b[49m\u001b[43m \u001b[49m\u001b[43mufunc\u001b[49m\u001b[43m,\u001b[49m\u001b[43m \u001b[49m\u001b[43mmethod\u001b[49m\u001b[43m,\u001b[49m\u001b[43m \u001b[49m\u001b[38;5;241;43m*\u001b[39;49m\u001b[43minputs\u001b[49m\u001b[43m,\u001b[49m\u001b[43m \u001b[49m\u001b[38;5;241;43m*\u001b[39;49m\u001b[38;5;241;43m*\u001b[39;49m\u001b[43mkwargs\u001b[49m\u001b[43m)\u001b[49m\n",
      "File \u001b[0;32m/Applications/Anaconda/anaconda3/envs/sklearn/lib/python3.9/site-packages/pandas/core/arraylike.py:265\u001b[0m, in \u001b[0;36marray_ufunc\u001b[0;34m(self, ufunc, method, *inputs, **kwargs)\u001b[0m\n\u001b[1;32m    262\u001b[0m     \u001b[38;5;28;01mreturn\u001b[39;00m result\n\u001b[1;32m    264\u001b[0m \u001b[38;5;66;03m# for binary ops, use our custom dunder methods\u001b[39;00m\n\u001b[0;32m--> 265\u001b[0m result \u001b[38;5;241m=\u001b[39m \u001b[43mmaybe_dispatch_ufunc_to_dunder_op\u001b[49m\u001b[43m(\u001b[49m\u001b[38;5;28;43mself\u001b[39;49m\u001b[43m,\u001b[49m\u001b[43m \u001b[49m\u001b[43mufunc\u001b[49m\u001b[43m,\u001b[49m\u001b[43m \u001b[49m\u001b[43mmethod\u001b[49m\u001b[43m,\u001b[49m\u001b[43m \u001b[49m\u001b[38;5;241;43m*\u001b[39;49m\u001b[43minputs\u001b[49m\u001b[43m,\u001b[49m\u001b[43m \u001b[49m\u001b[38;5;241;43m*\u001b[39;49m\u001b[38;5;241;43m*\u001b[39;49m\u001b[43mkwargs\u001b[49m\u001b[43m)\u001b[49m\n\u001b[1;32m    266\u001b[0m \u001b[38;5;28;01mif\u001b[39;00m result \u001b[38;5;129;01mis\u001b[39;00m \u001b[38;5;129;01mnot\u001b[39;00m \u001b[38;5;28mNotImplemented\u001b[39m:\n\u001b[1;32m    267\u001b[0m     \u001b[38;5;28;01mreturn\u001b[39;00m result\n",
      "File \u001b[0;32m/Applications/Anaconda/anaconda3/envs/sklearn/lib/python3.9/site-packages/pandas/_libs/ops_dispatch.pyx:113\u001b[0m, in \u001b[0;36mpandas._libs.ops_dispatch.maybe_dispatch_ufunc_to_dunder_op\u001b[0;34m()\u001b[0m\n",
      "File \u001b[0;32m/Applications/Anaconda/anaconda3/envs/sklearn/lib/python3.9/site-packages/pandas/core/ops/common.py:72\u001b[0m, in \u001b[0;36m_unpack_zerodim_and_defer.<locals>.new_method\u001b[0;34m(self, other)\u001b[0m\n\u001b[1;32m     68\u001b[0m             \u001b[38;5;28;01mreturn\u001b[39;00m \u001b[38;5;28mNotImplemented\u001b[39m\n\u001b[1;32m     70\u001b[0m other \u001b[38;5;241m=\u001b[39m item_from_zerodim(other)\n\u001b[0;32m---> 72\u001b[0m \u001b[38;5;28;01mreturn\u001b[39;00m \u001b[43mmethod\u001b[49m\u001b[43m(\u001b[49m\u001b[38;5;28;43mself\u001b[39;49m\u001b[43m,\u001b[49m\u001b[43m \u001b[49m\u001b[43mother\u001b[49m\u001b[43m)\u001b[49m\n",
      "File \u001b[0;32m/Applications/Anaconda/anaconda3/envs/sklearn/lib/python3.9/site-packages/pandas/core/arraylike.py:42\u001b[0m, in \u001b[0;36mOpsMixin.__eq__\u001b[0;34m(self, other)\u001b[0m\n\u001b[1;32m     40\u001b[0m \u001b[38;5;129m@unpack_zerodim_and_defer\u001b[39m(\u001b[38;5;124m\"\u001b[39m\u001b[38;5;124m__eq__\u001b[39m\u001b[38;5;124m\"\u001b[39m)\n\u001b[1;32m     41\u001b[0m \u001b[38;5;28;01mdef\u001b[39;00m \u001b[38;5;21m__eq__\u001b[39m(\u001b[38;5;28mself\u001b[39m, other):\n\u001b[0;32m---> 42\u001b[0m     \u001b[38;5;28;01mreturn\u001b[39;00m \u001b[38;5;28;43mself\u001b[39;49m\u001b[38;5;241;43m.\u001b[39;49m\u001b[43m_cmp_method\u001b[49m\u001b[43m(\u001b[49m\u001b[43mother\u001b[49m\u001b[43m,\u001b[49m\u001b[43m \u001b[49m\u001b[43moperator\u001b[49m\u001b[38;5;241;43m.\u001b[39;49m\u001b[43meq\u001b[49m\u001b[43m)\u001b[49m\n",
      "File \u001b[0;32m/Applications/Anaconda/anaconda3/envs/sklearn/lib/python3.9/site-packages/pandas/core/series.py:6243\u001b[0m, in \u001b[0;36mSeries._cmp_method\u001b[0;34m(self, other, op)\u001b[0m\n\u001b[1;32m   6240\u001b[0m rvalues \u001b[38;5;241m=\u001b[39m extract_array(other, extract_numpy\u001b[38;5;241m=\u001b[39m\u001b[38;5;28;01mTrue\u001b[39;00m, extract_range\u001b[38;5;241m=\u001b[39m\u001b[38;5;28;01mTrue\u001b[39;00m)\n\u001b[1;32m   6242\u001b[0m \u001b[38;5;28;01mwith\u001b[39;00m np\u001b[38;5;241m.\u001b[39merrstate(\u001b[38;5;28mall\u001b[39m\u001b[38;5;241m=\u001b[39m\u001b[38;5;124m\"\u001b[39m\u001b[38;5;124mignore\u001b[39m\u001b[38;5;124m\"\u001b[39m):\n\u001b[0;32m-> 6243\u001b[0m     res_values \u001b[38;5;241m=\u001b[39m \u001b[43mops\u001b[49m\u001b[38;5;241;43m.\u001b[39;49m\u001b[43mcomparison_op\u001b[49m\u001b[43m(\u001b[49m\u001b[43mlvalues\u001b[49m\u001b[43m,\u001b[49m\u001b[43m \u001b[49m\u001b[43mrvalues\u001b[49m\u001b[43m,\u001b[49m\u001b[43m \u001b[49m\u001b[43mop\u001b[49m\u001b[43m)\u001b[49m\n\u001b[1;32m   6245\u001b[0m \u001b[38;5;28;01mreturn\u001b[39;00m \u001b[38;5;28mself\u001b[39m\u001b[38;5;241m.\u001b[39m_construct_result(res_values, name\u001b[38;5;241m=\u001b[39mres_name)\n",
      "File \u001b[0;32m/Applications/Anaconda/anaconda3/envs/sklearn/lib/python3.9/site-packages/pandas/core/ops/array_ops.py:264\u001b[0m, in \u001b[0;36mcomparison_op\u001b[0;34m(left, right, op)\u001b[0m\n\u001b[1;32m    259\u001b[0m \u001b[38;5;28;01mif\u001b[39;00m \u001b[38;5;28misinstance\u001b[39m(rvalues, (np\u001b[38;5;241m.\u001b[39mndarray, ABCExtensionArray)):\n\u001b[1;32m    260\u001b[0m     \u001b[38;5;66;03m# TODO: make this treatment consistent across ops and classes.\u001b[39;00m\n\u001b[1;32m    261\u001b[0m     \u001b[38;5;66;03m#  We are not catching all listlikes here (e.g. frozenset, tuple)\u001b[39;00m\n\u001b[1;32m    262\u001b[0m     \u001b[38;5;66;03m#  The ambiguous case is object-dtype.  See GH#27803\u001b[39;00m\n\u001b[1;32m    263\u001b[0m     \u001b[38;5;28;01mif\u001b[39;00m \u001b[38;5;28mlen\u001b[39m(lvalues) \u001b[38;5;241m!=\u001b[39m \u001b[38;5;28mlen\u001b[39m(rvalues):\n\u001b[0;32m--> 264\u001b[0m         \u001b[38;5;28;01mraise\u001b[39;00m \u001b[38;5;167;01mValueError\u001b[39;00m(\n\u001b[1;32m    265\u001b[0m             \u001b[38;5;124m\"\u001b[39m\u001b[38;5;124mLengths must match to compare\u001b[39m\u001b[38;5;124m\"\u001b[39m, lvalues\u001b[38;5;241m.\u001b[39mshape, rvalues\u001b[38;5;241m.\u001b[39mshape\n\u001b[1;32m    266\u001b[0m         )\n\u001b[1;32m    268\u001b[0m \u001b[38;5;28;01mif\u001b[39;00m should_extension_dispatch(lvalues, rvalues) \u001b[38;5;129;01mor\u001b[39;00m (\n\u001b[1;32m    269\u001b[0m     (\u001b[38;5;28misinstance\u001b[39m(rvalues, (Timedelta, BaseOffset, Timestamp)) \u001b[38;5;129;01mor\u001b[39;00m right \u001b[38;5;129;01mis\u001b[39;00m NaT)\n\u001b[1;32m    270\u001b[0m     \u001b[38;5;129;01mand\u001b[39;00m \u001b[38;5;129;01mnot\u001b[39;00m is_object_dtype(lvalues\u001b[38;5;241m.\u001b[39mdtype)\n\u001b[1;32m    271\u001b[0m ):\n\u001b[1;32m    272\u001b[0m     \u001b[38;5;66;03m# Call the method on lvalues\u001b[39;00m\n\u001b[1;32m    273\u001b[0m     res_values \u001b[38;5;241m=\u001b[39m op(lvalues, rvalues)\n",
      "\u001b[0;31mValueError\u001b[0m: ('Lengths must match to compare', (126,), (26,))"
     ]
    }
   ],
   "source": [
    "# calculate accuracy\n",
    "# find where predicted = true survival\n",
    "# then divide by the number of predictions/passengers\n",
    "acc = (y_pred == y).sum()/df.shape[0]\n",
    "\n",
    "# Print the accuracy score\n",
    "print(f'Model accuracy = {acc}')"
   ]
  },
  {
   "cell_type": "code",
   "execution_count": 220,
   "id": "2bd015c4-fd22-464b-91c2-37772d627925",
   "metadata": {},
   "outputs": [
    {
     "ename": "NameError",
     "evalue": "name 'logreg_results' is not defined",
     "output_type": "error",
     "traceback": [
      "\u001b[0;31m---------------------------------------------------------------------------\u001b[0m",
      "\u001b[0;31mNameError\u001b[0m                                 Traceback (most recent call last)",
      "Cell \u001b[0;32mIn[220], line 2\u001b[0m\n\u001b[1;32m      1\u001b[0m \u001b[38;5;66;03m# put params into a dataframe\u001b[39;00m\n\u001b[0;32m----> 2\u001b[0m results_df \u001b[38;5;241m=\u001b[39m pd\u001b[38;5;241m.\u001b[39mDataFrame(\u001b[43mlogreg_results\u001b[49m\u001b[38;5;241m.\u001b[39mparams, columns\u001b[38;5;241m=\u001b[39m[\u001b[38;5;124m'\u001b[39m\u001b[38;5;124mCoefficient\u001b[39m\u001b[38;5;124m'\u001b[39m])\n\u001b[1;32m      4\u001b[0m \u001b[38;5;66;03m# view the dataframe\u001b[39;00m\n\u001b[1;32m      5\u001b[0m results_df\n",
      "\u001b[0;31mNameError\u001b[0m: name 'logreg_results' is not defined"
     ]
    }
   ],
   "source": [
    "# put params into a dataframe\n",
    "results_df = pd.DataFrame(logreg_results.params, columns=['Coefficient'])\n",
    "\n",
    "# view the dataframe\n",
    "results_df"
   ]
  },
  {
   "cell_type": "code",
   "execution_count": 221,
   "id": "37319b11-cb6f-4cac-ad69-2fe3c8523a66",
   "metadata": {},
   "outputs": [
    {
     "ename": "NameError",
     "evalue": "name 'results_df' is not defined",
     "output_type": "error",
     "traceback": [
      "\u001b[0;31m---------------------------------------------------------------------------\u001b[0m",
      "\u001b[0;31mNameError\u001b[0m                                 Traceback (most recent call last)",
      "Cell \u001b[0;32mIn[221], line 3\u001b[0m\n\u001b[1;32m      1\u001b[0m \u001b[38;5;66;03m# calculate and add the odds ratios to results_df\u001b[39;00m\n\u001b[1;32m      2\u001b[0m \u001b[38;5;66;03m# log odds is more interpretable\u001b[39;00m\n\u001b[0;32m----> 3\u001b[0m results_df[\u001b[38;5;124m'\u001b[39m\u001b[38;5;124modds_ratio\u001b[39m\u001b[38;5;124m'\u001b[39m] \u001b[38;5;241m=\u001b[39m np\u001b[38;5;241m.\u001b[39mexp(\u001b[43mresults_df\u001b[49m[\u001b[38;5;124m'\u001b[39m\u001b[38;5;124mCoefficient\u001b[39m\u001b[38;5;124m'\u001b[39m])\n\u001b[1;32m      5\u001b[0m \u001b[38;5;66;03m# display the dataframe\u001b[39;00m\n\u001b[1;32m      6\u001b[0m results_df\n",
      "\u001b[0;31mNameError\u001b[0m: name 'results_df' is not defined"
     ]
    }
   ],
   "source": [
    "# calculate and add the odds ratios to results_df\n",
    "# log odds is more interpretable\n",
    "results_df['odds_ratio'] = np.exp(results_df['Coefficient'])\n",
    "\n",
    "# display the dataframe\n",
    "results_df"
   ]
  },
  {
   "cell_type": "markdown",
   "id": "ba6ee5cf-5c9e-4c5c-9533-03e6cc082027",
   "metadata": {},
   "source": [
    "Oops, that did not work!"
   ]
  },
  {
   "cell_type": "markdown",
   "id": "aea03a6c-1aa2-46f7-94b6-736818161198",
   "metadata": {},
   "source": [
    "Apziva: UP2IqAzAWrVBrULk"
   ]
  }
 ],
 "metadata": {
  "kernelspec": {
   "display_name": "sklearn",
   "language": "python",
   "name": "sklearn"
  },
  "language_info": {
   "codemirror_mode": {
    "name": "ipython",
    "version": 3
   },
   "file_extension": ".py",
   "mimetype": "text/x-python",
   "name": "python",
   "nbconvert_exporter": "python",
   "pygments_lexer": "ipython3",
   "version": "3.9.19"
  }
 },
 "nbformat": 4,
 "nbformat_minor": 5
}
