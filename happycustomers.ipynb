{
 "cells": [
  {
   "cell_type": "markdown",
   "id": "7ca989e3-6fce-48fd-b44c-bd5e261375bf",
   "metadata": {},
   "source": [
    "# Happy Customers - An Apziva Project"
   ]
  },
  {
   "cell_type": "markdown",
   "id": "f4be1ab2-763b-43a1-bd04-809d0944c0df",
   "metadata": {},
   "source": [
    "By Samuel Alter"
   ]
  },
  {
   "cell_type": "markdown",
   "id": "604f2033-1c74-46e3-b1c9-8fc37a257748",
   "metadata": {},
   "source": [
    "This project centers on a customer survey dataset from a delivery company. The dataset consists of the following:\n",
    "* `Y`: The target attribute, indicating whether the customer noted their happiness or unhappiness\n",
    "* `X1`: Order was delivered on time\n",
    "* `X2`: Contents of the order was as expected (think: after the order has been delivered)\n",
    "* `X3`: I ordered everything that I wanted to order (think: while placing the order)\n",
    "* `X4`: I paid a good price for my order\n",
    "* `X5`: I am satisfied with my courier\n",
    "* `X6`: The app makes ordering easy for me\n",
    "\n",
    "Attributes `X1` through `X6` are on a 1 to 5 scale, with 5 indicating most agreement with the statement."
   ]
  },
  {
   "cell_type": "markdown",
   "id": "b5f15363-93ba-468e-8ff6-73effe14adb8",
   "metadata": {},
   "source": [
    "The goals of this project are to train a model that predicts whether a customer is happy or not, based on their answers to the survey. Specifically, I am to reach 73% accuracy or higher with my modeling, or explain why my solution is superior."
   ]
  },
  {
   "cell_type": "markdown",
   "id": "939dc854-a7cf-4cfc-8ed1-6fcd60fdf242",
   "metadata": {},
   "source": [
    "A stretch goal would be to determine which features are more important when predicting a customer's happiness. What is the minimal set of attributes or features that would preserve the most information about the problem, while at the same time increasing predictability? The aim here is to see if any question can be eliminated in the next survey round.\n",
    "\n",
    "The statistical analysis of the features can be found in the [Statistical Modeling](#statistical_modeling) section at the end of this document."
   ]
  },
  {
   "cell_type": "markdown",
   "id": "a05b6ad4-ccaa-4cf2-b614-68c593b9c147",
   "metadata": {},
   "source": [
    "## Table of Contents"
   ]
  },
  {
   "cell_type": "markdown",
   "id": "aadebfef-ac42-42dc-93da-86152a8f73a5",
   "metadata": {},
   "source": [
    "1. [EDA](#eda)\n",
    "> [EDA Summary](#eda_sum)\n",
    "1. [Initial `lazypredict` model exploration](#lazy_predict)\n",
    "> * [Random seed initialization](#rand). This output is saved to a file so that it can be accessed later on in the notebook when using a different environment.\n",
    "> * [Read in and setup dataset](#read)\n",
    "> * [Run `LazyClassifier`](#lazy)\n",
    "1. `XGBoost`\n",
    "> * [Initial XGBoost model run](#xgboost_initial)\n",
    "> * [Grid search exploration with the `XGboost` algorithm](#xgboost)\n",
    "1. [`LGBMClassifier`](#lgbm)\n",
    "> * [`get_dummies`](#lgbm_dummies)\n",
    "1. [`SGDClassifier`](#sgdc)\n",
    "> Grid search exploration with the `SGDClassifier` algorithm\n",
    "> * [`get_dummies`](#sgdc_dummies)\n",
    "> * [`train_test_split` on OHE'd dataset](#tts_ohe)\n",
    "> * [Pipeline with `SGDClassifier` and OHE'd data](#pipe_ohe)\n",
    "> * [Most important features of the OHE'd data](#rfe_ohe)\n",
    "> * [New pipeline with `SGDClassifier` and categorical (not OHE'd) data](#pipe_notohe)\n",
    "> * [Most important features of the non-OHE'd data](#rfe_notohe)\n",
    "> * [Last attempt at pipeline and grid search with thresholded (non-OHE'd) data](#thresholded_grid)\n",
    "> * [Most important features on the thresholded data](#rfe_threshold)\n",
    "1. [`hyperopt`](#hyper)\n",
    "> Our accuracies are still volatile and not ideal, so we will use the `hyperopt` package to help us arrive at better hyperparameters."
   ]
  },
  {
   "cell_type": "markdown",
   "id": "32a62449-24e0-4c75-93ee-f2f4349983d8",
   "metadata": {},
   "source": [
    "## EDA <a name='eda'></a>"
   ]
  },
  {
   "cell_type": "code",
   "execution_count": 1,
   "id": "73a639d5-0487-4963-9b3f-da593d1d56f7",
   "metadata": {},
   "outputs": [],
   "source": [
    "import pandas as pd\n",
    "import numpy as np\n",
    "import matplotlib.pyplot as plt\n",
    "import seaborn as sns"
   ]
  },
  {
   "cell_type": "code",
   "execution_count": 2,
   "id": "f679289a-2006-43ae-b5dd-a5b624f13ab6",
   "metadata": {},
   "outputs": [
    {
     "data": {
      "text/html": [
       "<div>\n",
       "<style scoped>\n",
       "    .dataframe tbody tr th:only-of-type {\n",
       "        vertical-align: middle;\n",
       "    }\n",
       "\n",
       "    .dataframe tbody tr th {\n",
       "        vertical-align: top;\n",
       "    }\n",
       "\n",
       "    .dataframe thead th {\n",
       "        text-align: right;\n",
       "    }\n",
       "</style>\n",
       "<table border=\"1\" class=\"dataframe\">\n",
       "  <thead>\n",
       "    <tr style=\"text-align: right;\">\n",
       "      <th></th>\n",
       "      <th>Y</th>\n",
       "      <th>X1</th>\n",
       "      <th>X2</th>\n",
       "      <th>X3</th>\n",
       "      <th>X4</th>\n",
       "      <th>X5</th>\n",
       "      <th>X6</th>\n",
       "    </tr>\n",
       "  </thead>\n",
       "  <tbody>\n",
       "    <tr>\n",
       "      <th>0</th>\n",
       "      <td>0</td>\n",
       "      <td>3</td>\n",
       "      <td>3</td>\n",
       "      <td>3</td>\n",
       "      <td>4</td>\n",
       "      <td>2</td>\n",
       "      <td>4</td>\n",
       "    </tr>\n",
       "    <tr>\n",
       "      <th>1</th>\n",
       "      <td>0</td>\n",
       "      <td>3</td>\n",
       "      <td>2</td>\n",
       "      <td>3</td>\n",
       "      <td>5</td>\n",
       "      <td>4</td>\n",
       "      <td>3</td>\n",
       "    </tr>\n",
       "    <tr>\n",
       "      <th>2</th>\n",
       "      <td>1</td>\n",
       "      <td>5</td>\n",
       "      <td>3</td>\n",
       "      <td>3</td>\n",
       "      <td>3</td>\n",
       "      <td>3</td>\n",
       "      <td>5</td>\n",
       "    </tr>\n",
       "  </tbody>\n",
       "</table>\n",
       "</div>"
      ],
      "text/plain": [
       "   Y  X1  X2  X3  X4  X5  X6\n",
       "0  0   3   3   3   4   2   4\n",
       "1  0   3   2   3   5   4   3\n",
       "2  1   5   3   3   3   3   5"
      ]
     },
     "execution_count": 2,
     "metadata": {},
     "output_type": "execute_result"
    }
   ],
   "source": [
    "df=pd.read_csv('../data/1_data.csv')\n",
    "df.head(3)"
   ]
  },
  {
   "cell_type": "markdown",
   "id": "86c2a886-4cf9-483f-8163-646da43ab0ee",
   "metadata": {},
   "source": [
    "Let's rename the columns to make them more intuitive."
   ]
  },
  {
   "cell_type": "code",
   "execution_count": 3,
   "id": "4889f8a2-234c-403f-97a5-f50356cb0461",
   "metadata": {},
   "outputs": [],
   "source": [
    "df.rename(columns={'Y':'y',\n",
    "                   'X1':'a_time',\n",
    "                   'X2':'b_contents',\n",
    "                   'X3':'c_complete',\n",
    "                   'X4':'d_price',\n",
    "                   'X5':'e_courier',\n",
    "                   'X6':'f_app'},inplace=True)\n",
    "\n",
    "# using alphabet prefixes to ensure correct order of columns"
   ]
  },
  {
   "cell_type": "code",
   "execution_count": 4,
   "id": "d5bc324c-a621-45da-baac-e511e2fb753f",
   "metadata": {},
   "outputs": [
    {
     "name": "stdout",
     "output_type": "stream",
     "text": [
      "There are 126 rows and 7 columns in the dataset\n"
     ]
    }
   ],
   "source": [
    "print(f\"There are {df.shape[0]} rows and {df.shape[1]} columns in the dataset\")"
   ]
  },
  {
   "cell_type": "code",
   "execution_count": 5,
   "id": "c8663c88-604b-4d89-90e0-bd12ddc5d8fc",
   "metadata": {},
   "outputs": [
    {
     "data": {
      "text/html": [
       "<div>\n",
       "<style scoped>\n",
       "    .dataframe tbody tr th:only-of-type {\n",
       "        vertical-align: middle;\n",
       "    }\n",
       "\n",
       "    .dataframe tbody tr th {\n",
       "        vertical-align: top;\n",
       "    }\n",
       "\n",
       "    .dataframe thead th {\n",
       "        text-align: right;\n",
       "    }\n",
       "</style>\n",
       "<table border=\"1\" class=\"dataframe\">\n",
       "  <thead>\n",
       "    <tr style=\"text-align: right;\">\n",
       "      <th></th>\n",
       "      <th>y</th>\n",
       "      <th>a_time</th>\n",
       "      <th>b_contents</th>\n",
       "      <th>c_complete</th>\n",
       "      <th>d_price</th>\n",
       "      <th>e_courier</th>\n",
       "      <th>f_app</th>\n",
       "    </tr>\n",
       "  </thead>\n",
       "  <tbody>\n",
       "    <tr>\n",
       "      <th>count</th>\n",
       "      <td>126.000000</td>\n",
       "      <td>126.000000</td>\n",
       "      <td>126.000000</td>\n",
       "      <td>126.000000</td>\n",
       "      <td>126.000000</td>\n",
       "      <td>126.000000</td>\n",
       "      <td>126.000000</td>\n",
       "    </tr>\n",
       "    <tr>\n",
       "      <th>mean</th>\n",
       "      <td>0.547619</td>\n",
       "      <td>4.333333</td>\n",
       "      <td>2.531746</td>\n",
       "      <td>3.309524</td>\n",
       "      <td>3.746032</td>\n",
       "      <td>3.650794</td>\n",
       "      <td>4.253968</td>\n",
       "    </tr>\n",
       "    <tr>\n",
       "      <th>std</th>\n",
       "      <td>0.499714</td>\n",
       "      <td>0.800000</td>\n",
       "      <td>1.114892</td>\n",
       "      <td>1.023440</td>\n",
       "      <td>0.875776</td>\n",
       "      <td>1.147641</td>\n",
       "      <td>0.809311</td>\n",
       "    </tr>\n",
       "    <tr>\n",
       "      <th>min</th>\n",
       "      <td>0.000000</td>\n",
       "      <td>1.000000</td>\n",
       "      <td>1.000000</td>\n",
       "      <td>1.000000</td>\n",
       "      <td>1.000000</td>\n",
       "      <td>1.000000</td>\n",
       "      <td>1.000000</td>\n",
       "    </tr>\n",
       "    <tr>\n",
       "      <th>25%</th>\n",
       "      <td>0.000000</td>\n",
       "      <td>4.000000</td>\n",
       "      <td>2.000000</td>\n",
       "      <td>3.000000</td>\n",
       "      <td>3.000000</td>\n",
       "      <td>3.000000</td>\n",
       "      <td>4.000000</td>\n",
       "    </tr>\n",
       "    <tr>\n",
       "      <th>50%</th>\n",
       "      <td>1.000000</td>\n",
       "      <td>5.000000</td>\n",
       "      <td>3.000000</td>\n",
       "      <td>3.000000</td>\n",
       "      <td>4.000000</td>\n",
       "      <td>4.000000</td>\n",
       "      <td>4.000000</td>\n",
       "    </tr>\n",
       "    <tr>\n",
       "      <th>75%</th>\n",
       "      <td>1.000000</td>\n",
       "      <td>5.000000</td>\n",
       "      <td>3.000000</td>\n",
       "      <td>4.000000</td>\n",
       "      <td>4.000000</td>\n",
       "      <td>4.000000</td>\n",
       "      <td>5.000000</td>\n",
       "    </tr>\n",
       "    <tr>\n",
       "      <th>max</th>\n",
       "      <td>1.000000</td>\n",
       "      <td>5.000000</td>\n",
       "      <td>5.000000</td>\n",
       "      <td>5.000000</td>\n",
       "      <td>5.000000</td>\n",
       "      <td>5.000000</td>\n",
       "      <td>5.000000</td>\n",
       "    </tr>\n",
       "  </tbody>\n",
       "</table>\n",
       "</div>"
      ],
      "text/plain": [
       "                y      a_time  b_contents  c_complete     d_price   e_courier  \\\n",
       "count  126.000000  126.000000  126.000000  126.000000  126.000000  126.000000   \n",
       "mean     0.547619    4.333333    2.531746    3.309524    3.746032    3.650794   \n",
       "std      0.499714    0.800000    1.114892    1.023440    0.875776    1.147641   \n",
       "min      0.000000    1.000000    1.000000    1.000000    1.000000    1.000000   \n",
       "25%      0.000000    4.000000    2.000000    3.000000    3.000000    3.000000   \n",
       "50%      1.000000    5.000000    3.000000    3.000000    4.000000    4.000000   \n",
       "75%      1.000000    5.000000    3.000000    4.000000    4.000000    4.000000   \n",
       "max      1.000000    5.000000    5.000000    5.000000    5.000000    5.000000   \n",
       "\n",
       "            f_app  \n",
       "count  126.000000  \n",
       "mean     4.253968  \n",
       "std      0.809311  \n",
       "min      1.000000  \n",
       "25%      4.000000  \n",
       "50%      4.000000  \n",
       "75%      5.000000  \n",
       "max      5.000000  "
      ]
     },
     "execution_count": 5,
     "metadata": {},
     "output_type": "execute_result"
    }
   ],
   "source": [
    "df.describe()"
   ]
  },
  {
   "cell_type": "markdown",
   "id": "46c11873-7a31-4e05-8a62-fe3903ed9aaa",
   "metadata": {},
   "source": [
    "It seems like most of the participants in the survey were happy about the time it took to receive the order and app experience, but all of this will require more exploration."
   ]
  },
  {
   "cell_type": "code",
   "execution_count": 6,
   "id": "93efb9c5-1b25-4b8b-a0bc-9660d99f8f30",
   "metadata": {},
   "outputs": [
    {
     "data": {
      "text/plain": [
       "y\n",
       "1    69\n",
       "0    57\n",
       "Name: count, dtype: int64"
      ]
     },
     "execution_count": 6,
     "metadata": {},
     "output_type": "execute_result"
    }
   ],
   "source": [
    "df['y'].value_counts()"
   ]
  },
  {
   "cell_type": "markdown",
   "id": "45bc811c-c112-4725-b717-37beec08347a",
   "metadata": {},
   "source": [
    "### Figure 1: Distribution of target (Y)"
   ]
  },
  {
   "cell_type": "code",
   "execution_count": 7,
   "id": "effa1877-3f8e-4659-84ab-6904c55e53af",
   "metadata": {},
   "outputs": [
    {
     "data": {
      "image/png": "[encoded data removed]",
      "text/plain": [
       "<Figure size 600x400 with 1 Axes>"
      ]
     },
     "metadata": {},
     "output_type": "display_data"
    }
   ],
   "source": [
    "# data labels\n",
    "x=[0,1]\n",
    "y=[df['y'].value_counts()[0],df['y'].value_counts()[1]]\n",
    "\n",
    "plt.figure(figsize=(6, 4))\n",
    "ax=sns.countplot(data=df, x='y',zorder=3,)\n",
    "plt.title('Distribution of Customer Happiness in Target (y)')\n",
    "plt.xlabel('Target Values\\n0: Unhappy, 1: Happy')\n",
    "plt.ylabel('Count')\n",
    "ax.yaxis.grid(True,zorder=0)\n",
    "for i in range(len(x)):\n",
    "    plt.text(i, y[i], y[i], ha = 'center')\n",
    "plt.savefig('../figs/1_ydistribution.pdf')\n",
    "plt.savefig('../figs/1_ydistribution.png')\n",
    "plt.show()"
   ]
  },
  {
   "cell_type": "code",
   "execution_count": 8,
   "id": "a34a02ca-e9a0-4ec2-9f63-b1b0915e8e2b",
   "metadata": {},
   "outputs": [
    {
     "name": "stdout",
     "output_type": "stream",
     "text": [
      "In the dataset, 54.76% of respondents were happy,\n",
      "while 45.0% of respondents were unhappy.\n"
     ]
    }
   ],
   "source": [
    "print(f\"In the dataset, {round(df['y'].value_counts()[1]/df['y'].shape[0]*100,2)}% of respondents were happy,\\nwhile {round(df['y'].value_counts()[0]/df['y'].shape[0]*100,0)}% of respondents were unhappy.\")"
   ]
  },
  {
   "cell_type": "code",
   "execution_count": 9,
   "id": "51c56c0a-dc3d-41c1-be6d-ee942fcf0680",
   "metadata": {},
   "outputs": [],
   "source": [
    "# prepare X data for plotting\n",
    "col_list=[]\n",
    "\n",
    "for i in df.columns:\n",
    "    col_list.append(i)\n",
    "    \n",
    "col_list.remove('y')\n",
    "\n",
    "df_melted=df.melt(value_vars=col_list,var_name='Variable',value_name='Value')\n",
    "\n",
    "# calculate mean value per variable\n",
    "mean_values=df_melted.groupby('Variable')['Value'].mean().to_dict()"
   ]
  },
  {
   "cell_type": "code",
   "execution_count": 10,
   "id": "ed25691d-32f5-49a8-ac2c-672ad39a4e77",
   "metadata": {},
   "outputs": [
    {
     "data": {
      "text/plain": [
       "{'a_time': 4.333333333333333,\n",
       " 'b_contents': 2.5317460317460316,\n",
       " 'c_complete': 3.3095238095238093,\n",
       " 'd_price': 3.746031746031746,\n",
       " 'e_courier': 3.6507936507936507,\n",
       " 'f_app': 4.253968253968254}"
      ]
     },
     "execution_count": 10,
     "metadata": {},
     "output_type": "execute_result"
    }
   ],
   "source": [
    "mean_values"
   ]
  },
  {
   "cell_type": "code",
   "execution_count": 11,
   "id": "3f5b0d95-2da1-4639-ac2b-e193aea3e257",
   "metadata": {},
   "outputs": [
    {
     "data": {
      "text/plain": [
       "['a_time: 4.33',\n",
       " 'b_contents: 2.53',\n",
       " 'c_complete: 3.31',\n",
       " 'd_price: 3.75',\n",
       " 'e_courier: 3.65',\n",
       " 'f_app: 4.25']"
      ]
     },
     "execution_count": 11,
     "metadata": {},
     "output_type": "execute_result"
    }
   ],
   "source": [
    "# create custom labels for following figure\n",
    "labels=[f\"{variable}: {mean_values[variable]:.2f}\" for variable in mean_values.keys()]\n",
    "labels"
   ]
  },
  {
   "cell_type": "code",
   "execution_count": 12,
   "id": "70e8d936-407b-451e-b522-44379c5671b5",
   "metadata": {},
   "outputs": [
    {
     "data": {
      "text/plain": [
       "Variable\n",
       "a_time        126\n",
       "b_contents    126\n",
       "c_complete    126\n",
       "d_price       126\n",
       "e_courier     126\n",
       "f_app         126\n",
       "Name: count, dtype: int64"
      ]
     },
     "execution_count": 12,
     "metadata": {},
     "output_type": "execute_result"
    }
   ],
   "source": [
    "df_melted['Variable'].value_counts()"
   ]
  },
  {
   "cell_type": "code",
   "execution_count": 13,
   "id": "c1d0ce8f-d200-49f4-b27e-d30cbced8f0e",
   "metadata": {},
   "outputs": [],
   "source": [
    "xlabs=['Delivery Time',\n",
    "       'Contents of Order',\n",
    "       'Order Completeness',\n",
    "       'Price for Order',\n",
    "       'Satisfaction with Courier',\n",
    "       'Satisfaction with App Experience']"
   ]
  },
  {
   "cell_type": "markdown",
   "id": "82d09724-857b-4ea6-897f-3391b79f3d02",
   "metadata": {},
   "source": [
    "### Figure 2: Distribution of survey results"
   ]
  },
  {
   "cell_type": "code",
   "execution_count": 14,
   "id": "fb0f0772-c568-4259-9243-887e34661004",
   "metadata": {},
   "outputs": [
    {
     "data": {
      "image/png": "[encoded data removed]",
      "text/plain": [
       "<Figure size 1200x800 with 1 Axes>"
      ]
     },
     "metadata": {},
     "output_type": "display_data"
    }
   ],
   "source": [
    "# plot distribution of survey results\n",
    "\n",
    "plt.figure(figsize=(12,8))\n",
    "ax=sns.countplot(data=df_melted,x='Variable',hue='Value')\n",
    "plt.suptitle('Count of Survey Results for Each Survey Question\\n1 being least satisfied and 5 being most satisfied')\n",
    "plt.xlabel('Survey Question')\n",
    "plt.ylabel('Count')\n",
    "ax.set_axisbelow(True)\n",
    "ax.yaxis.grid(True,which='major')\n",
    "ax.set_xticklabels(xlabs)\n",
    "plt.xticks(rotation=30)\n",
    "plt.legend(title='Response',loc='upper left')\n",
    "plt.tight_layout()\n",
    "plt.savefig('../figs/1_xdistribution.pdf')\n",
    "plt.savefig('../figs/1_xdistribution.png')\n",
    "plt.show()"
   ]
  },
  {
   "cell_type": "markdown",
   "id": "f35cf18d-59f5-4276-8292-b0bf9b6c4df5",
   "metadata": {},
   "source": [
    "This plot illustrates well the distribution of responses received in the survey. Although it is harder to draw conclusions from this figure, I think it is still valid to understand the overall trends in the data. Figure 3 has more explanatory value."
   ]
  },
  {
   "cell_type": "code",
   "execution_count": 15,
   "id": "ab91d264-9ae1-4c54-8d00-347da860f5e9",
   "metadata": {},
   "outputs": [
    {
     "data": {
      "text/plain": [
       "Variable\n",
       "a_time        4.33\n",
       "b_contents    2.53\n",
       "c_complete    3.31\n",
       "d_price       3.75\n",
       "e_courier     3.65\n",
       "f_app         4.25\n",
       "Name: Value, dtype: float64"
      ]
     },
     "execution_count": 15,
     "metadata": {},
     "output_type": "execute_result"
    }
   ],
   "source": [
    "# setup labels for mean values\n",
    "mean_values=df_melted.groupby('Variable')['Value'].mean()\n",
    "mean_values=mean_values.round(decimals=2)\n",
    "mean_values"
   ]
  },
  {
   "cell_type": "code",
   "execution_count": 16,
   "id": "820cd0f2-9d15-49a5-9bb9-3908e7053a2d",
   "metadata": {},
   "outputs": [
    {
     "name": "stdout",
     "output_type": "stream",
     "text": [
      "x:\n",
      "[0, 1, 2, 3, 4, 5]\n",
      "y:\n",
      "[4.33, 2.53, 3.31, 3.75, 3.65, 4.25]\n"
     ]
    }
   ],
   "source": [
    "# data labels\n",
    "x=list(np.arange(6))\n",
    "y=mean_values.iloc[:6].tolist()\n",
    "\n",
    "print(\"x:\")\n",
    "print(x)\n",
    "print(\"y:\")\n",
    "print(y)"
   ]
  },
  {
   "cell_type": "markdown",
   "id": "08b82f79-5144-407f-8e51-bf98a872eb51",
   "metadata": {},
   "source": [
    "### Figure 3: Mean response to survey question"
   ]
  },
  {
   "cell_type": "code",
   "execution_count": 17,
   "id": "f4580fe6-20f9-47e4-b8a4-bad8a5577bef",
   "metadata": {},
   "outputs": [
    {
     "data": {
      "image/png": "[encoded data removed]",
      "text/plain": [
       "<Figure size 1000x600 with 1 Axes>"
      ]
     },
     "metadata": {},
     "output_type": "display_data"
    }
   ],
   "source": [
    "plt.figure(figsize=(10,6))\n",
    "ax=sns.barplot(data=df_melted,x='Variable',y='Value',errorbar=None,color='coral')\n",
    "plt.tight_layout(pad=10)\n",
    "# plot labels\n",
    "for i in range(len(x)):\n",
    "    plt.text(i, y[i], y[i], ha='center')\n",
    "ax.set_xticklabels(xlabs,rotation=30)\n",
    "ax.set_title('Mean Response to Survey Question')\n",
    "ax.set_ylabel('Mean Response')\n",
    "ax.set_xlabel('Survey Question')\n",
    "plt.savefig('../figs/1_xmeandistribution.pdf')\n",
    "plt.savefig('../figs/1_xmeandistribution.png')\n",
    "plt.show()"
   ]
  },
  {
   "cell_type": "markdown",
   "id": "211b654d-169d-4c8a-a459-117aa35b8115",
   "metadata": {},
   "source": [
    "The delivery time and app experience had the highest mean satisfaction in the survey, with the contents having the lowest overall."
   ]
  },
  {
   "cell_type": "markdown",
   "id": "27563ad5-0cc4-497f-93fa-f7217d4d70f8",
   "metadata": {},
   "source": [
    "### Figure 4: Correlation matrix"
   ]
  },
  {
   "cell_type": "code",
   "execution_count": 18,
   "id": "a8d5e2b7-dba5-4a7b-9709-e7e2f81e73ab",
   "metadata": {
    "tags": []
   },
   "outputs": [
    {
     "name": "stderr",
     "output_type": "stream",
     "text": [
      "/Applications/Anaconda/anaconda3/envs/apziva/lib/python3.12/site-packages/seaborn/matrix.py:260: FutureWarning: Format strings passed to MaskedConstant are ignored, but in future may error or produce different behavior\n",
      "  annotation = (\"{:\" + self.fmt + \"}\").format(val)\n"
     ]
    },
    {
     "data": {
      "image/png": "[encoded data removed]",
      "text/plain": [
       "<Figure size 1000x800 with 2 Axes>"
      ]
     },
     "metadata": {},
     "output_type": "display_data"
    }
   ],
   "source": [
    "# Compute the correlation matrix\n",
    "corr = df.corr()\n",
    "\n",
    "# Generate a mask for the upper triangle\n",
    "mask = np.triu(np.ones_like(corr, dtype=bool))\n",
    "\n",
    "# Set up the matplotlib figure\n",
    "f,ax = plt.subplots(figsize=(10, 8))\n",
    "\n",
    "# Generate a custom diverging colormap\n",
    "# cmap = sns.diverging_palette(230, 20, as_cmap=True)\n",
    "\n",
    "# Draw the heatmap with the mask and correct aspect ratio\n",
    "sns.heatmap(corr, mask=mask, cmap='coolwarm', vmax=.3, center=0,\n",
    "            square=True, linewidths=.5, annot=True,\n",
    "            cbar_kws={\"shrink\": .5})\n",
    "plt.title('Correlation Matrix\\nHigher absolute value indicates stronger correlation')\n",
    "plt.tight_layout()\n",
    "\n",
    "# save fig\n",
    "plt.savefig('../figs/1_corrmatrix.pdf')\n",
    "plt.savefig('../figs/1_corrmatrix.png')"
   ]
  },
  {
   "cell_type": "markdown",
   "id": "c16fc56b-fc49-4221-87b7-64dae7eca05e",
   "metadata": {},
   "source": [
    "The results of the correlation matrix show that if one aspect of the experience is positive, the customer will rate others positive as well. One interesting correlation to highlight is the courier and time are connected, which makes sense: the courier is the person that gives you your order, and if the courier is on time you probably will rate the courier highly too."
   ]
  },
  {
   "cell_type": "markdown",
   "id": "94369155-0f3d-4c3e-ab1f-99f61743a779",
   "metadata": {},
   "source": [
    "### EDA Summary <a name='eda_sum'></a>"
   ]
  },
  {
   "cell_type": "markdown",
   "id": "41dc5eba-8426-469b-9ad6-4d58821f9618",
   "metadata": {},
   "source": [
    "In the dataset that we were given, roughly half of the respondents were unhappy. From a business standpoint, this is an opportunity to increase the amount of satisfied customers. Hence the survey, ostensibly to understand how the company can improve the satisfaction of their customers.\n",
    "\n",
    "The results from the survey show that the delivery time and the app experience are places where the company is doing well. Areas for improvement are ensuring that the order is prepared correctly and customers being able to find what they need when they place an order.\n",
    "\n",
    "We need to do more modeling to understand which survey questions are most important and which can be removed. We will do this in the subsequent sections below."
   ]
  },
  {
   "cell_type": "markdown",
   "id": "e20489f8-b8f4-4ab0-8672-ef8bc8afedaa",
   "metadata": {},
   "source": [
    "## Imports and helper functions"
   ]
  },
  {
   "cell_type": "code",
   "execution_count": 124,
   "id": "e52bc3f6-7faf-41f3-a9ba-4bc5af4d77e1",
   "metadata": {},
   "outputs": [],
   "source": [
    "import numpy as np\n",
    "import pandas as pd\n",
    "\n",
    "import json\n",
    "from datetime import datetime\n",
    "from pathlib import Path\n",
    "import inspect\n",
    "\n",
    "from sklearn.datasets import make_classification\n",
    "from sklearn.model_selection import train_test_split\n",
    "from xgboost import XGBClassifier\n",
    "from sklearn.metrics import accuracy_score\n",
    "from sklearn.ensemble import ExtraTreesClassifier\n",
    "from sklearn.feature_selection import RFE\n",
    "from sklearn.model_selection import cross_val_score\n",
    "from hyperopt import fmin, tpe, hp, STATUS_OK, Trials\n",
    "from sklearn.metrics import accuracy_score, confusion_matrix, classification_report\n",
    "from sklearn.ensemble import RandomForestClassifier\n",
    "\n",
    "import lightgbm as lgb\n",
    "from lightgbm import LGBMClassifier\n",
    "from lightgbm import plot_importance\n",
    "\n",
    "import matplotlib.pyplot as plt"
   ]
  },
  {
   "cell_type": "code",
   "execution_count": 20,
   "id": "bac4ee91-f1b8-48d5-b7db-6bfacedd36c4",
   "metadata": {},
   "outputs": [],
   "source": [
    "# simple function to generate random integers\n",
    "\n",
    "def rand_gen(low=1,high=1e4):\n",
    "    '''\n",
    "    Generates a pseudo-random integer\n",
    "    consisting of up to four digits\n",
    "    '''\n",
    "    rng=np.random.default_rng()\n",
    "    random_state=rng.integers(low=low,high=high)\n",
    "    return random_state"
   ]
  },
  {
   "cell_type": "code",
   "execution_count": 21,
   "id": "54ae4346-3770-41a2-a6bd-be5ca5922fb6",
   "metadata": {},
   "outputs": [],
   "source": [
    "def get_variable_name(var):\n",
    "    callers_local_vars = inspect.currentframe().f_back.f_locals.items()\n",
    "    return [name for name, val in callers_local_vars if val is var]\n",
    "\n",
    "def fileDaterSaver(location: str,\n",
    "                   filetype: str,\n",
    "                   object_,\n",
    "                   extra: str = '',\n",
    "                   verbose: bool = True):\n",
    "    \n",
    "    '''\n",
    "    Function that gets a timestamped filename and saves it\n",
    "    to a user-specified location.\n",
    "    \n",
    "    Parameters:\n",
    "    -----------\n",
    "    location: str - The location where the file will be saved.\n",
    "    filetype: str - The type of the file to save ('csv' or 'json').\n",
    "    object_: The object to be saved. Should be a pandas DataFrame \n",
    "        for 'csv' or serializable for 'json'.\n",
    "    extra: str - Additional string to include in the filename.\n",
    "    verbose: bool - Whether to print verbose messages.\n",
    "    '''\n",
    "    \n",
    "    # get current date and time\n",
    "    current_datetime = datetime.now()\n",
    "\n",
    "    # print current date and time to check\n",
    "    if verbose:\n",
    "        print('current_datetime:', current_datetime)\n",
    "\n",
    "    # format the datetime for a filename\n",
    "    datetime_suffix = current_datetime.strftime(\"%Y-%m-%d_%H-%M-%S\")\n",
    "\n",
    "    # create filename with the datetime suffix\n",
    "    if extra != '':\n",
    "        file_name = f'{location}{extra}_{datetime_suffix}.{filetype}'\n",
    "    else:\n",
    "        file_name = f'{location}{datetime_suffix}.{filetype}'\n",
    "    \n",
    "    # print file name\n",
    "    if verbose:\n",
    "        print(file_name)\n",
    "\n",
    "    # save object\n",
    "    if filetype == 'csv':\n",
    "        object_.to_csv(file_name, index=True)\n",
    "    elif filetype == 'json':\n",
    "        with open(file_name, 'w') as file:\n",
    "            file.write(json.dumps(object_, default=str))\n",
    "    else:\n",
    "        raise ValueError(\"Unsupported file type. Use 'csv' or 'json'.\")\n",
    "\n",
    "    # confirm save\n",
    "    file_path = Path(file_name)\n",
    "    if file_path.exists():\n",
    "        variable_name = get_variable_name(object_)\n",
    "        if variable_name:\n",
    "            print(f'Successfully saved {variable_name[0]} to {file_path}')\n",
    "        else:\n",
    "            print(f'Successfully saved object to {file_path}')\n",
    "    else:\n",
    "        print(\"File save error.\")"
   ]
  },
  {
   "cell_type": "markdown",
   "id": "ef7d1fe5-c95e-48e8-b1a1-4701ff959762",
   "metadata": {},
   "source": [
    "## `lazypredict` <a name='lazy_predict'></a>"
   ]
  },
  {
   "cell_type": "markdown",
   "id": "d36c7189-97ee-40ca-acd8-ab083d5d09a6",
   "metadata": {},
   "source": [
    "[`lazypredict`](#https://lazypredict.readthedocs.io/en/latest/) is a very helpful package that can run through generic builds of a multitude of models in order to get a high-level understanding of the performance of these models on your particular dataset. It is a great place to start and saves a lot of time that would be spent manually exploring the accuracy of different models."
   ]
  },
  {
   "cell_type": "code",
   "execution_count": 22,
   "id": "1afbabe0-bc61-4812-bf38-5f67e1ad356a",
   "metadata": {},
   "outputs": [],
   "source": [
    "from lazypredict.Supervised import LazyClassifier\n",
    "from sklearn.model_selection import train_test_split"
   ]
  },
  {
   "cell_type": "markdown",
   "id": "1922de96-1543-4266-a7d4-d3b87922cb88",
   "metadata": {},
   "source": [
    "### Specify random seed <a name='rand'></a>"
   ]
  },
  {
   "cell_type": "code",
   "execution_count": 23,
   "id": "bf29304a-01e3-4379-b646-6e37ec02bb0a",
   "metadata": {},
   "outputs": [
    {
     "data": {
      "text/plain": [
       "9739"
      ]
     },
     "execution_count": 23,
     "metadata": {},
     "output_type": "execute_result"
    }
   ],
   "source": [
    "# define random seed\n",
    "seed=rand_gen()\n",
    "seed"
   ]
  },
  {
   "cell_type": "code",
   "execution_count": 24,
   "id": "c0df5821-5d49-4a54-9e59-9a71f0889de9",
   "metadata": {},
   "outputs": [],
   "source": [
    "# save random seed to file to access it later in the notebook\n",
    "with open('random_seed.txt','w') as file:\n",
    "    file.write(str(seed))"
   ]
  },
  {
   "cell_type": "code",
   "execution_count": 25,
   "id": "6b849850-76c1-43b8-b9ab-305cfeac12f4",
   "metadata": {},
   "outputs": [
    {
     "name": "stdout",
     "output_type": "stream",
     "text": [
      "9739\n"
     ]
    }
   ],
   "source": [
    "# verify that the number got saved\n",
    "with open('random_seed.txt','r') as file:\n",
    "    saved_seed=int(file.read())\n",
    "    print(saved_seed)\n",
    "    seed=saved_seed"
   ]
  },
  {
   "cell_type": "code",
   "execution_count": 26,
   "id": "4bf13a36-ea38-4830-b188-c12790a21cb3",
   "metadata": {},
   "outputs": [
    {
     "data": {
      "text/plain": [
       "Generator(PCG64) at 0x1689652A0"
      ]
     },
     "execution_count": 26,
     "metadata": {},
     "output_type": "execute_result"
    }
   ],
   "source": [
    "# source:\n",
    "# https://odsc.medium.com/properly-setting-the-random-seed-in-ml-experiments-not-as-simple-as-you-might-imagine-219969c84752\n",
    "\n",
    "# set `PYTHONHASHSEED` environment variable at a fixed value\n",
    "import os\n",
    "os.environ['PYTHONHASHSEED']=str(seed)\n",
    "# set `python` built-in pseudo-random generator at a fixed value\n",
    "import random\n",
    "random.seed(seed)\n",
    "# set `numpy` pseudo-random generator at a fixed value\n",
    "import numpy as np\n",
    "np.random.seed(seed)\n",
    "np.random.default_rng(seed)"
   ]
  },
  {
   "cell_type": "markdown",
   "id": "f356a3ac-fbb9-47ad-8594-18923f435860",
   "metadata": {},
   "source": [
    "### Specify test_size"
   ]
  },
  {
   "cell_type": "markdown",
   "id": "fb94f4a7-ee0d-4034-b575-d646a7cf49b0",
   "metadata": {},
   "source": [
    "We want to have the most performant model as possible. We will try a `test_size` of 10%, rather than my usual 20%, to get the model to train on more data and hopefully have a better performance."
   ]
  },
  {
   "cell_type": "code",
   "execution_count": 27,
   "id": "2299639b-67cf-486e-9d13-6d3030faf244",
   "metadata": {},
   "outputs": [
    {
     "name": "stdout",
     "output_type": "stream",
     "text": [
      "0.1\n"
     ]
    }
   ],
   "source": [
    "test_size=0.10\n",
    "\n",
    "# save random seed to file to access it later in the notebook\n",
    "with open('test_size.txt','w') as file:\n",
    "    file.write(str(test_size))\n",
    "    \n",
    "# verify that the number got saved\n",
    "with open('test_size.txt','r') as file:\n",
    "    opened_test_size=float(file.read())\n",
    "    print(opened_test_size)\n",
    "    test_size=opened_test_size"
   ]
  },
  {
   "cell_type": "markdown",
   "id": "1afefa98-5610-43ca-807a-dea3fbc49765",
   "metadata": {},
   "source": [
    "### Read in and setup dataset <a name='read'></a>"
   ]
  },
  {
   "cell_type": "code",
   "execution_count": 28,
   "id": "f2bcbe63-40a0-44ce-8029-f350839ad215",
   "metadata": {},
   "outputs": [],
   "source": [
    "# read in and setup dataset\n",
    "\n",
    "df=pd.read_csv('../data/1_data.csv')\n",
    "\n",
    "# renaming columns to preserve order\n",
    "# and make them more intelligible\n",
    "df.rename(columns={'Y':'y',\n",
    "                   'X1':'a_time',\n",
    "                   'X2':'b_contents',\n",
    "                   'X3':'c_complete',\n",
    "                   'X4':'d_price',\n",
    "                   'X5':'e_courier',\n",
    "                   'X6':'f_app'},inplace=True)\n",
    "\n",
    "# df.dtypes\n",
    "\n",
    "X=df[[col for col in df.columns if col != 'y']].copy()\n",
    "y=df['y'].copy().astype('int8') # because it's a binary"
   ]
  },
  {
   "cell_type": "markdown",
   "id": "f2e98f82-2878-41fb-b54f-07e933c4eef9",
   "metadata": {},
   "source": [
    "We'll perform the `LazyClassifier` on OHE'd, thresholded, and the regular dataset."
   ]
  },
  {
   "cell_type": "markdown",
   "id": "603cc231-b003-4b4b-9a10-fc959238efb5",
   "metadata": {},
   "source": [
    "#### `get_dummies`<a name='lgbm_dummies'></a>"
   ]
  },
  {
   "cell_type": "code",
   "execution_count": 29,
   "id": "d360c1c2-cb6b-44eb-aae3-8f802635596c",
   "metadata": {},
   "outputs": [
    {
     "data": {
      "text/plain": [
       "a_time        int64\n",
       "b_contents    int64\n",
       "c_complete    int64\n",
       "d_price       int64\n",
       "e_courier     int64\n",
       "f_app         int64\n",
       "dtype: object"
      ]
     },
     "execution_count": 29,
     "metadata": {},
     "output_type": "execute_result"
    }
   ],
   "source": [
    "X.dtypes"
   ]
  },
  {
   "cell_type": "markdown",
   "id": "4c38bef4-4188-4ea2-a44d-d80c65cdd9b7",
   "metadata": {},
   "source": [
    "`pd.get_dummies` requires the data be categorical:"
   ]
  },
  {
   "cell_type": "code",
   "execution_count": 30,
   "id": "1e0789f2-bfc0-4353-a2c3-c8fce2c48506",
   "metadata": {},
   "outputs": [
    {
     "data": {
      "text/plain": [
       "a_time        category\n",
       "b_contents    category\n",
       "c_complete    category\n",
       "d_price       category\n",
       "e_courier     category\n",
       "f_app         category\n",
       "dtype: object"
      ]
     },
     "execution_count": 30,
     "metadata": {},
     "output_type": "execute_result"
    }
   ],
   "source": [
    "X_cat=X.copy()\n",
    "\n",
    "for col in X_cat.columns:\n",
    "    X_cat[col] = X_cat[col].astype('category')\n",
    "    \n",
    "X_cat.dtypes"
   ]
  },
  {
   "cell_type": "markdown",
   "id": "f7f579c2-2132-433f-b3f4-46ecc9afd5dc",
   "metadata": {},
   "source": [
    "##### OHE"
   ]
  },
  {
   "cell_type": "code",
   "execution_count": 31,
   "id": "c3abffa2-0e67-442c-82a2-f9fcabe3ac9b",
   "metadata": {},
   "outputs": [],
   "source": [
    "X_ohe=pd.get_dummies(data=X_cat,\n",
    "                     prefix=list(X_cat.columns),\n",
    "                     drop_first=False) # I want to \n",
    "                                       # see all survey responses\n",
    "                                       # that are in dataset"
   ]
  },
  {
   "cell_type": "code",
   "execution_count": 32,
   "id": "96406686-a5e2-4aa4-8da5-7d2d62c0ef0e",
   "metadata": {},
   "outputs": [],
   "source": [
    "# train/test split\n",
    "X_train_ohe, \\\n",
    "X_test_ohe, \\\n",
    "y_train_ohe, \\\n",
    "y_test_ohe = train_test_split(X_ohe, \n",
    "                          y, \n",
    "                          test_size=test_size, \n",
    "                          stratify=y,\n",
    "                          random_state=seed)"
   ]
  },
  {
   "cell_type": "code",
   "execution_count": 33,
   "id": "72d2650f-4aed-4d07-9161-f32a2c0c77c0",
   "metadata": {},
   "outputs": [
    {
     "name": "stdout",
     "output_type": "stream",
     "text": [
      "\n",
      "Shapes of splits:\n",
      "X_train: (113, 29)\n",
      "X_test:  (13, 29)\n",
      "y_train: (113,)\n",
      "y_test:  (13,)\n",
      "\n"
     ]
    }
   ],
   "source": [
    "print(f'''\n",
    "Shapes of splits:\n",
    "X_train: {X_train_ohe.shape}\n",
    "X_test:  {X_test_ohe.shape}\n",
    "y_train: {y_train_ohe.shape}\n",
    "y_test:  {y_test_ohe.shape}\n",
    "''')"
   ]
  },
  {
   "cell_type": "markdown",
   "id": "0914aa4a-774f-4c8a-a7be-68ce43beeaf1",
   "metadata": {},
   "source": [
    "##### Thresholded"
   ]
  },
  {
   "cell_type": "code",
   "execution_count": 34,
   "id": "20b2f006-755f-4e31-837c-c9e3c029ce84",
   "metadata": {},
   "outputs": [],
   "source": [
    "# define thresholding function\n",
    "# if the person scored a category as a 4 or 5,\n",
    "# we give a value of 1. Otherwise, we give it a 0\n",
    "threshold_func = lambda x: 1 if x >= 4 else 0\n",
    "\n",
    "# apply the function to the dataframe\n",
    "X_threshold = X.map(threshold_func)"
   ]
  },
  {
   "cell_type": "code",
   "execution_count": 35,
   "id": "e70b4c5a-8ebf-4004-b712-2d23e0fecd47",
   "metadata": {},
   "outputs": [],
   "source": [
    "# train/test split\n",
    "X_train_threshold, \\\n",
    "X_test_threshold, \\\n",
    "y_train_threshold, \\\n",
    "y_test_threshold = train_test_split(X_threshold, \n",
    "                          y, \n",
    "                          test_size=test_size, \n",
    "                          stratify=y,\n",
    "                          random_state=seed)"
   ]
  },
  {
   "cell_type": "markdown",
   "id": "b86fc444-5c7c-42f3-94ef-d156aa31806a",
   "metadata": {},
   "source": [
    "##### Regular train/test splits"
   ]
  },
  {
   "cell_type": "code",
   "execution_count": 36,
   "id": "9d323d74-488c-4762-8f60-66d3cd9a6a29",
   "metadata": {},
   "outputs": [],
   "source": [
    "X_train, \\\n",
    "X_test, \\\n",
    "y_train, \\\n",
    "y_test = train_test_split(X, \n",
    "                          y, \n",
    "                          test_size=test_size, \n",
    "                          stratify=y,\n",
    "                          random_state=seed)"
   ]
  },
  {
   "cell_type": "code",
   "execution_count": 37,
   "id": "b98747f7-3a28-4069-ba5a-30dd6df914d1",
   "metadata": {},
   "outputs": [
    {
     "name": "stdout",
     "output_type": "stream",
     "text": [
      "\n",
      "Shapes of splits:\n",
      "X_train: (113, 6)\n",
      "X_test:  (13, 6)\n",
      "y_train: (113,)\n",
      "y_test:  (13,)\n",
      "\n"
     ]
    }
   ],
   "source": [
    "print(f'''\n",
    "Shapes of splits:\n",
    "X_train: {X_train.shape}\n",
    "X_test:  {X_test.shape}\n",
    "y_train: {y_train.shape}\n",
    "y_test:  {y_test.shape}\n",
    "''')"
   ]
  },
  {
   "cell_type": "markdown",
   "id": "7e19d66a-4c4c-42b5-a20b-995244c98ebd",
   "metadata": {},
   "source": [
    "### Run LazyClassifier <a name='lazy'></a>"
   ]
  },
  {
   "cell_type": "code",
   "execution_count": 38,
   "id": "c3f4e431-5c79-402f-afa8-5c9d5582940f",
   "metadata": {
    "tags": []
   },
   "outputs": [],
   "source": [
    "clf = LazyClassifier(verbose=0,\n",
    "                     ignore_warnings=True,\n",
    "                     random_state=seed)"
   ]
  },
  {
   "cell_type": "markdown",
   "id": "05585497-48cf-492c-972a-5e64a79b06ae",
   "metadata": {},
   "source": [
    "#### OHE"
   ]
  },
  {
   "cell_type": "code",
   "execution_count": 39,
   "id": "dadef9df-2809-4976-bdcc-9e87acc5e9ed",
   "metadata": {
    "tags": []
   },
   "outputs": [
    {
     "name": "stderr",
     "output_type": "stream",
     "text": [
      "100%|███████████████████████████████████████████████████████| 31/31 [00:00<00:00, 1019.63it/s]\n"
     ]
    }
   ],
   "source": [
    "models_ohe, predictions_ohe = clf.fit(X_train=X_train_ohe,\n",
    "                              X_test=X_test_ohe,\n",
    "                              y_train=y_train_ohe,\n",
    "                              y_test=y_test_ohe)"
   ]
  },
  {
   "cell_type": "markdown",
   "id": "c5022f09-7e03-4c68-9e9f-a316d12368a8",
   "metadata": {},
   "source": [
    "Results from the `LazyClassifier`:  <a name='lazy_predict_results'></a>"
   ]
  },
  {
   "cell_type": "markdown",
   "id": "4b3de12f-13d5-4f52-99b5-162e26d48fdf",
   "metadata": {},
   "source": [
    "Save `models_ohe` object:"
   ]
  },
  {
   "cell_type": "code",
   "execution_count": 40,
   "id": "673daaee-7ccd-43e9-93d3-558a30a5c2e2",
   "metadata": {},
   "outputs": [
    {
     "name": "stdout",
     "output_type": "stream",
     "text": [
      "current_datetime: 2024-06-13 18:26:01.252928\n",
      "../joblib/1_lazypredict_modelsohe_2024-06-13_18-26-01.csv\n",
      "Successfully saved object_ to ../joblib/1_lazypredict_modelsohe_2024-06-13_18-26-01.csv\n"
     ]
    }
   ],
   "source": [
    "fileDaterSaver(location='../joblib/',\n",
    "               filetype='csv',\n",
    "               object_=models_ohe,\n",
    "               extra='1_lazypredict_modelsohe')"
   ]
  },
  {
   "cell_type": "code",
   "execution_count": 41,
   "id": "d94ea444-efb5-4561-a6df-ed891fad47ef",
   "metadata": {},
   "outputs": [
    {
     "data": {
      "text/html": [
       "<div>\n",
       "<style scoped>\n",
       "    .dataframe tbody tr th:only-of-type {\n",
       "        vertical-align: middle;\n",
       "    }\n",
       "\n",
       "    .dataframe tbody tr th {\n",
       "        vertical-align: top;\n",
       "    }\n",
       "\n",
       "    .dataframe thead th {\n",
       "        text-align: right;\n",
       "    }\n",
       "</style>\n",
       "<table border=\"1\" class=\"dataframe\">\n",
       "  <thead>\n",
       "    <tr style=\"text-align: right;\">\n",
       "      <th></th>\n",
       "      <th>Accuracy</th>\n",
       "      <th>Balanced Accuracy</th>\n",
       "      <th>ROC AUC</th>\n",
       "      <th>F1 Score</th>\n",
       "      <th>Time Taken</th>\n",
       "    </tr>\n",
       "    <tr>\n",
       "      <th>Model</th>\n",
       "      <th></th>\n",
       "      <th></th>\n",
       "      <th></th>\n",
       "      <th></th>\n",
       "      <th></th>\n",
       "    </tr>\n",
       "  </thead>\n",
       "  <tbody>\n",
       "    <tr>\n",
       "      <th>DummyClassifier</th>\n",
       "      <td>0.54</td>\n",
       "      <td>0.50</td>\n",
       "      <td>0.50</td>\n",
       "      <td>0.38</td>\n",
       "      <td>0.00</td>\n",
       "    </tr>\n",
       "  </tbody>\n",
       "</table>\n",
       "</div>"
      ],
      "text/plain": [
       "                 Accuracy  Balanced Accuracy  ROC AUC  F1 Score  Time Taken\n",
       "Model                                                                      \n",
       "DummyClassifier      0.54               0.50     0.50      0.38        0.00"
      ]
     },
     "execution_count": 41,
     "metadata": {},
     "output_type": "execute_result"
    }
   ],
   "source": [
    "models_ohe"
   ]
  },
  {
   "cell_type": "code",
   "execution_count": 42,
   "id": "c3c4bb55-9c8b-4712-b872-77d427ba2352",
   "metadata": {},
   "outputs": [],
   "source": [
    "# models_ohe_file_name='../joblib/1_lazypredict_modelsohe_2024-06-13_16-29-50.csv'"
   ]
  },
  {
   "cell_type": "code",
   "execution_count": 43,
   "id": "91ca3071-b42d-4b80-97cb-6f42c578783e",
   "metadata": {},
   "outputs": [],
   "source": [
    "# # extract models\n",
    "# models_ohe=pd.read_csv(models_ohe_file_name)\n",
    "# models_ohe"
   ]
  },
  {
   "cell_type": "markdown",
   "id": "d6630cf2-ef57-4ad3-9129-286d0dd6ad02",
   "metadata": {},
   "source": [
    "Interesting that the OHE data does not yield many results when run in `LazyClassifier`."
   ]
  },
  {
   "cell_type": "markdown",
   "id": "dffce53e-beb5-4f6b-a573-40bef807a926",
   "metadata": {},
   "source": [
    "#### Thresholded"
   ]
  },
  {
   "cell_type": "code",
   "execution_count": 44,
   "id": "71b6fddb-1aab-4f55-b346-b3500e7ad351",
   "metadata": {
    "tags": []
   },
   "outputs": [
    {
     "name": "stdout",
     "output_type": "stream",
     "text": [
      "'tuple' object has no attribute '__name__'\n",
      "Invalid Classifier(s)\n"
     ]
    },
    {
     "name": "stderr",
     "output_type": "stream",
     "text": [
      "100%|█████████████████████████████████████████████████████████| 31/31 [00:00<00:00, 60.02it/s]"
     ]
    },
    {
     "name": "stdout",
     "output_type": "stream",
     "text": [
      "[LightGBM] [Info] Number of positive: 62, number of negative: 51\n",
      "[LightGBM] [Info] Auto-choosing col-wise multi-threading, the overhead of testing was 0.000155 seconds.\n",
      "You can set `force_col_wise=true` to remove the overhead.\n",
      "[LightGBM] [Info] Total Bins 15\n",
      "[LightGBM] [Info] Number of data points in the train set: 113, number of used features: 5\n",
      "[LightGBM] [Info] [binary:BoostFromScore]: pavg=0.548673 -> initscore=0.195309\n",
      "[LightGBM] [Info] Start training from score 0.195309\n",
      "[LightGBM] [Warning] No further splits with positive gain, best gain: -inf\n",
      "[LightGBM] [Warning] No further splits with positive gain, best gain: -inf\n",
      "[LightGBM] [Warning] No further splits with positive gain, best gain: -inf\n",
      "[LightGBM] [Warning] No further splits with positive gain, best gain: -inf\n",
      "[LightGBM] [Warning] No further splits with positive gain, best gain: -inf\n",
      "[LightGBM] [Warning] No further splits with positive gain, best gain: -inf\n",
      "[LightGBM] [Warning] No further splits with positive gain, best gain: -inf\n",
      "[LightGBM] [Warning] No further splits with positive gain, best gain: -inf\n",
      "[LightGBM] [Warning] No further splits with positive gain, best gain: -inf\n",
      "[LightGBM] [Warning] No further splits with positive gain, best gain: -inf\n",
      "[LightGBM] [Warning] No further splits with positive gain, best gain: -inf\n",
      "[LightGBM] [Warning] No further splits with positive gain, best gain: -inf\n",
      "[LightGBM] [Warning] No further splits with positive gain, best gain: -inf\n",
      "[LightGBM] [Warning] No further splits with positive gain, best gain: -inf\n",
      "[LightGBM] [Warning] No further splits with positive gain, best gain: -inf\n",
      "[LightGBM] [Warning] No further splits with positive gain, best gain: -inf\n",
      "[LightGBM] [Warning] No further splits with positive gain, best gain: -inf\n",
      "[LightGBM] [Warning] No further splits with positive gain, best gain: -inf\n",
      "[LightGBM] [Warning] No further splits with positive gain, best gain: -inf\n",
      "[LightGBM] [Warning] No further splits with positive gain, best gain: -inf\n",
      "[LightGBM] [Warning] No further splits with positive gain, best gain: -inf\n",
      "[LightGBM] [Warning] No further splits with positive gain, best gain: -inf\n",
      "[LightGBM] [Warning] No further splits with positive gain, best gain: -inf\n",
      "[LightGBM] [Warning] No further splits with positive gain, best gain: -inf\n",
      "[LightGBM] [Warning] No further splits with positive gain, best gain: -inf\n",
      "[LightGBM] [Warning] No further splits with positive gain, best gain: -inf\n",
      "[LightGBM] [Warning] No further splits with positive gain, best gain: -inf\n",
      "[LightGBM] [Warning] No further splits with positive gain, best gain: -inf\n",
      "[LightGBM] [Warning] No further splits with positive gain, best gain: -inf\n",
      "[LightGBM] [Warning] No further splits with positive gain, best gain: -inf\n",
      "[LightGBM] [Warning] No further splits with positive gain, best gain: -inf\n",
      "[LightGBM] [Warning] No further splits with positive gain, best gain: -inf\n",
      "[LightGBM] [Warning] No further splits with positive gain, best gain: -inf\n",
      "[LightGBM] [Warning] No further splits with positive gain, best gain: -inf\n",
      "[LightGBM] [Warning] No further splits with positive gain, best gain: -inf\n",
      "[LightGBM] [Warning] No further splits with positive gain, best gain: -inf\n",
      "[LightGBM] [Warning] No further splits with positive gain, best gain: -inf\n",
      "[LightGBM] [Warning] No further splits with positive gain, best gain: -inf\n",
      "[LightGBM] [Warning] No further splits with positive gain, best gain: -inf\n",
      "[LightGBM] [Warning] No further splits with positive gain, best gain: -inf\n",
      "[LightGBM] [Warning] No further splits with positive gain, best gain: -inf\n",
      "[LightGBM] [Warning] No further splits with positive gain, best gain: -inf\n",
      "[LightGBM] [Warning] No further splits with positive gain, best gain: -inf\n",
      "[LightGBM] [Warning] No further splits with positive gain, best gain: -inf\n",
      "[LightGBM] [Warning] No further splits with positive gain, best gain: -inf\n",
      "[LightGBM] [Warning] No further splits with positive gain, best gain: -inf\n",
      "[LightGBM] [Warning] No further splits with positive gain, best gain: -inf\n",
      "[LightGBM] [Warning] No further splits with positive gain, best gain: -inf\n",
      "[LightGBM] [Warning] No further splits with positive gain, best gain: -inf\n",
      "[LightGBM] [Warning] No further splits with positive gain, best gain: -inf\n",
      "[LightGBM] [Warning] No further splits with positive gain, best gain: -inf\n",
      "[LightGBM] [Warning] No further splits with positive gain, best gain: -inf\n",
      "[LightGBM] [Warning] No further splits with positive gain, best gain: -inf\n",
      "[LightGBM] [Warning] No further splits with positive gain, best gain: -inf\n",
      "[LightGBM] [Warning] No further splits with positive gain, best gain: -inf\n",
      "[LightGBM] [Warning] No further splits with positive gain, best gain: -inf\n",
      "[LightGBM] [Warning] No further splits with positive gain, best gain: -inf\n",
      "[LightGBM] [Warning] No further splits with positive gain, best gain: -inf\n",
      "[LightGBM] [Warning] No further splits with positive gain, best gain: -inf\n",
      "[LightGBM] [Warning] No further splits with positive gain, best gain: -inf\n",
      "[LightGBM] [Warning] No further splits with positive gain, best gain: -inf\n",
      "[LightGBM] [Warning] No further splits with positive gain, best gain: -inf\n",
      "[LightGBM] [Warning] No further splits with positive gain, best gain: -inf\n",
      "[LightGBM] [Warning] No further splits with positive gain, best gain: -inf\n",
      "[LightGBM] [Warning] No further splits with positive gain, best gain: -inf\n",
      "[LightGBM] [Warning] No further splits with positive gain, best gain: -inf\n",
      "[LightGBM] [Warning] No further splits with positive gain, best gain: -inf\n",
      "[LightGBM] [Warning] No further splits with positive gain, best gain: -inf\n",
      "[LightGBM] [Warning] No further splits with positive gain, best gain: -inf\n",
      "[LightGBM] [Warning] No further splits with positive gain, best gain: -inf\n",
      "[LightGBM] [Warning] No further splits with positive gain, best gain: -inf\n",
      "[LightGBM] [Warning] No further splits with positive gain, best gain: -inf\n",
      "[LightGBM] [Warning] No further splits with positive gain, best gain: -inf\n",
      "[LightGBM] [Warning] No further splits with positive gain, best gain: -inf\n",
      "[LightGBM] [Warning] No further splits with positive gain, best gain: -inf\n",
      "[LightGBM] [Warning] No further splits with positive gain, best gain: -inf\n",
      "[LightGBM] [Warning] No further splits with positive gain, best gain: -inf\n",
      "[LightGBM] [Warning] No further splits with positive gain, best gain: -inf\n",
      "[LightGBM] [Warning] No further splits with positive gain, best gain: -inf\n",
      "[LightGBM] [Warning] No further splits with positive gain, best gain: -inf\n",
      "[LightGBM] [Warning] No further splits with positive gain, best gain: -inf\n",
      "[LightGBM] [Warning] No further splits with positive gain, best gain: -inf\n",
      "[LightGBM] [Warning] No further splits with positive gain, best gain: -inf\n",
      "[LightGBM] [Warning] No further splits with positive gain, best gain: -inf\n",
      "[LightGBM] [Warning] No further splits with positive gain, best gain: -inf\n",
      "[LightGBM] [Warning] No further splits with positive gain, best gain: -inf\n",
      "[LightGBM] [Warning] No further splits with positive gain, best gain: -inf\n",
      "[LightGBM] [Warning] No further splits with positive gain, best gain: -inf\n",
      "[LightGBM] [Warning] No further splits with positive gain, best gain: -inf\n",
      "[LightGBM] [Warning] No further splits with positive gain, best gain: -inf\n",
      "[LightGBM] [Warning] No further splits with positive gain, best gain: -inf\n",
      "[LightGBM] [Warning] No further splits with positive gain, best gain: -inf\n",
      "[LightGBM] [Warning] No further splits with positive gain, best gain: -inf\n",
      "[LightGBM] [Warning] No further splits with positive gain, best gain: -inf\n",
      "[LightGBM] [Warning] No further splits with positive gain, best gain: -inf\n",
      "[LightGBM] [Warning] No further splits with positive gain, best gain: -inf\n",
      "[LightGBM] [Warning] No further splits with positive gain, best gain: -inf\n",
      "[LightGBM] [Warning] No further splits with positive gain, best gain: -inf\n",
      "[LightGBM] [Warning] No further splits with positive gain, best gain: -inf\n",
      "[LightGBM] [Warning] No further splits with positive gain, best gain: -inf\n"
     ]
    },
    {
     "name": "stderr",
     "output_type": "stream",
     "text": [
      "\n"
     ]
    }
   ],
   "source": [
    "models_threshold, predictions = clf.fit(X_train=X_train_threshold,\n",
    "                              X_test=X_test_threshold,\n",
    "                              y_train=y_train_threshold,\n",
    "                              y_test=y_test_threshold)"
   ]
  },
  {
   "cell_type": "markdown",
   "id": "a025c538-7e04-4c84-b0df-d73b2d677f19",
   "metadata": {},
   "source": [
    "Save `models_threshold` object"
   ]
  },
  {
   "cell_type": "code",
   "execution_count": 45,
   "id": "b2880bfa-9c6f-4dac-b65b-6d2ee22da072",
   "metadata": {},
   "outputs": [
    {
     "name": "stdout",
     "output_type": "stream",
     "text": [
      "current_datetime: 2024-06-13 18:26:01.799689\n",
      "../joblib/1_lazypredict_modelsthreshold_2024-06-13_18-26-01.csv\n",
      "Successfully saved object_ to ../joblib/1_lazypredict_modelsthreshold_2024-06-13_18-26-01.csv\n"
     ]
    }
   ],
   "source": [
    "fileDaterSaver(location='../joblib/',\n",
    "               filetype='csv',\n",
    "               object_=models_threshold,\n",
    "               extra='1_lazypredict_modelsthreshold')"
   ]
  },
  {
   "cell_type": "code",
   "execution_count": 46,
   "id": "525ff59d-1751-450f-b1cd-08020a0a9d6d",
   "metadata": {},
   "outputs": [
    {
     "data": {
      "text/html": [
       "<div>\n",
       "<style scoped>\n",
       "    .dataframe tbody tr th:only-of-type {\n",
       "        vertical-align: middle;\n",
       "    }\n",
       "\n",
       "    .dataframe tbody tr th {\n",
       "        vertical-align: top;\n",
       "    }\n",
       "\n",
       "    .dataframe thead th {\n",
       "        text-align: right;\n",
       "    }\n",
       "</style>\n",
       "<table border=\"1\" class=\"dataframe\">\n",
       "  <thead>\n",
       "    <tr style=\"text-align: right;\">\n",
       "      <th></th>\n",
       "      <th>Accuracy</th>\n",
       "      <th>Balanced Accuracy</th>\n",
       "      <th>ROC AUC</th>\n",
       "      <th>F1 Score</th>\n",
       "      <th>Time Taken</th>\n",
       "    </tr>\n",
       "    <tr>\n",
       "      <th>Model</th>\n",
       "      <th></th>\n",
       "      <th></th>\n",
       "      <th></th>\n",
       "      <th></th>\n",
       "      <th></th>\n",
       "    </tr>\n",
       "  </thead>\n",
       "  <tbody>\n",
       "    <tr>\n",
       "      <th>DummyClassifier</th>\n",
       "      <td>0.54</td>\n",
       "      <td>0.50</td>\n",
       "      <td>0.50</td>\n",
       "      <td>0.38</td>\n",
       "      <td>0.00</td>\n",
       "    </tr>\n",
       "    <tr>\n",
       "      <th>SGDClassifier</th>\n",
       "      <td>0.46</td>\n",
       "      <td>0.48</td>\n",
       "      <td>0.48</td>\n",
       "      <td>0.44</td>\n",
       "      <td>0.01</td>\n",
       "    </tr>\n",
       "    <tr>\n",
       "      <th>BernoulliNB</th>\n",
       "      <td>0.38</td>\n",
       "      <td>0.38</td>\n",
       "      <td>0.38</td>\n",
       "      <td>0.38</td>\n",
       "      <td>0.01</td>\n",
       "    </tr>\n",
       "    <tr>\n",
       "      <th>Perceptron</th>\n",
       "      <td>0.38</td>\n",
       "      <td>0.38</td>\n",
       "      <td>0.38</td>\n",
       "      <td>0.38</td>\n",
       "      <td>0.01</td>\n",
       "    </tr>\n",
       "    <tr>\n",
       "      <th>NuSVC</th>\n",
       "      <td>0.38</td>\n",
       "      <td>0.38</td>\n",
       "      <td>0.38</td>\n",
       "      <td>0.38</td>\n",
       "      <td>0.02</td>\n",
       "    </tr>\n",
       "    <tr>\n",
       "      <th>NearestCentroid</th>\n",
       "      <td>0.38</td>\n",
       "      <td>0.38</td>\n",
       "      <td>0.38</td>\n",
       "      <td>0.38</td>\n",
       "      <td>0.01</td>\n",
       "    </tr>\n",
       "    <tr>\n",
       "      <th>QuadraticDiscriminantAnalysis</th>\n",
       "      <td>0.38</td>\n",
       "      <td>0.37</td>\n",
       "      <td>0.37</td>\n",
       "      <td>0.36</td>\n",
       "      <td>0.01</td>\n",
       "    </tr>\n",
       "    <tr>\n",
       "      <th>CalibratedClassifierCV</th>\n",
       "      <td>0.38</td>\n",
       "      <td>0.36</td>\n",
       "      <td>0.36</td>\n",
       "      <td>0.30</td>\n",
       "      <td>0.01</td>\n",
       "    </tr>\n",
       "    <tr>\n",
       "      <th>KNeighborsClassifier</th>\n",
       "      <td>0.31</td>\n",
       "      <td>0.32</td>\n",
       "      <td>0.32</td>\n",
       "      <td>0.28</td>\n",
       "      <td>0.00</td>\n",
       "    </tr>\n",
       "    <tr>\n",
       "      <th>PassiveAggressiveClassifier</th>\n",
       "      <td>0.31</td>\n",
       "      <td>0.31</td>\n",
       "      <td>0.31</td>\n",
       "      <td>0.31</td>\n",
       "      <td>0.01</td>\n",
       "    </tr>\n",
       "    <tr>\n",
       "      <th>LGBMClassifier</th>\n",
       "      <td>0.31</td>\n",
       "      <td>0.30</td>\n",
       "      <td>0.30</td>\n",
       "      <td>0.30</td>\n",
       "      <td>0.04</td>\n",
       "    </tr>\n",
       "    <tr>\n",
       "      <th>SVC</th>\n",
       "      <td>0.31</td>\n",
       "      <td>0.30</td>\n",
       "      <td>0.30</td>\n",
       "      <td>0.30</td>\n",
       "      <td>0.01</td>\n",
       "    </tr>\n",
       "    <tr>\n",
       "      <th>LabelPropagation</th>\n",
       "      <td>0.31</td>\n",
       "      <td>0.30</td>\n",
       "      <td>0.30</td>\n",
       "      <td>0.30</td>\n",
       "      <td>0.03</td>\n",
       "    </tr>\n",
       "    <tr>\n",
       "      <th>LabelSpreading</th>\n",
       "      <td>0.31</td>\n",
       "      <td>0.30</td>\n",
       "      <td>0.30</td>\n",
       "      <td>0.30</td>\n",
       "      <td>0.01</td>\n",
       "    </tr>\n",
       "    <tr>\n",
       "      <th>XGBClassifier</th>\n",
       "      <td>0.31</td>\n",
       "      <td>0.30</td>\n",
       "      <td>0.30</td>\n",
       "      <td>0.30</td>\n",
       "      <td>0.09</td>\n",
       "    </tr>\n",
       "    <tr>\n",
       "      <th>ExtraTreesClassifier</th>\n",
       "      <td>0.31</td>\n",
       "      <td>0.30</td>\n",
       "      <td>0.30</td>\n",
       "      <td>0.30</td>\n",
       "      <td>0.03</td>\n",
       "    </tr>\n",
       "    <tr>\n",
       "      <th>ExtraTreeClassifier</th>\n",
       "      <td>0.31</td>\n",
       "      <td>0.30</td>\n",
       "      <td>0.30</td>\n",
       "      <td>0.30</td>\n",
       "      <td>0.00</td>\n",
       "    </tr>\n",
       "    <tr>\n",
       "      <th>DecisionTreeClassifier</th>\n",
       "      <td>0.31</td>\n",
       "      <td>0.30</td>\n",
       "      <td>0.30</td>\n",
       "      <td>0.30</td>\n",
       "      <td>0.00</td>\n",
       "    </tr>\n",
       "    <tr>\n",
       "      <th>RandomForestClassifier</th>\n",
       "      <td>0.31</td>\n",
       "      <td>0.30</td>\n",
       "      <td>0.30</td>\n",
       "      <td>0.30</td>\n",
       "      <td>0.10</td>\n",
       "    </tr>\n",
       "    <tr>\n",
       "      <th>RidgeClassifierCV</th>\n",
       "      <td>0.31</td>\n",
       "      <td>0.29</td>\n",
       "      <td>0.29</td>\n",
       "      <td>0.25</td>\n",
       "      <td>0.01</td>\n",
       "    </tr>\n",
       "    <tr>\n",
       "      <th>RidgeClassifier</th>\n",
       "      <td>0.31</td>\n",
       "      <td>0.29</td>\n",
       "      <td>0.29</td>\n",
       "      <td>0.25</td>\n",
       "      <td>0.01</td>\n",
       "    </tr>\n",
       "    <tr>\n",
       "      <th>AdaBoostClassifier</th>\n",
       "      <td>0.31</td>\n",
       "      <td>0.29</td>\n",
       "      <td>0.29</td>\n",
       "      <td>0.25</td>\n",
       "      <td>0.04</td>\n",
       "    </tr>\n",
       "    <tr>\n",
       "      <th>LogisticRegression</th>\n",
       "      <td>0.31</td>\n",
       "      <td>0.29</td>\n",
       "      <td>0.29</td>\n",
       "      <td>0.25</td>\n",
       "      <td>0.01</td>\n",
       "    </tr>\n",
       "    <tr>\n",
       "      <th>LinearDiscriminantAnalysis</th>\n",
       "      <td>0.31</td>\n",
       "      <td>0.29</td>\n",
       "      <td>0.29</td>\n",
       "      <td>0.25</td>\n",
       "      <td>0.01</td>\n",
       "    </tr>\n",
       "    <tr>\n",
       "      <th>GaussianNB</th>\n",
       "      <td>0.31</td>\n",
       "      <td>0.29</td>\n",
       "      <td>0.29</td>\n",
       "      <td>0.25</td>\n",
       "      <td>0.00</td>\n",
       "    </tr>\n",
       "    <tr>\n",
       "      <th>LinearSVC</th>\n",
       "      <td>0.31</td>\n",
       "      <td>0.29</td>\n",
       "      <td>0.29</td>\n",
       "      <td>0.25</td>\n",
       "      <td>0.01</td>\n",
       "    </tr>\n",
       "    <tr>\n",
       "      <th>BaggingClassifier</th>\n",
       "      <td>0.23</td>\n",
       "      <td>0.23</td>\n",
       "      <td>0.23</td>\n",
       "      <td>0.23</td>\n",
       "      <td>0.01</td>\n",
       "    </tr>\n",
       "  </tbody>\n",
       "</table>\n",
       "</div>"
      ],
      "text/plain": [
       "                               Accuracy  Balanced Accuracy  ROC AUC  F1 Score  \\\n",
       "Model                                                                           \n",
       "DummyClassifier                    0.54               0.50     0.50      0.38   \n",
       "SGDClassifier                      0.46               0.48     0.48      0.44   \n",
       "BernoulliNB                        0.38               0.38     0.38      0.38   \n",
       "Perceptron                         0.38               0.38     0.38      0.38   \n",
       "NuSVC                              0.38               0.38     0.38      0.38   \n",
       "NearestCentroid                    0.38               0.38     0.38      0.38   \n",
       "QuadraticDiscriminantAnalysis      0.38               0.37     0.37      0.36   \n",
       "CalibratedClassifierCV             0.38               0.36     0.36      0.30   \n",
       "KNeighborsClassifier               0.31               0.32     0.32      0.28   \n",
       "PassiveAggressiveClassifier        0.31               0.31     0.31      0.31   \n",
       "LGBMClassifier                     0.31               0.30     0.30      0.30   \n",
       "SVC                                0.31               0.30     0.30      0.30   \n",
       "LabelPropagation                   0.31               0.30     0.30      0.30   \n",
       "LabelSpreading                     0.31               0.30     0.30      0.30   \n",
       "XGBClassifier                      0.31               0.30     0.30      0.30   \n",
       "ExtraTreesClassifier               0.31               0.30     0.30      0.30   \n",
       "ExtraTreeClassifier                0.31               0.30     0.30      0.30   \n",
       "DecisionTreeClassifier             0.31               0.30     0.30      0.30   \n",
       "RandomForestClassifier             0.31               0.30     0.30      0.30   \n",
       "RidgeClassifierCV                  0.31               0.29     0.29      0.25   \n",
       "RidgeClassifier                    0.31               0.29     0.29      0.25   \n",
       "AdaBoostClassifier                 0.31               0.29     0.29      0.25   \n",
       "LogisticRegression                 0.31               0.29     0.29      0.25   \n",
       "LinearDiscriminantAnalysis         0.31               0.29     0.29      0.25   \n",
       "GaussianNB                         0.31               0.29     0.29      0.25   \n",
       "LinearSVC                          0.31               0.29     0.29      0.25   \n",
       "BaggingClassifier                  0.23               0.23     0.23      0.23   \n",
       "\n",
       "                               Time Taken  \n",
       "Model                                      \n",
       "DummyClassifier                      0.00  \n",
       "SGDClassifier                        0.01  \n",
       "BernoulliNB                          0.01  \n",
       "Perceptron                           0.01  \n",
       "NuSVC                                0.02  \n",
       "NearestCentroid                      0.01  \n",
       "QuadraticDiscriminantAnalysis        0.01  \n",
       "CalibratedClassifierCV               0.01  \n",
       "KNeighborsClassifier                 0.00  \n",
       "PassiveAggressiveClassifier          0.01  \n",
       "LGBMClassifier                       0.04  \n",
       "SVC                                  0.01  \n",
       "LabelPropagation                     0.03  \n",
       "LabelSpreading                       0.01  \n",
       "XGBClassifier                        0.09  \n",
       "ExtraTreesClassifier                 0.03  \n",
       "ExtraTreeClassifier                  0.00  \n",
       "DecisionTreeClassifier               0.00  \n",
       "RandomForestClassifier               0.10  \n",
       "RidgeClassifierCV                    0.01  \n",
       "RidgeClassifier                      0.01  \n",
       "AdaBoostClassifier                   0.04  \n",
       "LogisticRegression                   0.01  \n",
       "LinearDiscriminantAnalysis           0.01  \n",
       "GaussianNB                           0.00  \n",
       "LinearSVC                            0.01  \n",
       "BaggingClassifier                    0.01  "
      ]
     },
     "execution_count": 46,
     "metadata": {},
     "output_type": "execute_result"
    }
   ],
   "source": [
    "models_threshold"
   ]
  },
  {
   "cell_type": "code",
   "execution_count": 47,
   "id": "f2cd9a42-d25b-4cd7-b334-13b96e3f3f96",
   "metadata": {},
   "outputs": [],
   "source": [
    "# models_threshold_file_name='../joblib/1_lazypredict_modelsthreshold_2024-06-13_16-33-28.csv'\n",
    "# # extract models\n",
    "# models_threshold=pd.read_csv(models_threshold_file_name)\n",
    "# models_threshold"
   ]
  },
  {
   "cell_type": "markdown",
   "id": "13168d13-d5d4-49f1-9d8e-6727d77e16cc",
   "metadata": {},
   "source": [
    "#### Regular"
   ]
  },
  {
   "cell_type": "code",
   "execution_count": 48,
   "id": "9d6c23af-3044-433d-936c-3760c9bf3227",
   "metadata": {
    "tags": []
   },
   "outputs": [
    {
     "name": "stdout",
     "output_type": "stream",
     "text": [
      "'tuple' object has no attribute '__name__'\n",
      "Invalid Classifier(s)\n"
     ]
    },
    {
     "name": "stderr",
     "output_type": "stream",
     "text": [
      "100%|█████████████████████████████████████████████████████████| 31/31 [00:00<00:00, 60.36it/s]"
     ]
    },
    {
     "name": "stdout",
     "output_type": "stream",
     "text": [
      "[LightGBM] [Info] Number of positive: 62, number of negative: 51\n",
      "[LightGBM] [Info] Auto-choosing col-wise multi-threading, the overhead of testing was 0.000174 seconds.\n",
      "You can set `force_col_wise=true` to remove the overhead.\n",
      "[LightGBM] [Info] Total Bins 31\n",
      "[LightGBM] [Info] Number of data points in the train set: 113, number of used features: 6\n",
      "[LightGBM] [Info] [binary:BoostFromScore]: pavg=0.548673 -> initscore=0.195309\n",
      "[LightGBM] [Info] Start training from score 0.195309\n",
      "[LightGBM] [Warning] No further splits with positive gain, best gain: -inf\n",
      "[LightGBM] [Warning] No further splits with positive gain, best gain: -inf\n",
      "[LightGBM] [Warning] No further splits with positive gain, best gain: -inf\n",
      "[LightGBM] [Warning] No further splits with positive gain, best gain: -inf\n",
      "[LightGBM] [Warning] No further splits with positive gain, best gain: -inf\n",
      "[LightGBM] [Warning] No further splits with positive gain, best gain: -inf\n",
      "[LightGBM] [Warning] No further splits with positive gain, best gain: -inf\n",
      "[LightGBM] [Warning] No further splits with positive gain, best gain: -inf\n",
      "[LightGBM] [Warning] No further splits with positive gain, best gain: -inf\n",
      "[LightGBM] [Warning] No further splits with positive gain, best gain: -inf\n",
      "[LightGBM] [Warning] No further splits with positive gain, best gain: -inf\n",
      "[LightGBM] [Warning] No further splits with positive gain, best gain: -inf\n",
      "[LightGBM] [Warning] No further splits with positive gain, best gain: -inf\n",
      "[LightGBM] [Warning] No further splits with positive gain, best gain: -inf\n",
      "[LightGBM] [Warning] No further splits with positive gain, best gain: -inf\n",
      "[LightGBM] [Warning] No further splits with positive gain, best gain: -inf\n",
      "[LightGBM] [Warning] No further splits with positive gain, best gain: -inf\n",
      "[LightGBM] [Warning] No further splits with positive gain, best gain: -inf\n",
      "[LightGBM] [Warning] No further splits with positive gain, best gain: -inf\n",
      "[LightGBM] [Warning] No further splits with positive gain, best gain: -inf\n",
      "[LightGBM] [Warning] No further splits with positive gain, best gain: -inf\n",
      "[LightGBM] [Warning] No further splits with positive gain, best gain: -inf\n",
      "[LightGBM] [Warning] No further splits with positive gain, best gain: -inf\n",
      "[LightGBM] [Warning] No further splits with positive gain, best gain: -inf\n",
      "[LightGBM] [Warning] No further splits with positive gain, best gain: -inf\n",
      "[LightGBM] [Warning] No further splits with positive gain, best gain: -inf\n",
      "[LightGBM] [Warning] No further splits with positive gain, best gain: -inf\n",
      "[LightGBM] [Warning] No further splits with positive gain, best gain: -inf\n",
      "[LightGBM] [Warning] No further splits with positive gain, best gain: -inf\n",
      "[LightGBM] [Warning] No further splits with positive gain, best gain: -inf\n",
      "[LightGBM] [Warning] No further splits with positive gain, best gain: -inf\n",
      "[LightGBM] [Warning] No further splits with positive gain, best gain: -inf\n",
      "[LightGBM] [Warning] No further splits with positive gain, best gain: -inf\n",
      "[LightGBM] [Warning] No further splits with positive gain, best gain: -inf\n",
      "[LightGBM] [Warning] No further splits with positive gain, best gain: -inf\n",
      "[LightGBM] [Warning] No further splits with positive gain, best gain: -inf\n",
      "[LightGBM] [Warning] No further splits with positive gain, best gain: -inf\n",
      "[LightGBM] [Warning] No further splits with positive gain, best gain: -inf\n",
      "[LightGBM] [Warning] No further splits with positive gain, best gain: -inf\n",
      "[LightGBM] [Warning] No further splits with positive gain, best gain: -inf\n",
      "[LightGBM] [Warning] No further splits with positive gain, best gain: -inf\n",
      "[LightGBM] [Warning] No further splits with positive gain, best gain: -inf\n",
      "[LightGBM] [Warning] No further splits with positive gain, best gain: -inf\n",
      "[LightGBM] [Warning] No further splits with positive gain, best gain: -inf\n",
      "[LightGBM] [Warning] No further splits with positive gain, best gain: -inf\n",
      "[LightGBM] [Warning] No further splits with positive gain, best gain: -inf\n",
      "[LightGBM] [Warning] No further splits with positive gain, best gain: -inf\n",
      "[LightGBM] [Warning] No further splits with positive gain, best gain: -inf\n",
      "[LightGBM] [Warning] No further splits with positive gain, best gain: -inf\n",
      "[LightGBM] [Warning] No further splits with positive gain, best gain: -inf\n",
      "[LightGBM] [Warning] No further splits with positive gain, best gain: -inf\n",
      "[LightGBM] [Warning] No further splits with positive gain, best gain: -inf\n",
      "[LightGBM] [Warning] No further splits with positive gain, best gain: -inf\n",
      "[LightGBM] [Warning] No further splits with positive gain, best gain: -inf\n",
      "[LightGBM] [Warning] No further splits with positive gain, best gain: -inf\n",
      "[LightGBM] [Warning] No further splits with positive gain, best gain: -inf\n",
      "[LightGBM] [Warning] No further splits with positive gain, best gain: -inf\n",
      "[LightGBM] [Warning] No further splits with positive gain, best gain: -inf\n",
      "[LightGBM] [Warning] No further splits with positive gain, best gain: -inf\n",
      "[LightGBM] [Warning] No further splits with positive gain, best gain: -inf\n",
      "[LightGBM] [Warning] No further splits with positive gain, best gain: -inf\n",
      "[LightGBM] [Warning] No further splits with positive gain, best gain: -inf\n",
      "[LightGBM] [Warning] No further splits with positive gain, best gain: -inf\n",
      "[LightGBM] [Warning] No further splits with positive gain, best gain: -inf\n",
      "[LightGBM] [Warning] No further splits with positive gain, best gain: -inf\n",
      "[LightGBM] [Warning] No further splits with positive gain, best gain: -inf\n",
      "[LightGBM] [Warning] No further splits with positive gain, best gain: -inf\n",
      "[LightGBM] [Warning] No further splits with positive gain, best gain: -inf\n",
      "[LightGBM] [Warning] No further splits with positive gain, best gain: -inf\n",
      "[LightGBM] [Warning] No further splits with positive gain, best gain: -inf\n",
      "[LightGBM] [Warning] No further splits with positive gain, best gain: -inf\n",
      "[LightGBM] [Warning] No further splits with positive gain, best gain: -inf\n",
      "[LightGBM] [Warning] No further splits with positive gain, best gain: -inf\n",
      "[LightGBM] [Warning] No further splits with positive gain, best gain: -inf\n",
      "[LightGBM] [Warning] No further splits with positive gain, best gain: -inf\n",
      "[LightGBM] [Warning] No further splits with positive gain, best gain: -inf\n",
      "[LightGBM] [Warning] No further splits with positive gain, best gain: -inf\n",
      "[LightGBM] [Warning] No further splits with positive gain, best gain: -inf\n",
      "[LightGBM] [Warning] No further splits with positive gain, best gain: -inf\n",
      "[LightGBM] [Warning] No further splits with positive gain, best gain: -inf\n",
      "[LightGBM] [Warning] No further splits with positive gain, best gain: -inf\n",
      "[LightGBM] [Warning] No further splits with positive gain, best gain: -inf\n",
      "[LightGBM] [Warning] No further splits with positive gain, best gain: -inf\n",
      "[LightGBM] [Warning] No further splits with positive gain, best gain: -inf\n",
      "[LightGBM] [Warning] No further splits with positive gain, best gain: -inf\n",
      "[LightGBM] [Warning] No further splits with positive gain, best gain: -inf\n",
      "[LightGBM] [Warning] No further splits with positive gain, best gain: -inf\n",
      "[LightGBM] [Warning] No further splits with positive gain, best gain: -inf\n",
      "[LightGBM] [Warning] No further splits with positive gain, best gain: -inf\n",
      "[LightGBM] [Warning] No further splits with positive gain, best gain: -inf\n",
      "[LightGBM] [Warning] No further splits with positive gain, best gain: -inf\n",
      "[LightGBM] [Warning] No further splits with positive gain, best gain: -inf\n",
      "[LightGBM] [Warning] No further splits with positive gain, best gain: -inf\n",
      "[LightGBM] [Warning] No further splits with positive gain, best gain: -inf\n",
      "[LightGBM] [Warning] No further splits with positive gain, best gain: -inf\n",
      "[LightGBM] [Warning] No further splits with positive gain, best gain: -inf\n",
      "[LightGBM] [Warning] No further splits with positive gain, best gain: -inf\n",
      "[LightGBM] [Warning] No further splits with positive gain, best gain: -inf\n",
      "[LightGBM] [Warning] No further splits with positive gain, best gain: -inf\n",
      "[LightGBM] [Warning] No further splits with positive gain, best gain: -inf\n"
     ]
    },
    {
     "name": "stderr",
     "output_type": "stream",
     "text": [
      "\n"
     ]
    }
   ],
   "source": [
    "models, predictions = clf.fit(X_train=X_train,\n",
    "                              X_test=X_test,\n",
    "                              y_train=y_train,\n",
    "                              y_test=y_test)"
   ]
  },
  {
   "cell_type": "markdown",
   "id": "f84c977c-0a73-45f2-91d6-3a461e1b47af",
   "metadata": {},
   "source": [
    "Save `models` object:"
   ]
  },
  {
   "cell_type": "code",
   "execution_count": 49,
   "id": "3e16d129-7ce5-48df-a634-ad8595033298",
   "metadata": {},
   "outputs": [
    {
     "name": "stdout",
     "output_type": "stream",
     "text": [
      "current_datetime: 2024-06-13 18:26:02.329889\n",
      "../joblib/1_lazypredict_models_2024-06-13_18-26-02.csv\n",
      "Successfully saved object_ to ../joblib/1_lazypredict_models_2024-06-13_18-26-02.csv\n"
     ]
    }
   ],
   "source": [
    "fileDaterSaver(location='../joblib/',\n",
    "               filetype='csv',\n",
    "               object_=models,\n",
    "               extra='1_lazypredict_models')"
   ]
  },
  {
   "cell_type": "code",
   "execution_count": 50,
   "id": "31794b92-3c47-43d1-a5e5-54a6df0c7153",
   "metadata": {},
   "outputs": [
    {
     "data": {
      "text/html": [
       "<div>\n",
       "<style scoped>\n",
       "    .dataframe tbody tr th:only-of-type {\n",
       "        vertical-align: middle;\n",
       "    }\n",
       "\n",
       "    .dataframe tbody tr th {\n",
       "        vertical-align: top;\n",
       "    }\n",
       "\n",
       "    .dataframe thead th {\n",
       "        text-align: right;\n",
       "    }\n",
       "</style>\n",
       "<table border=\"1\" class=\"dataframe\">\n",
       "  <thead>\n",
       "    <tr style=\"text-align: right;\">\n",
       "      <th></th>\n",
       "      <th>Accuracy</th>\n",
       "      <th>Balanced Accuracy</th>\n",
       "      <th>ROC AUC</th>\n",
       "      <th>F1 Score</th>\n",
       "      <th>Time Taken</th>\n",
       "    </tr>\n",
       "    <tr>\n",
       "      <th>Model</th>\n",
       "      <th></th>\n",
       "      <th></th>\n",
       "      <th></th>\n",
       "      <th></th>\n",
       "      <th></th>\n",
       "    </tr>\n",
       "  </thead>\n",
       "  <tbody>\n",
       "    <tr>\n",
       "      <th>BaggingClassifier</th>\n",
       "      <td>0.62</td>\n",
       "      <td>0.61</td>\n",
       "      <td>0.61</td>\n",
       "      <td>0.61</td>\n",
       "      <td>0.01</td>\n",
       "    </tr>\n",
       "    <tr>\n",
       "      <th>LGBMClassifier</th>\n",
       "      <td>0.54</td>\n",
       "      <td>0.55</td>\n",
       "      <td>0.55</td>\n",
       "      <td>0.53</td>\n",
       "      <td>0.05</td>\n",
       "    </tr>\n",
       "    <tr>\n",
       "      <th>Perceptron</th>\n",
       "      <td>0.54</td>\n",
       "      <td>0.55</td>\n",
       "      <td>0.55</td>\n",
       "      <td>0.53</td>\n",
       "      <td>0.01</td>\n",
       "    </tr>\n",
       "    <tr>\n",
       "      <th>LabelSpreading</th>\n",
       "      <td>0.54</td>\n",
       "      <td>0.54</td>\n",
       "      <td>0.54</td>\n",
       "      <td>0.54</td>\n",
       "      <td>0.02</td>\n",
       "    </tr>\n",
       "    <tr>\n",
       "      <th>QuadraticDiscriminantAnalysis</th>\n",
       "      <td>0.54</td>\n",
       "      <td>0.54</td>\n",
       "      <td>0.54</td>\n",
       "      <td>0.54</td>\n",
       "      <td>0.01</td>\n",
       "    </tr>\n",
       "    <tr>\n",
       "      <th>RandomForestClassifier</th>\n",
       "      <td>0.54</td>\n",
       "      <td>0.54</td>\n",
       "      <td>0.54</td>\n",
       "      <td>0.54</td>\n",
       "      <td>0.10</td>\n",
       "    </tr>\n",
       "    <tr>\n",
       "      <th>ExtraTreesClassifier</th>\n",
       "      <td>0.54</td>\n",
       "      <td>0.54</td>\n",
       "      <td>0.54</td>\n",
       "      <td>0.54</td>\n",
       "      <td>0.03</td>\n",
       "    </tr>\n",
       "    <tr>\n",
       "      <th>LabelPropagation</th>\n",
       "      <td>0.54</td>\n",
       "      <td>0.54</td>\n",
       "      <td>0.54</td>\n",
       "      <td>0.54</td>\n",
       "      <td>0.03</td>\n",
       "    </tr>\n",
       "    <tr>\n",
       "      <th>XGBClassifier</th>\n",
       "      <td>0.54</td>\n",
       "      <td>0.52</td>\n",
       "      <td>0.52</td>\n",
       "      <td>0.52</td>\n",
       "      <td>0.10</td>\n",
       "    </tr>\n",
       "    <tr>\n",
       "      <th>DecisionTreeClassifier</th>\n",
       "      <td>0.54</td>\n",
       "      <td>0.52</td>\n",
       "      <td>0.52</td>\n",
       "      <td>0.52</td>\n",
       "      <td>0.00</td>\n",
       "    </tr>\n",
       "    <tr>\n",
       "      <th>DummyClassifier</th>\n",
       "      <td>0.54</td>\n",
       "      <td>0.50</td>\n",
       "      <td>0.50</td>\n",
       "      <td>0.38</td>\n",
       "      <td>0.00</td>\n",
       "    </tr>\n",
       "    <tr>\n",
       "      <th>GaussianNB</th>\n",
       "      <td>0.46</td>\n",
       "      <td>0.45</td>\n",
       "      <td>0.45</td>\n",
       "      <td>0.46</td>\n",
       "      <td>0.00</td>\n",
       "    </tr>\n",
       "    <tr>\n",
       "      <th>SVC</th>\n",
       "      <td>0.46</td>\n",
       "      <td>0.45</td>\n",
       "      <td>0.45</td>\n",
       "      <td>0.46</td>\n",
       "      <td>0.00</td>\n",
       "    </tr>\n",
       "    <tr>\n",
       "      <th>BernoulliNB</th>\n",
       "      <td>0.46</td>\n",
       "      <td>0.45</td>\n",
       "      <td>0.45</td>\n",
       "      <td>0.46</td>\n",
       "      <td>0.00</td>\n",
       "    </tr>\n",
       "    <tr>\n",
       "      <th>NuSVC</th>\n",
       "      <td>0.46</td>\n",
       "      <td>0.45</td>\n",
       "      <td>0.45</td>\n",
       "      <td>0.46</td>\n",
       "      <td>0.01</td>\n",
       "    </tr>\n",
       "    <tr>\n",
       "      <th>RidgeClassifier</th>\n",
       "      <td>0.46</td>\n",
       "      <td>0.44</td>\n",
       "      <td>0.44</td>\n",
       "      <td>0.42</td>\n",
       "      <td>0.01</td>\n",
       "    </tr>\n",
       "    <tr>\n",
       "      <th>RidgeClassifierCV</th>\n",
       "      <td>0.46</td>\n",
       "      <td>0.44</td>\n",
       "      <td>0.44</td>\n",
       "      <td>0.42</td>\n",
       "      <td>0.01</td>\n",
       "    </tr>\n",
       "    <tr>\n",
       "      <th>LinearSVC</th>\n",
       "      <td>0.46</td>\n",
       "      <td>0.44</td>\n",
       "      <td>0.44</td>\n",
       "      <td>0.42</td>\n",
       "      <td>0.01</td>\n",
       "    </tr>\n",
       "    <tr>\n",
       "      <th>LogisticRegression</th>\n",
       "      <td>0.46</td>\n",
       "      <td>0.44</td>\n",
       "      <td>0.44</td>\n",
       "      <td>0.42</td>\n",
       "      <td>0.01</td>\n",
       "    </tr>\n",
       "    <tr>\n",
       "      <th>LinearDiscriminantAnalysis</th>\n",
       "      <td>0.46</td>\n",
       "      <td>0.44</td>\n",
       "      <td>0.44</td>\n",
       "      <td>0.42</td>\n",
       "      <td>0.01</td>\n",
       "    </tr>\n",
       "    <tr>\n",
       "      <th>ExtraTreeClassifier</th>\n",
       "      <td>0.46</td>\n",
       "      <td>0.44</td>\n",
       "      <td>0.44</td>\n",
       "      <td>0.42</td>\n",
       "      <td>0.00</td>\n",
       "    </tr>\n",
       "    <tr>\n",
       "      <th>CalibratedClassifierCV</th>\n",
       "      <td>0.46</td>\n",
       "      <td>0.44</td>\n",
       "      <td>0.44</td>\n",
       "      <td>0.42</td>\n",
       "      <td>0.01</td>\n",
       "    </tr>\n",
       "    <tr>\n",
       "      <th>SGDClassifier</th>\n",
       "      <td>0.38</td>\n",
       "      <td>0.39</td>\n",
       "      <td>0.39</td>\n",
       "      <td>0.38</td>\n",
       "      <td>0.01</td>\n",
       "    </tr>\n",
       "    <tr>\n",
       "      <th>NearestCentroid</th>\n",
       "      <td>0.31</td>\n",
       "      <td>0.31</td>\n",
       "      <td>0.31</td>\n",
       "      <td>0.31</td>\n",
       "      <td>0.01</td>\n",
       "    </tr>\n",
       "    <tr>\n",
       "      <th>AdaBoostClassifier</th>\n",
       "      <td>0.31</td>\n",
       "      <td>0.30</td>\n",
       "      <td>0.30</td>\n",
       "      <td>0.30</td>\n",
       "      <td>0.03</td>\n",
       "    </tr>\n",
       "    <tr>\n",
       "      <th>PassiveAggressiveClassifier</th>\n",
       "      <td>0.23</td>\n",
       "      <td>0.24</td>\n",
       "      <td>0.24</td>\n",
       "      <td>0.22</td>\n",
       "      <td>0.01</td>\n",
       "    </tr>\n",
       "    <tr>\n",
       "      <th>KNeighborsClassifier</th>\n",
       "      <td>0.08</td>\n",
       "      <td>0.08</td>\n",
       "      <td>0.08</td>\n",
       "      <td>0.07</td>\n",
       "      <td>0.00</td>\n",
       "    </tr>\n",
       "  </tbody>\n",
       "</table>\n",
       "</div>"
      ],
      "text/plain": [
       "                               Accuracy  Balanced Accuracy  ROC AUC  F1 Score  \\\n",
       "Model                                                                           \n",
       "BaggingClassifier                  0.62               0.61     0.61      0.61   \n",
       "LGBMClassifier                     0.54               0.55     0.55      0.53   \n",
       "Perceptron                         0.54               0.55     0.55      0.53   \n",
       "LabelSpreading                     0.54               0.54     0.54      0.54   \n",
       "QuadraticDiscriminantAnalysis      0.54               0.54     0.54      0.54   \n",
       "RandomForestClassifier             0.54               0.54     0.54      0.54   \n",
       "ExtraTreesClassifier               0.54               0.54     0.54      0.54   \n",
       "LabelPropagation                   0.54               0.54     0.54      0.54   \n",
       "XGBClassifier                      0.54               0.52     0.52      0.52   \n",
       "DecisionTreeClassifier             0.54               0.52     0.52      0.52   \n",
       "DummyClassifier                    0.54               0.50     0.50      0.38   \n",
       "GaussianNB                         0.46               0.45     0.45      0.46   \n",
       "SVC                                0.46               0.45     0.45      0.46   \n",
       "BernoulliNB                        0.46               0.45     0.45      0.46   \n",
       "NuSVC                              0.46               0.45     0.45      0.46   \n",
       "RidgeClassifier                    0.46               0.44     0.44      0.42   \n",
       "RidgeClassifierCV                  0.46               0.44     0.44      0.42   \n",
       "LinearSVC                          0.46               0.44     0.44      0.42   \n",
       "LogisticRegression                 0.46               0.44     0.44      0.42   \n",
       "LinearDiscriminantAnalysis         0.46               0.44     0.44      0.42   \n",
       "ExtraTreeClassifier                0.46               0.44     0.44      0.42   \n",
       "CalibratedClassifierCV             0.46               0.44     0.44      0.42   \n",
       "SGDClassifier                      0.38               0.39     0.39      0.38   \n",
       "NearestCentroid                    0.31               0.31     0.31      0.31   \n",
       "AdaBoostClassifier                 0.31               0.30     0.30      0.30   \n",
       "PassiveAggressiveClassifier        0.23               0.24     0.24      0.22   \n",
       "KNeighborsClassifier               0.08               0.08     0.08      0.07   \n",
       "\n",
       "                               Time Taken  \n",
       "Model                                      \n",
       "BaggingClassifier                    0.01  \n",
       "LGBMClassifier                       0.05  \n",
       "Perceptron                           0.01  \n",
       "LabelSpreading                       0.02  \n",
       "QuadraticDiscriminantAnalysis        0.01  \n",
       "RandomForestClassifier               0.10  \n",
       "ExtraTreesClassifier                 0.03  \n",
       "LabelPropagation                     0.03  \n",
       "XGBClassifier                        0.10  \n",
       "DecisionTreeClassifier               0.00  \n",
       "DummyClassifier                      0.00  \n",
       "GaussianNB                           0.00  \n",
       "SVC                                  0.00  \n",
       "BernoulliNB                          0.00  \n",
       "NuSVC                                0.01  \n",
       "RidgeClassifier                      0.01  \n",
       "RidgeClassifierCV                    0.01  \n",
       "LinearSVC                            0.01  \n",
       "LogisticRegression                   0.01  \n",
       "LinearDiscriminantAnalysis           0.01  \n",
       "ExtraTreeClassifier                  0.00  \n",
       "CalibratedClassifierCV               0.01  \n",
       "SGDClassifier                        0.01  \n",
       "NearestCentroid                      0.01  \n",
       "AdaBoostClassifier                   0.03  \n",
       "PassiveAggressiveClassifier          0.01  \n",
       "KNeighborsClassifier                 0.00  "
      ]
     },
     "execution_count": 50,
     "metadata": {},
     "output_type": "execute_result"
    }
   ],
   "source": [
    "models"
   ]
  },
  {
   "cell_type": "code",
   "execution_count": 51,
   "id": "4d0133c9-0c9f-4227-a0fc-4782a7dad910",
   "metadata": {},
   "outputs": [],
   "source": [
    "# models_file_name='../joblib/1_lazypredict_models_2024-06-13_16-36-25.csv'\n",
    "# # extract models\n",
    "# models=pd.read_csv(models_file_name)\n",
    "# models"
   ]
  },
  {
   "cell_type": "markdown",
   "id": "6c573aac-bd50-4dbd-984e-b4c0f9815811",
   "metadata": {},
   "source": [
    "After exploring alternatives, including `LGBMClassifier`, I will now use `XGBoost` instead. In a previous iteration, a previous `random_seed`, it had given me the second-highest accuracy. You'll note that XGBoost is now at a different rank in the model options. This is a lesson that I must always specify a `random_state` to ensure reproducibility."
   ]
  },
  {
   "cell_type": "markdown",
   "id": "2b37efe4-ad55-4800-bfe5-37e39ade9093",
   "metadata": {},
   "source": [
    "## Correlation Matrix on `get_dummies` data"
   ]
  },
  {
   "cell_type": "markdown",
   "id": "1e8452ea-38a3-4734-ad7b-3031fb7edefc",
   "metadata": {},
   "source": [
    "With the dataset transformed to be OneHotEncoded, rather than staying categorical, would different correlations jump out at us? Let's see."
   ]
  },
  {
   "cell_type": "code",
   "execution_count": 52,
   "id": "70a1a838-f46a-41cb-bdc4-afdcad453013",
   "metadata": {},
   "outputs": [
    {
     "data": {
      "image/png": "[encoded data removed]",
      "text/plain": [
       "<Figure size 1000x800 with 2 Axes>"
      ]
     },
     "metadata": {},
     "output_type": "display_data"
    }
   ],
   "source": [
    "from matplotlib import pyplot as plt\n",
    "import seaborn as sns\n",
    "\n",
    "# Compute the correlation matrix\n",
    "corr = X_ohe.corr()\n",
    "\n",
    "# Generate a mask for the upper triangle\n",
    "mask = np.triu(np.ones_like(corr, dtype=bool))\n",
    "\n",
    "# Set up the matplotlib figure\n",
    "f,ax = plt.subplots(figsize=(10, 8))\n",
    "\n",
    "# Generate a custom diverging colormap\n",
    "# cmap = sns.diverging_palette(230, 20, as_cmap=True)\n",
    "\n",
    "# Draw the heatmap with the mask and correct aspect ratio\n",
    "sns.heatmap(corr, mask=mask, cmap='coolwarm', vmax=.3, center=0,\n",
    "            square=True, linewidths=.5, annot=True,\n",
    "            cbar_kws={\"shrink\": .5},\n",
    "            annot_kws={\"size\":5})\n",
    "plt.title(\"Correlation Matrix for OHE'd Data\\nHigher absolute value indicates stronger correlation (positive [red] or negative [blue])\")\n",
    "plt.tight_layout()\n",
    "\n",
    "# save fig\n",
    "plt.savefig('../figs/1_corrmatrix_ohe.pdf')\n",
    "plt.savefig('../figs/1_corrmatrix_ohe.png')"
   ]
  },
  {
   "cell_type": "markdown",
   "id": "b8044253-fbe0-4d17-9296-a17f24103b2f",
   "metadata": {},
   "source": [
    "Nothing much to learn here except that if a specific category scored high, other categories likely scored high. This is also true if categories scored low. Some categories are missing as there is no data recorded for them. For example, no respondent scored `time` as a `2`.\n",
    "\n",
    "I'm curious why, for example, people that scored the `app` as `4` were not likely to score the `time` as `5`. This may be explained later in our modeling and statistical analysis."
   ]
  },
  {
   "cell_type": "markdown",
   "id": "6b4b042b-3237-4f9a-a4ef-94caf09f8ab2",
   "metadata": {},
   "source": [
    "## Modeling"
   ]
  },
  {
   "cell_type": "markdown",
   "id": "e2705b01-4d98-41c4-9bff-26917c13aa1c",
   "metadata": {},
   "source": [
    "### Exploring different training sizes"
   ]
  },
  {
   "cell_type": "markdown",
   "id": "e3488710-8b06-4920-b276-947fac4eaf89",
   "metadata": {},
   "source": [
    "Please humor me as we take a brief tangent to explore randomness and accuracy. I'm curious how the accuracy of a simple ML model increases or decreases based on the train/test split fraction. Let's look at the figure below."
   ]
  },
  {
   "cell_type": "code",
   "execution_count": 53,
   "id": "b3b9bc77-7ed2-495f-a546-e6f364cb1490",
   "metadata": {},
   "outputs": [],
   "source": [
    "# setup seeds for extra variability\n",
    "seeds = [rand_gen() for _ in range(10)]"
   ]
  },
  {
   "cell_type": "code",
   "execution_count": 54,
   "id": "8ad8dea7-7178-4c12-bb04-4d10a6db70a9",
   "metadata": {},
   "outputs": [
    {
     "data": {
      "image/png": "[encoded data removed]",
      "text/plain": [
       "<Figure size 640x480 with 1 Axes>"
      ]
     },
     "metadata": {},
     "output_type": "display_data"
    }
   ],
   "source": [
    "# setup size fraction for train_test_split\n",
    "size_range=np.arange(0.5,10.5)\n",
    "size_range=size_range*.1\n",
    "    \n",
    "# generate dataset\n",
    "X_dummy, y_dummy = make_classification(n_samples=1000,   # Number of samples\n",
    "                           n_features=10,    # Number of features\n",
    "                           n_informative=8, # Number of informative features\n",
    "                           n_redundant=2,    # Number of redundant features\n",
    "                           n_classes=2,      # Number of classes\n",
    "                           random_state=42)  # Seed for reproducibility\n",
    "    \n",
    "# setup train/test split dictionaries\n",
    "X_trains={}\n",
    "X_tests={}\n",
    "y_trains={}\n",
    "y_tests={}\n",
    "\n",
    "for test_size in size_range:\n",
    "    X_dummy_train, X_dummy_test, y_dummy_train, y_dummy_test = train_test_split(X_dummy, y_dummy, test_size=test_size, stratify=y_dummy, random_state=seed)\n",
    "    \n",
    "    # use test size as the key for each split\n",
    "    X_trains[test_size] = X_dummy_train\n",
    "    X_tests[test_size] = X_dummy_test\n",
    "    y_trains[test_size] = y_dummy_train\n",
    "    y_tests[test_size] = y_dummy_test\n",
    "    \n",
    "# setup accuracy list\n",
    "accs=[]\n",
    "\n",
    "for test_size in size_range:\n",
    "\n",
    "#   instantiate\n",
    "    model = XGBClassifier(use_label_encoder=False, eval_metric='logloss')\n",
    "    \n",
    "    # train\n",
    "    model.fit(X_trains[test_size], y_trains[test_size])\n",
    "\n",
    "    # evaluate\n",
    "    y_pred = model.predict(X_tests[test_size])  # Predict the test set\n",
    "    accuracy = accuracy_score(y_tests[test_size], y_pred)  # Compute the accuracy\n",
    "    \n",
    "    accs.append(accuracy)\n",
    "\n",
    "# plot accuracies\n",
    "fig,ax=plt.subplots()\n",
    "ax.plot(size_range,accs,label='accuracies')\n",
    "ax.set_title('Accuracies of $XGBClassifier$ over increasing test size fractions')\n",
    "ax.set_xlabel('Test Size Fraction')\n",
    "ax.set_ylabel('Accuracy')\n",
    "ax.grid(True)\n",
    "ax.legend()\n",
    "\n",
    "plt.show()"
   ]
  },
  {
   "cell_type": "code",
   "execution_count": 55,
   "id": "b0d9787c-cacf-4c6e-8bc0-d264a4195236",
   "metadata": {},
   "outputs": [
    {
     "data": {
      "image/png": "[encoded data removed]",
      "text/plain": [
       "<Figure size 640x480 with 1 Axes>"
      ]
     },
     "metadata": {},
     "output_type": "display_data"
    }
   ],
   "source": [
    "# Setup size fraction for train_test_split\n",
    "size_range=np.arange(0.5,10.5)\n",
    "size_range=size_range*.1\n",
    "\n",
    "# Generate dataset\n",
    "X_dummy, y_dummy = make_classification(n_samples=1000,   # Number of samples\n",
    "                                       n_features=10,    # Number of features\n",
    "                                       n_informative=8,  # Number of informative features\n",
    "                                       n_redundant=2,    # Number of redundant features\n",
    "                                       n_classes=2,      # Number of classes\n",
    "                                       random_state=42)  # Seed for reproducibility\n",
    "\n",
    "# Setup dictionaries to store results\n",
    "accuracies = {seed: [] for seed in seeds}\n",
    "\n",
    "# Loop over seeds\n",
    "for seed in seeds:\n",
    "    for test_size in size_range:\n",
    "        # Perform train/test split\n",
    "        X_dummy_train, X_dummy_test, y_dummy_train, y_dummy_test = train_test_split(X_dummy, y_dummy, test_size=test_size, stratify=y_dummy, random_state=seed)\n",
    "        \n",
    "        # Instantiate model\n",
    "        model = XGBClassifier(use_label_encoder=False, eval_metric='logloss')\n",
    "        \n",
    "        # Train model\n",
    "        model.fit(X_dummy_train, y_dummy_train)\n",
    "        \n",
    "        # Evaluate model\n",
    "        y_pred = model.predict(X_dummy_test)\n",
    "        accuracy = accuracy_score(y_dummy_test, y_pred)\n",
    "        \n",
    "        # Store accuracy\n",
    "        accuracies[seed].append(accuracy)\n",
    "\n",
    "# Calculate average accuracy for each test size fraction\n",
    "mean_accuracies = np.mean([accuracies[seed] for seed in seeds], axis=0)\n",
    "        \n",
    "# Plot accuracies\n",
    "fig, ax = plt.subplots()\n",
    "\n",
    "for seed in seeds:\n",
    "    ax.plot(size_range, accuracies[seed], label=f'Seed {seed}')\n",
    "\n",
    "# Plot average accuracy with thicker line\n",
    "ax.plot(size_range, mean_accuracies, label='Average', color='black', linewidth=2)\n",
    "\n",
    "ax.set_title('Accuracies of $XGBClassifier$ over increasing test size fractions')\n",
    "ax.set_xlabel('Test Size Fraction')\n",
    "ax.set_ylabel('Accuracy')\n",
    "ax.grid(True)\n",
    "ax.legend()\n",
    "\n",
    "plt.show()"
   ]
  },
  {
   "cell_type": "markdown",
   "id": "0ff9ac97-4988-4339-89ff-f16e12923a5b",
   "metadata": {},
   "source": [
    "#### Now with our actual dataset:"
   ]
  },
  {
   "cell_type": "code",
   "execution_count": 56,
   "id": "ad7af86f-a01f-4395-9db6-73d20f590b23",
   "metadata": {},
   "outputs": [
    {
     "data": {
      "image/png": "[encoded data removed]",
      "text/plain": [
       "<Figure size 640x480 with 1 Axes>"
      ]
     },
     "metadata": {},
     "output_type": "display_data"
    }
   ],
   "source": [
    "# setup size fraction for train_test_split\n",
    "size_range=np.arange(0.5,10.5)\n",
    "size_range=size_range*.1\n",
    "        \n",
    "# setup train/test split dictionaries\n",
    "X_trains={}\n",
    "X_tests={}\n",
    "y_trains={}\n",
    "y_tests={}\n",
    "\n",
    "for test_size in size_range:\n",
    "    X_train, X_test, y_train, y_test = train_test_split(X, y, test_size=test_size, stratify=y, random_state=seed)\n",
    "    \n",
    "    # use test size as the key for each split\n",
    "    X_trains[test_size] = X_train\n",
    "    X_tests[test_size] = X_test\n",
    "    y_trains[test_size] = y_train\n",
    "    y_tests[test_size] = y_test\n",
    "    \n",
    "# setup accuracy list\n",
    "accs=[]\n",
    "\n",
    "for test_size in size_range:\n",
    "\n",
    "#   instantiate\n",
    "    model = XGBClassifier(use_label_encoder=False, eval_metric='logloss')\n",
    "    \n",
    "    # train\n",
    "    model.fit(X_trains[test_size], y_trains[test_size])\n",
    "\n",
    "    # evaluate\n",
    "    y_pred = model.predict(X_tests[test_size])  # Predict the test set\n",
    "    accuracy = accuracy_score(y_tests[test_size], y_pred)  # Compute the accuracy\n",
    "    \n",
    "    accs.append(accuracy)\n",
    "\n",
    "# plot accuracies\n",
    "\n",
    "fig,ax=plt.subplots()\n",
    "ax.plot(size_range,accs,label='accuracies')\n",
    "ax.set_title(\"Accuracies of $XGBClassifier$ over increasing test size fractions\\nusing this project's data\")\n",
    "ax.set_xlabel('Test Size Fraction')\n",
    "ax.set_ylabel('Accuracy')\n",
    "ax.grid(True)\n",
    "ax.legend()\n",
    "\n",
    "plt.show()"
   ]
  },
  {
   "cell_type": "code",
   "execution_count": 57,
   "id": "94e2fbb9-95e3-4dfe-995d-e676f9f088d6",
   "metadata": {},
   "outputs": [
    {
     "data": {
      "image/png": "[encoded data removed]",
      "text/plain": [
       "<Figure size 640x480 with 1 Axes>"
      ]
     },
     "metadata": {},
     "output_type": "display_data"
    }
   ],
   "source": [
    "# Setup size fraction for train_test_split\n",
    "size_range=np.arange(0.5,10.5)\n",
    "size_range=size_range*.1\n",
    "\n",
    "# Setup dictionaries to store results\n",
    "accuracies = {seed: [] for seed in seeds}\n",
    "\n",
    "# Loop over seeds\n",
    "for seed in seeds:\n",
    "    for test_size in size_range:\n",
    "        # Perform train/test split\n",
    "        X_train, X_test, y_train, y_test = train_test_split(X, y, test_size=test_size, stratify=y, random_state=seed)\n",
    "        \n",
    "        # Instantiate model\n",
    "        model = XGBClassifier(use_label_encoder=False, eval_metric='logloss')\n",
    "        \n",
    "        # Train model\n",
    "        model.fit(X_train, y_train)\n",
    "        \n",
    "        # Evaluate model\n",
    "        y_pred = model.predict(X_test)\n",
    "        accuracy = accuracy_score(y_test, y_pred)\n",
    "        \n",
    "        # Store accuracy\n",
    "        accuracies[seed].append(accuracy)\n",
    "\n",
    "# Calculate average accuracy for each test size fraction\n",
    "mean_accuracies = np.mean([accuracies[seed] for seed in seeds], axis=0)\n",
    "        \n",
    "# Plot accuracies\n",
    "fig, ax = plt.subplots()\n",
    "\n",
    "for seed in seeds:\n",
    "    ax.plot(size_range, accuracies[seed], label=f'Seed {seed}')\n",
    "\n",
    "# Plot average accuracy with thicker line\n",
    "ax.plot(size_range, mean_accuracies, label='Average', color='black', linewidth=2)\n",
    "\n",
    "ax.set_title(\"Accuracies of $XGBClassifier$ over increasing test size fractions\\nusing this project's data\")\n",
    "ax.set_xlabel('Test Size Fraction')\n",
    "ax.set_ylabel('Accuracy')\n",
    "ax.grid(True)\n",
    "ax.legend()\n",
    "\n",
    "plt.show()"
   ]
  },
  {
   "cell_type": "markdown",
   "id": "5d7fcbd4-5c4b-4914-9b31-5aa7a109372b",
   "metadata": {},
   "source": [
    "Randomness and test size plays a large role in determining the final accuracy, especially with a small dataset like ours."
   ]
  },
  {
   "cell_type": "markdown",
   "id": "3095365f-d76b-445b-9295-5526fc0e31d5",
   "metadata": {},
   "source": [
    "Regenerate working train/test splits for the modeling below:"
   ]
  },
  {
   "cell_type": "code",
   "execution_count": 58,
   "id": "6c9c7c28-e3a4-4c3b-a850-c91a3d2051bf",
   "metadata": {},
   "outputs": [],
   "source": [
    "# read in and setup dataset\n",
    "\n",
    "df=pd.read_csv('../data/1_data.csv')\n",
    "\n",
    "# renaming columns to preserve order\n",
    "# and make them more intelligible\n",
    "df.rename(columns={'Y':'y',\n",
    "                   'X1':'a_time',\n",
    "                   'X2':'b_contents',\n",
    "                   'X3':'c_complete',\n",
    "                   'X4':'d_price',\n",
    "                   'X5':'e_courier',\n",
    "                   'X6':'f_app'},inplace=True)\n",
    "\n",
    "# df.dtypes\n",
    "\n",
    "X=df[[col for col in df.columns if col != 'y']].copy()\n",
    "y=df['y'].copy().astype('int8') # because it's a binary\n",
    "\n",
    "X_cat=X.copy()\n",
    "\n",
    "for col in X_cat.columns:\n",
    "    X_cat[col] = X_cat[col].astype('category')\n",
    "    \n",
    "X_cat.dtypes\n",
    "\n",
    "X_ohe=pd.get_dummies(data=X_cat,\n",
    "                     prefix=list(X_cat.columns),\n",
    "                     drop_first=False) # I want to \n",
    "                                       # see all survey responses\n",
    "                                       # that are in dataset\n",
    "        \n",
    "# train/test split\n",
    "X_train_ohe, \\\n",
    "X_test_ohe, \\\n",
    "y_train_ohe, \\\n",
    "y_test_ohe = train_test_split(X_ohe, \n",
    "                          y, \n",
    "                          test_size=test_size, \n",
    "                          stratify=y,\n",
    "                          random_state=seed)\n",
    "\n",
    "# define thresholding function\n",
    "# if the person scored a category as a 4 or 5,\n",
    "# we give a value of 1. Otherwise, we give it a 0\n",
    "threshold_func = lambda x: 1 if x >= 4 else 0\n",
    "\n",
    "# apply the function to the dataframe\n",
    "X_threshold = X.map(threshold_func)\n",
    "\n",
    "# train/test split\n",
    "X_train_threshold, \\\n",
    "X_test_threshold, \\\n",
    "y_train_threshold, \\\n",
    "y_test_threshold = train_test_split(X_threshold, \n",
    "                          y, \n",
    "                          test_size=test_size, \n",
    "                          stratify=y,\n",
    "                          random_state=seed)\n",
    "\n",
    "X_train, \\\n",
    "X_test, \\\n",
    "y_train, \\\n",
    "y_test = train_test_split(X, \n",
    "                          y, \n",
    "                          test_size=test_size, \n",
    "                          stratify=y,\n",
    "                          random_state=seed)"
   ]
  },
  {
   "cell_type": "markdown",
   "id": "b6ef6425-1977-41d2-8ca9-3feabceb04a8",
   "metadata": {
    "tags": []
   },
   "source": [
    "### `XGBClassifier`"
   ]
  },
  {
   "cell_type": "markdown",
   "id": "2023fe6a-44ed-4c7b-8ad8-59fb15ec8353",
   "metadata": {},
   "source": [
    "#### OHE'd Data <a name='xgboost_ohe'></a>"
   ]
  },
  {
   "cell_type": "code",
   "execution_count": 60,
   "id": "843ca18e-e841-4ae5-a1c4-4c7b951c1bec",
   "metadata": {},
   "outputs": [
    {
     "name": "stdout",
     "output_type": "stream",
     "text": [
      "Score on test: 0.45\n"
     ]
    }
   ],
   "source": [
    "xgbc = XGBClassifier(random_state=seed)\n",
    "xgbc.fit(X_train_ohe, y_train)\n",
    "\n",
    "y_pred = xgbc.predict(X_test_ohe)\n",
    "print(f'Score on test: {xgbc.score(X_test_ohe,y_test)}')\n",
    "# print(classification_report(y_test, y_pred))"
   ]
  },
  {
   "cell_type": "markdown",
   "id": "80335684-6bef-4f86-80d2-27b79a7216db",
   "metadata": {},
   "source": [
    "#### Thresholded Data"
   ]
  },
  {
   "cell_type": "code",
   "execution_count": 61,
   "id": "23d7dbaa-5c01-43e6-9aa6-934074d730d4",
   "metadata": {},
   "outputs": [
    {
     "name": "stdout",
     "output_type": "stream",
     "text": [
      "Score on test: 0.45\n"
     ]
    }
   ],
   "source": [
    "xgbc = XGBClassifier(random_state=seed)\n",
    "xgbc.fit(X_train_threshold, y_train)\n",
    "\n",
    "y_pred = xgbc.predict(X_test_threshold)\n",
    "print(f'Score on test: {xgbc.score(X_test_threshold,y_test)}')\n",
    "# print(classification_report(y_test, y_pred))"
   ]
  },
  {
   "cell_type": "markdown",
   "id": "4821e42b-104a-472d-bb22-506d49654108",
   "metadata": {},
   "source": [
    "#### Regular Data"
   ]
  },
  {
   "cell_type": "code",
   "execution_count": 62,
   "id": "fc9fad64-7dfc-4be0-b55c-5451f5e3af4d",
   "metadata": {},
   "outputs": [
    {
     "name": "stdout",
     "output_type": "stream",
     "text": [
      "Score on test: 0.45\n"
     ]
    }
   ],
   "source": [
    "xgbc = XGBClassifier(random_state=seed)\n",
    "xgbc.fit(X_train, y_train)\n",
    "\n",
    "y_pred = xgbc.predict(X_test)\n",
    "print(f'Score on test: {xgbc.score(X_test,y_test)}')\n",
    "# print(classification_report(y_test, y_pred))"
   ]
  },
  {
   "cell_type": "markdown",
   "id": "8e2b7292-1c7b-4c49-9db7-b9f49f7e8fd2",
   "metadata": {},
   "source": [
    "### `LGBMClassifier` <a name='lgbm'></a>"
   ]
  },
  {
   "cell_type": "markdown",
   "id": "635e8e35-4aee-4d55-b1fa-84eb93296249",
   "metadata": {},
   "source": [
    "Per the past results from the `lazypredict` [here](#lazy_predict_results), I will switch to the `LGBMClassifier`. I will `RFE` for feature elimination. This gets at the stretch goal of the company who gave us the dataset."
   ]
  },
  {
   "cell_type": "code",
   "execution_count": 63,
   "id": "b853797a-b4b9-4e9f-bc9d-80d5c90c2592",
   "metadata": {},
   "outputs": [],
   "source": [
    "import lightgbm as lgb\n",
    "from lightgbm import LGBMClassifier"
   ]
  },
  {
   "cell_type": "markdown",
   "id": "0391c746-8531-4f1d-ab51-434998693af3",
   "metadata": {},
   "source": [
    "#### OHE'd data"
   ]
  },
  {
   "cell_type": "code",
   "execution_count": 64,
   "id": "bb1990b6-b2a1-411a-b45b-01261decb7c0",
   "metadata": {},
   "outputs": [
    {
     "name": "stdout",
     "output_type": "stream",
     "text": [
      "LGBMClassifier(random_state=9419, verbose=-1)\n",
      "fitting model\n",
      "[0 0 0 0 0 0 0 0 0 0 0 0 0 0 0 0 0 0 0 0 0 0 0 0 0 0 0 0 0 0 0 0 0 0 0 0 0\n",
      " 0 0 0 0 0 0 0 0 0 0 0 0 0 0 0 0 0 0 0 0 0 0 0 0 0 0 0 0 0 0 0 0 0 0 0 0 0\n",
      " 0 0 0 0 0 0 0 0 0 0 0 0 0 0 0 0 0 0 0 0 0 0 0 0 0 0 0 0 0 0 0 0 0 0 0 0 0\n",
      " 0 0 0 0 0 0 0 0 0]\n",
      "Accuracy: 0.45\n"
     ]
    }
   ],
   "source": [
    "model=lgb.LGBMClassifier(random_state=seed,verbose=-1)\n",
    "print(model)\n",
    "model.fit(X_train_ohe,y_train_ohe)\n",
    "print(\"fitting model\")\n",
    "y_pred=model.predict(X_test_ohe)\n",
    "print(y_pred)\n",
    "accuracy=accuracy_score(y_test_ohe,y_pred)\n",
    "print(f'Accuracy: {accuracy:.2f}')"
   ]
  },
  {
   "cell_type": "markdown",
   "id": "d6ed68fa-0d9a-4835-9d7a-c012a86455bb",
   "metadata": {},
   "source": [
    "Would `drop_first=True` help at all?"
   ]
  },
  {
   "cell_type": "code",
   "execution_count": 65,
   "id": "9d32405a-8191-40c0-9ad3-c67f9a502d97",
   "metadata": {},
   "outputs": [],
   "source": [
    "X_ohe_drop1=pd.get_dummies(data=X_cat,\n",
    "                     prefix=list(X_cat.columns),\n",
    "                     drop_first=True) # What if we drop_first?"
   ]
  },
  {
   "cell_type": "code",
   "execution_count": 66,
   "id": "a834c6b5-d2d2-4eb3-80ba-4e0d057b7a18",
   "metadata": {},
   "outputs": [],
   "source": [
    "# train/test split on drop first data\n",
    "X_train_ohe_drop1, \\\n",
    "X_test_ohe_drop1, \\\n",
    "y_train_ohe_drop1, \\\n",
    "y_test_ohe_drop1 = train_test_split(X_ohe_drop1, \n",
    "                          y, \n",
    "                          test_size=test_size, \n",
    "                          stratify=y,\n",
    "                          random_state=seed)"
   ]
  },
  {
   "cell_type": "code",
   "execution_count": 67,
   "id": "28ca9ea5-ab00-4a2f-a94c-4c3ba4eee067",
   "metadata": {},
   "outputs": [
    {
     "name": "stdout",
     "output_type": "stream",
     "text": [
      "\n",
      "Shapes of splits:\n",
      "X_train: (6, 23)\n",
      "X_test:  (120, 23)\n",
      "y_train: (6,)\n",
      "y_test:  (120,)\n",
      "\n"
     ]
    }
   ],
   "source": [
    "# confirm that the split occurred\n",
    "print(f'''\n",
    "Shapes of splits:\n",
    "X_train: {X_train_ohe_drop1.shape}\n",
    "X_test:  {X_test_ohe_drop1.shape}\n",
    "y_train: {y_train_ohe_drop1.shape}\n",
    "y_test:  {y_test_ohe_drop1.shape}\n",
    "''')"
   ]
  },
  {
   "cell_type": "code",
   "execution_count": 68,
   "id": "2df747ae-4c8e-4db6-b556-c76bcfae6f43",
   "metadata": {},
   "outputs": [
    {
     "data": {
      "image/png": "[encoded data removed]",
      "text/plain": [
       "<Figure size 1000x800 with 2 Axes>"
      ]
     },
     "metadata": {},
     "output_type": "display_data"
    }
   ],
   "source": [
    "# Compute the correlation matrix\n",
    "corr = X_ohe.corr()\n",
    "\n",
    "# Generate a mask for the upper triangle\n",
    "mask = np.triu(np.ones_like(corr, dtype=bool))\n",
    "\n",
    "# Set up the matplotlib figure\n",
    "f,ax = plt.subplots(figsize=(10, 8))\n",
    "\n",
    "# Generate a custom diverging colormap\n",
    "# cmap = sns.diverging_palette(230, 20, as_cmap=True)\n",
    "\n",
    "# Draw the heatmap with the mask and correct aspect ratio\n",
    "sns.heatmap(corr, mask=mask, cmap='coolwarm', vmax=.3, center=0,\n",
    "            square=True, linewidths=.5, annot=True,\n",
    "            cbar_kws={\"shrink\": .5},\n",
    "            annot_kws={\"size\":5})\n",
    "plt.title(\"Correlation Matrix for OHE'd Data (Dropped First Column)\\nHigher absolute value indicates stronger correlation (positive [red] or negative [blue])\")\n",
    "plt.tight_layout()\n",
    "\n",
    "# save fig\n",
    "plt.savefig('../figs/1_corrmatrix_ohe_dropfirst.pdf')\n",
    "plt.savefig('../figs/1_corrmatrix_ohe_dropfirst.png')"
   ]
  },
  {
   "cell_type": "code",
   "execution_count": 69,
   "id": "7a1178d2-9ded-4fc6-83ce-fb78f3b2d8b2",
   "metadata": {},
   "outputs": [
    {
     "name": "stdout",
     "output_type": "stream",
     "text": [
      "LGBMClassifier(random_state=9419, verbose=-1)\n",
      "fitting model\n",
      "[0 0 0 0 0 0 0 0 0 0 0 0 0 0 0 0 0 0 0 0 0 0 0 0 0 0 0 0 0 0 0 0 0 0 0 0 0\n",
      " 0 0 0 0 0 0 0 0 0 0 0 0 0 0 0 0 0 0 0 0 0 0 0 0 0 0 0 0 0 0 0 0 0 0 0 0 0\n",
      " 0 0 0 0 0 0 0 0 0 0 0 0 0 0 0 0 0 0 0 0 0 0 0 0 0 0 0 0 0 0 0 0 0 0 0 0 0\n",
      " 0 0 0 0 0 0 0 0 0]\n",
      "Accuracy: 0.45\n"
     ]
    }
   ],
   "source": [
    "model=lgb.LGBMClassifier(random_state=seed,verbose=-1)\n",
    "print(model)\n",
    "model.fit(X_train_ohe_drop1,y_train_ohe_drop1)\n",
    "print(\"fitting model\")\n",
    "y_pred=model.predict(X_test_ohe_drop1)\n",
    "print(y_pred)\n",
    "accuracy=accuracy_score(y_test_ohe_drop1,y_pred)\n",
    "print(f'Accuracy: {accuracy:.2f}')"
   ]
  },
  {
   "cell_type": "markdown",
   "id": "590667f2-4295-42fa-9f4e-466a58ba55a7",
   "metadata": {},
   "source": [
    "No difference."
   ]
  },
  {
   "cell_type": "markdown",
   "id": "92be94d4-522c-42b3-82f2-23734925ddc2",
   "metadata": {},
   "source": [
    "#### Thresholded data"
   ]
  },
  {
   "cell_type": "markdown",
   "id": "ec0b6e98-c7ad-4168-b548-c3b88cebd0fc",
   "metadata": {},
   "source": [
    "What if we ran the same base model with the thresholded data?"
   ]
  },
  {
   "cell_type": "code",
   "execution_count": 70,
   "id": "f09c4f62-548c-4428-9099-98f0e729e26c",
   "metadata": {},
   "outputs": [
    {
     "name": "stdout",
     "output_type": "stream",
     "text": [
      "LGBMClassifier(random_state=9419, verbose=-1)\n",
      "fitting model\n",
      "[0 0 0 0 0 0 0 0 0 0 0 0 0 0 0 0 0 0 0 0 0 0 0 0 0 0 0 0 0 0 0 0 0 0 0 0 0\n",
      " 0 0 0 0 0 0 0 0 0 0 0 0 0 0 0 0 0 0 0 0 0 0 0 0 0 0 0 0 0 0 0 0 0 0 0 0 0\n",
      " 0 0 0 0 0 0 0 0 0 0 0 0 0 0 0 0 0 0 0 0 0 0 0 0 0 0 0 0 0 0 0 0 0 0 0 0 0\n",
      " 0 0 0 0 0 0 0 0 0]\n",
      "Accuracy: 0.45\n"
     ]
    }
   ],
   "source": [
    "model=lgb.LGBMClassifier(random_state=seed,verbose=-1)\n",
    "print(model)\n",
    "model.fit(X_train_threshold,y_train_threshold)\n",
    "print(\"fitting model\")\n",
    "y_pred=model.predict(X_test_threshold)\n",
    "print(y_pred)\n",
    "accuracy=accuracy_score(y_test_threshold,y_pred)\n",
    "print(f'Accuracy: {accuracy:.2f}')"
   ]
  },
  {
   "cell_type": "markdown",
   "id": "5d5b7f95-1cbd-47d3-a305-529a48bb00a4",
   "metadata": {},
   "source": [
    "#### Regular data"
   ]
  },
  {
   "cell_type": "code",
   "execution_count": 71,
   "id": "fa75eb19-79a4-4eae-a766-f2a94701ee7a",
   "metadata": {},
   "outputs": [
    {
     "name": "stdout",
     "output_type": "stream",
     "text": [
      "LGBMClassifier(random_state=9419, verbose=-1)\n",
      "fitting model\n",
      "[0 0 0 0 0 0 0 0 0 0 0 0 0 0 0 0 0 0 0 0 0 0 0 0 0 0 0 0 0 0 0 0 0 0 0 0 0\n",
      " 0 0 0 0 0 0 0 0 0 0 0 0 0 0 0 0 0 0 0 0 0 0 0 0 0 0 0 0 0 0 0 0 0 0 0 0 0\n",
      " 0 0 0 0 0 0 0 0 0 0 0 0 0 0 0 0 0 0 0 0 0 0 0 0 0 0 0 0 0 0 0 0 0 0 0 0 0\n",
      " 0 0 0 0 0 0 0 0 0]\n",
      "Accuracy: 0.45\n"
     ]
    }
   ],
   "source": [
    "model=lgb.LGBMClassifier(random_state=seed,verbose=-1)\n",
    "print(model)\n",
    "model.fit(X_train,y_train)\n",
    "print(\"fitting model\")\n",
    "y_pred=model.predict(X_test)\n",
    "print(y_pred)\n",
    "accuracy=accuracy_score(y_test,y_pred)\n",
    "print(f'Accuracy: {accuracy:.2f}')"
   ]
  },
  {
   "cell_type": "markdown",
   "id": "a18089a0-7b39-48af-86f1-c3fabe1f30c0",
   "metadata": {},
   "source": [
    "### `DecisionTreeClassifier`"
   ]
  },
  {
   "cell_type": "markdown",
   "id": "30359a5d-daaf-424e-9cbe-9cad7b7dff9d",
   "metadata": {},
   "source": [
    "#### OHE'd data"
   ]
  },
  {
   "cell_type": "markdown",
   "id": "0e15e3c0-3137-4f0d-8665-17912c3dc7e8",
   "metadata": {},
   "source": [
    "This should yield a good result, as `LazyClassifier` scored it highly. However, when we run the generic model..."
   ]
  },
  {
   "cell_type": "code",
   "execution_count": 72,
   "id": "89b55038-80ee-4e9a-b487-8b7f58e0a75c",
   "metadata": {},
   "outputs": [],
   "source": [
    "from sklearn.tree import DecisionTreeClassifier"
   ]
  },
  {
   "cell_type": "code",
   "execution_count": 73,
   "id": "1e867cce-50c6-4cb2-9956-1cb360bf9941",
   "metadata": {},
   "outputs": [
    {
     "name": "stdout",
     "output_type": "stream",
     "text": [
      "DecisionTreeClassifier(random_state=9419)\n",
      "fitting model\n",
      "[0 1 0 0 1 0 0 1 0 1 1 0 0 0 1 0 0 1 1 0 1 1 1 0 0 1 0 0 1 1 1 0 1 0 1 1 0\n",
      " 1 0 1 0 0 0 0 1 0 0 1 0 0 1 1 0 0 1 1 1 1 0 0 1 0 0 0 0 1 1 0 1 0 0 1 1 0\n",
      " 1 0 0 0 0 1 1 0 1 0 1 0 0 0 1 0 0 0 0 0 0 0 1 0 0 0 0 1 1 0 1 0 1 0 1 0 0\n",
      " 1 1 0 1 1 1 0 0 1]\n",
      "Accuracy: 0.52\n"
     ]
    }
   ],
   "source": [
    "model=DecisionTreeClassifier(random_state=seed)\n",
    "print(model)\n",
    "model.fit(X_train_ohe,y_train_ohe)\n",
    "print(\"fitting model\")\n",
    "y_pred=model.predict(X_test_ohe)\n",
    "print(y_pred)\n",
    "accuracy=accuracy_score(y_test_ohe,y_pred)\n",
    "print(f'Accuracy: {accuracy:.2f}')"
   ]
  },
  {
   "cell_type": "markdown",
   "id": "7b8cc040-cb9d-408d-932a-304642c53cbc",
   "metadata": {},
   "source": [
    "#### Thresholded data"
   ]
  },
  {
   "cell_type": "code",
   "execution_count": 74,
   "id": "f92dea3d-ff7c-44b8-8a0b-ba43da8347ab",
   "metadata": {},
   "outputs": [
    {
     "name": "stdout",
     "output_type": "stream",
     "text": [
      "DecisionTreeClassifier(random_state=9419)\n",
      "fitting model\n",
      "[0 0 1 0 0 0 0 1 0 0 0 0 0 0 1 0 0 1 0 0 0 0 0 0 0 0 0 0 0 1 1 0 0 0 0 0 0\n",
      " 0 0 0 0 0 0 0 0 0 0 1 0 0 0 0 0 0 0 0 0 1 0 1 1 0 0 0 0 0 0 0 0 0 0 0 0 1\n",
      " 0 1 0 1 0 0 0 0 0 0 0 1 0 1 0 1 0 0 0 0 0 0 0 1 0 0 0 0 0 0 0 0 0 0 0 0 0\n",
      " 0 0 0 1 0 0 0 0 0]\n",
      "Accuracy: 0.47\n"
     ]
    }
   ],
   "source": [
    "model=DecisionTreeClassifier(random_state=seed)\n",
    "print(model)\n",
    "model.fit(X_train_threshold,y_train_threshold)\n",
    "print(\"fitting model\")\n",
    "y_pred=model.predict(X_test_threshold)\n",
    "print(y_pred)\n",
    "accuracy=accuracy_score(y_test_threshold,y_pred)\n",
    "print(f'Accuracy: {accuracy:.2f}')"
   ]
  },
  {
   "cell_type": "markdown",
   "id": "67788fd6-a406-4e3f-9edd-5819d0dbd9e6",
   "metadata": {},
   "source": [
    "#### Regular data"
   ]
  },
  {
   "cell_type": "code",
   "execution_count": 75,
   "id": "cb1c4b16-f53c-40a8-8487-bbe5facabdb1",
   "metadata": {},
   "outputs": [
    {
     "name": "stdout",
     "output_type": "stream",
     "text": [
      "DecisionTreeClassifier(random_state=9419)\n",
      "fitting model\n",
      "[0 0 1 0 0 0 0 1 0 0 0 0 0 0 1 0 0 0 0 0 0 0 1 0 0 1 0 0 0 1 1 1 1 0 0 0 0\n",
      " 0 0 0 0 1 0 0 1 0 0 1 0 0 0 0 0 0 0 0 1 1 0 0 1 0 0 0 0 0 0 0 0 0 0 0 0 0\n",
      " 0 1 0 0 0 1 0 1 0 0 0 1 0 1 0 1 0 0 0 0 0 0 1 1 0 1 0 0 0 0 0 0 0 1 0 0 0\n",
      " 0 0 0 1 0 0 0 0 0]\n",
      "Accuracy: 0.48\n"
     ]
    }
   ],
   "source": [
    "model=DecisionTreeClassifier(random_state=seed)\n",
    "print(model)\n",
    "model.fit(X_train,y_train)\n",
    "print(\"fitting model\")\n",
    "y_pred=model.predict(X_test)\n",
    "print(y_pred)\n",
    "accuracy=accuracy_score(y_test,y_pred)\n",
    "print(f'Accuracy: {accuracy:.2f}')"
   ]
  },
  {
   "cell_type": "markdown",
   "id": "2123231b-bc8a-449f-8a11-c1506d1dbeed",
   "metadata": {},
   "source": [
    "...We see that it does not perform well out of the box. We'll use `hyperopt` next."
   ]
  },
  {
   "cell_type": "markdown",
   "id": "dd225aa4-adfd-4c7d-98f2-86584af9e372",
   "metadata": {},
   "source": [
    "### `QuadraticDiscriminantAnalysis`"
   ]
  },
  {
   "cell_type": "code",
   "execution_count": 76,
   "id": "275d94c4-aa68-4c61-84ff-9dc34fcac100",
   "metadata": {},
   "outputs": [],
   "source": [
    "from sklearn.discriminant_analysis import QuadraticDiscriminantAnalysis"
   ]
  },
  {
   "cell_type": "markdown",
   "id": "f433f49b-9479-44bb-a6ce-f8af6877714b",
   "metadata": {},
   "source": [
    "#### OHE'd data"
   ]
  },
  {
   "cell_type": "code",
   "execution_count": 77,
   "id": "d31729e7-24ab-4b90-a4b2-0ce220ec78bc",
   "metadata": {},
   "outputs": [
    {
     "name": "stdout",
     "output_type": "stream",
     "text": [
      "QuadraticDiscriminantAnalysis()\n",
      "fitting model\n",
      "[0 1 1 0 1 0 0 1 0 1 1 0 0 0 1 1 0 1 0 0 0 1 1 0 0 1 0 0 0 1 1 1 1 0 0 1 0\n",
      " 0 0 1 0 1 0 0 1 0 0 1 1 0 1 1 0 0 1 1 1 1 1 1 1 0 0 0 0 1 0 0 0 0 0 1 0 0\n",
      " 0 0 1 0 0 1 1 1 1 0 0 1 0 1 0 0 0 0 0 0 1 0 1 0 0 0 0 1 1 0 1 0 0 1 1 1 0\n",
      " 1 0 0 1 0 0 1 0 1]\n",
      "Accuracy: 0.55\n"
     ]
    }
   ],
   "source": [
    "model=QuadraticDiscriminantAnalysis()\n",
    "print(model)\n",
    "model.fit(X_train_ohe,y_train_ohe)\n",
    "print(\"fitting model\")\n",
    "y_pred=model.predict(X_test_ohe)\n",
    "print(y_pred)\n",
    "accuracy=accuracy_score(y_test_ohe,y_pred)\n",
    "print(f'Accuracy: {accuracy:.2f}')"
   ]
  },
  {
   "cell_type": "markdown",
   "id": "b31b6f0d-d660-4e1e-97e7-7d68177516fe",
   "metadata": {},
   "source": [
    "#### Thresholded data"
   ]
  },
  {
   "cell_type": "code",
   "execution_count": 78,
   "id": "e8d0e279-d351-4913-8644-9a468e88f3f8",
   "metadata": {},
   "outputs": [
    {
     "name": "stdout",
     "output_type": "stream",
     "text": [
      "QuadraticDiscriminantAnalysis()\n",
      "fitting model\n",
      "[0 1 1 1 0 0 0 1 0 1 1 0 1 0 0 0 0 1 0 1 0 1 0 1 0 0 0 1 0 1 1 0 0 0 1 0 1\n",
      " 0 0 0 0 0 0 0 0 0 1 0 0 0 0 0 0 0 0 0 0 1 0 1 1 1 0 0 0 1 0 1 0 0 1 1 0 1\n",
      " 0 0 1 1 0 0 0 0 0 0 1 1 0 0 1 0 0 0 0 0 1 0 0 1 0 0 0 1 0 0 0 0 0 0 0 0 1\n",
      " 1 0 0 1 0 1 0 1 0]\n",
      "Accuracy: 0.49\n"
     ]
    }
   ],
   "source": [
    "model=QuadraticDiscriminantAnalysis()\n",
    "print(model)\n",
    "model.fit(X_train_threshold,y_train_threshold)\n",
    "print(\"fitting model\")\n",
    "y_pred=model.predict(X_test_threshold)\n",
    "print(y_pred)\n",
    "accuracy=accuracy_score(y_test_threshold,y_pred)\n",
    "print(f'Accuracy: {accuracy:.2f}')"
   ]
  },
  {
   "cell_type": "markdown",
   "id": "31a00112-c87b-44cc-8c05-803c34433850",
   "metadata": {},
   "source": [
    "#### Regular data"
   ]
  },
  {
   "cell_type": "code",
   "execution_count": 79,
   "id": "3a4a3487-3030-4c2e-b77f-aec20aeb1f5b",
   "metadata": {},
   "outputs": [
    {
     "name": "stdout",
     "output_type": "stream",
     "text": [
      "QuadraticDiscriminantAnalysis()\n",
      "fitting model\n",
      "[0 1 1 0 0 1 0 1 1 1 1 0 1 1 0 1 0 1 0 1 0 1 1 0 1 1 0 1 0 1 0 0 0 0 0 0 0\n",
      " 0 1 1 0 0 1 0 1 0 0 0 0 0 1 1 0 0 0 1 1 1 0 1 1 1 1 0 0 1 0 1 0 0 0 1 0 1\n",
      " 1 1 0 1 1 1 0 0 0 1 0 0 0 1 0 1 0 1 0 1 1 0 0 1 0 0 1 1 1 0 0 1 1 0 0 1 0\n",
      " 1 0 0 1 1 0 0 0 0]\n",
      "Accuracy: 0.55\n"
     ]
    }
   ],
   "source": [
    "model=QuadraticDiscriminantAnalysis()\n",
    "print(model)\n",
    "model.fit(X_train,y_train)\n",
    "print(\"fitting model\")\n",
    "y_pred=model.predict(X_test)\n",
    "print(y_pred)\n",
    "accuracy=accuracy_score(y_test,y_pred)\n",
    "print(f'Accuracy: {accuracy:.2f}')"
   ]
  },
  {
   "cell_type": "markdown",
   "id": "ef40be09-ecd2-493d-9774-aa5f0564fd6d",
   "metadata": {},
   "source": [
    "### `hyperopt` <a name='hyper'></a>"
   ]
  },
  {
   "cell_type": "markdown",
   "id": "1fad3378-4841-4bea-b40d-234ad5989622",
   "metadata": {},
   "source": [
    "Tutorials are [here](#http://hyperopt.github.io/hyperopt/tutorials/01.BasicTutorial/) and [here](#https://towardsdev.com/optimizing-hyperparameters-with-hyperopt-a-hands-on-tutorial-2839efcbc177?gi=de88b6cfe1cd).  \n",
    "And I'm following examples from [here](#https://github.com/hyperopt/hyperopt-sklearn) and [here](#https://medium.com/district-data-labs/parameter-tuning-with-hyperopt-faa86acdfdce)."
   ]
  },
  {
   "cell_type": "code",
   "execution_count": 80,
   "id": "e96fb511-3e7e-49d5-b404-47ed91f03ebd",
   "metadata": {},
   "outputs": [],
   "source": [
    "import numpy as np\n",
    "import pandas as pd\n",
    "\n",
    "from sklearn.ensemble import ExtraTreesClassifier\n",
    "from sklearn.feature_selection import RFE\n",
    "from sklearn.model_selection import cross_val_score\n",
    "from hyperopt import fmin, tpe, hp, STATUS_OK, Trials\n",
    "from sklearn.model_selection import train_test_split"
   ]
  },
  {
   "cell_type": "markdown",
   "id": "b6cafb14-0296-4b37-952d-a72139166b6f",
   "metadata": {
    "tags": []
   },
   "source": [
    "#### Run `hyperopt` with `RFE` and `ExtraTreesClassifier`"
   ]
  },
  {
   "cell_type": "markdown",
   "id": "f4a848c4-e73a-4434-a405-006fa737a201",
   "metadata": {},
   "source": [
    "Notes on `hyperopt` parameters:"
   ]
  },
  {
   "cell_type": "markdown",
   "id": "63f6b87e-c10b-48fa-8416-8518303594c2",
   "metadata": {},
   "source": [
    "* Using `RFE` to select which features are most important\n",
    "* `ExtraTreesClassifier` is used as the final model as it gave good results from the `LazyPredict`"
   ]
  },
  {
   "cell_type": "code",
   "execution_count": 92,
   "id": "2772d7a6-f490-435b-b1f0-94563ce0ef58",
   "metadata": {
    "tags": []
   },
   "outputs": [
    {
     "name": "stdout",
     "output_type": "stream",
     "text": [
      "new best: 0.524 using extratrees at step 1                                                    \n",
      "new best: 0.532 using extratrees at step 6                                                    \n",
      "new best: 0.5803076923076923 using extratrees at step 8                                       \n",
      "iters: 25, acc: 0.49261538461538457 using {'criterion': 'gini', 'max_depth': 5, 'n_estimators': 94, 'n_features_to_select': 3, 'random_state': 9419, 'type': 'extratrees'}\n",
      "iters: 50, acc: 0.5086153846153846 using {'criterion': 'entropy', 'max_depth': 9, 'n_estimators': 33, 'n_features_to_select': 3, 'random_state': 9419, 'type': 'extratrees'}\n",
      "100%|██████████████████████| 50/50 [00:15<00:00,  3.28trial/s, best loss: -0.5803076923076923]\n",
      "best:\n",
      "{'criterion': 'entropy', 'max_depth': 14, 'n_estimators': 46, 'n_features_to_select': 2, 'random_state': 9419, 'type': 'extratrees'}\n"
     ]
    }
   ],
   "source": [
    "class HyperoptOptimizer:\n",
    "    def __init__(self, X, y):\n",
    "        self.X = X\n",
    "        self.y = y\n",
    "        self.best = 0\n",
    "        self.count = 0\n",
    "\n",
    "    def hyperopt_train_test(self, params):\n",
    "        # Extract RFE parameters\n",
    "        n_features_to_select = params['n_features_to_select']\n",
    "        del params['n_features_to_select']\n",
    "        \n",
    "        # extract classifier type\n",
    "        t = params['type']\n",
    "        del params['type']\n",
    "        \n",
    "        # define classifier based on type\n",
    "        if t == 'extratrees':\n",
    "            clf = ExtraTreesClassifier(**params)\n",
    "        else:\n",
    "            return 0\n",
    "        \n",
    "        # define RFE with the classifier\n",
    "        rfe = RFE(estimator=clf, \n",
    "                  n_features_to_select=n_features_to_select)\n",
    "        \n",
    "        # perform cross-validation\n",
    "        return cross_val_score(rfe, self.X, self.y).mean()\n",
    "\n",
    "    def objective(self, params):\n",
    "        self.count += 1\n",
    "        acc = self.hyperopt_train_test(params.copy())\n",
    "        if acc > self.best:\n",
    "            print(f'new best: {acc} using {params['type']} at step {self.count}')\n",
    "            self.best = acc\n",
    "        if self.count % 25 == 0:\n",
    "            print(f'iters: {self.count}, acc: {acc} using {params}')\n",
    "        return {'loss': -acc, 'status': STATUS_OK}\n",
    "\n",
    "# define hyperparameter space\n",
    "space = hp.choice('classifier_type', [\n",
    "    {\n",
    "        'type': 'extratrees',\n",
    "        'n_features_to_select': hp.choice('n_features_to_select', \n",
    "                                          range(1, X.shape[1]+1)),\n",
    "        'n_estimators': hp.choice('n_estimators', range(10, 100)),\n",
    "        'max_depth': hp.choice('max_depth', range(1, 25)),\n",
    "        'criterion': hp.choice('criterion', [\"gini\", \"entropy\"]),\n",
    "        'random_state': seed\n",
    "    }\n",
    "])\n",
    "\n",
    "# instantiate optimizer\n",
    "optimizer = HyperoptOptimizer(X_threshold, y)\n",
    "\n",
    "# initialize trials object\n",
    "trials = Trials()\n",
    "\n",
    "rstate = np.random.default_rng(seed)\n",
    "\n",
    "# run optimization\n",
    "best_extratrees = fmin(optimizer.objective, \n",
    "            space, \n",
    "            algo=tpe.suggest, \n",
    "            max_evals=50, \n",
    "            trials=trials,\n",
    "            rstate=rstate,\n",
    "            return_argmin=False)\n",
    "print('best:')\n",
    "print(best_extratrees)"
   ]
  },
  {
   "cell_type": "code",
   "execution_count": 106,
   "id": "617723f2-6623-468e-86fc-87d2d7ee841a",
   "metadata": {},
   "outputs": [
    {
     "name": "stdout",
     "output_type": "stream",
     "text": [
      "current_datetime: 2024-06-13 18:42:58.296993\n",
      "../joblib/1_hyperopt_extratrees_2024-06-13_18-42-58.json\n",
      "Successfully saved object_ to ../joblib/1_hyperopt_extratrees_2024-06-13_18-42-58.json\n"
     ]
    }
   ],
   "source": [
    "# save best\n",
    "fileDaterSaver(location='../joblib/',\n",
    "               filetype='json',\n",
    "               object_=best_extratrees,\n",
    "               extra='1_hyperopt_extratrees')"
   ]
  },
  {
   "cell_type": "code",
   "execution_count": 108,
   "id": "2f4d171a-97f8-4691-ac09-bb77c9ea0242",
   "metadata": {},
   "outputs": [
    {
     "data": {
      "text/plain": [
       "{'criterion': 'entropy',\n",
       " 'max_depth': 14,\n",
       " 'n_estimators': 46,\n",
       " 'n_features_to_select': 2,\n",
       " 'random_state': 9419,\n",
       " 'type': 'extratrees'}"
      ]
     },
     "execution_count": 108,
     "metadata": {},
     "output_type": "execute_result"
    }
   ],
   "source": [
    "best_extratrees"
   ]
  },
  {
   "cell_type": "markdown",
   "id": "34b7cc6b-e6fd-45f3-a647-9c6faf76b7a1",
   "metadata": {},
   "source": [
    "##### Run the best parameters on the test set"
   ]
  },
  {
   "cell_type": "code",
   "execution_count": 114,
   "id": "59ebda44-e4b4-4337-9628-9028b40647dd",
   "metadata": {},
   "outputs": [
    {
     "name": "stdout",
     "output_type": "stream",
     "text": [
      "Final test score: 0.49166666666666664\n"
     ]
    }
   ],
   "source": [
    "file_name='../joblib/1_hyperopt_extratrees_2024-06-13_18-42-58.json'\n",
    "\n",
    "# extract best params file\n",
    "with open(file_name,'r') as file:\n",
    "    best_params=json.load(file)\n",
    "    \n",
    "# best_params\n",
    "\n",
    "# extract best parameters\n",
    "best_n_features_to_select = best_params['n_features_to_select']\n",
    "del best_params['n_features_to_select']\n",
    "best_type = best_params['type']\n",
    "del best_params['type']\n",
    "random_state=best_params['random_state']\n",
    "random_state=int(random_state)\n",
    "del best_params['random_state']\n",
    "\n",
    "# train final model using best parameters\n",
    "if best_type == 'extratrees':\n",
    "    final_clf = ExtraTreesClassifier(**best_params)\n",
    "    \n",
    "# define RFE with final classifier\n",
    "final_rfe = RFE(estimator=final_clf, \n",
    "                n_features_to_select=best_n_features_to_select)\n",
    "\n",
    "# fit final model on entire training set\n",
    "final_rfe.fit(X_train_threshold, y_train_threshold)\n",
    "\n",
    "# evaluate final model on test set\n",
    "final_score = final_rfe.score(X_test_threshold, y_test_threshold)\n",
    "print('Final test score:', final_score)"
   ]
  },
  {
   "cell_type": "markdown",
   "id": "a2b93b20-b230-44e9-9965-535dbc7f0873",
   "metadata": {},
   "source": [
    "#### Run `hyperopt` with `RFE` and `RandomForestClassifier`"
   ]
  },
  {
   "cell_type": "code",
   "execution_count": 94,
   "id": "6d9e564e-d20f-4e88-861f-aa5418bc76fd",
   "metadata": {},
   "outputs": [
    {
     "name": "stdout",
     "output_type": "stream",
     "text": [
      "new best: 0.5399999999999999 using randomforest at step 1                                     \n",
      "new best: 0.5476923076923077 using randomforest at step 2                                     \n",
      "new best: 0.5716923076923076 using randomforest at step 3                                     \n",
      "new best: 0.572 using randomforest at step 4                                                  \n",
      "new best: 0.5873846153846153 using randomforest at step 13                                    \n",
      "new best: 0.5953846153846153 using randomforest at step 21                                    \n",
      "iters: 25, acc: 0.5953846153846153 using {'criterion': 'gini', 'max_depth': 1, 'n_estimators': 357, 'n_features_to_select': 6, 'random_state': 9419, 'type': 'randomforest'}\n",
      "new best: 0.6113846153846153 using randomforest at step 42                                    \n",
      "iters: 50, acc: 0.5473846153846152 using {'criterion': 'gini', 'max_depth': 2, 'n_estimators': 934, 'n_features_to_select': 2, 'random_state': 9419, 'type': 'randomforest'}\n",
      "100%|██████████████████████| 50/50 [02:27<00:00,  2.94s/trial, best loss: -0.6113846153846153]\n",
      "best:\n",
      "{'criterion': 'gini', 'max_depth': 3, 'n_estimators': 656, 'n_features_to_select': 4, 'random_state': 9419, 'type': 'randomforest'}\n"
     ]
    }
   ],
   "source": [
    "class HyperoptOptimizer:\n",
    "    def __init__(self, X, y):\n",
    "        self.X = X\n",
    "        self.y = y\n",
    "        self.best = 0\n",
    "        self.count = 0\n",
    "\n",
    "    def hyperopt_train_test(self, params):\n",
    "        # Extract RFE parameters\n",
    "        n_features_to_select = params['n_features_to_select']\n",
    "        del params['n_features_to_select']\n",
    "        \n",
    "        # extract classifier type\n",
    "        t = params['type']\n",
    "        del params['type']\n",
    "        \n",
    "        # define classifier based on type\n",
    "        if t == 'randomforest':\n",
    "            clf = RandomForestClassifier(**params)\n",
    "        else:\n",
    "            return 0\n",
    "        \n",
    "        # define RFE with the classifier\n",
    "        rfe = RFE(estimator=clf, \n",
    "                  n_features_to_select=n_features_to_select)\n",
    "        \n",
    "        # perform cross-validation\n",
    "        return cross_val_score(rfe, self.X, self.y).mean()\n",
    "\n",
    "    def objective(self, params):\n",
    "        self.count += 1\n",
    "        acc = self.hyperopt_train_test(params.copy())\n",
    "        if acc > self.best:\n",
    "            print(f'new best: {acc} using {params['type']} at step {self.count}')\n",
    "            self.best = acc\n",
    "        if self.count % 25 == 0:\n",
    "            print(f'iters: {self.count}, acc: {acc} using {params}')\n",
    "        return {'loss': -acc, 'status': STATUS_OK}\n",
    "\n",
    "# define hyperparameter space\n",
    "space = hp.choice('classifier_type', [\n",
    "    {\n",
    "        # 'type': 'extratrees',\n",
    "        'type': 'randomforest',\n",
    "        'n_features_to_select': hp.choice('n_features_to_select', \n",
    "                                          range(1, X.shape[1]+1)),\n",
    "        'n_estimators': hp.choice('n_estimators', range(10, 1000)),\n",
    "        'max_depth': hp.choice('max_depth', range(1, 5)),\n",
    "        'criterion': hp.choice('criterion', [\"gini\", \"entropy\"]),\n",
    "        'random_state': seed\n",
    "    },\n",
    "])\n",
    "\n",
    "# instantiate optimizer\n",
    "optimizer = HyperoptOptimizer(X_threshold, y)\n",
    "\n",
    "# initialize trials object\n",
    "trials = Trials()\n",
    "\n",
    "rstate = np.random.default_rng(seed)\n",
    "\n",
    "# run optimization\n",
    "best_randomforestclf = fmin(optimizer.objective, \n",
    "            space, \n",
    "            algo=tpe.suggest, \n",
    "            max_evals=50, \n",
    "            trials=trials,\n",
    "            rstate=rstate,\n",
    "            return_argmin=False)\n",
    "print('best:')\n",
    "print(best_randomforestclf)"
   ]
  },
  {
   "cell_type": "code",
   "execution_count": 95,
   "id": "01e3485b-1a59-44e1-9da4-bd273c8569f2",
   "metadata": {},
   "outputs": [
    {
     "name": "stdout",
     "output_type": "stream",
     "text": [
      "current_datetime: 2024-06-13 18:37:02.934417\n",
      "../joblib/1_hyperopt_randomforestclf_2024-06-13_18-37-02.json\n",
      "Successfully saved object_ to ../joblib/1_hyperopt_randomforestclf_2024-06-13_18-37-02.json\n"
     ]
    }
   ],
   "source": [
    "# save best\n",
    "fileDaterSaver(location='../joblib/',\n",
    "               filetype='json',\n",
    "               object_=best_randomforestclf,\n",
    "               extra='1_hyperopt_randomforestclf')"
   ]
  },
  {
   "cell_type": "markdown",
   "id": "2279be1f-9a95-474d-8f1a-29ddf16c3a38",
   "metadata": {},
   "source": [
    "##### Run the best parameters on the test set"
   ]
  },
  {
   "cell_type": "code",
   "execution_count": 119,
   "id": "857c3e5a-8079-4202-b904-c99dc7f5d620",
   "metadata": {},
   "outputs": [
    {
     "data": {
      "text/plain": [
       "{'criterion': 'gini',\n",
       " 'max_depth': 3,\n",
       " 'n_estimators': 656,\n",
       " 'n_features_to_select': 4,\n",
       " 'random_state': '9419',\n",
       " 'type': 'randomforest'}"
      ]
     },
     "execution_count": 119,
     "metadata": {},
     "output_type": "execute_result"
    }
   ],
   "source": [
    "file_name='../joblib/1_hyperopt_randomforestclf_2024-06-13_18-37-02.json'\n",
    "\n",
    "# extract best params file\n",
    "with open(file_name,'r') as file:\n",
    "    best_params=json.load(file)\n",
    "    \n",
    "best_params"
   ]
  },
  {
   "cell_type": "code",
   "execution_count": 120,
   "id": "dd0c7039-557b-4d48-9bdc-029bab2ab4db",
   "metadata": {
    "tags": []
   },
   "outputs": [
    {
     "name": "stdout",
     "output_type": "stream",
     "text": [
      "Final test score: 0.48333333333333334\n"
     ]
    }
   ],
   "source": [
    "# extract best parameters\n",
    "best_n_features_to_select = best_params['n_features_to_select']\n",
    "del best_params['n_features_to_select']\n",
    "best_type = best_params['type']\n",
    "del best_params['type']\n",
    "random_state=best_params['random_state']\n",
    "random_state=int(random_state)\n",
    "del best_params['random_state']\n",
    "\n",
    "# train final model using best parameters\n",
    "if best_type == 'randomforest':\n",
    "    final_clf = RandomForestClassifier(**best_params)\n",
    "    \n",
    "# define RFE with final classifier\n",
    "final_rfe = RFE(estimator=final_clf, \n",
    "                n_features_to_select=best_n_features_to_select)\n",
    "\n",
    "# fit final model on entire training set\n",
    "final_rfe.fit(X_train_threshold, y_train_threshold)\n",
    "\n",
    "# evaluate final model on test set\n",
    "final_score = final_rfe.score(X_test_threshold, y_test_threshold)\n",
    "print('Final test score:', final_score)"
   ]
  },
  {
   "cell_type": "markdown",
   "id": "7356501b-8702-47cc-a88f-14df3c8fe7b2",
   "metadata": {
    "tags": []
   },
   "source": [
    "#### Run `hyperopt` with `RFE` and `LGBMClassifier`"
   ]
  },
  {
   "cell_type": "markdown",
   "id": "f4e0fa6a-a2bc-4506-9b37-2b680cda304d",
   "metadata": {},
   "source": [
    "Notes on `hyperopt` parameters"
   ]
  },
  {
   "cell_type": "markdown",
   "id": "fafd646b-7b8f-4c97-b0ca-65a614d4fa46",
   "metadata": {},
   "source": [
    "* Using `RFE` to select which features are most important\n",
    "* `LGBMClassifier` is used as the final model as it also yielded good generic results from the `LazyPredict`\n",
    "* It also seems to be performant on smaller datasets, according to the work detailed [here](https://www.data-cowboys.com/blog/which-machine-learning-classifiers-are-best-for-small-datasets)"
   ]
  },
  {
   "cell_type": "markdown",
   "id": "f47a17d7-2b46-4fdd-95b7-5b135b70b28c",
   "metadata": {},
   "source": [
    "Run base model to compare with `hyperopt`:"
   ]
  },
  {
   "cell_type": "code",
   "execution_count": 88,
   "id": "0dacf187-36b6-42b6-8df6-d1747e5b9548",
   "metadata": {
    "tags": []
   },
   "outputs": [
    {
     "name": "stdout",
     "output_type": "stream",
     "text": [
      "LGBMClassifier(random_state=9419, verbose=-1)\n",
      "fitting model\n",
      "[0 0 0 0 0 0 0 0 0 0 0 0 0 0 0 0 0 0 0 0 0 0 0 0 0 0 0 0 0 0 0 0 0 0 0 0 0\n",
      " 0 0 0 0 0 0 0 0 0 0 0 0 0 0 0 0 0 0 0 0 0 0 0 0 0 0 0 0 0 0 0 0 0 0 0 0 0\n",
      " 0 0 0 0 0 0 0 0 0 0 0 0 0 0 0 0 0 0 0 0 0 0 0 0 0 0 0 0 0 0 0 0 0 0 0 0 0\n",
      " 0 0 0 0 0 0 0 0 0]\n",
      "Accuracy: 0.45\n"
     ]
    }
   ],
   "source": [
    "model=lgb.LGBMClassifier(random_state=seed,verbose=-1)\n",
    "print(model)\n",
    "model.fit(X_train_threshold,y_train_threshold)\n",
    "print(\"fitting model\")\n",
    "y_pred=model.predict(X_test_threshold)\n",
    "print(y_pred)\n",
    "accuracy=accuracy_score(y_test_threshold,y_pred)\n",
    "print(f'Accuracy: {accuracy:.2f}')"
   ]
  },
  {
   "cell_type": "markdown",
   "id": "e041f4d7-f27c-4436-8fcd-720a16e748b0",
   "metadata": {},
   "source": [
    "An accuracy of 58% on the base model is already an improvement. Let's now turn to `hyperopt` to see if we can improve the accuracy even more."
   ]
  },
  {
   "cell_type": "code",
   "execution_count": 121,
   "id": "26b4330b-b2ce-4d79-88e6-0fa915c834e1",
   "metadata": {},
   "outputs": [
    {
     "name": "stdout",
     "output_type": "stream",
     "text": [
      "new best: 0.4523076923076923 using lgbm at step 1                                             \n",
      "new best: 0.5476923076923077 using lgbm at step 2                                             \n",
      "new best: 0.5796923076923076 using lgbm at step 42                                            \n",
      "100%|██████████████████████| 50/50 [00:11<00:00,  4.25trial/s, best loss: -0.5796923076923076]\n",
      "best:\n",
      "{'boosting_type': 'dart', 'colsample_bytree': 0.22179761743338197, 'importance_type': 'gain', 'learning_rate': 0.3082083749869154, 'max_depth': 8, 'min_child_samples': 101, 'min_data_in_bin': 1, 'min_data_in_leaf': 1, 'n_estimators': 285, 'n_features_to_select': 3, 'n_jobs': -1, 'num_leaves': 418, 'random_state': 9419, 'reg_alpha': 0.6434744155622034, 'reg_lambda': 18.347590681241513, 'subsample': 0.46046830729933624, 'type': 'lgbm', 'verbose': -1}\n"
     ]
    }
   ],
   "source": [
    "class HyperoptOptimizer:\n",
    "    def __init__(self, X, y):\n",
    "        self.X = X\n",
    "        self.y = y\n",
    "        self.best = 0\n",
    "        self.count = 0\n",
    "        \n",
    "    def hyperopt_train_test(self, params):\n",
    "        # Extract RFE parameters\n",
    "        n_features_to_select = params['n_features_to_select']\n",
    "        del params['n_features_to_select']\n",
    "        \n",
    "        # extract classifier type\n",
    "        t = params['type']\n",
    "        del params['type']\n",
    "        \n",
    "        # define classifier based on type            \n",
    "        if t == 'lgbm':\n",
    "            clf = LGBMClassifier(**params)\n",
    "        else:\n",
    "            return 0\n",
    "        \n",
    "        # define RFE with the classifier\n",
    "        rfe = RFE(estimator=clf, \n",
    "                  n_features_to_select=n_features_to_select)\n",
    "        \n",
    "        # create LightGBM dataset with categorical features specified\n",
    "        train_data = lgb.Dataset(self.X, label=self.y, categorical_feature=[0, 1, 2, 3, 4, 5])\n",
    "        \n",
    "        # perform cross-validation\n",
    "        return cross_val_score(rfe, self.X, self.y).mean()\n",
    "\n",
    "    def objective(self, params):\n",
    "        self.count += 1\n",
    "        acc = self.hyperopt_train_test(params.copy())\n",
    "        if acc > self.best:\n",
    "            print(f'new best: {acc} using {params['type']} at step {self.count}')\n",
    "            self.best = acc\n",
    "        if self.count % 250 == 0:\n",
    "            print('iters:', self.count, ', acc:', acc, 'using', params)\n",
    "        return {'loss': -acc, 'status': STATUS_OK}\n",
    "\n",
    "# define hyperparameter space\n",
    "space = hp.choice('classifier_type', [\n",
    "    {\n",
    "        'type': 'lgbm',\n",
    "        'min_data_in_bin': 1,\n",
    "        'min_data_in_leaf': 1,\n",
    "        'verbose': -1,\n",
    "        'boosting_type': hp.choice('boosting_type',['gbdt','dart','rf']),\n",
    "        'n_features_to_select': hp.choice('n_features_to_select', range(1, X_threshold.shape[1]+1)),\n",
    "        'num_leaves': hp.choice('num_leaves', range(10, 500)),\n",
    "        'learning_rate': hp.loguniform('learning_rate', -4, 0),\n",
    "        'n_estimators': hp.choice('n_estimators', range(50, 500)),\n",
    "        'max_depth': hp.choice('max_depth', range(1, 25)),\n",
    "        'min_child_samples': hp.choice('min_child_samples', range(5, 250)),\n",
    "        'subsample': hp.uniform('subsample', 0.01, 1),\n",
    "        'colsample_bytree': hp.uniform('colsample_bytree', 0.01, 1),\n",
    "        'random_state': seed,\n",
    "        'n_jobs': -1,\n",
    "        'reg_alpha': hp.uniform('reg_alpha',0.001,100),\n",
    "        'reg_lambda': hp.uniform('reg_lambda',0.001,100),\n",
    "        'importance_type': hp.choice('importance_type',['split','gain'])\n",
    "    }\n",
    "])\n",
    "\n",
    "# instantiate optimizer\n",
    "optimizer = HyperoptOptimizer(X_threshold, y)\n",
    "\n",
    "# initialize trials object\n",
    "trials = Trials()\n",
    "\n",
    "# define random state\n",
    "rstate = np.random.default_rng(seed)\n",
    "\n",
    "# run optimization\n",
    "best_lgbm = fmin(optimizer.objective, \n",
    "            space, \n",
    "            algo=tpe.suggest, \n",
    "            max_evals=50, \n",
    "            trials=trials,\n",
    "            rstate=rstate,\n",
    "            return_argmin=False)\n",
    "print('best:')\n",
    "print(best_lgbm)"
   ]
  },
  {
   "cell_type": "markdown",
   "id": "373cfa89-aa26-4185-b193-6c3d27683644",
   "metadata": {},
   "source": [
    "Save best parameters and run on test set"
   ]
  },
  {
   "cell_type": "code",
   "execution_count": 122,
   "id": "e15bc843-be8c-489d-8438-1121a4aebaa3",
   "metadata": {},
   "outputs": [
    {
     "name": "stdout",
     "output_type": "stream",
     "text": [
      "current_datetime: 2024-06-13 18:49:31.336763\n",
      "../joblib/1_hyperopt_lgbm_2024-06-13_18-49-31.json\n",
      "Successfully saved object_ to ../joblib/1_hyperopt_lgbm_2024-06-13_18-49-31.json\n"
     ]
    }
   ],
   "source": [
    "# save best\n",
    "fileDaterSaver(location='../joblib/',\n",
    "               filetype='json',\n",
    "               object_=best_lgbm,\n",
    "               extra='1_hyperopt_lgbm')"
   ]
  },
  {
   "cell_type": "code",
   "execution_count": 123,
   "id": "f7074cd5-6f9c-4698-bba6-3882efb2e235",
   "metadata": {},
   "outputs": [
    {
     "name": "stdout",
     "output_type": "stream",
     "text": [
      "Final test score: 0.49166666666666664\n"
     ]
    }
   ],
   "source": [
    "file_name='../joblib/1_hyperopt_lgbm_2024-06-13_18-49-31.json'\n",
    "\n",
    "# extract best params file\n",
    "with open(file_name,'r') as file:\n",
    "    best_params=json.load(file)\n",
    "    \n",
    "# extract best parameters\n",
    "best_n_features_to_select = best_params['n_features_to_select']\n",
    "del best_params['n_features_to_select']\n",
    "best_type = best_params['type']\n",
    "del best_params['type']\n",
    "random_state=best_params['random_state']\n",
    "random_state=int(random_state)\n",
    "del best_params['random_state']\n",
    "\n",
    "# train final model using best parameters\n",
    "if best_type == 'randomforest':\n",
    "    final_clf = RandomForestClassifier(**best_params)\n",
    "    \n",
    "# define RFE with final classifier\n",
    "final_rfe = RFE(estimator=final_clf, \n",
    "                n_features_to_select=best_n_features_to_select)\n",
    "\n",
    "# fit final model on entire training set\n",
    "final_rfe.fit(X_train_threshold, y_train_threshold)\n",
    "\n",
    "# evaluate final model on test set\n",
    "final_score = final_rfe.score(X_test_threshold, y_test_threshold)\n",
    "print('Final test score:', final_score)"
   ]
  },
  {
   "cell_type": "markdown",
   "id": "9a1e3d64-7381-45f4-a539-ad63c9e199ab",
   "metadata": {},
   "source": [
    "## Ensembling Methods"
   ]
  },
  {
   "cell_type": "markdown",
   "id": "ea2792f2-4280-420e-9295-e1fe93672707",
   "metadata": {},
   "source": [
    "### Stacking"
   ]
  },
  {
   "cell_type": "markdown",
   "id": "c0103dee-b90d-4cb4-889d-6912609b05e9",
   "metadata": {},
   "source": [
    "### Voting"
   ]
  },
  {
   "cell_type": "markdown",
   "id": "a6bcb611-5d71-489f-bbbe-9d722b194c31",
   "metadata": {},
   "source": [
    "## Feature Importances"
   ]
  },
  {
   "cell_type": "code",
   "execution_count": 125,
   "id": "1017d536-add8-43c5-aae8-e04d5422bd9c",
   "metadata": {},
   "outputs": [
    {
     "ename": "TypeError",
     "evalue": "booster must be Booster or LGBMModel.",
     "output_type": "error",
     "traceback": [
      "\u001b[0;31m---------------------------------------------------------------------------\u001b[0m",
      "\u001b[0;31mTypeError\u001b[0m                                 Traceback (most recent call last)",
      "Cell \u001b[0;32mIn[125], line 5\u001b[0m\n\u001b[1;32m      2\u001b[0m final_clf\u001b[38;5;241m.\u001b[39mfit(X_test_threshold,y_test_threshold)\n\u001b[1;32m      4\u001b[0m \u001b[38;5;66;03m# Plot feature importance\u001b[39;00m\n\u001b[0;32m----> 5\u001b[0m \u001b[43mplot_importance\u001b[49m\u001b[43m(\u001b[49m\u001b[43mfinal_clf\u001b[49m\u001b[43m,\u001b[49m\u001b[43m \u001b[49m\u001b[43mimportance_type\u001b[49m\u001b[38;5;241;43m=\u001b[39;49m\u001b[38;5;124;43m'\u001b[39;49m\u001b[38;5;124;43mgain\u001b[39;49m\u001b[38;5;124;43m'\u001b[39;49m\u001b[43m)\u001b[49m\n\u001b[1;32m      6\u001b[0m plt\u001b[38;5;241m.\u001b[39mshow()\n",
      "File \u001b[0;32m/Applications/Anaconda/anaconda3/envs/apziva/lib/python3.12/site-packages/lightgbm/plotting.py:117\u001b[0m, in \u001b[0;36mplot_importance\u001b[0;34m(booster, ax, height, xlim, ylim, title, xlabel, ylabel, importance_type, max_num_features, ignore_zero, figsize, dpi, grid, precision, **kwargs)\u001b[0m\n\u001b[1;32m    115\u001b[0m         importance_type \u001b[38;5;241m=\u001b[39m \u001b[38;5;124m\"\u001b[39m\u001b[38;5;124msplit\u001b[39m\u001b[38;5;124m\"\u001b[39m\n\u001b[1;32m    116\u001b[0m \u001b[38;5;28;01melse\u001b[39;00m:\n\u001b[0;32m--> 117\u001b[0m     \u001b[38;5;28;01mraise\u001b[39;00m \u001b[38;5;167;01mTypeError\u001b[39;00m(\u001b[38;5;124m'\u001b[39m\u001b[38;5;124mbooster must be Booster or LGBMModel.\u001b[39m\u001b[38;5;124m'\u001b[39m)\n\u001b[1;32m    119\u001b[0m importance \u001b[38;5;241m=\u001b[39m booster\u001b[38;5;241m.\u001b[39mfeature_importance(importance_type\u001b[38;5;241m=\u001b[39mimportance_type)\n\u001b[1;32m    120\u001b[0m feature_name \u001b[38;5;241m=\u001b[39m booster\u001b[38;5;241m.\u001b[39mfeature_name()\n",
      "\u001b[0;31mTypeError\u001b[0m: booster must be Booster or LGBMModel."
     ]
    }
   ],
   "source": [
    "# fit\n",
    "final_clf.fit(X_test_threshold,y_test_threshold)\n",
    "\n",
    "# Plot feature importance\n",
    "plot_importance(final_clf, importance_type='gain')\n",
    "plt.show()"
   ]
  },
  {
   "cell_type": "code",
   "execution_count": null,
   "id": "52d8a41c-05d0-4a94-9981-39b0968cf5f8",
   "metadata": {},
   "outputs": [],
   "source": [
    "# source\n",
    "# https://towardsdatascience.com/\n",
    "# using-shap-values-to-explain-how-your-machine-learning-model-works-732b3f40e137\n",
    "\n",
    "import shap\n",
    "\n",
    "# SHAP values for explainability\n",
    "explainer = shap.Explainer(final_clf)\n",
    "shap_values = explainer(X_test_threshold)\n",
    "shap.summary_plot(shap_values, X_test_threshold)"
   ]
  },
  {
   "cell_type": "code",
   "execution_count": null,
   "id": "1ac9fb67-d82f-4153-85a6-00ffa43be96f",
   "metadata": {},
   "outputs": [],
   "source": [
    "feature_ranking_df_threshold=pd.read_csv('../data/1_feature_ranking_df_threshold_20240531.csv').drop(columns=['Unnamed: 0'])\n",
    "feature_ranking_df_threshold"
   ]
  },
  {
   "cell_type": "markdown",
   "id": "19abb483-84a3-4e7a-86a9-4afdd441a4e8",
   "metadata": {},
   "source": [
    "Next attempt is adapted from tutorial from [MachineLearningMastery.com](#https://machinelearningmastery.com/hyperopt-for-automated-machine-learning-with-scikit-learn/):"
   ]
  },
  {
   "cell_type": "code",
   "execution_count": null,
   "id": "24439dca-b6be-4a7c-b245-78035ae6d978",
   "metadata": {},
   "outputs": [],
   "source": [
    "from sklearn.model_selection import train_test_split\n",
    "from sklearn.metrics import mean_absolute_error\n",
    "from hpsklearn import HyperoptEstimator\n",
    "from hpsklearn import any_regressor\n",
    "from hpsklearn import any_preprocessing\n",
    "from hyperopt import tpe"
   ]
  },
  {
   "cell_type": "code",
   "execution_count": null,
   "id": "803ca07a-4f67-4541-8e2e-fa50b42795b4",
   "metadata": {},
   "outputs": [],
   "source": [
    "# define search\n",
    "model = HyperoptEstimator(regressor=any_regressor('reg'), \n",
    "                          preprocessing=any_preprocessing('pre'), \n",
    "                          loss_fn=mean_absolute_error, \n",
    "                          algo=tpe.suggest, \n",
    "                          max_evals=50, \n",
    "                          trial_timeout=30)#,\n",
    "                          # seed=np.random.default_rng(seed))\n",
    "# perform the search\n",
    "model.fit(X_train_threshold, y_train_threshold)#,random_state=np.random.default_rng(seed))\n",
    "# summarize performance\n",
    "mae = model.score(X_test_threshold, y_test_threshold)\n",
    "print(\"MAE: %.3f\" % mae)\n",
    "# summarize the best model\n",
    "print(model.best_model())"
   ]
  },
  {
   "cell_type": "code",
   "execution_count": null,
   "id": "0229e4f1-dae7-4714-bf50-4043b1db910d",
   "metadata": {},
   "outputs": [],
   "source": []
  },
  {
   "cell_type": "markdown",
   "id": "4eecae11-dc35-4915-83a0-879f1ed949c5",
   "metadata": {
    "tags": []
   },
   "source": [
    "##### More notes on the Pipeline choices:"
   ]
  },
  {
   "cell_type": "markdown",
   "id": "a3dae66f-535b-459a-acf7-a9d2e4fd6eff",
   "metadata": {},
   "source": [
    "* `RFE` is great for feature selection, as it can help you understand which features are most important. RFE requires a base estimator to assign weights to features. We can use a logistic regression model.\n",
    "* We're using the `SGDClassifier` as the final step in our pipeline as it scored the top accuracy in our `lazypredict` run.\n",
    "* We'll set up a grid search so that we can explore the hyperparameter space to find the best hyperparameters for our dataset."
   ]
  },
  {
   "cell_type": "markdown",
   "id": "aea03a6c-1aa2-46f7-94b6-736818161198",
   "metadata": {},
   "source": [
    "# Apziva: UP2IqAzAWrVBrULk"
   ]
  },
  {
   "cell_type": "code",
   "execution_count": null,
   "id": "4b8340cb-41b6-44fb-9892-600b6827721b",
   "metadata": {},
   "outputs": [],
   "source": []
  }
 ],
 "metadata": {
  "kernelspec": {
   "display_name": "apziva",
   "language": "python",
   "name": "apziva"
  },
  "language_info": {
   "codemirror_mode": {
    "name": "ipython",
    "version": 3
   },
   "file_extension": ".py",
   "mimetype": "text/x-python",
   "name": "python",
   "nbconvert_exporter": "python",
   "pygments_lexer": "ipython3",
   "version": "3.12.3"
  }
 },
 "nbformat": 4,
 "nbformat_minor": 5
}
