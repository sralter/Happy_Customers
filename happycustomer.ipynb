{
 "cells": [
  {
   "cell_type": "markdown",
   "id": "7ca989e3-6fce-48fd-b44c-bd5e261375bf",
   "metadata": {},
   "source": [
    "# HappyCustomer - An Apziva Project"
   ]
  },
  {
   "cell_type": "markdown",
   "id": "f4be1ab2-763b-43a1-bd04-809d0944c0df",
   "metadata": {},
   "source": [
    "By Samuel Alter"
   ]
  },
  {
   "cell_type": "markdown",
   "id": "604f2033-1c74-46e3-b1c9-8fc37a257748",
   "metadata": {},
   "source": [
    "This project centers on a customer survey dataset from a delivery company. The dataset consists of the following:\n",
    "* `Y`: The target attribute, indicating whether the customer noted their happiness or unhappiness\n",
    "* `X1`: Order was delivered on time\n",
    "* `X2`: Contents of the order was as expected\n",
    "* `X3`: I ordered everything that I wanted to order\n",
    "* `X4`: I paid a good price for my order\n",
    "* `X5`: I am satisfied with my courier\n",
    "* `X6`: The app makes ordering easy for me\n",
    "\n",
    "Attributes `X1` through `X6` are on a 1 to 5 scale, with 5 indicating most agreement with the statement."
   ]
  },
  {
   "cell_type": "markdown",
   "id": "b5f15363-93ba-468e-8ff6-73effe14adb8",
   "metadata": {},
   "source": [
    "The goals of this project are to train a model that predicts whether a customer is happy or not, based on their answers to the survey. Specifically, I am to reach 73% accuracy or higher with my modeling, or explain why my solution is superior."
   ]
  },
  {
   "cell_type": "markdown",
   "id": "939dc854-a7cf-4cfc-8ed1-6fcd60fdf242",
   "metadata": {},
   "source": [
    "A stretch goal would be to determine which features are more important when predicting a customer's happiness. What is the minimal set of attributes or features that would preserve the most information about the problem, while at the same time increasing predictability? The aim here is to see if any question can be eliminated in the next survey round.\n",
    "\n",
    "The statistical analysis of the features can be found in the [Statistical Modeling](#statistical_modeling) section at the end of this document."
   ]
  },
  {
   "cell_type": "markdown",
   "id": "a05b6ad4-ccaa-4cf2-b614-68c593b9c147",
   "metadata": {},
   "source": [
    "## Table of Contents"
   ]
  },
  {
   "cell_type": "markdown",
   "id": "aadebfef-ac42-42dc-93da-86152a8f73a5",
   "metadata": {},
   "source": [
    "1. [EDA](#eda)\n",
    "1. [Initial `lazypredict` model exploration](#lazy_predict)\n",
    "1. [`XGBoost` in `sklearn`](#xgboost)"
   ]
  },
  {
   "cell_type": "markdown",
   "id": "32a62449-24e0-4c75-93ee-f2f4349983d8",
   "metadata": {},
   "source": [
    "## EDA <a name='eda'></a>"
   ]
  },
  {
   "cell_type": "code",
   "execution_count": null,
   "id": "73a639d5-0487-4963-9b3f-da593d1d56f7",
   "metadata": {},
   "outputs": [],
   "source": [
    "import pandas as pd\n",
    "import numpy as np\n",
    "import matplotlib.pyplot as plt\n",
    "import seaborn as sns"
   ]
  },
  {
   "cell_type": "code",
   "execution_count": null,
   "id": "f679289a-2006-43ae-b5dd-a5b624f13ab6",
   "metadata": {},
   "outputs": [],
   "source": [
    "df=pd.read_csv('../data/ACME-HappinessSurvey2020.csv')\n",
    "df.sample(3)"
   ]
  },
  {
   "cell_type": "markdown",
   "id": "86c2a886-4cf9-483f-8163-646da43ab0ee",
   "metadata": {},
   "source": [
    "Let's rename the columns to make them more intuitive."
   ]
  },
  {
   "cell_type": "code",
   "execution_count": null,
   "id": "4889f8a2-234c-403f-97a5-f50356cb0461",
   "metadata": {},
   "outputs": [],
   "source": [
    "df.rename(columns={'Y':'y',\n",
    "                   'X1':'a_time',\n",
    "                   'X2':'b_contents',\n",
    "                   'X3':'c_complete',\n",
    "                   'X4':'d_price',\n",
    "                   'X5':'e_courier',\n",
    "                   'X6':'f_app'},inplace=True)\n",
    "\n",
    "# using alphabet prefixes to ensure correct order of columns"
   ]
  },
  {
   "cell_type": "code",
   "execution_count": null,
   "id": "d5bc324c-a621-45da-baac-e511e2fb753f",
   "metadata": {},
   "outputs": [],
   "source": [
    "print(f\"There are {df.shape[0]} rows and {df.shape[1]} columns in the dataset\")"
   ]
  },
  {
   "cell_type": "code",
   "execution_count": null,
   "id": "c8663c88-604b-4d89-90e0-bd12ddc5d8fc",
   "metadata": {},
   "outputs": [],
   "source": [
    "df.describe()"
   ]
  },
  {
   "cell_type": "markdown",
   "id": "46c11873-7a31-4e05-8a62-fe3903ed9aaa",
   "metadata": {},
   "source": [
    "It seems like most of the participants in the survey were happy about the time it took to receive the order and app experience, but all of this will require more exploration."
   ]
  },
  {
   "cell_type": "code",
   "execution_count": null,
   "id": "93efb9c5-1b25-4b8b-a0bc-9660d99f8f30",
   "metadata": {},
   "outputs": [],
   "source": [
    "df['y'].value_counts()"
   ]
  },
  {
   "cell_type": "code",
   "execution_count": null,
   "id": "effa1877-3f8e-4659-84ab-6904c55e53af",
   "metadata": {},
   "outputs": [],
   "source": [
    "# data labels\n",
    "x=[0,1]\n",
    "y=[df['y'].value_counts()[0],df['y'].value_counts()[1]]\n",
    "\n",
    "plt.figure(figsize=(6, 4))\n",
    "ax=sns.countplot(data=df, x='y',zorder=3,)\n",
    "plt.title('Distribution of Customer Happiness in Target (y)')\n",
    "plt.xlabel('Target Values\\n0: Unhappy, 1: Happy')\n",
    "plt.ylabel('Count')\n",
    "ax.yaxis.grid(True,zorder=0)\n",
    "for i in range(len(x)):\n",
    "    plt.text(i, y[i], y[i], ha = 'center')\n",
    "plt.savefig('../figs/1_ydistribution.pdf')\n",
    "plt.savefig('../figs/1_ydistribution.png')\n",
    "plt.show()"
   ]
  },
  {
   "cell_type": "code",
   "execution_count": null,
   "id": "a34a02ca-e9a0-4ec2-9f63-b1b0915e8e2b",
   "metadata": {},
   "outputs": [],
   "source": [
    "print(f\"In the dataset, {round(df['y'].value_counts()[1]/df['y'].shape[0]*100,2)}% of respondents were happy,\\nwhile {round(df['y'].value_counts()[0]/df['y'].shape[0]*100,0)}% of respondents were unhappy.\")"
   ]
  },
  {
   "cell_type": "code",
   "execution_count": null,
   "id": "51c56c0a-dc3d-41c1-be6d-ee942fcf0680",
   "metadata": {},
   "outputs": [],
   "source": [
    "# prepare X data for plotting\n",
    "col_list=[]\n",
    "\n",
    "for i in df.columns:\n",
    "    col_list.append(i)\n",
    "    \n",
    "col_list.remove('y')\n",
    "\n",
    "df_melted=df.melt(value_vars=col_list,var_name='Variable',value_name='Value')\n",
    "\n",
    "# calculate mean value per variable\n",
    "mean_values=df_melted.groupby('Variable')['Value'].mean().to_dict()"
   ]
  },
  {
   "cell_type": "code",
   "execution_count": null,
   "id": "ed25691d-32f5-49a8-ac2c-672ad39a4e77",
   "metadata": {},
   "outputs": [],
   "source": [
    "mean_values"
   ]
  },
  {
   "cell_type": "code",
   "execution_count": null,
   "id": "3f5b0d95-2da1-4639-ac2b-e193aea3e257",
   "metadata": {},
   "outputs": [],
   "source": [
    "# create custom labels for following figure\n",
    "labels=[f\"{variable}: {mean_values[variable]:.2f}\" for variable in mean_values.keys()]\n",
    "labels"
   ]
  },
  {
   "cell_type": "code",
   "execution_count": null,
   "id": "70e8d936-407b-451e-b522-44379c5671b5",
   "metadata": {},
   "outputs": [],
   "source": [
    "df_melted['Variable'].value_counts()"
   ]
  },
  {
   "cell_type": "code",
   "execution_count": null,
   "id": "c1d0ce8f-d200-49f4-b27e-d30cbced8f0e",
   "metadata": {},
   "outputs": [],
   "source": [
    "xlabs=['Delivery Time',\n",
    "       'Contents of Order',\n",
    "       'Order Completeness',\n",
    "       'Price for Order',\n",
    "       'Satisfaction with Courier',\n",
    "       'Satisfaction with App Experience']"
   ]
  },
  {
   "cell_type": "code",
   "execution_count": null,
   "id": "fb0f0772-c568-4259-9243-887e34661004",
   "metadata": {},
   "outputs": [],
   "source": [
    "# plot distribution of survey results\n",
    "\n",
    "plt.figure(figsize=(12,8))\n",
    "ax=sns.countplot(data=df_melted,x='Variable',hue='Value')\n",
    "plt.suptitle('Count of Survey Results for Each Survey Question\\n1 being least satisfied and 5 being most satisfied')\n",
    "plt.xlabel('Survey Question')\n",
    "plt.ylabel('Count')\n",
    "ax.set_axisbelow(True)\n",
    "ax.yaxis.grid(True,which='major')\n",
    "ax.set_xticklabels(xlabs)\n",
    "plt.xticks(rotation=30)\n",
    "plt.legend(title='Response',loc='upper left')\n",
    "plt.tight_layout()\n",
    "plt.savefig('../figs/1_xdistribution.pdf')\n",
    "plt.savefig('../figs/1_xdistribution.png')\n",
    "plt.show()"
   ]
  },
  {
   "cell_type": "code",
   "execution_count": null,
   "id": "ab91d264-9ae1-4c54-8d00-347da860f5e9",
   "metadata": {},
   "outputs": [],
   "source": [
    "# setup labels for mean values\n",
    "mean_values=df_melted.groupby('Variable')['Value'].mean()\n",
    "mean_values=mean_values.round(decimals=2)\n",
    "mean_values"
   ]
  },
  {
   "cell_type": "code",
   "execution_count": null,
   "id": "820cd0f2-9d15-49a5-9bb9-3908e7053a2d",
   "metadata": {},
   "outputs": [],
   "source": [
    "# data labels\n",
    "x=[i for i in np.arange(6)]\n",
    "y=[mean_values[i] for i in np.arange(6)]"
   ]
  },
  {
   "cell_type": "code",
   "execution_count": null,
   "id": "f4580fe6-20f9-47e4-b8a4-bad8a5577bef",
   "metadata": {},
   "outputs": [],
   "source": [
    "plt.figure(figsize=(10,6))\n",
    "ax=sns.barplot(data=df_melted,x='Variable',y='Value',ci=None,color='coral')\n",
    "plt.tight_layout(pad=10)\n",
    "# plot labels\n",
    "for i in range(len(x)):\n",
    "    plt.text(i, y[i], y[i], ha='center')\n",
    "ax.set_xticklabels(xlabs,rotation=30)\n",
    "ax.set_title('Mean Response to Survey Question')\n",
    "ax.set_ylabel('Mean Response')\n",
    "ax.set_xlabel('Survey Question')\n",
    "plt.savefig('../figs/1_xmeandistribution.pdf')\n",
    "plt.savefig('../figs/1_xmeandistribution.png')\n",
    "plt.show()"
   ]
  },
  {
   "cell_type": "markdown",
   "id": "211b654d-169d-4c8a-a459-117aa35b8115",
   "metadata": {},
   "source": [
    "The delivery time and app experience had the highest mean satisfaction in the survey, with the contents having the lowest overall."
   ]
  },
  {
   "cell_type": "markdown",
   "id": "94369155-0f3d-4c3e-ab1f-99f61743a779",
   "metadata": {},
   "source": [
    "### EDA Summary"
   ]
  },
  {
   "cell_type": "markdown",
   "id": "41dc5eba-8426-469b-9ad6-4d58821f9618",
   "metadata": {},
   "source": [
    "In the dataset that we were given, roughly half of the respondents were unhappy. From a business standpoint, this is an opportunity to increase the amount of satisfied customers. Hence the survey, ostensibly to understand how the company can improve the satisfaction of their customers.\n",
    "\n",
    "The results from the survey show that the delivery time and the app experience are places where the company is doing well. Areas for improvement are ensuring that the order is prepared correctly and customers being able to find what they need when they place an order.\n",
    "\n",
    "We need to do more modeling to understand which survey questions are most important and which can be removed. We will do this in the subsequent sections below."
   ]
  },
  {
   "cell_type": "markdown",
   "id": "ef7d1fe5-c95e-48e8-b1a1-4701ff959762",
   "metadata": {},
   "source": [
    "## Run this section in the `lazypredict` environment <a name='lazy_predict'></a>"
   ]
  },
  {
   "cell_type": "markdown",
   "id": "d36c7189-97ee-40ca-acd8-ab083d5d09a6",
   "metadata": {},
   "source": [
    "[`lazypredict`](#https://lazypredict.readthedocs.io/en/latest/) is a very helpful package that can run through generic builds of a multitude of models in order to get a high-level understanding of the performance of these models on your particular dataset. It is a great place to start and saves a lot of time that would be spent manually exploring the accuracy of different models."
   ]
  },
  {
   "cell_type": "code",
   "execution_count": 4,
   "id": "fcea55c3-bb5b-46e0-a01a-c4526332360a",
   "metadata": {},
   "outputs": [],
   "source": [
    "import numpy as np\n",
    "import pandas as pd"
   ]
  },
  {
   "cell_type": "code",
   "execution_count": 5,
   "id": "1afbabe0-bc61-4812-bf38-5f67e1ad356a",
   "metadata": {},
   "outputs": [],
   "source": [
    "from lazypredict.Supervised import LazyClassifier\n",
    "from sklearn.model_selection import train_test_split"
   ]
  },
  {
   "cell_type": "code",
   "execution_count": 6,
   "id": "e5e36c1b-b441-4ff0-8094-277db1442053",
   "metadata": {},
   "outputs": [],
   "source": [
    "# simple function to generate random integers\n",
    "\n",
    "def rand_gen(low=1,high=1e8):\n",
    "    rng=np.random.default_rng()\n",
    "    random_state=rng.integers(low=low,high=high)\n",
    "    return random_state"
   ]
  },
  {
   "cell_type": "code",
   "execution_count": 7,
   "id": "bf29304a-01e3-4379-b646-6e37ec02bb0a",
   "metadata": {},
   "outputs": [
    {
     "data": {
      "text/plain": [
       "69548310"
      ]
     },
     "execution_count": 7,
     "metadata": {},
     "output_type": "execute_result"
    }
   ],
   "source": [
    "# define random seed\n",
    "seed=rand_gen()\n",
    "seed"
   ]
  },
  {
   "cell_type": "code",
   "execution_count": null,
   "id": "f2bcbe63-40a0-44ce-8029-f350839ad215",
   "metadata": {},
   "outputs": [],
   "source": [
    "# read in and setup dataset\n",
    "\n",
    "df=pd.read_csv('../data/ACME-HappinessSurvey2020.csv')\n",
    "\n",
    "# renaming columns to preserve order\n",
    "# and make them more intelligible\n",
    "df.rename(columns={'Y':'y',\n",
    "                   'X1':'a_time',\n",
    "                   'X2':'b_contents',\n",
    "                   'X3':'c_complete',\n",
    "                   'X4':'d_price',\n",
    "                   'X5':'e_courier',\n",
    "                   'X6':'f_app'},inplace=True)\n",
    "\n",
    "# df.dtypes\n",
    "\n",
    "X=df[[col for col in df.columns if col != 'y']].copy()\n",
    "y=df['y'].copy().astype('int8') # because it's a binary"
   ]
  },
  {
   "cell_type": "code",
   "execution_count": 174,
   "id": "9d323d74-488c-4762-8f60-66d3cd9a6a29",
   "metadata": {},
   "outputs": [],
   "source": [
    "rand0=rand_gen()\n",
    "\n",
    "X_train, \\\n",
    "X_test, \\\n",
    "y_train, \\\n",
    "y_test = train_test_split(X, \n",
    "                          y, \n",
    "                          test_size=0.2, \n",
    "                          stratify=y,\n",
    "                          random_state=rand0)"
   ]
  },
  {
   "cell_type": "code",
   "execution_count": null,
   "id": "b98747f7-3a28-4069-ba5a-30dd6df914d1",
   "metadata": {},
   "outputs": [],
   "source": [
    "print(f'''\n",
    "Shapes of splits:\n",
    "X_train: {X_train.shape}\n",
    "X_test:  {X_test.shape}\n",
    "y_train: {y_train.shape}\n",
    "y_test:  {y_test.shape}\n",
    "''')"
   ]
  },
  {
   "cell_type": "code",
   "execution_count": null,
   "id": "c3f4e431-5c79-402f-afa8-5c9d5582940f",
   "metadata": {
    "tags": []
   },
   "outputs": [],
   "source": [
    "rand0=rand_gen()\n",
    "\n",
    "clf = LazyClassifier(verbose=0,\n",
    "                     ignore_warnings=True,\n",
    "                     random_state=rand0)"
   ]
  },
  {
   "cell_type": "code",
   "execution_count": null,
   "id": "dadef9df-2809-4976-bdcc-9e87acc5e9ed",
   "metadata": {
    "tags": []
   },
   "outputs": [],
   "source": [
    "models, predictions = clf.fit(X_train=X_train,\n",
    "                              X_test=X_test,\n",
    "                              y_train=y_train,\n",
    "                              y_test=y_test)"
   ]
  },
  {
   "cell_type": "markdown",
   "id": "c5022f09-7e03-4c68-9e9f-a316d12368a8",
   "metadata": {},
   "source": [
    "Results from the `LazyClassifier`:  <a name='lazy_predict_results'></a>"
   ]
  },
  {
   "cell_type": "code",
   "execution_count": null,
   "id": "270c1846-dd4e-49ea-be0e-50f04040aa1e",
   "metadata": {
    "tags": []
   },
   "outputs": [],
   "source": [
    "models"
   ]
  },
  {
   "cell_type": "code",
   "execution_count": null,
   "id": "bcbc9c46-4448-4e2a-9d33-222a8e86007d",
   "metadata": {},
   "outputs": [],
   "source": [
    "models.to_csv('../joblib/1_lazypredict.csv')"
   ]
  },
  {
   "cell_type": "markdown",
   "id": "1a2f2d13-07c6-4e05-983f-5b35d76f30b8",
   "metadata": {},
   "source": [
    "## Switch to `sklearn` environment <a name='xgboost'></a>"
   ]
  },
  {
   "cell_type": "code",
   "execution_count": 8,
   "id": "18a145a8-8f16-4295-b6bd-ca9858f865da",
   "metadata": {},
   "outputs": [],
   "source": [
    "import numpy as np\n",
    "import pandas as pd"
   ]
  },
  {
   "cell_type": "code",
   "execution_count": 9,
   "id": "482c2617-6bca-43fd-89c6-5c90f8a92c66",
   "metadata": {},
   "outputs": [],
   "source": [
    "models=pd.read_csv('../joblib/1_lazypredict.csv')"
   ]
  },
  {
   "cell_type": "code",
   "execution_count": 10,
   "id": "02f26c08-22ab-4135-a5cb-599e7392c619",
   "metadata": {},
   "outputs": [
    {
     "data": {
      "text/html": [
       "<div>\n",
       "<style scoped>\n",
       "    .dataframe tbody tr th:only-of-type {\n",
       "        vertical-align: middle;\n",
       "    }\n",
       "\n",
       "    .dataframe tbody tr th {\n",
       "        vertical-align: top;\n",
       "    }\n",
       "\n",
       "    .dataframe thead th {\n",
       "        text-align: right;\n",
       "    }\n",
       "</style>\n",
       "<table border=\"1\" class=\"dataframe\">\n",
       "  <thead>\n",
       "    <tr style=\"text-align: right;\">\n",
       "      <th></th>\n",
       "      <th>Model</th>\n",
       "      <th>Accuracy</th>\n",
       "      <th>Balanced Accuracy</th>\n",
       "      <th>ROC AUC</th>\n",
       "      <th>F1 Score</th>\n",
       "      <th>Time Taken</th>\n",
       "    </tr>\n",
       "  </thead>\n",
       "  <tbody>\n",
       "    <tr>\n",
       "      <th>0</th>\n",
       "      <td>SGDClassifier</td>\n",
       "      <td>0.69</td>\n",
       "      <td>0.69</td>\n",
       "      <td>0.69</td>\n",
       "      <td>0.69</td>\n",
       "      <td>0.01</td>\n",
       "    </tr>\n",
       "    <tr>\n",
       "      <th>1</th>\n",
       "      <td>NearestCentroid</td>\n",
       "      <td>0.69</td>\n",
       "      <td>0.68</td>\n",
       "      <td>0.68</td>\n",
       "      <td>0.69</td>\n",
       "      <td>0.01</td>\n",
       "    </tr>\n",
       "    <tr>\n",
       "      <th>2</th>\n",
       "      <td>AdaBoostClassifier</td>\n",
       "      <td>0.69</td>\n",
       "      <td>0.68</td>\n",
       "      <td>0.68</td>\n",
       "      <td>0.68</td>\n",
       "      <td>0.05</td>\n",
       "    </tr>\n",
       "    <tr>\n",
       "      <th>3</th>\n",
       "      <td>BernoulliNB</td>\n",
       "      <td>0.69</td>\n",
       "      <td>0.68</td>\n",
       "      <td>0.68</td>\n",
       "      <td>0.68</td>\n",
       "      <td>0.01</td>\n",
       "    </tr>\n",
       "    <tr>\n",
       "      <th>4</th>\n",
       "      <td>DecisionTreeClassifier</td>\n",
       "      <td>0.65</td>\n",
       "      <td>0.66</td>\n",
       "      <td>0.66</td>\n",
       "      <td>0.65</td>\n",
       "      <td>0.01</td>\n",
       "    </tr>\n",
       "    <tr>\n",
       "      <th>5</th>\n",
       "      <td>RandomForestClassifier</td>\n",
       "      <td>0.65</td>\n",
       "      <td>0.66</td>\n",
       "      <td>0.66</td>\n",
       "      <td>0.65</td>\n",
       "      <td>0.10</td>\n",
       "    </tr>\n",
       "    <tr>\n",
       "      <th>6</th>\n",
       "      <td>LGBMClassifier</td>\n",
       "      <td>0.65</td>\n",
       "      <td>0.65</td>\n",
       "      <td>0.65</td>\n",
       "      <td>0.65</td>\n",
       "      <td>0.12</td>\n",
       "    </tr>\n",
       "    <tr>\n",
       "      <th>7</th>\n",
       "      <td>CalibratedClassifierCV</td>\n",
       "      <td>0.65</td>\n",
       "      <td>0.63</td>\n",
       "      <td>0.63</td>\n",
       "      <td>0.62</td>\n",
       "      <td>0.02</td>\n",
       "    </tr>\n",
       "    <tr>\n",
       "      <th>8</th>\n",
       "      <td>ExtraTreesClassifier</td>\n",
       "      <td>0.62</td>\n",
       "      <td>0.61</td>\n",
       "      <td>0.61</td>\n",
       "      <td>0.62</td>\n",
       "      <td>0.06</td>\n",
       "    </tr>\n",
       "    <tr>\n",
       "      <th>9</th>\n",
       "      <td>BaggingClassifier</td>\n",
       "      <td>0.62</td>\n",
       "      <td>0.61</td>\n",
       "      <td>0.61</td>\n",
       "      <td>0.62</td>\n",
       "      <td>0.02</td>\n",
       "    </tr>\n",
       "    <tr>\n",
       "      <th>10</th>\n",
       "      <td>SVC</td>\n",
       "      <td>0.62</td>\n",
       "      <td>0.60</td>\n",
       "      <td>0.60</td>\n",
       "      <td>0.60</td>\n",
       "      <td>0.01</td>\n",
       "    </tr>\n",
       "    <tr>\n",
       "      <th>11</th>\n",
       "      <td>GaussianNB</td>\n",
       "      <td>0.62</td>\n",
       "      <td>0.60</td>\n",
       "      <td>0.60</td>\n",
       "      <td>0.59</td>\n",
       "      <td>0.01</td>\n",
       "    </tr>\n",
       "    <tr>\n",
       "      <th>12</th>\n",
       "      <td>RidgeClassifierCV</td>\n",
       "      <td>0.62</td>\n",
       "      <td>0.60</td>\n",
       "      <td>0.60</td>\n",
       "      <td>0.59</td>\n",
       "      <td>0.01</td>\n",
       "    </tr>\n",
       "    <tr>\n",
       "      <th>13</th>\n",
       "      <td>RidgeClassifier</td>\n",
       "      <td>0.62</td>\n",
       "      <td>0.60</td>\n",
       "      <td>0.60</td>\n",
       "      <td>0.59</td>\n",
       "      <td>0.02</td>\n",
       "    </tr>\n",
       "    <tr>\n",
       "      <th>14</th>\n",
       "      <td>LinearSVC</td>\n",
       "      <td>0.62</td>\n",
       "      <td>0.60</td>\n",
       "      <td>0.60</td>\n",
       "      <td>0.59</td>\n",
       "      <td>0.01</td>\n",
       "    </tr>\n",
       "    <tr>\n",
       "      <th>15</th>\n",
       "      <td>LogisticRegression</td>\n",
       "      <td>0.62</td>\n",
       "      <td>0.60</td>\n",
       "      <td>0.60</td>\n",
       "      <td>0.59</td>\n",
       "      <td>0.01</td>\n",
       "    </tr>\n",
       "    <tr>\n",
       "      <th>16</th>\n",
       "      <td>LinearDiscriminantAnalysis</td>\n",
       "      <td>0.62</td>\n",
       "      <td>0.60</td>\n",
       "      <td>0.60</td>\n",
       "      <td>0.59</td>\n",
       "      <td>0.01</td>\n",
       "    </tr>\n",
       "    <tr>\n",
       "      <th>17</th>\n",
       "      <td>KNeighborsClassifier</td>\n",
       "      <td>0.62</td>\n",
       "      <td>0.60</td>\n",
       "      <td>0.60</td>\n",
       "      <td>0.59</td>\n",
       "      <td>0.01</td>\n",
       "    </tr>\n",
       "    <tr>\n",
       "      <th>18</th>\n",
       "      <td>Perceptron</td>\n",
       "      <td>0.58</td>\n",
       "      <td>0.57</td>\n",
       "      <td>0.57</td>\n",
       "      <td>0.57</td>\n",
       "      <td>0.01</td>\n",
       "    </tr>\n",
       "    <tr>\n",
       "      <th>19</th>\n",
       "      <td>LabelSpreading</td>\n",
       "      <td>0.54</td>\n",
       "      <td>0.54</td>\n",
       "      <td>0.54</td>\n",
       "      <td>0.54</td>\n",
       "      <td>0.01</td>\n",
       "    </tr>\n",
       "    <tr>\n",
       "      <th>20</th>\n",
       "      <td>LabelPropagation</td>\n",
       "      <td>0.54</td>\n",
       "      <td>0.54</td>\n",
       "      <td>0.54</td>\n",
       "      <td>0.54</td>\n",
       "      <td>0.01</td>\n",
       "    </tr>\n",
       "    <tr>\n",
       "      <th>21</th>\n",
       "      <td>PassiveAggressiveClassifier</td>\n",
       "      <td>0.54</td>\n",
       "      <td>0.54</td>\n",
       "      <td>0.54</td>\n",
       "      <td>0.54</td>\n",
       "      <td>0.01</td>\n",
       "    </tr>\n",
       "    <tr>\n",
       "      <th>22</th>\n",
       "      <td>NuSVC</td>\n",
       "      <td>0.54</td>\n",
       "      <td>0.53</td>\n",
       "      <td>0.53</td>\n",
       "      <td>0.53</td>\n",
       "      <td>0.01</td>\n",
       "    </tr>\n",
       "    <tr>\n",
       "      <th>23</th>\n",
       "      <td>DummyClassifier</td>\n",
       "      <td>0.54</td>\n",
       "      <td>0.50</td>\n",
       "      <td>0.50</td>\n",
       "      <td>0.38</td>\n",
       "      <td>0.01</td>\n",
       "    </tr>\n",
       "    <tr>\n",
       "      <th>24</th>\n",
       "      <td>QuadraticDiscriminantAnalysis</td>\n",
       "      <td>0.50</td>\n",
       "      <td>0.49</td>\n",
       "      <td>0.49</td>\n",
       "      <td>0.49</td>\n",
       "      <td>0.01</td>\n",
       "    </tr>\n",
       "    <tr>\n",
       "      <th>25</th>\n",
       "      <td>XGBClassifier</td>\n",
       "      <td>0.46</td>\n",
       "      <td>0.46</td>\n",
       "      <td>0.46</td>\n",
       "      <td>0.46</td>\n",
       "      <td>0.07</td>\n",
       "    </tr>\n",
       "    <tr>\n",
       "      <th>26</th>\n",
       "      <td>ExtraTreeClassifier</td>\n",
       "      <td>0.42</td>\n",
       "      <td>0.43</td>\n",
       "      <td>0.43</td>\n",
       "      <td>0.42</td>\n",
       "      <td>0.01</td>\n",
       "    </tr>\n",
       "  </tbody>\n",
       "</table>\n",
       "</div>"
      ],
      "text/plain": [
       "                            Model  Accuracy  Balanced Accuracy  ROC AUC  \\\n",
       "0                   SGDClassifier      0.69               0.69     0.69   \n",
       "1                 NearestCentroid      0.69               0.68     0.68   \n",
       "2              AdaBoostClassifier      0.69               0.68     0.68   \n",
       "3                     BernoulliNB      0.69               0.68     0.68   \n",
       "4          DecisionTreeClassifier      0.65               0.66     0.66   \n",
       "5          RandomForestClassifier      0.65               0.66     0.66   \n",
       "6                  LGBMClassifier      0.65               0.65     0.65   \n",
       "7          CalibratedClassifierCV      0.65               0.63     0.63   \n",
       "8            ExtraTreesClassifier      0.62               0.61     0.61   \n",
       "9               BaggingClassifier      0.62               0.61     0.61   \n",
       "10                            SVC      0.62               0.60     0.60   \n",
       "11                     GaussianNB      0.62               0.60     0.60   \n",
       "12              RidgeClassifierCV      0.62               0.60     0.60   \n",
       "13                RidgeClassifier      0.62               0.60     0.60   \n",
       "14                      LinearSVC      0.62               0.60     0.60   \n",
       "15             LogisticRegression      0.62               0.60     0.60   \n",
       "16     LinearDiscriminantAnalysis      0.62               0.60     0.60   \n",
       "17           KNeighborsClassifier      0.62               0.60     0.60   \n",
       "18                     Perceptron      0.58               0.57     0.57   \n",
       "19                 LabelSpreading      0.54               0.54     0.54   \n",
       "20               LabelPropagation      0.54               0.54     0.54   \n",
       "21    PassiveAggressiveClassifier      0.54               0.54     0.54   \n",
       "22                          NuSVC      0.54               0.53     0.53   \n",
       "23                DummyClassifier      0.54               0.50     0.50   \n",
       "24  QuadraticDiscriminantAnalysis      0.50               0.49     0.49   \n",
       "25                  XGBClassifier      0.46               0.46     0.46   \n",
       "26            ExtraTreeClassifier      0.42               0.43     0.43   \n",
       "\n",
       "    F1 Score  Time Taken  \n",
       "0       0.69        0.01  \n",
       "1       0.69        0.01  \n",
       "2       0.68        0.05  \n",
       "3       0.68        0.01  \n",
       "4       0.65        0.01  \n",
       "5       0.65        0.10  \n",
       "6       0.65        0.12  \n",
       "7       0.62        0.02  \n",
       "8       0.62        0.06  \n",
       "9       0.62        0.02  \n",
       "10      0.60        0.01  \n",
       "11      0.59        0.01  \n",
       "12      0.59        0.01  \n",
       "13      0.59        0.02  \n",
       "14      0.59        0.01  \n",
       "15      0.59        0.01  \n",
       "16      0.59        0.01  \n",
       "17      0.59        0.01  \n",
       "18      0.57        0.01  \n",
       "19      0.54        0.01  \n",
       "20      0.54        0.01  \n",
       "21      0.54        0.01  \n",
       "22      0.53        0.01  \n",
       "23      0.38        0.01  \n",
       "24      0.49        0.01  \n",
       "25      0.46        0.07  \n",
       "26      0.42        0.01  "
      ]
     },
     "execution_count": 10,
     "metadata": {},
     "output_type": "execute_result"
    }
   ],
   "source": [
    "models"
   ]
  },
  {
   "cell_type": "markdown",
   "id": "6c573aac-bd50-4dbd-984e-b4c0f9815811",
   "metadata": {},
   "source": [
    "After exploring alternatives, including `LGBMClassifier`, I will now use `XGBoost` instead. In a previous iteration, a previous `random_seed`, it had given me the second-highest accuracy. You'll note that XGBoost is now 25th out of 26 model options. This is a lesson learned that I must always specify a `random_state` to ensure reproducibility."
   ]
  },
  {
   "cell_type": "markdown",
   "id": "1b511c6b-1b16-42b7-961d-622909cee8b4",
   "metadata": {},
   "source": [
    "### Imports"
   ]
  },
  {
   "cell_type": "code",
   "execution_count": 16,
   "id": "99e9814c-b8bb-4891-a954-ed577dc4faa9",
   "metadata": {},
   "outputs": [],
   "source": [
    "from sklearn.model_selection import train_test_split\n",
    "from xgboost import XGBClassifier\n",
    "from sklearn.metrics import accuracy_score, confusion_matrix, classification_report"
   ]
  },
  {
   "cell_type": "code",
   "execution_count": 53,
   "id": "eb65686e-3909-49af-b4b6-8065fa1566c0",
   "metadata": {},
   "outputs": [],
   "source": [
    "# simple function to generate random integers\n",
    "\n",
    "def rand_gen(low=1,high=1e8):\n",
    "    rng=np.random.default_rng()\n",
    "    random_state=rng.integers(low=low,high=high)\n",
    "    return random_state"
   ]
  },
  {
   "cell_type": "code",
   "execution_count": 11,
   "id": "b6ffd9f5-e421-43d8-9374-26c37ddf2e98",
   "metadata": {},
   "outputs": [
    {
     "data": {
      "text/plain": [
       "97529694"
      ]
     },
     "execution_count": 11,
     "metadata": {},
     "output_type": "execute_result"
    }
   ],
   "source": [
    "# define random seed\n",
    "seed=rand_gen()\n",
    "seed"
   ]
  },
  {
   "cell_type": "code",
   "execution_count": 12,
   "id": "20930b14-1d28-4d66-bdf4-8840333800f5",
   "metadata": {},
   "outputs": [
    {
     "name": "stdout",
     "output_type": "stream",
     "text": [
      "\n",
      "Shapes of splits:\n",
      "X_train: (100, 6)\n",
      "X_test:  (26, 6)\n",
      "y_train: (100,)\n",
      "y_test:  (26,)\n",
      "\n"
     ]
    }
   ],
   "source": [
    "# read in and setup dataset\n",
    "\n",
    "df=pd.read_csv('../data/ACME-HappinessSurvey2020.csv')\n",
    "\n",
    "# renaming columns to preserve order\n",
    "# and make them more intelligible\n",
    "df.rename(columns={'Y':'y',\n",
    "                   'X1':'a_time',\n",
    "                   'X2':'b_contents',\n",
    "                   'X3':'c_complete',\n",
    "                   'X4':'d_price',\n",
    "                   'X5':'e_courier',\n",
    "                   'X6':'f_app'},inplace=True)\n",
    "\n",
    "X=df[[col for col in df.columns if col != 'y']].copy()\n",
    "y=df['y'].copy().astype('int8') # because it's a binary\n",
    "                                # let's use less memory\n",
    "\n",
    "rand0=rand_gen()\n",
    "    \n",
    "X_train, \\\n",
    "X_test, \\\n",
    "y_train, \\\n",
    "y_test = train_test_split(X, \n",
    "                          y, \n",
    "                          test_size=0.2, \n",
    "                          stratify=y,\n",
    "                          random_state=seed)\n",
    "\n",
    "print(f'''\n",
    "Shapes of splits:\n",
    "X_train: {X_train.shape}\n",
    "X_test:  {X_test.shape}\n",
    "y_train: {y_train.shape}\n",
    "y_test:  {y_test.shape}\n",
    "''')"
   ]
  },
  {
   "cell_type": "markdown",
   "id": "012faf84-a2ae-4b29-a729-678e58de73c4",
   "metadata": {},
   "source": [
    "### Initial model run"
   ]
  },
  {
   "cell_type": "code",
   "execution_count": 17,
   "id": "fc9fad64-7dfc-4be0-b55c-5451f5e3af4d",
   "metadata": {},
   "outputs": [
    {
     "name": "stdout",
     "output_type": "stream",
     "text": [
      "Score on test: 0.5769230769230769\n",
      "              precision    recall  f1-score   support\n",
      "\n",
      "           0       0.53      0.67      0.59        12\n",
      "           1       0.64      0.50      0.56        14\n",
      "\n",
      "    accuracy                           0.58        26\n",
      "   macro avg       0.58      0.58      0.58        26\n",
      "weighted avg       0.59      0.58      0.58        26\n",
      "\n"
     ]
    }
   ],
   "source": [
    "xgbc = XGBClassifier(random_state=seed)\n",
    "xgbc.fit(X_train, y_train)\n",
    "\n",
    "y_pred = xgbc.predict(X_test)\n",
    "print(f'Score on test: {xgbc.score(X_test,y_test)}')\n",
    "print(classification_report(y_test, y_pred))"
   ]
  },
  {
   "cell_type": "markdown",
   "id": "226be221-974f-42f1-901a-c038bbac5235",
   "metadata": {},
   "source": [
    "The base model is not great yet. Let's keep going forward."
   ]
  },
  {
   "cell_type": "markdown",
   "id": "f0ee6633-66cd-4264-927b-c98e3a82b9a0",
   "metadata": {},
   "source": [
    "### Grid Search Exploration with `XGBoost`"
   ]
  },
  {
   "cell_type": "code",
   "execution_count": 18,
   "id": "d454bb34-5eb4-48a6-90b9-81b0e9b5af6d",
   "metadata": {},
   "outputs": [],
   "source": [
    "from sklearn.model_selection import GridSearchCV,StratifiedKFold,cross_val_score"
   ]
  },
  {
   "cell_type": "code",
   "execution_count": 9,
   "id": "55a94c80-027f-4c52-b06c-a7a1f7024953",
   "metadata": {
    "tags": []
   },
   "outputs": [
    {
     "data": {
      "text/html": [
       "<style>#sk-container-id-1 {color: black;background-color: white;}#sk-container-id-1 pre{padding: 0;}#sk-container-id-1 div.sk-toggleable {background-color: white;}#sk-container-id-1 label.sk-toggleable__label {cursor: pointer;display: block;width: 100%;margin-bottom: 0;padding: 0.3em;box-sizing: border-box;text-align: center;}#sk-container-id-1 label.sk-toggleable__label-arrow:before {content: \"▸\";float: left;margin-right: 0.25em;color: #696969;}#sk-container-id-1 label.sk-toggleable__label-arrow:hover:before {color: black;}#sk-container-id-1 div.sk-estimator:hover label.sk-toggleable__label-arrow:before {color: black;}#sk-container-id-1 div.sk-toggleable__content {max-height: 0;max-width: 0;overflow: hidden;text-align: left;background-color: #f0f8ff;}#sk-container-id-1 div.sk-toggleable__content pre {margin: 0.2em;color: black;border-radius: 0.25em;background-color: #f0f8ff;}#sk-container-id-1 input.sk-toggleable__control:checked~div.sk-toggleable__content {max-height: 200px;max-width: 100%;overflow: auto;}#sk-container-id-1 input.sk-toggleable__control:checked~label.sk-toggleable__label-arrow:before {content: \"▾\";}#sk-container-id-1 div.sk-estimator input.sk-toggleable__control:checked~label.sk-toggleable__label {background-color: #d4ebff;}#sk-container-id-1 div.sk-label input.sk-toggleable__control:checked~label.sk-toggleable__label {background-color: #d4ebff;}#sk-container-id-1 input.sk-hidden--visually {border: 0;clip: rect(1px 1px 1px 1px);clip: rect(1px, 1px, 1px, 1px);height: 1px;margin: -1px;overflow: hidden;padding: 0;position: absolute;width: 1px;}#sk-container-id-1 div.sk-estimator {font-family: monospace;background-color: #f0f8ff;border: 1px dotted black;border-radius: 0.25em;box-sizing: border-box;margin-bottom: 0.5em;}#sk-container-id-1 div.sk-estimator:hover {background-color: #d4ebff;}#sk-container-id-1 div.sk-parallel-item::after {content: \"\";width: 100%;border-bottom: 1px solid gray;flex-grow: 1;}#sk-container-id-1 div.sk-label:hover label.sk-toggleable__label {background-color: #d4ebff;}#sk-container-id-1 div.sk-serial::before {content: \"\";position: absolute;border-left: 1px solid gray;box-sizing: border-box;top: 0;bottom: 0;left: 50%;z-index: 0;}#sk-container-id-1 div.sk-serial {display: flex;flex-direction: column;align-items: center;background-color: white;padding-right: 0.2em;padding-left: 0.2em;position: relative;}#sk-container-id-1 div.sk-item {position: relative;z-index: 1;}#sk-container-id-1 div.sk-parallel {display: flex;align-items: stretch;justify-content: center;background-color: white;position: relative;}#sk-container-id-1 div.sk-item::before, #sk-container-id-1 div.sk-parallel-item::before {content: \"\";position: absolute;border-left: 1px solid gray;box-sizing: border-box;top: 0;bottom: 0;left: 50%;z-index: -1;}#sk-container-id-1 div.sk-parallel-item {display: flex;flex-direction: column;z-index: 1;position: relative;background-color: white;}#sk-container-id-1 div.sk-parallel-item:first-child::after {align-self: flex-end;width: 50%;}#sk-container-id-1 div.sk-parallel-item:last-child::after {align-self: flex-start;width: 50%;}#sk-container-id-1 div.sk-parallel-item:only-child::after {width: 0;}#sk-container-id-1 div.sk-dashed-wrapped {border: 1px dashed gray;margin: 0 0.4em 0.5em 0.4em;box-sizing: border-box;padding-bottom: 0.4em;background-color: white;}#sk-container-id-1 div.sk-label label {font-family: monospace;font-weight: bold;display: inline-block;line-height: 1.2em;}#sk-container-id-1 div.sk-label-container {text-align: center;}#sk-container-id-1 div.sk-container {/* jupyter's `normalize.less` sets `[hidden] { display: none; }` but bootstrap.min.css set `[hidden] { display: none !important; }` so we also need the `!important` here to be able to override the default hidden behavior on the sphinx rendered scikit-learn.org. See: https://github.com/scikit-learn/scikit-learn/issues/21755 */display: inline-block !important;position: relative;}#sk-container-id-1 div.sk-text-repr-fallback {display: none;}</style><div id=\"sk-container-id-1\" class=\"sk-top-container\"><div class=\"sk-text-repr-fallback\"><pre>GridSearchCV(cv=5,\n",
       "             estimator=XGBClassifier(base_score=None, booster=None,\n",
       "                                     callbacks=None, colsample_bylevel=None,\n",
       "                                     colsample_bynode=None,\n",
       "                                     colsample_bytree=None,\n",
       "                                     early_stopping_rounds=None,\n",
       "                                     enable_categorical=False, eval_metric=None,\n",
       "                                     feature_types=None, gamma=None,\n",
       "                                     gpu_id=None, grow_policy=None,\n",
       "                                     importance_type=None,\n",
       "                                     interaction_constraints=None,\n",
       "                                     learning_rate=None,...\n",
       "             param_grid={&#x27;alpha&#x27;: [0], &#x27;gamma&#x27;: [0],\n",
       "                         &#x27;lambda&#x27;: [0.275, 0.28500000000000003,\n",
       "                                    0.29500000000000004, 0.305, 0.315, 0.325],\n",
       "                         &#x27;learning_rate&#x27;: array([1.62554876, 1.62648477, 1.62742132, 1.6283584 , 1.62929603,\n",
       "       1.6302342 , 1.63117291, 1.63211216, 1.63305195]),\n",
       "                         &#x27;max_depth&#x27;: [2],\n",
       "                         &#x27;min_child_weight&#x27;: [3.5, 3.625, 3.75, 3.875, 4.0,\n",
       "                                              4.125, 4.25, 4.375, 4.5],\n",
       "                         &#x27;n_estimators&#x27;: array([53, 54, 55, 56, 57])})</pre><b>In a Jupyter environment, please rerun this cell to show the HTML representation or trust the notebook. <br />On GitHub, the HTML representation is unable to render, please try loading this page with nbviewer.org.</b></div><div class=\"sk-container\" hidden><div class=\"sk-item sk-dashed-wrapped\"><div class=\"sk-label-container\"><div class=\"sk-label sk-toggleable\"><input class=\"sk-toggleable__control sk-hidden--visually\" id=\"sk-estimator-id-1\" type=\"checkbox\" ><label for=\"sk-estimator-id-1\" class=\"sk-toggleable__label sk-toggleable__label-arrow\">GridSearchCV</label><div class=\"sk-toggleable__content\"><pre>GridSearchCV(cv=5,\n",
       "             estimator=XGBClassifier(base_score=None, booster=None,\n",
       "                                     callbacks=None, colsample_bylevel=None,\n",
       "                                     colsample_bynode=None,\n",
       "                                     colsample_bytree=None,\n",
       "                                     early_stopping_rounds=None,\n",
       "                                     enable_categorical=False, eval_metric=None,\n",
       "                                     feature_types=None, gamma=None,\n",
       "                                     gpu_id=None, grow_policy=None,\n",
       "                                     importance_type=None,\n",
       "                                     interaction_constraints=None,\n",
       "                                     learning_rate=None,...\n",
       "             param_grid={&#x27;alpha&#x27;: [0], &#x27;gamma&#x27;: [0],\n",
       "                         &#x27;lambda&#x27;: [0.275, 0.28500000000000003,\n",
       "                                    0.29500000000000004, 0.305, 0.315, 0.325],\n",
       "                         &#x27;learning_rate&#x27;: array([1.62554876, 1.62648477, 1.62742132, 1.6283584 , 1.62929603,\n",
       "       1.6302342 , 1.63117291, 1.63211216, 1.63305195]),\n",
       "                         &#x27;max_depth&#x27;: [2],\n",
       "                         &#x27;min_child_weight&#x27;: [3.5, 3.625, 3.75, 3.875, 4.0,\n",
       "                                              4.125, 4.25, 4.375, 4.5],\n",
       "                         &#x27;n_estimators&#x27;: array([53, 54, 55, 56, 57])})</pre></div></div></div><div class=\"sk-parallel\"><div class=\"sk-parallel-item\"><div class=\"sk-item\"><div class=\"sk-label-container\"><div class=\"sk-label sk-toggleable\"><input class=\"sk-toggleable__control sk-hidden--visually\" id=\"sk-estimator-id-2\" type=\"checkbox\" ><label for=\"sk-estimator-id-2\" class=\"sk-toggleable__label sk-toggleable__label-arrow\">estimator: XGBClassifier</label><div class=\"sk-toggleable__content\"><pre>XGBClassifier(base_score=None, booster=None, callbacks=None,\n",
       "              colsample_bylevel=None, colsample_bynode=None,\n",
       "              colsample_bytree=None, early_stopping_rounds=None,\n",
       "              enable_categorical=False, eval_metric=None, feature_types=None,\n",
       "              gamma=None, gpu_id=None, grow_policy=None, importance_type=None,\n",
       "              interaction_constraints=None, learning_rate=None, max_bin=None,\n",
       "              max_cat_threshold=None, max_cat_to_onehot=None,\n",
       "              max_delta_step=None, max_depth=None, max_leaves=None,\n",
       "              min_child_weight=None, missing=nan, monotone_constraints=None,\n",
       "              n_estimators=100, n_jobs=None, num_parallel_tree=None,\n",
       "              predictor=None, random_state=42, ...)</pre></div></div></div><div class=\"sk-serial\"><div class=\"sk-item\"><div class=\"sk-estimator sk-toggleable\"><input class=\"sk-toggleable__control sk-hidden--visually\" id=\"sk-estimator-id-3\" type=\"checkbox\" ><label for=\"sk-estimator-id-3\" class=\"sk-toggleable__label sk-toggleable__label-arrow\">XGBClassifier</label><div class=\"sk-toggleable__content\"><pre>XGBClassifier(base_score=None, booster=None, callbacks=None,\n",
       "              colsample_bylevel=None, colsample_bynode=None,\n",
       "              colsample_bytree=None, early_stopping_rounds=None,\n",
       "              enable_categorical=False, eval_metric=None, feature_types=None,\n",
       "              gamma=None, gpu_id=None, grow_policy=None, importance_type=None,\n",
       "              interaction_constraints=None, learning_rate=None, max_bin=None,\n",
       "              max_cat_threshold=None, max_cat_to_onehot=None,\n",
       "              max_delta_step=None, max_depth=None, max_leaves=None,\n",
       "              min_child_weight=None, missing=nan, monotone_constraints=None,\n",
       "              n_estimators=100, n_jobs=None, num_parallel_tree=None,\n",
       "              predictor=None, random_state=42, ...)</pre></div></div></div></div></div></div></div></div></div></div>"
      ],
      "text/plain": [
       "GridSearchCV(cv=5,\n",
       "             estimator=XGBClassifier(base_score=None, booster=None,\n",
       "                                     callbacks=None, colsample_bylevel=None,\n",
       "                                     colsample_bynode=None,\n",
       "                                     colsample_bytree=None,\n",
       "                                     early_stopping_rounds=None,\n",
       "                                     enable_categorical=False, eval_metric=None,\n",
       "                                     feature_types=None, gamma=None,\n",
       "                                     gpu_id=None, grow_policy=None,\n",
       "                                     importance_type=None,\n",
       "                                     interaction_constraints=None,\n",
       "                                     learning_rate=None,...\n",
       "             param_grid={'alpha': [0], 'gamma': [0],\n",
       "                         'lambda': [0.275, 0.28500000000000003,\n",
       "                                    0.29500000000000004, 0.305, 0.315, 0.325],\n",
       "                         'learning_rate': array([1.62554876, 1.62648477, 1.62742132, 1.6283584 , 1.62929603,\n",
       "       1.6302342 , 1.63117291, 1.63211216, 1.63305195]),\n",
       "                         'max_depth': [2],\n",
       "                         'min_child_weight': [3.5, 3.625, 3.75, 3.875, 4.0,\n",
       "                                              4.125, 4.25, 4.375, 4.5],\n",
       "                         'n_estimators': array([53, 54, 55, 56, 57])})"
      ]
     },
     "execution_count": 9,
     "metadata": {},
     "output_type": "execute_result"
    }
   ],
   "source": [
    "xgbc = XGBClassifier(random_state=seed)\n",
    "\n",
    "# commenting this out because it was giving us errors\n",
    "# as the data is not a categorical dtype\n",
    "\n",
    "# specifying the k-fold so that we can control the randomness\n",
    "# statified_k_fold=StratifiedKFold(n_splits=5,\n",
    "#                                  random_state=random_state,\n",
    "#                                  shuffle=True)\n",
    "\n",
    "parameters = {\n",
    "    'alpha': [0], #(list(np.linspace(0,1,3))),\n",
    "    'gamma': [0], #(list(np.linspace(0,1,3))),\n",
    "    'lambda': (list(np.linspace(0.275,0.325,6))),\n",
    "    'learning_rate': (np.logspace(0.211,0.213,9)),\n",
    "    'max_depth': [2], #(list(np.arange(1,4))),\n",
    "    'min_child_weight': (list(np.linspace(3.5,4.5,9))),\n",
    "    'n_estimators': (np.arange(53,58))\n",
    "}\n",
    "\n",
    "# same here - I wanted to control the kfolds\n",
    "# but it was giving me trouble\n",
    "\n",
    "# Convert categorical features to one-hot encoded features\n",
    "# X_train_encoded = pd.get_dummies(X_train)\n",
    "\n",
    "grid_search = GridSearchCV(xgbc, \n",
    "                           parameters, \n",
    "                           cv = 5,#statified_k_fold, \n",
    "                           n_jobs = -1, \n",
    "                           verbose = 0)\n",
    "\n",
    "# grid_search.fit(X_train_encoded, y_train)\n",
    "grid_search.fit(X_train, y_train)"
   ]
  },
  {
   "cell_type": "code",
   "execution_count": 10,
   "id": "56f86f36-ae6e-41e8-b91f-a20fc5176612",
   "metadata": {
    "tags": []
   },
   "outputs": [
    {
     "name": "stdout",
     "output_type": "stream",
     "text": [
      "best score: 0.68\n",
      "best parameters: {'alpha': 0, 'gamma': 0, 'lambda': 0.275, 'learning_rate': 1.6330519478943344, 'max_depth': 2, 'min_child_weight': 3.875, 'n_estimators': 56}\n"
     ]
    }
   ],
   "source": [
    "# best score\n",
    "print(f\"best score: {grid_search.best_score_}\")\n",
    "\n",
    "# best parameters \n",
    "print(f\"best parameters: {grid_search.best_params_}\")"
   ]
  },
  {
   "cell_type": "markdown",
   "id": "5c4da173-94c4-4d7a-94af-4f12b2abfc70",
   "metadata": {},
   "source": [
    "List of other best scores from previous `random_seeds` and iterations below:"
   ]
  },
  {
   "cell_type": "markdown",
   "id": "f29555a6-69cc-4890-99ba-cd070dc82e0c",
   "metadata": {},
   "source": [
    "```python\n",
    "best score: 0.64\n",
    "best parameters: {'alpha': 0, 'gamma': 0, 'lambda': 0.275, 'learning_rate': 1.625548755750484, 'max_depth': 2, 'min_child_weight': 4.375, 'n_estimators': 53}\n",
    "```"
   ]
  },
  {
   "cell_type": "markdown",
   "id": "5856bf4f-5a8f-499e-a48e-528acdbdc0aa",
   "metadata": {},
   "source": [
    "```python\n",
    "best score: 0.6900000000000001\n",
    "best parameters: {'alpha': 0, 'gamma': 0, 'lambda': 0.3, 'learning_rate': 1.6292960326397223, 'max_depth': 2, 'min_child_weight': 4.0, 'n_estimators': 55}\n",
    "```"
   ]
  },
  {
   "cell_type": "markdown",
   "id": "f0f9ab38-7f99-4905-9476-151faa640c2e",
   "metadata": {},
   "source": [
    "```python\n",
    "best score: 0.68\n",
    "best parameters: {'alpha': 0, 'gamma': 0, 'lambda': 0.275, 'learning_rate': 1.6330519478943344, 'max_depth': 2, 'min_child_weight': 3.875, 'n_estimators': 56}\n",
    "```"
   ]
  },
  {
   "cell_type": "markdown",
   "id": "e991f880-efc2-40a4-9fc1-64001640c07c",
   "metadata": {},
   "source": [
    "Let's now confirm results with running the best parameters again. I will use a pipeline as I want to ensure that I can include a `random_state` and make sure that the model understands that we're dealing with categorical data."
   ]
  },
  {
   "cell_type": "code",
   "execution_count": 11,
   "id": "319f2ff0-81d8-4ef6-a49b-e6fb47b12aba",
   "metadata": {},
   "outputs": [],
   "source": [
    "from sklearn.pipeline import Pipeline\n",
    "\n",
    "# X columns are categorical so they need to be OHE'd\n",
    "from sklearn.preprocessing import OneHotEncoder\n",
    "from sklearn.compose import ColumnTransformer\n",
    "from sklearn.model_selection import StratifiedKFold"
   ]
  },
  {
   "cell_type": "code",
   "execution_count": 12,
   "id": "3c31458f-f69b-467d-bb7d-5ee701fbff5a",
   "metadata": {},
   "outputs": [
    {
     "name": "stdout",
     "output_type": "stream",
     "text": [
      "Cross-validated accuracy: 60.31% ± 8.41%\n"
     ]
    }
   ],
   "source": [
    "# setup classifier\n",
    "model=XGBClassifier(alpha=0,\n",
    "                    gamma=0,\n",
    "                    reg_lambda=0.3,\n",
    "                    learning_rate=1.6292960326397223,\n",
    "                    max_depth=2,\n",
    "                    min_child_weight=4,\n",
    "                    n_estimators=55,\n",
    "                    random_state=seed)\n",
    "\n",
    "# preprocessor to handle categorical features, make them OHE'd\n",
    "# it will ignore any categories that are not found in X_test\n",
    "preprocessor = ColumnTransformer(\n",
    "    transformers=[\n",
    "        ('cat', OneHotEncoder(handle_unknown='ignore'), [0, 1])\n",
    "    ])\n",
    "\n",
    "# create pipeline\n",
    "pipeline=Pipeline([\n",
    "    ('preprocessor',preprocessor),\n",
    "    ('xgb',model)\n",
    "])\n",
    "\n",
    "# allow for five cross-validation folds\n",
    "stratified_k_fold=StratifiedKFold(n_splits=5,\n",
    "                                 random_state=seed,\n",
    "                                 shuffle=True)\n",
    "\n",
    "# perform cross-validation and print accuracy\n",
    "scores=cross_val_score(pipeline, \n",
    "                       X, \n",
    "                       y, \n",
    "                       cv=stratified_k_fold, \n",
    "                       scoring='accuracy')\n",
    "\n",
    "print('Cross-validated accuracy: '\\\n",
    "f'{scores.mean()*100:.2f}% ± {scores.std()*100:.2f}%')"
   ]
  },
  {
   "cell_type": "markdown",
   "id": "53cf566b-105f-4888-a164-70abf19dc80f",
   "metadata": {},
   "source": [
    "I'm satisfied with that. It's close enough. It's great to see that we were able to increase the accuracy from 46% to 60%. It's still not a great accuracy level, but much better."
   ]
  },
  {
   "cell_type": "markdown",
   "id": "8e2b7292-1c7b-4c49-9db7-b9f49f7e8fd2",
   "metadata": {},
   "source": [
    "### `SGDClassifier`"
   ]
  },
  {
   "cell_type": "markdown",
   "id": "635e8e35-4aee-4d55-b1fa-84eb93296249",
   "metadata": {},
   "source": [
    "Per the results from the `lazypredict` [here](#lazy_predict_results), I will switch to the `SGDClassifier`. I will also employ a more in-depth pipeline to include other steps, like `RFE`, for feature elimination. This gets at the stretch goal of the company who gave us the dataset."
   ]
  },
  {
   "cell_type": "markdown",
   "id": "513d085e-180f-40bb-a0c2-18179521e24b",
   "metadata": {},
   "source": [
    "We should `get_dummies` on our dataset and run a correlation matrix because I'm curious. With the dataset transformed to be OneHotEncoded, rather than staying categorical, would different correlations jump out at us? Let's see."
   ]
  },
  {
   "cell_type": "markdown",
   "id": "269b2dad-703d-4eb6-85c8-ddc9ac458506",
   "metadata": {},
   "source": [
    "#### `get_dummies`"
   ]
  },
  {
   "cell_type": "code",
   "execution_count": 46,
   "id": "884b9f95-1993-4517-befe-96a21b419633",
   "metadata": {},
   "outputs": [
    {
     "name": "stdout",
     "output_type": "stream",
     "text": [
      "X shape: (126, 6)\n",
      "y shape: (126,)\n"
     ]
    }
   ],
   "source": [
    "# read in and setup dataset again\n",
    "\n",
    "df=pd.read_csv('../data/ACME-HappinessSurvey2020.csv')\n",
    "\n",
    "# renaming columns to preserve order\n",
    "# and make them more intelligible\n",
    "df.rename(columns={'Y':'y',\n",
    "                   'X1':'a_time',\n",
    "                   'X2':'b_contents',\n",
    "                   'X3':'c_complete',\n",
    "                   'X4':'d_price',\n",
    "                   'X5':'e_courier',\n",
    "                   'X6':'f_app'},inplace=True)\n",
    "\n",
    "X=df[[col for col in df.columns if col != 'y']].copy()\n",
    "y=df['y'].copy().astype('int8') # because it's a binary\n",
    "                                # let's use less memory\n",
    "\n",
    "print(\"X shape:\",X.shape)\n",
    "print(\"y shape:\",y.shape)"
   ]
  },
  {
   "cell_type": "code",
   "execution_count": 14,
   "id": "d360c1c2-cb6b-44eb-aae3-8f802635596c",
   "metadata": {},
   "outputs": [
    {
     "data": {
      "text/plain": [
       "a_time        int64\n",
       "b_contents    int64\n",
       "c_complete    int64\n",
       "d_price       int64\n",
       "e_courier     int64\n",
       "f_app         int64\n",
       "dtype: object"
      ]
     },
     "execution_count": 14,
     "metadata": {},
     "output_type": "execute_result"
    }
   ],
   "source": [
    "X.dtypes"
   ]
  },
  {
   "cell_type": "markdown",
   "id": "25f6321a-2357-4a5d-b42e-1d1d8fd13844",
   "metadata": {},
   "source": [
    "`pd.get_dummies` requires the data be categorical:"
   ]
  },
  {
   "cell_type": "code",
   "execution_count": 47,
   "id": "1e0789f2-bfc0-4353-a2c3-c8fce2c48506",
   "metadata": {},
   "outputs": [
    {
     "data": {
      "text/plain": [
       "a_time        category\n",
       "b_contents    category\n",
       "c_complete    category\n",
       "d_price       category\n",
       "e_courier     category\n",
       "f_app         category\n",
       "dtype: object"
      ]
     },
     "execution_count": 47,
     "metadata": {},
     "output_type": "execute_result"
    }
   ],
   "source": [
    "X_cat=X.copy()\n",
    "\n",
    "for col in X_cat.columns:\n",
    "    X_cat[col] = X_cat[col].astype('category')\n",
    "    \n",
    "X_cat.dtypes"
   ]
  },
  {
   "cell_type": "code",
   "execution_count": 49,
   "id": "c3abffa2-0e67-442c-82a2-f9fcabe3ac9b",
   "metadata": {},
   "outputs": [],
   "source": [
    "X_ohe=pd.get_dummies(data=X_cat,\n",
    "                     prefix=list(X_cat.columns),\n",
    "                     drop_first=False) # I want to see all data"
   ]
  },
  {
   "cell_type": "code",
   "execution_count": 51,
   "id": "70a1a838-f46a-41cb-bdc4-afdcad453013",
   "metadata": {},
   "outputs": [
    {
     "data": {
      "image/png": "[encoded data removed]",
      "text/plain": [
       "<Figure size 1000x800 with 2 Axes>"
      ]
     },
     "metadata": {},
     "output_type": "display_data"
    }
   ],
   "source": [
    "from matplotlib import pyplot as plt\n",
    "import seaborn as sns\n",
    "\n",
    "# Compute the correlation matrix\n",
    "corr = X_ohe.corr()\n",
    "\n",
    "# Generate a mask for the upper triangle\n",
    "mask = np.triu(np.ones_like(corr, dtype=bool))\n",
    "\n",
    "# Set up the matplotlib figure\n",
    "f,ax = plt.subplots(figsize=(10, 8))\n",
    "\n",
    "# Generate a custom diverging colormap\n",
    "# cmap = sns.diverging_palette(230, 20, as_cmap=True)\n",
    "\n",
    "# Draw the heatmap with the mask and correct aspect ratio\n",
    "sns.heatmap(corr, mask=mask, cmap='coolwarm', vmax=.3, center=0,\n",
    "            square=True, linewidths=.5, annot=True,\n",
    "            cbar_kws={\"shrink\": .5},\n",
    "            annot_kws={\"size\":5})\n",
    "plt.title(\"Correlation Matrix for OHE'd Data\\nHigher absolute value indicates stronger correlation (positive [red] or negative [blue])\")\n",
    "plt.tight_layout()\n",
    "\n",
    "# save fig\n",
    "plt.savefig('../figs/1_corrmatrix_ohe.pdf')\n",
    "plt.savefig('../figs/1_corrmatrix_ohe.png')"
   ]
  },
  {
   "cell_type": "markdown",
   "id": "be663e3e-51ff-40e6-a5e9-47c16445f37e",
   "metadata": {},
   "source": [
    "Nothing much to learn here except that if a specific category scored high, other categories likely scored high. This is also true if categories scored low. Some categories are missing as there is no data recorded for them. For example, no respondent scored `time` as a `2`.\n",
    "\n",
    "I'm curious why, for example, people that scored the `app` as `4` were not likely to score the `time` as `5`. This may be explained later in our modeling and statistical analysis."
   ]
  },
  {
   "cell_type": "markdown",
   "id": "761872e1-587b-4722-a7e5-04eeda730a47",
   "metadata": {},
   "source": [
    "#### `train_test_split` on the OHE'd dataset"
   ]
  },
  {
   "cell_type": "code",
   "execution_count": 75,
   "id": "418be75a-3c9a-48f6-bf7c-d813bd6fe6f9",
   "metadata": {},
   "outputs": [],
   "source": [
    "X_ohe=pd.get_dummies(data=X_cat,\n",
    "                     prefix=list(X_cat.columns),\n",
    "                     drop_first=False) # I think we need to \n",
    "                                       # see all survey responses\n",
    "                                       # that are in dataset"
   ]
  },
  {
   "cell_type": "code",
   "execution_count": 76,
   "id": "bd601bb2-5f99-49f0-9f29-7824e2135a4b",
   "metadata": {},
   "outputs": [],
   "source": [
    "# train/test split\n",
    "X_train_ohe, \\\n",
    "X_test_ohe, \\\n",
    "y_train_ohe, \\\n",
    "y_test_ohe = train_test_split(X_ohe, \n",
    "                          y, \n",
    "                          test_size=0.2, \n",
    "                          stratify=y,\n",
    "                          random_state=seed)"
   ]
  },
  {
   "cell_type": "code",
   "execution_count": 77,
   "id": "8fb3bf61-67e1-441f-bfa5-80816ac510f9",
   "metadata": {},
   "outputs": [
    {
     "name": "stdout",
     "output_type": "stream",
     "text": [
      "\n",
      "Shapes of splits:\n",
      "X_train: (100, 29)\n",
      "X_test:  (26, 29)\n",
      "y_train: (100,)\n",
      "y_test:  (26,)\n",
      "\n"
     ]
    }
   ],
   "source": [
    "# confirm that the split occurred\n",
    "print(f'''\n",
    "Shapes of splits:\n",
    "X_train: {X_train.shape}\n",
    "X_test:  {X_test.shape}\n",
    "y_train: {y_train.shape}\n",
    "y_test:  {y_test.shape}\n",
    "''')"
   ]
  },
  {
   "cell_type": "code",
   "execution_count": 79,
   "id": "d9bb61c6-2db9-4025-a526-42d31efb1360",
   "metadata": {},
   "outputs": [
    {
     "data": {
      "text/html": [
       "<div>\n",
       "<style scoped>\n",
       "    .dataframe tbody tr th:only-of-type {\n",
       "        vertical-align: middle;\n",
       "    }\n",
       "\n",
       "    .dataframe tbody tr th {\n",
       "        vertical-align: top;\n",
       "    }\n",
       "\n",
       "    .dataframe thead th {\n",
       "        text-align: right;\n",
       "    }\n",
       "</style>\n",
       "<table border=\"1\" class=\"dataframe\">\n",
       "  <thead>\n",
       "    <tr style=\"text-align: right;\">\n",
       "      <th></th>\n",
       "      <th>a_time_1</th>\n",
       "      <th>a_time_3</th>\n",
       "      <th>a_time_4</th>\n",
       "      <th>a_time_5</th>\n",
       "      <th>b_contents_1</th>\n",
       "      <th>b_contents_2</th>\n",
       "      <th>b_contents_3</th>\n",
       "      <th>b_contents_4</th>\n",
       "      <th>b_contents_5</th>\n",
       "      <th>c_complete_1</th>\n",
       "      <th>...</th>\n",
       "      <th>e_courier_1</th>\n",
       "      <th>e_courier_2</th>\n",
       "      <th>e_courier_3</th>\n",
       "      <th>e_courier_4</th>\n",
       "      <th>e_courier_5</th>\n",
       "      <th>f_app_1</th>\n",
       "      <th>f_app_2</th>\n",
       "      <th>f_app_3</th>\n",
       "      <th>f_app_4</th>\n",
       "      <th>f_app_5</th>\n",
       "    </tr>\n",
       "  </thead>\n",
       "  <tbody>\n",
       "    <tr>\n",
       "      <th>48</th>\n",
       "      <td>0</td>\n",
       "      <td>0</td>\n",
       "      <td>0</td>\n",
       "      <td>1</td>\n",
       "      <td>0</td>\n",
       "      <td>1</td>\n",
       "      <td>0</td>\n",
       "      <td>0</td>\n",
       "      <td>0</td>\n",
       "      <td>0</td>\n",
       "      <td>...</td>\n",
       "      <td>0</td>\n",
       "      <td>0</td>\n",
       "      <td>0</td>\n",
       "      <td>0</td>\n",
       "      <td>1</td>\n",
       "      <td>0</td>\n",
       "      <td>0</td>\n",
       "      <td>1</td>\n",
       "      <td>0</td>\n",
       "      <td>0</td>\n",
       "    </tr>\n",
       "    <tr>\n",
       "      <th>81</th>\n",
       "      <td>0</td>\n",
       "      <td>1</td>\n",
       "      <td>0</td>\n",
       "      <td>0</td>\n",
       "      <td>0</td>\n",
       "      <td>0</td>\n",
       "      <td>1</td>\n",
       "      <td>0</td>\n",
       "      <td>0</td>\n",
       "      <td>0</td>\n",
       "      <td>...</td>\n",
       "      <td>0</td>\n",
       "      <td>0</td>\n",
       "      <td>1</td>\n",
       "      <td>0</td>\n",
       "      <td>0</td>\n",
       "      <td>0</td>\n",
       "      <td>0</td>\n",
       "      <td>0</td>\n",
       "      <td>1</td>\n",
       "      <td>0</td>\n",
       "    </tr>\n",
       "    <tr>\n",
       "      <th>97</th>\n",
       "      <td>0</td>\n",
       "      <td>0</td>\n",
       "      <td>0</td>\n",
       "      <td>1</td>\n",
       "      <td>0</td>\n",
       "      <td>0</td>\n",
       "      <td>0</td>\n",
       "      <td>1</td>\n",
       "      <td>0</td>\n",
       "      <td>0</td>\n",
       "      <td>...</td>\n",
       "      <td>0</td>\n",
       "      <td>0</td>\n",
       "      <td>0</td>\n",
       "      <td>0</td>\n",
       "      <td>1</td>\n",
       "      <td>0</td>\n",
       "      <td>0</td>\n",
       "      <td>0</td>\n",
       "      <td>1</td>\n",
       "      <td>0</td>\n",
       "    </tr>\n",
       "  </tbody>\n",
       "</table>\n",
       "<p>3 rows × 29 columns</p>\n",
       "</div>"
      ],
      "text/plain": [
       "    a_time_1  a_time_3  a_time_4  a_time_5  b_contents_1  b_contents_2  \\\n",
       "48         0         0         0         1             0             1   \n",
       "81         0         1         0         0             0             0   \n",
       "97         0         0         0         1             0             0   \n",
       "\n",
       "    b_contents_3  b_contents_4  b_contents_5  c_complete_1  ...  e_courier_1  \\\n",
       "48             0             0             0             0  ...            0   \n",
       "81             1             0             0             0  ...            0   \n",
       "97             0             1             0             0  ...            0   \n",
       "\n",
       "    e_courier_2  e_courier_3  e_courier_4  e_courier_5  f_app_1  f_app_2  \\\n",
       "48            0            0            0            1        0        0   \n",
       "81            0            1            0            0        0        0   \n",
       "97            0            0            0            1        0        0   \n",
       "\n",
       "    f_app_3  f_app_4  f_app_5  \n",
       "48        1        0        0  \n",
       "81        0        1        0  \n",
       "97        0        1        0  \n",
       "\n",
       "[3 rows x 29 columns]"
      ]
     },
     "execution_count": 79,
     "metadata": {},
     "output_type": "execute_result"
    }
   ],
   "source": [
    "X_train_ohe.sample(3)"
   ]
  },
  {
   "cell_type": "markdown",
   "id": "6ebcfeee-a408-4eee-9c0c-e4ac1b6a3110",
   "metadata": {},
   "source": [
    "Great, now we're ready for a new pipeline with `SGDClassifier`."
   ]
  },
  {
   "cell_type": "markdown",
   "id": "7ef467a6-b1ee-4c96-919e-210ae1284d24",
   "metadata": {},
   "source": [
    "#### New Pipeline with `SGDClassifier` and OneHotEncoded X data"
   ]
  },
  {
   "cell_type": "markdown",
   "id": "299773a1-cc52-43c0-a0e2-a3f892202111",
   "metadata": {},
   "source": [
    "##### More notes on the Pipeline choices:"
   ]
  },
  {
   "cell_type": "markdown",
   "id": "9880d767-12c4-4e2c-99ec-a61f5add7a5e",
   "metadata": {},
   "source": [
    "* `RFE` is great for feature selection, as it can help you understand which features are most important. RFE requires a base estimator to assign weights to features. We can use a logistic regression model.\n",
    "* We're using the `SGDClassifier` as the final step in our pipeline as it scored the top accuracy in our `lazypredict` run.\n",
    "* We'll set up a grid search so that we can explore the hyperparameter space to find the best hyperparameters for our dataset."
   ]
  },
  {
   "cell_type": "code",
   "execution_count": 141,
   "id": "10aacc66-0bd6-4c39-bc69-e23cd6416bad",
   "metadata": {},
   "outputs": [],
   "source": [
    "from sklearn.feature_selection import RFE\n",
    "from sklearn.linear_model import LogisticRegression\n",
    "from sklearn.linear_model import SGDClassifier\n",
    "from sklearn.pipeline import make_pipeline\n",
    "from sklearn.ensemble import RandomForestClassifier"
   ]
  },
  {
   "cell_type": "code",
   "execution_count": 151,
   "id": "c308d60a-683c-40c5-ae65-3f32d2984e98",
   "metadata": {},
   "outputs": [
    {
     "name": "stdout",
     "output_type": "stream",
     "text": [
      "Fitting 5 folds for each of 2160 candidates, totalling 10800 fits\n"
     ]
    },
    {
     "data": {
      "text/html": [
       "<style>#sk-container-id-15 {color: black;background-color: white;}#sk-container-id-15 pre{padding: 0;}#sk-container-id-15 div.sk-toggleable {background-color: white;}#sk-container-id-15 label.sk-toggleable__label {cursor: pointer;display: block;width: 100%;margin-bottom: 0;padding: 0.3em;box-sizing: border-box;text-align: center;}#sk-container-id-15 label.sk-toggleable__label-arrow:before {content: \"▸\";float: left;margin-right: 0.25em;color: #696969;}#sk-container-id-15 label.sk-toggleable__label-arrow:hover:before {color: black;}#sk-container-id-15 div.sk-estimator:hover label.sk-toggleable__label-arrow:before {color: black;}#sk-container-id-15 div.sk-toggleable__content {max-height: 0;max-width: 0;overflow: hidden;text-align: left;background-color: #f0f8ff;}#sk-container-id-15 div.sk-toggleable__content pre {margin: 0.2em;color: black;border-radius: 0.25em;background-color: #f0f8ff;}#sk-container-id-15 input.sk-toggleable__control:checked~div.sk-toggleable__content {max-height: 200px;max-width: 100%;overflow: auto;}#sk-container-id-15 input.sk-toggleable__control:checked~label.sk-toggleable__label-arrow:before {content: \"▾\";}#sk-container-id-15 div.sk-estimator input.sk-toggleable__control:checked~label.sk-toggleable__label {background-color: #d4ebff;}#sk-container-id-15 div.sk-label input.sk-toggleable__control:checked~label.sk-toggleable__label {background-color: #d4ebff;}#sk-container-id-15 input.sk-hidden--visually {border: 0;clip: rect(1px 1px 1px 1px);clip: rect(1px, 1px, 1px, 1px);height: 1px;margin: -1px;overflow: hidden;padding: 0;position: absolute;width: 1px;}#sk-container-id-15 div.sk-estimator {font-family: monospace;background-color: #f0f8ff;border: 1px dotted black;border-radius: 0.25em;box-sizing: border-box;margin-bottom: 0.5em;}#sk-container-id-15 div.sk-estimator:hover {background-color: #d4ebff;}#sk-container-id-15 div.sk-parallel-item::after {content: \"\";width: 100%;border-bottom: 1px solid gray;flex-grow: 1;}#sk-container-id-15 div.sk-label:hover label.sk-toggleable__label {background-color: #d4ebff;}#sk-container-id-15 div.sk-serial::before {content: \"\";position: absolute;border-left: 1px solid gray;box-sizing: border-box;top: 0;bottom: 0;left: 50%;z-index: 0;}#sk-container-id-15 div.sk-serial {display: flex;flex-direction: column;align-items: center;background-color: white;padding-right: 0.2em;padding-left: 0.2em;position: relative;}#sk-container-id-15 div.sk-item {position: relative;z-index: 1;}#sk-container-id-15 div.sk-parallel {display: flex;align-items: stretch;justify-content: center;background-color: white;position: relative;}#sk-container-id-15 div.sk-item::before, #sk-container-id-15 div.sk-parallel-item::before {content: \"\";position: absolute;border-left: 1px solid gray;box-sizing: border-box;top: 0;bottom: 0;left: 50%;z-index: -1;}#sk-container-id-15 div.sk-parallel-item {display: flex;flex-direction: column;z-index: 1;position: relative;background-color: white;}#sk-container-id-15 div.sk-parallel-item:first-child::after {align-self: flex-end;width: 50%;}#sk-container-id-15 div.sk-parallel-item:last-child::after {align-self: flex-start;width: 50%;}#sk-container-id-15 div.sk-parallel-item:only-child::after {width: 0;}#sk-container-id-15 div.sk-dashed-wrapped {border: 1px dashed gray;margin: 0 0.4em 0.5em 0.4em;box-sizing: border-box;padding-bottom: 0.4em;background-color: white;}#sk-container-id-15 div.sk-label label {font-family: monospace;font-weight: bold;display: inline-block;line-height: 1.2em;}#sk-container-id-15 div.sk-label-container {text-align: center;}#sk-container-id-15 div.sk-container {/* jupyter's `normalize.less` sets `[hidden] { display: none; }` but bootstrap.min.css set `[hidden] { display: none !important; }` so we also need the `!important` here to be able to override the default hidden behavior on the sphinx rendered scikit-learn.org. See: https://github.com/scikit-learn/scikit-learn/issues/21755 */display: inline-block !important;position: relative;}#sk-container-id-15 div.sk-text-repr-fallback {display: none;}</style><div id=\"sk-container-id-15\" class=\"sk-top-container\"><div class=\"sk-text-repr-fallback\"><pre>GridSearchCV(cv=StratifiedKFold(n_splits=5, random_state=73451043, shuffle=True),\n",
       "             estimator=Pipeline(steps=[(&#x27;rfe&#x27;,\n",
       "                                        RFE(estimator=LogisticRegression(random_state=84353648))),\n",
       "                                       (&#x27;sgd&#x27;,\n",
       "                                        SGDClassifier(random_state=28620631))]),\n",
       "             n_jobs=-1,\n",
       "             param_grid=[{&#x27;rfe__estimator&#x27;: [LogisticRegression(random_state=11782624)],\n",
       "                          &#x27;rfe__importance_getter&#x27;: [&#x27;auto&#x27;],\n",
       "                          &#x27;rfe__n_feature...\n",
       "                         {&#x27;rfe__estimator&#x27;: [RandomForestClassifier(random_state=92916440)],\n",
       "                          &#x27;rfe__importance_getter&#x27;: [&#x27;auto&#x27;],\n",
       "                          &#x27;rfe__n_features_to_select&#x27;: [1, 2, 3, 4, 5, 6],\n",
       "                          &#x27;sgd__alpha&#x27;: [1e-05, 0.0001, 0.001, 0.01, 0.1],\n",
       "                          &#x27;sgd__learning_rate&#x27;: [&#x27;optimal&#x27;],\n",
       "                          &#x27;sgd__loss&#x27;: [&#x27;hinge&#x27;, &#x27;log_loss&#x27;, &#x27;modified_huber&#x27;],\n",
       "                          &#x27;sgd__max_iter&#x27;: [100, 1000, 10000, 100000],\n",
       "                          &#x27;sgd__penalty&#x27;: [&#x27;l2&#x27;, &#x27;l1&#x27;, &#x27;elasticnet&#x27;]}],\n",
       "             verbose=1)</pre><b>In a Jupyter environment, please rerun this cell to show the HTML representation or trust the notebook. <br />On GitHub, the HTML representation is unable to render, please try loading this page with nbviewer.org.</b></div><div class=\"sk-container\" hidden><div class=\"sk-item sk-dashed-wrapped\"><div class=\"sk-label-container\"><div class=\"sk-label sk-toggleable\"><input class=\"sk-toggleable__control sk-hidden--visually\" id=\"sk-estimator-id-82\" type=\"checkbox\" ><label for=\"sk-estimator-id-82\" class=\"sk-toggleable__label sk-toggleable__label-arrow\">GridSearchCV</label><div class=\"sk-toggleable__content\"><pre>GridSearchCV(cv=StratifiedKFold(n_splits=5, random_state=73451043, shuffle=True),\n",
       "             estimator=Pipeline(steps=[(&#x27;rfe&#x27;,\n",
       "                                        RFE(estimator=LogisticRegression(random_state=84353648))),\n",
       "                                       (&#x27;sgd&#x27;,\n",
       "                                        SGDClassifier(random_state=28620631))]),\n",
       "             n_jobs=-1,\n",
       "             param_grid=[{&#x27;rfe__estimator&#x27;: [LogisticRegression(random_state=11782624)],\n",
       "                          &#x27;rfe__importance_getter&#x27;: [&#x27;auto&#x27;],\n",
       "                          &#x27;rfe__n_feature...\n",
       "                         {&#x27;rfe__estimator&#x27;: [RandomForestClassifier(random_state=92916440)],\n",
       "                          &#x27;rfe__importance_getter&#x27;: [&#x27;auto&#x27;],\n",
       "                          &#x27;rfe__n_features_to_select&#x27;: [1, 2, 3, 4, 5, 6],\n",
       "                          &#x27;sgd__alpha&#x27;: [1e-05, 0.0001, 0.001, 0.01, 0.1],\n",
       "                          &#x27;sgd__learning_rate&#x27;: [&#x27;optimal&#x27;],\n",
       "                          &#x27;sgd__loss&#x27;: [&#x27;hinge&#x27;, &#x27;log_loss&#x27;, &#x27;modified_huber&#x27;],\n",
       "                          &#x27;sgd__max_iter&#x27;: [100, 1000, 10000, 100000],\n",
       "                          &#x27;sgd__penalty&#x27;: [&#x27;l2&#x27;, &#x27;l1&#x27;, &#x27;elasticnet&#x27;]}],\n",
       "             verbose=1)</pre></div></div></div><div class=\"sk-parallel\"><div class=\"sk-parallel-item\"><div class=\"sk-item\"><div class=\"sk-label-container\"><div class=\"sk-label sk-toggleable\"><input class=\"sk-toggleable__control sk-hidden--visually\" id=\"sk-estimator-id-83\" type=\"checkbox\" ><label for=\"sk-estimator-id-83\" class=\"sk-toggleable__label sk-toggleable__label-arrow\">estimator: Pipeline</label><div class=\"sk-toggleable__content\"><pre>Pipeline(steps=[(&#x27;rfe&#x27;,\n",
       "                 RFE(estimator=LogisticRegression(random_state=84353648))),\n",
       "                (&#x27;sgd&#x27;, SGDClassifier(random_state=28620631))])</pre></div></div></div><div class=\"sk-serial\"><div class=\"sk-item\"><div class=\"sk-serial\"><div class=\"sk-item sk-dashed-wrapped\"><div class=\"sk-label-container\"><div class=\"sk-label sk-toggleable\"><input class=\"sk-toggleable__control sk-hidden--visually\" id=\"sk-estimator-id-84\" type=\"checkbox\" ><label for=\"sk-estimator-id-84\" class=\"sk-toggleable__label sk-toggleable__label-arrow\">rfe: RFE</label><div class=\"sk-toggleable__content\"><pre>RFE(estimator=LogisticRegression(random_state=84353648))</pre></div></div></div><div class=\"sk-parallel\"><div class=\"sk-parallel-item\"><div class=\"sk-item\"><div class=\"sk-label-container\"><div class=\"sk-label sk-toggleable\"><input class=\"sk-toggleable__control sk-hidden--visually\" id=\"sk-estimator-id-85\" type=\"checkbox\" ><label for=\"sk-estimator-id-85\" class=\"sk-toggleable__label sk-toggleable__label-arrow\">estimator: LogisticRegression</label><div class=\"sk-toggleable__content\"><pre>LogisticRegression(random_state=84353648)</pre></div></div></div><div class=\"sk-serial\"><div class=\"sk-item\"><div class=\"sk-estimator sk-toggleable\"><input class=\"sk-toggleable__control sk-hidden--visually\" id=\"sk-estimator-id-86\" type=\"checkbox\" ><label for=\"sk-estimator-id-86\" class=\"sk-toggleable__label sk-toggleable__label-arrow\">LogisticRegression</label><div class=\"sk-toggleable__content\"><pre>LogisticRegression(random_state=84353648)</pre></div></div></div></div></div></div></div></div><div class=\"sk-item\"><div class=\"sk-estimator sk-toggleable\"><input class=\"sk-toggleable__control sk-hidden--visually\" id=\"sk-estimator-id-87\" type=\"checkbox\" ><label for=\"sk-estimator-id-87\" class=\"sk-toggleable__label sk-toggleable__label-arrow\">SGDClassifier</label><div class=\"sk-toggleable__content\"><pre>SGDClassifier(random_state=28620631)</pre></div></div></div></div></div></div></div></div></div></div></div></div>"
      ],
      "text/plain": [
       "GridSearchCV(cv=StratifiedKFold(n_splits=5, random_state=73451043, shuffle=True),\n",
       "             estimator=Pipeline(steps=[('rfe',\n",
       "                                        RFE(estimator=LogisticRegression(random_state=84353648))),\n",
       "                                       ('sgd',\n",
       "                                        SGDClassifier(random_state=28620631))]),\n",
       "             n_jobs=-1,\n",
       "             param_grid=[{'rfe__estimator': [LogisticRegression(random_state=11782624)],\n",
       "                          'rfe__importance_getter': ['auto'],\n",
       "                          'rfe__n_feature...\n",
       "                         {'rfe__estimator': [RandomForestClassifier(random_state=92916440)],\n",
       "                          'rfe__importance_getter': ['auto'],\n",
       "                          'rfe__n_features_to_select': [1, 2, 3, 4, 5, 6],\n",
       "                          'sgd__alpha': [1e-05, 0.0001, 0.001, 0.01, 0.1],\n",
       "                          'sgd__learning_rate': ['optimal'],\n",
       "                          'sgd__loss': ['hinge', 'log_loss', 'modified_huber'],\n",
       "                          'sgd__max_iter': [100, 1000, 10000, 100000],\n",
       "                          'sgd__penalty': ['l2', 'l1', 'elasticnet']}],\n",
       "             verbose=1)"
      ]
     },
     "execution_count": 151,
     "metadata": {},
     "output_type": "execute_result"
    }
   ],
   "source": [
    "# specifying the k-fold so that we can control the randomness\n",
    "\n",
    "stratified_k_fold=StratifiedKFold(n_splits=5,\n",
    "                                 random_state=seed,\n",
    "                                 shuffle=True)\n",
    "\n",
    "estimators=[\n",
    "    ('rfe',RFE(estimator=LogisticRegression(random_state=seed))),\n",
    "    ('sgd',SGDClassifier(random_state=seed))]\n",
    "\n",
    "pipeline = Pipeline(estimators)\n",
    "\n",
    "param_grid = [\n",
    "    {\n",
    "        'rfe__n_features_to_select': list(np.arange(1, 7)),\n",
    "        'rfe__importance_getter': ['feature_importances_','auto'],\n",
    "        'sgd__max_iter': list(np.logspace(2, 5, 4).astype('int')),\n",
    "        'sgd__alpha': list(np.logspace(-5, -1, 5)),\n",
    "        'sgd__loss': ['hinge', 'log_loss', 'modified_huber'],\n",
    "        'sgd__penalty': ['l2', 'l1', 'elasticnet'],\n",
    "        'sgd__learning_rate': ['optimal'],\n",
    "        'rfe__estimator': [LogisticRegression(random_state=seed)],\n",
    "        'rfe__importance_getter': ['auto']\n",
    "    },\n",
    "    {\n",
    "        'rfe__n_features_to_select': list(np.arange(1, 7)),\n",
    "        'sgd__max_iter': list(np.logspace(2, 5, 4).astype('int')),\n",
    "        'sgd__alpha': list(np.logspace(-5, -1, 5)),\n",
    "        'sgd__loss': ['hinge', 'log_loss', 'modified_huber'],\n",
    "        'sgd__penalty': ['l2', 'l1', 'elasticnet'],\n",
    "        'sgd__learning_rate': ['optimal'],\n",
    "        'rfe__estimator': [RandomForestClassifier(random_state=seed)],\n",
    "        'rfe__importance_getter': ['auto']\n",
    "    }\n",
    "]\n",
    "\n",
    "# perform grid search with cross-validation\n",
    "grid_search = GridSearchCV(pipeline,\n",
    "                           param_grid,\n",
    "                           cv=stratified_k_fold,\n",
    "                           verbose=1,\n",
    "                           n_jobs=-1)\n",
    "\n",
    "grid_search.fit(X_train_ohe, y_train_ohe)"
   ]
  },
  {
   "cell_type": "code",
   "execution_count": 148,
   "id": "0a361a0c-2c9e-4345-8478-aa83c26012c4",
   "metadata": {},
   "outputs": [
    {
     "name": "stdout",
     "output_type": "stream",
     "text": [
      "best score: 0.64\n",
      "best parameters: {'rfe__estimator': RandomForestClassifier(random_state=64185886), 'rfe__importance_getter': 'auto', 'rfe__n_features_to_select': 3, 'sgd__alpha': 1e-05, 'sgd__learning_rate': 'optimal', 'sgd__loss': 'hinge', 'sgd__max_iter': 100, 'sgd__penalty': 'l1'}\n"
     ]
    }
   ],
   "source": [
    "# best score\n",
    "print(f\"best score: {grid_search.best_score_}\")\n",
    "\n",
    "# best parameters \n",
    "print(f\"best parameters: {grid_search.best_params_}\")"
   ]
  },
  {
   "cell_type": "code",
   "execution_count": 149,
   "id": "aec54efb-22b0-474e-b301-97c74477ce46",
   "metadata": {},
   "outputs": [],
   "source": [
    "from sklearn.metrics import accuracy_score,precision_score,recall_score,f1_score"
   ]
  },
  {
   "cell_type": "code",
   "execution_count": 154,
   "id": "68ef9769-e680-4b04-b671-46b089ec8416",
   "metadata": {},
   "outputs": [
    {
     "name": "stdout",
     "output_type": "stream",
     "text": [
      "Test Accuracy: 0.6923076923076923\n",
      "Precision:     0.6363636363636364\n",
      "Recall:        1.0\n",
      "F1 Score:      0.7777777777777778\n"
     ]
    }
   ],
   "source": [
    "# Make predictions on the test set using the best model\n",
    "y_pred_ohe = grid_search.best_estimator_.predict(X_test_ohe)\n",
    "\n",
    "# Calculate and print the evaluation metrics\n",
    "metrics = {\n",
    "    'accuracy': accuracy_score(y_test_ohe, y_pred_ohe),\n",
    "    'precision': precision_score(y_test_ohe, y_pred_ohe),\n",
    "    'recall': recall_score(y_test_ohe, y_pred_ohe),\n",
    "    'f1': f1_score(y_test_ohe, y_pred_ohe)\n",
    "}\n",
    "\n",
    "print(\"Test Accuracy:\", metrics['accuracy'])\n",
    "print(\"Precision:    \", metrics['precision'])\n",
    "print(\"Recall:       \", metrics['recall'])\n",
    "print(\"F1 Score:     \", metrics['f1'])"
   ]
  },
  {
   "cell_type": "markdown",
   "id": "06feccc2-0bd8-447e-a111-1c79ef5cd9dd",
   "metadata": {},
   "source": [
    "A testing accuracy of almost 70%! Not bad, but still not more than 73%."
   ]
  },
  {
   "cell_type": "markdown",
   "id": "26e29103-42e8-404b-9318-1c84df88addc",
   "metadata": {},
   "source": [
    "Confirm that the accuracy percentage is based on `X_test` and not `X_train` - so if we run the cell below, we should get the same accuracy from the grid search:"
   ]
  },
  {
   "cell_type": "code",
   "execution_count": 238,
   "id": "406a92ca-a958-4e6f-ab0b-8a2174d86720",
   "metadata": {},
   "outputs": [
    {
     "name": "stdout",
     "output_type": "stream",
     "text": [
      "Test Accuracy: 0.64\n",
      "Precision:     0.6301369863013698\n",
      "Recall:        0.8363636363636363\n",
      "F1 Score:      0.71875\n"
     ]
    }
   ],
   "source": [
    "y_pred_ohe = grid_search.best_estimator_.predict(X_train_ohe)\n",
    "\n",
    "# Calculate and print the evaluation metrics\n",
    "metrics = {\n",
    "    'accuracy': accuracy_score(y_train_ohe, y_pred_ohe),\n",
    "    'precision': precision_score(y_train_ohe, y_pred_ohe),\n",
    "    'recall': recall_score(y_train_ohe, y_pred_ohe),\n",
    "    'f1': f1_score(y_train_ohe, y_pred_ohe)\n",
    "}\n",
    "\n",
    "print(\"Test Accuracy:\", metrics['accuracy'])\n",
    "print(\"Precision:    \", metrics['precision'])\n",
    "print(\"Recall:       \", metrics['recall'])\n",
    "print(\"F1 Score:     \", metrics['f1'])"
   ]
  },
  {
   "cell_type": "markdown",
   "id": "81725b84-ef5a-4d6e-86ff-9e9299f433ad",
   "metadata": {},
   "source": [
    "Good."
   ]
  },
  {
   "cell_type": "markdown",
   "id": "42035f11-a1f0-4681-bd0c-6f38c8b8ee7d",
   "metadata": {},
   "source": [
    "##### Extracting the most important features from the dataset:"
   ]
  },
  {
   "cell_type": "code",
   "execution_count": 19,
   "id": "71f3fde0-96cd-4661-aefe-bd30278622c1",
   "metadata": {},
   "outputs": [
    {
     "ename": "NameError",
     "evalue": "name 'grid_search' is not defined",
     "output_type": "error",
     "traceback": [
      "\u001b[0;31m---------------------------------------------------------------------------\u001b[0m",
      "\u001b[0;31mNameError\u001b[0m                                 Traceback (most recent call last)",
      "Cell \u001b[0;32mIn[19], line 2\u001b[0m\n\u001b[1;32m      1\u001b[0m \u001b[38;5;66;03m# get best estimator from grid search\u001b[39;00m\n\u001b[0;32m----> 2\u001b[0m best_estimator\u001b[38;5;241m=\u001b[39m\u001b[43mgrid_search\u001b[49m\u001b[38;5;241m.\u001b[39mbest_estimator_\n\u001b[1;32m      4\u001b[0m \u001b[38;5;66;03m# access RFE transformer within pipeline\u001b[39;00m\n\u001b[1;32m      5\u001b[0m rfe\u001b[38;5;241m=\u001b[39mbest_estimator\u001b[38;5;241m.\u001b[39mnamed_steps[\u001b[38;5;124m'\u001b[39m\u001b[38;5;124mrfe\u001b[39m\u001b[38;5;124m'\u001b[39m]\n",
      "\u001b[0;31mNameError\u001b[0m: name 'grid_search' is not defined"
     ]
    }
   ],
   "source": [
    "# get best estimator from grid search\n",
    "best_estimator=grid_search.best_estimator_\n",
    "\n",
    "# access RFE transformer within pipeline\n",
    "rfe=best_estimator.named_steps['rfe']\n",
    "\n",
    "# get selected features\n",
    "selected_features_indices=rfe.support_\n",
    "\n",
    "# extract names of selected features\n",
    "selected_features=X_train_ohe.columns[selected_features_indices]\n",
    "\n",
    "print(f\"The top features that are most important:\\n{selected_features}\")\n",
    "\n",
    "# obtain ranking of features\n",
    "feature_ranking=rfe.ranking_\n",
    "\n",
    "# feature names\n",
    "feature_names=X_train_ohe.columns\n",
    "\n",
    "# create dataframe to store feature names and rankings\n",
    "feature_ranking_df=pd.DataFrame({'Feature': feature_names,\n",
    "                                 'Ranking': feature_ranking})\n",
    "\n",
    "feature_ranking_df=feature_ranking_df.sort_values(by='Ranking')\n",
    "\n",
    "# arbitrary subset of the entire df\n",
    "# (the entire df includes all columns and their importance rank)\n",
    "# feature_ranking_df\n",
    "feature_ranking_df.head(5)\n"
   ]
  },
  {
   "cell_type": "markdown",
   "id": "88e30ad9-469e-43a0-b702-22f4782d36d0",
   "metadata": {},
   "source": [
    "This is really great to see, that the `RFE` was able to pull out what it thinks are the most important features. It is not as informative for a human, as these features are a binary representation of categorical data. Let's try running the non-binary version of the dataset through the trained model. Maybe we'll get more informative results?"
   ]
  },
  {
   "cell_type": "markdown",
   "id": "8b3d10e5-4c70-458a-acca-4b9e8968cb81",
   "metadata": {},
   "source": [
    "#### New pipeline with `SGDClassifier` and categorical (not OHE'd) X data"
   ]
  },
  {
   "cell_type": "markdown",
   "id": "75a7db04-a434-4921-a246-36345a904511",
   "metadata": {},
   "source": [
    "##### Redefine X data without OneHotEncodings:"
   ]
  },
  {
   "cell_type": "code",
   "execution_count": 186,
   "id": "ce777b96-625a-4e84-b9f6-ee1b45076ab3",
   "metadata": {},
   "outputs": [
    {
     "name": "stdout",
     "output_type": "stream",
     "text": [
      "X shape: (126, 6)\n",
      "y shape: (126,)\n"
     ]
    }
   ],
   "source": [
    "# read in and setup dataset again\n",
    "\n",
    "df=pd.read_csv('../data/ACME-HappinessSurvey2020.csv')\n",
    "\n",
    "# renaming columns to preserve order\n",
    "# and make them more intelligible\n",
    "df.rename(columns={'Y':'y',\n",
    "                   'X1':'a_time',\n",
    "                   'X2':'b_contents',\n",
    "                   'X3':'c_complete',\n",
    "                   'X4':'d_price',\n",
    "                   'X5':'e_courier',\n",
    "                   'X6':'f_app'},inplace=True)\n",
    "\n",
    "X=df[[col for col in df.columns if col != 'y']].copy()\n",
    "y=df['y'].copy().astype('int8') # because it's a binary\n",
    "                                # let's use less memory\n",
    "\n",
    "print(\"X shape:\",X.shape)\n",
    "print(\"y shape:\",y.shape)"
   ]
  },
  {
   "cell_type": "code",
   "execution_count": 187,
   "id": "e6f9a109-521d-41d6-98d3-6fecf38b3012",
   "metadata": {},
   "outputs": [
    {
     "data": {
      "text/plain": [
       "a_time        int64\n",
       "b_contents    int64\n",
       "c_complete    int64\n",
       "d_price       int64\n",
       "e_courier     int64\n",
       "f_app         int64\n",
       "dtype: object"
      ]
     },
     "execution_count": 187,
     "metadata": {},
     "output_type": "execute_result"
    }
   ],
   "source": [
    "X.dtypes"
   ]
  },
  {
   "cell_type": "code",
   "execution_count": 188,
   "id": "254e0570-85a7-47a5-8ec7-fb55632a7330",
   "metadata": {},
   "outputs": [
    {
     "data": {
      "text/plain": [
       "a_time        category\n",
       "b_contents    category\n",
       "c_complete    category\n",
       "d_price       category\n",
       "e_courier     category\n",
       "f_app         category\n",
       "dtype: object"
      ]
     },
     "execution_count": 188,
     "metadata": {},
     "output_type": "execute_result"
    }
   ],
   "source": [
    "X_cat=X.copy()\n",
    "\n",
    "for col in X_cat.columns:\n",
    "    X_cat[col] = X_cat[col].astype('category')\n",
    "    \n",
    "X_cat.dtypes"
   ]
  },
  {
   "cell_type": "code",
   "execution_count": 189,
   "id": "363d5c84-eb7d-4b99-8c92-c269eb10822b",
   "metadata": {},
   "outputs": [],
   "source": [
    "# train/test split\n",
    "X_train_cat, \\\n",
    "X_test_cat, \\\n",
    "y_train_cat, \\\n",
    "y_test_cat = train_test_split(X_cat, \n",
    "                          y, \n",
    "                          test_size=0.2, \n",
    "                          stratify=y,\n",
    "                          random_state=seed)"
   ]
  },
  {
   "cell_type": "code",
   "execution_count": 190,
   "id": "81caa2f6-f332-4a72-b909-da06f85cd19d",
   "metadata": {},
   "outputs": [
    {
     "data": {
      "text/plain": [
       "(100, 6)"
      ]
     },
     "execution_count": 190,
     "metadata": {},
     "output_type": "execute_result"
    }
   ],
   "source": [
    "X_train_cat.shape"
   ]
  },
  {
   "cell_type": "code",
   "execution_count": 191,
   "id": "b1317b8a-b26c-4956-871e-95cd3eb1d9bb",
   "metadata": {},
   "outputs": [
    {
     "data": {
      "text/html": [
       "<div>\n",
       "<style scoped>\n",
       "    .dataframe tbody tr th:only-of-type {\n",
       "        vertical-align: middle;\n",
       "    }\n",
       "\n",
       "    .dataframe tbody tr th {\n",
       "        vertical-align: top;\n",
       "    }\n",
       "\n",
       "    .dataframe thead th {\n",
       "        text-align: right;\n",
       "    }\n",
       "</style>\n",
       "<table border=\"1\" class=\"dataframe\">\n",
       "  <thead>\n",
       "    <tr style=\"text-align: right;\">\n",
       "      <th></th>\n",
       "      <th>a_time</th>\n",
       "      <th>b_contents</th>\n",
       "      <th>c_complete</th>\n",
       "      <th>d_price</th>\n",
       "      <th>e_courier</th>\n",
       "      <th>f_app</th>\n",
       "    </tr>\n",
       "  </thead>\n",
       "  <tbody>\n",
       "    <tr>\n",
       "      <th>103</th>\n",
       "      <td>4</td>\n",
       "      <td>3</td>\n",
       "      <td>4</td>\n",
       "      <td>4</td>\n",
       "      <td>3</td>\n",
       "      <td>4</td>\n",
       "    </tr>\n",
       "    <tr>\n",
       "      <th>64</th>\n",
       "      <td>4</td>\n",
       "      <td>1</td>\n",
       "      <td>3</td>\n",
       "      <td>4</td>\n",
       "      <td>4</td>\n",
       "      <td>4</td>\n",
       "    </tr>\n",
       "    <tr>\n",
       "      <th>32</th>\n",
       "      <td>3</td>\n",
       "      <td>2</td>\n",
       "      <td>4</td>\n",
       "      <td>4</td>\n",
       "      <td>4</td>\n",
       "      <td>5</td>\n",
       "    </tr>\n",
       "  </tbody>\n",
       "</table>\n",
       "</div>"
      ],
      "text/plain": [
       "    a_time b_contents c_complete d_price e_courier f_app\n",
       "103      4          3          4       4         3     4\n",
       "64       4          1          3       4         4     4\n",
       "32       3          2          4       4         4     5"
      ]
     },
     "execution_count": 191,
     "metadata": {},
     "output_type": "execute_result"
    }
   ],
   "source": [
    "X_train_cat.sample(3)"
   ]
  },
  {
   "cell_type": "code",
   "execution_count": null,
   "id": "fd7da06d-3e6c-4c6e-9129-946ec0d7ee89",
   "metadata": {},
   "outputs": [],
   "source": [
    "# specifying the k-fold so that we can control the randomness\n",
    "stratified_k_fold=StratifiedKFold(n_splits=5,\n",
    "                                 random_state=seed,\n",
    "                                 shuffle=True)\n",
    "\n",
    "estimators=[\n",
    "    ('rfe',RFE(estimator=LogisticRegression(random_state=seed))),\n",
    "    ('sgd',SGDClassifier(random_state=seed))]\n",
    "\n",
    "pipeline = Pipeline(estimators)\n",
    "\n",
    "param_grid = [\n",
    "    {\n",
    "        'rfe__n_features_to_select': list(np.arange(1, 7)),\n",
    "        'rfe__importance_getter': ['feature_importances_','auto'],\n",
    "        'sgd__max_iter': list(np.logspace(2, 5, 4).astype('int')),\n",
    "        'sgd__alpha': list(np.logspace(-5, -1, 5)),\n",
    "        'sgd__loss': ['hinge', 'log_loss', 'modified_huber'],\n",
    "        'sgd__penalty': ['l2', 'l1', 'elasticnet'],\n",
    "        'sgd__learning_rate': ['optimal'],\n",
    "        'rfe__estimator': [LogisticRegression(random_state=seed)],\n",
    "        'rfe__importance_getter': ['auto']\n",
    "    },\n",
    "    {\n",
    "        'rfe__n_features_to_select': list(np.arange(1, 7)),\n",
    "        'sgd__max_iter': list(np.logspace(2, 5, 4).astype('int')),\n",
    "        'sgd__alpha': list(np.logspace(-5, -1, 5)),\n",
    "        'sgd__loss': ['hinge', 'log_loss', 'modified_huber'],\n",
    "        'sgd__penalty': ['l2', 'l1', 'elasticnet'],\n",
    "        'sgd__learning_rate': ['optimal'],\n",
    "        'rfe__estimator': [RandomForestClassifier(random_state=seed)],\n",
    "        'rfe__importance_getter': ['auto']\n",
    "    }\n",
    "]\n",
    "\n",
    "# perform grid search with cross-validation\n",
    "grid_search = GridSearchCV(pipeline,\n",
    "                           param_grid,\n",
    "                           cv=stratified_k_fold,\n",
    "                           verbose=1,\n",
    "                           n_jobs=-1)\n",
    "\n",
    "# note that this is now on the categorical\n",
    "# X_train and y_train, not OHE'd data\n",
    "grid_search.fit(X_train_cat, y_train_cat)"
   ]
  },
  {
   "cell_type": "code",
   "execution_count": null,
   "id": "fff56066-1996-410f-a683-341c04b4ec37",
   "metadata": {},
   "outputs": [],
   "source": [
    "# best score\n",
    "print(f\"best score: {grid_search.best_score_}\")\n",
    "\n",
    "# best parameters \n",
    "print(f\"best parameters: {grid_search.best_params_}\")"
   ]
  },
  {
   "cell_type": "code",
   "execution_count": null,
   "id": "605b5af8-6ab1-4f56-923c-ed9321f8c17e",
   "metadata": {},
   "outputs": [],
   "source": [
    "# Make predictions on the test set using the best model\n",
    "y_pred_cat = grid_search.best_estimator_.predict(X_test_cat)\n",
    "\n",
    "# Calculate and print the evaluation metrics\n",
    "metrics = {\n",
    "    'accuracy': accuracy_score(y_test_cat, y_pred_cat),\n",
    "    'precision': precision_score(y_test_cat, y_pred_cat),\n",
    "    'recall': recall_score(y_test_cat, y_pred_cat),\n",
    "    'f1': f1_score(y_test_cat, y_pred_cat)\n",
    "}\n",
    "\n",
    "print(\"Test Accuracy:\", metrics['accuracy'])\n",
    "print(\"Precision:    \", metrics['precision'])\n",
    "print(\"Recall:       \", metrics['recall'])\n",
    "print(\"F1 Score:     \", metrics['f1'])"
   ]
  },
  {
   "cell_type": "markdown",
   "id": "00a2601a-0ae6-44a9-a413-2cae2b3ca207",
   "metadata": {},
   "source": [
    "##### Extracting the most important features from the dataset:"
   ]
  },
  {
   "cell_type": "code",
   "execution_count": null,
   "id": "66ce381d-50f4-431e-a7b5-a581e2adb14e",
   "metadata": {},
   "outputs": [],
   "source": [
    "# get best estimator from grid search\n",
    "best_estimator=grid_search.best_estimator_\n",
    "\n",
    "# access RFE transformer within pipeline\n",
    "rfe=best_estimator.named_steps['rfe']\n",
    "\n",
    "# get selected features\n",
    "selected_features_indices=rfe.support_\n",
    "\n",
    "# extract names of selected features\n",
    "selected_features=X_train_ohe.columns[selected_features_indices]\n",
    "\n",
    "print(f\"The top features that are most important:\\n{selected_features}\")\n",
    "\n",
    "# obtain ranking of features\n",
    "feature_ranking=rfe.ranking_\n",
    "\n",
    "# feature names\n",
    "feature_names=X_train_cat.columns\n",
    "\n",
    "# create dataframe to store feature names and rankings\n",
    "feature_ranking_df_cat=pd.DataFrame({'Feature': feature_names,\n",
    "                                 'Ranking': feature_ranking})\n",
    "\n",
    "feature_ranking_df_cat=feature_ranking_df_cat.sort_values(by='Ranking')\n",
    "\n",
    "feature_ranking_df_cat.head(5)"
   ]
  },
  {
   "cell_type": "code",
   "execution_count": null,
   "id": "a4151f18-7608-4e3d-814a-9d5c6e0e68b0",
   "metadata": {},
   "outputs": [],
   "source": []
  },
  {
   "cell_type": "markdown",
   "id": "27f37d0e-48c4-49ce-959a-5c7d8f5e893e",
   "metadata": {},
   "source": [
    "### Statistical Modeling with `Statsmodels` <a name=\"statistical_modeling\"></a>"
   ]
  },
  {
   "cell_type": "code",
   "execution_count": 196,
   "id": "9066609a-9201-4692-8149-df8d4041c435",
   "metadata": {},
   "outputs": [],
   "source": [
    "import statsmodels.api as sm"
   ]
  },
  {
   "cell_type": "code",
   "execution_count": 194,
   "id": "5da626ed-88df-4928-adc1-bdf5031cd5dc",
   "metadata": {},
   "outputs": [],
   "source": [
    "# read in and setup dataset again\n",
    "\n",
    "df=pd.read_csv('../data/ACME-HappinessSurvey2020.csv')\n",
    "\n",
    "# renaming columns to preserve order\n",
    "# and make them more intelligible\n",
    "df.rename(columns={'Y':'y',\n",
    "                   'X1':'a_time',\n",
    "                   'X2':'b_contents',\n",
    "                   'X3':'c_complete',\n",
    "                   'X4':'d_price',\n",
    "                   'X5':'e_courier',\n",
    "                   'X6':'f_app'},inplace=True)\n",
    "\n",
    "X=df[[col for col in df.columns if col != 'y']].copy()\n",
    "y=df['y'].copy().astype('int8') # because it's a binary\n",
    "                                # let's use less memory\n",
    "\n",
    "# print(\"X shape:\",X.shape)\n",
    "# print(\"y shape:\",y.shape)\n",
    "\n",
    "# print(X.dtypes)\n",
    "\n",
    "X_cat=X.copy()\n",
    "\n",
    "for col in X_cat.columns:\n",
    "    X_cat[col] = X_cat[col].astype('category')\n",
    "    \n",
    "# X_cat.dtypes\n",
    "\n",
    "X_ohe=pd.get_dummies(data=X_cat,\n",
    "                     prefix=list(X_cat.columns),\n",
    "                     drop_first=False) # I think we need to \n",
    "                                       # see all survey responses\n",
    "                                       # that are in dataset"
   ]
  },
  {
   "cell_type": "code",
   "execution_count": 197,
   "id": "3794b466-60be-4144-ba7b-12259837932c",
   "metadata": {},
   "outputs": [],
   "source": [
    "# add constant to our X\n",
    "X_const=sm.add_constant(X_ohe[[col for col in X_ohe.columns if col != 'y']])"
   ]
  },
  {
   "cell_type": "code",
   "execution_count": 198,
   "id": "d2436467-cc97-4800-af9c-2dff9c4adf72",
   "metadata": {},
   "outputs": [
    {
     "data": {
      "text/html": [
       "<div>\n",
       "<style scoped>\n",
       "    .dataframe tbody tr th:only-of-type {\n",
       "        vertical-align: middle;\n",
       "    }\n",
       "\n",
       "    .dataframe tbody tr th {\n",
       "        vertical-align: top;\n",
       "    }\n",
       "\n",
       "    .dataframe thead th {\n",
       "        text-align: right;\n",
       "    }\n",
       "</style>\n",
       "<table border=\"1\" class=\"dataframe\">\n",
       "  <thead>\n",
       "    <tr style=\"text-align: right;\">\n",
       "      <th></th>\n",
       "      <th>const</th>\n",
       "      <th>a_time_1</th>\n",
       "      <th>a_time_3</th>\n",
       "      <th>a_time_4</th>\n",
       "      <th>a_time_5</th>\n",
       "      <th>b_contents_1</th>\n",
       "      <th>b_contents_2</th>\n",
       "      <th>b_contents_3</th>\n",
       "      <th>b_contents_4</th>\n",
       "      <th>b_contents_5</th>\n",
       "      <th>...</th>\n",
       "      <th>e_courier_1</th>\n",
       "      <th>e_courier_2</th>\n",
       "      <th>e_courier_3</th>\n",
       "      <th>e_courier_4</th>\n",
       "      <th>e_courier_5</th>\n",
       "      <th>f_app_1</th>\n",
       "      <th>f_app_2</th>\n",
       "      <th>f_app_3</th>\n",
       "      <th>f_app_4</th>\n",
       "      <th>f_app_5</th>\n",
       "    </tr>\n",
       "  </thead>\n",
       "  <tbody>\n",
       "    <tr>\n",
       "      <th>0</th>\n",
       "      <td>1.0</td>\n",
       "      <td>0</td>\n",
       "      <td>1</td>\n",
       "      <td>0</td>\n",
       "      <td>0</td>\n",
       "      <td>0</td>\n",
       "      <td>0</td>\n",
       "      <td>1</td>\n",
       "      <td>0</td>\n",
       "      <td>0</td>\n",
       "      <td>...</td>\n",
       "      <td>0</td>\n",
       "      <td>1</td>\n",
       "      <td>0</td>\n",
       "      <td>0</td>\n",
       "      <td>0</td>\n",
       "      <td>0</td>\n",
       "      <td>0</td>\n",
       "      <td>0</td>\n",
       "      <td>1</td>\n",
       "      <td>0</td>\n",
       "    </tr>\n",
       "    <tr>\n",
       "      <th>1</th>\n",
       "      <td>1.0</td>\n",
       "      <td>0</td>\n",
       "      <td>1</td>\n",
       "      <td>0</td>\n",
       "      <td>0</td>\n",
       "      <td>0</td>\n",
       "      <td>1</td>\n",
       "      <td>0</td>\n",
       "      <td>0</td>\n",
       "      <td>0</td>\n",
       "      <td>...</td>\n",
       "      <td>0</td>\n",
       "      <td>0</td>\n",
       "      <td>0</td>\n",
       "      <td>1</td>\n",
       "      <td>0</td>\n",
       "      <td>0</td>\n",
       "      <td>0</td>\n",
       "      <td>1</td>\n",
       "      <td>0</td>\n",
       "      <td>0</td>\n",
       "    </tr>\n",
       "    <tr>\n",
       "      <th>2</th>\n",
       "      <td>1.0</td>\n",
       "      <td>0</td>\n",
       "      <td>0</td>\n",
       "      <td>0</td>\n",
       "      <td>1</td>\n",
       "      <td>0</td>\n",
       "      <td>0</td>\n",
       "      <td>1</td>\n",
       "      <td>0</td>\n",
       "      <td>0</td>\n",
       "      <td>...</td>\n",
       "      <td>0</td>\n",
       "      <td>0</td>\n",
       "      <td>1</td>\n",
       "      <td>0</td>\n",
       "      <td>0</td>\n",
       "      <td>0</td>\n",
       "      <td>0</td>\n",
       "      <td>0</td>\n",
       "      <td>0</td>\n",
       "      <td>1</td>\n",
       "    </tr>\n",
       "    <tr>\n",
       "      <th>3</th>\n",
       "      <td>1.0</td>\n",
       "      <td>0</td>\n",
       "      <td>0</td>\n",
       "      <td>0</td>\n",
       "      <td>1</td>\n",
       "      <td>0</td>\n",
       "      <td>0</td>\n",
       "      <td>0</td>\n",
       "      <td>1</td>\n",
       "      <td>0</td>\n",
       "      <td>...</td>\n",
       "      <td>0</td>\n",
       "      <td>0</td>\n",
       "      <td>1</td>\n",
       "      <td>0</td>\n",
       "      <td>0</td>\n",
       "      <td>0</td>\n",
       "      <td>0</td>\n",
       "      <td>0</td>\n",
       "      <td>0</td>\n",
       "      <td>1</td>\n",
       "    </tr>\n",
       "    <tr>\n",
       "      <th>4</th>\n",
       "      <td>1.0</td>\n",
       "      <td>0</td>\n",
       "      <td>0</td>\n",
       "      <td>0</td>\n",
       "      <td>1</td>\n",
       "      <td>0</td>\n",
       "      <td>0</td>\n",
       "      <td>0</td>\n",
       "      <td>1</td>\n",
       "      <td>0</td>\n",
       "      <td>...</td>\n",
       "      <td>0</td>\n",
       "      <td>0</td>\n",
       "      <td>1</td>\n",
       "      <td>0</td>\n",
       "      <td>0</td>\n",
       "      <td>0</td>\n",
       "      <td>0</td>\n",
       "      <td>0</td>\n",
       "      <td>0</td>\n",
       "      <td>1</td>\n",
       "    </tr>\n",
       "    <tr>\n",
       "      <th>...</th>\n",
       "      <td>...</td>\n",
       "      <td>...</td>\n",
       "      <td>...</td>\n",
       "      <td>...</td>\n",
       "      <td>...</td>\n",
       "      <td>...</td>\n",
       "      <td>...</td>\n",
       "      <td>...</td>\n",
       "      <td>...</td>\n",
       "      <td>...</td>\n",
       "      <td>...</td>\n",
       "      <td>...</td>\n",
       "      <td>...</td>\n",
       "      <td>...</td>\n",
       "      <td>...</td>\n",
       "      <td>...</td>\n",
       "      <td>...</td>\n",
       "      <td>...</td>\n",
       "      <td>...</td>\n",
       "      <td>...</td>\n",
       "      <td>...</td>\n",
       "    </tr>\n",
       "    <tr>\n",
       "      <th>121</th>\n",
       "      <td>1.0</td>\n",
       "      <td>0</td>\n",
       "      <td>0</td>\n",
       "      <td>0</td>\n",
       "      <td>1</td>\n",
       "      <td>0</td>\n",
       "      <td>1</td>\n",
       "      <td>0</td>\n",
       "      <td>0</td>\n",
       "      <td>0</td>\n",
       "      <td>...</td>\n",
       "      <td>0</td>\n",
       "      <td>0</td>\n",
       "      <td>0</td>\n",
       "      <td>1</td>\n",
       "      <td>0</td>\n",
       "      <td>0</td>\n",
       "      <td>0</td>\n",
       "      <td>1</td>\n",
       "      <td>0</td>\n",
       "      <td>0</td>\n",
       "    </tr>\n",
       "    <tr>\n",
       "      <th>122</th>\n",
       "      <td>1.0</td>\n",
       "      <td>0</td>\n",
       "      <td>0</td>\n",
       "      <td>0</td>\n",
       "      <td>1</td>\n",
       "      <td>0</td>\n",
       "      <td>1</td>\n",
       "      <td>0</td>\n",
       "      <td>0</td>\n",
       "      <td>0</td>\n",
       "      <td>...</td>\n",
       "      <td>0</td>\n",
       "      <td>1</td>\n",
       "      <td>0</td>\n",
       "      <td>0</td>\n",
       "      <td>0</td>\n",
       "      <td>0</td>\n",
       "      <td>0</td>\n",
       "      <td>0</td>\n",
       "      <td>0</td>\n",
       "      <td>1</td>\n",
       "    </tr>\n",
       "    <tr>\n",
       "      <th>123</th>\n",
       "      <td>1.0</td>\n",
       "      <td>0</td>\n",
       "      <td>0</td>\n",
       "      <td>0</td>\n",
       "      <td>1</td>\n",
       "      <td>0</td>\n",
       "      <td>0</td>\n",
       "      <td>1</td>\n",
       "      <td>0</td>\n",
       "      <td>0</td>\n",
       "      <td>...</td>\n",
       "      <td>0</td>\n",
       "      <td>0</td>\n",
       "      <td>0</td>\n",
       "      <td>1</td>\n",
       "      <td>0</td>\n",
       "      <td>0</td>\n",
       "      <td>0</td>\n",
       "      <td>0</td>\n",
       "      <td>0</td>\n",
       "      <td>1</td>\n",
       "    </tr>\n",
       "    <tr>\n",
       "      <th>124</th>\n",
       "      <td>1.0</td>\n",
       "      <td>0</td>\n",
       "      <td>0</td>\n",
       "      <td>1</td>\n",
       "      <td>0</td>\n",
       "      <td>0</td>\n",
       "      <td>0</td>\n",
       "      <td>1</td>\n",
       "      <td>0</td>\n",
       "      <td>0</td>\n",
       "      <td>...</td>\n",
       "      <td>0</td>\n",
       "      <td>0</td>\n",
       "      <td>0</td>\n",
       "      <td>1</td>\n",
       "      <td>0</td>\n",
       "      <td>0</td>\n",
       "      <td>0</td>\n",
       "      <td>0</td>\n",
       "      <td>0</td>\n",
       "      <td>1</td>\n",
       "    </tr>\n",
       "    <tr>\n",
       "      <th>125</th>\n",
       "      <td>1.0</td>\n",
       "      <td>0</td>\n",
       "      <td>0</td>\n",
       "      <td>0</td>\n",
       "      <td>1</td>\n",
       "      <td>0</td>\n",
       "      <td>0</td>\n",
       "      <td>1</td>\n",
       "      <td>0</td>\n",
       "      <td>0</td>\n",
       "      <td>...</td>\n",
       "      <td>0</td>\n",
       "      <td>0</td>\n",
       "      <td>0</td>\n",
       "      <td>0</td>\n",
       "      <td>1</td>\n",
       "      <td>0</td>\n",
       "      <td>0</td>\n",
       "      <td>0</td>\n",
       "      <td>0</td>\n",
       "      <td>1</td>\n",
       "    </tr>\n",
       "  </tbody>\n",
       "</table>\n",
       "<p>126 rows × 30 columns</p>\n",
       "</div>"
      ],
      "text/plain": [
       "     const  a_time_1  a_time_3  a_time_4  a_time_5  b_contents_1  \\\n",
       "0      1.0         0         1         0         0             0   \n",
       "1      1.0         0         1         0         0             0   \n",
       "2      1.0         0         0         0         1             0   \n",
       "3      1.0         0         0         0         1             0   \n",
       "4      1.0         0         0         0         1             0   \n",
       "..     ...       ...       ...       ...       ...           ...   \n",
       "121    1.0         0         0         0         1             0   \n",
       "122    1.0         0         0         0         1             0   \n",
       "123    1.0         0         0         0         1             0   \n",
       "124    1.0         0         0         1         0             0   \n",
       "125    1.0         0         0         0         1             0   \n",
       "\n",
       "     b_contents_2  b_contents_3  b_contents_4  b_contents_5  ...  e_courier_1  \\\n",
       "0               0             1             0             0  ...            0   \n",
       "1               1             0             0             0  ...            0   \n",
       "2               0             1             0             0  ...            0   \n",
       "3               0             0             1             0  ...            0   \n",
       "4               0             0             1             0  ...            0   \n",
       "..            ...           ...           ...           ...  ...          ...   \n",
       "121             1             0             0             0  ...            0   \n",
       "122             1             0             0             0  ...            0   \n",
       "123             0             1             0             0  ...            0   \n",
       "124             0             1             0             0  ...            0   \n",
       "125             0             1             0             0  ...            0   \n",
       "\n",
       "     e_courier_2  e_courier_3  e_courier_4  e_courier_5  f_app_1  f_app_2  \\\n",
       "0              1            0            0            0        0        0   \n",
       "1              0            0            1            0        0        0   \n",
       "2              0            1            0            0        0        0   \n",
       "3              0            1            0            0        0        0   \n",
       "4              0            1            0            0        0        0   \n",
       "..           ...          ...          ...          ...      ...      ...   \n",
       "121            0            0            1            0        0        0   \n",
       "122            1            0            0            0        0        0   \n",
       "123            0            0            1            0        0        0   \n",
       "124            0            0            1            0        0        0   \n",
       "125            0            0            0            1        0        0   \n",
       "\n",
       "     f_app_3  f_app_4  f_app_5  \n",
       "0          0        1        0  \n",
       "1          1        0        0  \n",
       "2          0        0        1  \n",
       "3          0        0        1  \n",
       "4          0        0        1  \n",
       "..       ...      ...      ...  \n",
       "121        1        0        0  \n",
       "122        0        0        1  \n",
       "123        0        0        1  \n",
       "124        0        0        1  \n",
       "125        0        0        1  \n",
       "\n",
       "[126 rows x 30 columns]"
      ]
     },
     "execution_count": 198,
     "metadata": {},
     "output_type": "execute_result"
    }
   ],
   "source": [
    "# check it out\n",
    "X_const"
   ]
  },
  {
   "cell_type": "code",
   "execution_count": 234,
   "id": "d367c6a6-9bf9-44b4-9d7d-8d3035b72258",
   "metadata": {},
   "outputs": [
    {
     "data": {
      "text/plain": [
       "Series([], dtype: object)"
      ]
     },
     "execution_count": 234,
     "metadata": {},
     "output_type": "execute_result"
    }
   ],
   "source": [
    "X_const.dtypes"
   ]
  },
  {
   "cell_type": "code",
   "execution_count": 229,
   "id": "a35f0184-46ba-45bb-8489-e52a82944826",
   "metadata": {},
   "outputs": [
    {
     "data": {
      "text/plain": [
       "(126,)"
      ]
     },
     "execution_count": 229,
     "metadata": {},
     "output_type": "execute_result"
    }
   ],
   "source": [
    "y.shape"
   ]
  },
  {
   "cell_type": "code",
   "execution_count": 231,
   "id": "a9621f03-1c9b-4ed3-82bc-a877ec7a992c",
   "metadata": {},
   "outputs": [
    {
     "ename": "ValueError",
     "evalue": "zero-size array to reduction operation maximum which has no identity",
     "output_type": "error",
     "traceback": [
      "\u001b[0;31m---------------------------------------------------------------------------\u001b[0m",
      "\u001b[0;31mValueError\u001b[0m                                Traceback (most recent call last)",
      "Cell \u001b[0;32mIn[231], line 2\u001b[0m\n\u001b[1;32m      1\u001b[0m \u001b[38;5;66;03m# instantiate the logistic regression model \u001b[39;00m\n\u001b[0;32m----> 2\u001b[0m logreg \u001b[38;5;241m=\u001b[39m \u001b[43msm\u001b[49m\u001b[38;5;241;43m.\u001b[39;49m\u001b[43mLogit\u001b[49m\u001b[43m(\u001b[49m\u001b[43my\u001b[49m\u001b[43m,\u001b[49m\u001b[43m \u001b[49m\u001b[43mX_const\u001b[49m\u001b[43m)\u001b[49m\n\u001b[1;32m      4\u001b[0m \u001b[38;5;66;03m# fit the model\u001b[39;00m\n\u001b[1;32m      5\u001b[0m logreg_results \u001b[38;5;241m=\u001b[39m logreg\u001b[38;5;241m.\u001b[39mfit()\n",
      "File \u001b[0;32m/Applications/Anaconda/anaconda3/envs/sklearn/lib/python3.9/site-packages/statsmodels/discrete/discrete_model.py:462\u001b[0m, in \u001b[0;36mBinaryModel.__init__\u001b[0;34m(self, endog, exog, check_rank, **kwargs)\u001b[0m\n\u001b[1;32m    459\u001b[0m \u001b[38;5;28;01mdef\u001b[39;00m \u001b[38;5;21m__init__\u001b[39m(\u001b[38;5;28mself\u001b[39m, endog, exog, check_rank\u001b[38;5;241m=\u001b[39m\u001b[38;5;28;01mTrue\u001b[39;00m, \u001b[38;5;241m*\u001b[39m\u001b[38;5;241m*\u001b[39mkwargs):\n\u001b[1;32m    460\u001b[0m     \u001b[38;5;66;03m# unconditional check, requires no extra kwargs added by subclasses\u001b[39;00m\n\u001b[1;32m    461\u001b[0m     \u001b[38;5;28mself\u001b[39m\u001b[38;5;241m.\u001b[39m_check_kwargs(kwargs)\n\u001b[0;32m--> 462\u001b[0m     \u001b[38;5;28;43msuper\u001b[39;49m\u001b[43m(\u001b[49m\u001b[43m)\u001b[49m\u001b[38;5;241;43m.\u001b[39;49m\u001b[38;5;21;43m__init__\u001b[39;49m\u001b[43m(\u001b[49m\u001b[43mendog\u001b[49m\u001b[43m,\u001b[49m\u001b[43m \u001b[49m\u001b[43mexog\u001b[49m\u001b[43m,\u001b[49m\u001b[43m \u001b[49m\u001b[43mcheck_rank\u001b[49m\u001b[43m,\u001b[49m\u001b[43m \u001b[49m\u001b[38;5;241;43m*\u001b[39;49m\u001b[38;5;241;43m*\u001b[39;49m\u001b[43mkwargs\u001b[49m\u001b[43m)\u001b[49m\n\u001b[1;32m    463\u001b[0m     \u001b[38;5;28;01mif\u001b[39;00m \u001b[38;5;129;01mnot\u001b[39;00m \u001b[38;5;28missubclass\u001b[39m(\u001b[38;5;28mself\u001b[39m\u001b[38;5;241m.\u001b[39m\u001b[38;5;18m__class__\u001b[39m, MultinomialModel):\n\u001b[1;32m    464\u001b[0m         \u001b[38;5;28;01mif\u001b[39;00m \u001b[38;5;129;01mnot\u001b[39;00m np\u001b[38;5;241m.\u001b[39mall((\u001b[38;5;28mself\u001b[39m\u001b[38;5;241m.\u001b[39mendog \u001b[38;5;241m>\u001b[39m\u001b[38;5;241m=\u001b[39m \u001b[38;5;241m0\u001b[39m) \u001b[38;5;241m&\u001b[39m (\u001b[38;5;28mself\u001b[39m\u001b[38;5;241m.\u001b[39mendog \u001b[38;5;241m<\u001b[39m\u001b[38;5;241m=\u001b[39m \u001b[38;5;241m1\u001b[39m)):\n",
      "File \u001b[0;32m/Applications/Anaconda/anaconda3/envs/sklearn/lib/python3.9/site-packages/statsmodels/discrete/discrete_model.py:178\u001b[0m, in \u001b[0;36mDiscreteModel.__init__\u001b[0;34m(self, endog, exog, check_rank, **kwargs)\u001b[0m\n\u001b[1;32m    176\u001b[0m \u001b[38;5;28;01mdef\u001b[39;00m \u001b[38;5;21m__init__\u001b[39m(\u001b[38;5;28mself\u001b[39m, endog, exog, check_rank\u001b[38;5;241m=\u001b[39m\u001b[38;5;28;01mTrue\u001b[39;00m, \u001b[38;5;241m*\u001b[39m\u001b[38;5;241m*\u001b[39mkwargs):\n\u001b[1;32m    177\u001b[0m     \u001b[38;5;28mself\u001b[39m\u001b[38;5;241m.\u001b[39m_check_rank \u001b[38;5;241m=\u001b[39m check_rank\n\u001b[0;32m--> 178\u001b[0m     \u001b[38;5;28;43msuper\u001b[39;49m\u001b[43m(\u001b[49m\u001b[43m)\u001b[49m\u001b[38;5;241;43m.\u001b[39;49m\u001b[38;5;21;43m__init__\u001b[39;49m\u001b[43m(\u001b[49m\u001b[43mendog\u001b[49m\u001b[43m,\u001b[49m\u001b[43m \u001b[49m\u001b[43mexog\u001b[49m\u001b[43m,\u001b[49m\u001b[43m \u001b[49m\u001b[38;5;241;43m*\u001b[39;49m\u001b[38;5;241;43m*\u001b[39;49m\u001b[43mkwargs\u001b[49m\u001b[43m)\u001b[49m\n\u001b[1;32m    179\u001b[0m     \u001b[38;5;28mself\u001b[39m\u001b[38;5;241m.\u001b[39mraise_on_perfect_prediction \u001b[38;5;241m=\u001b[39m \u001b[38;5;28;01mTrue\u001b[39;00m\n",
      "File \u001b[0;32m/Applications/Anaconda/anaconda3/envs/sklearn/lib/python3.9/site-packages/statsmodels/base/model.py:267\u001b[0m, in \u001b[0;36mLikelihoodModel.__init__\u001b[0;34m(self, endog, exog, **kwargs)\u001b[0m\n\u001b[1;32m    266\u001b[0m \u001b[38;5;28;01mdef\u001b[39;00m \u001b[38;5;21m__init__\u001b[39m(\u001b[38;5;28mself\u001b[39m, endog, exog\u001b[38;5;241m=\u001b[39m\u001b[38;5;28;01mNone\u001b[39;00m, \u001b[38;5;241m*\u001b[39m\u001b[38;5;241m*\u001b[39mkwargs):\n\u001b[0;32m--> 267\u001b[0m     \u001b[38;5;28;43msuper\u001b[39;49m\u001b[43m(\u001b[49m\u001b[43m)\u001b[49m\u001b[38;5;241;43m.\u001b[39;49m\u001b[38;5;21;43m__init__\u001b[39;49m\u001b[43m(\u001b[49m\u001b[43mendog\u001b[49m\u001b[43m,\u001b[49m\u001b[43m \u001b[49m\u001b[43mexog\u001b[49m\u001b[43m,\u001b[49m\u001b[43m \u001b[49m\u001b[38;5;241;43m*\u001b[39;49m\u001b[38;5;241;43m*\u001b[39;49m\u001b[43mkwargs\u001b[49m\u001b[43m)\u001b[49m\n\u001b[1;32m    268\u001b[0m     \u001b[38;5;28mself\u001b[39m\u001b[38;5;241m.\u001b[39minitialize()\n",
      "File \u001b[0;32m/Applications/Anaconda/anaconda3/envs/sklearn/lib/python3.9/site-packages/statsmodels/base/model.py:92\u001b[0m, in \u001b[0;36mModel.__init__\u001b[0;34m(self, endog, exog, **kwargs)\u001b[0m\n\u001b[1;32m     90\u001b[0m missing \u001b[38;5;241m=\u001b[39m kwargs\u001b[38;5;241m.\u001b[39mpop(\u001b[38;5;124m'\u001b[39m\u001b[38;5;124mmissing\u001b[39m\u001b[38;5;124m'\u001b[39m, \u001b[38;5;124m'\u001b[39m\u001b[38;5;124mnone\u001b[39m\u001b[38;5;124m'\u001b[39m)\n\u001b[1;32m     91\u001b[0m hasconst \u001b[38;5;241m=\u001b[39m kwargs\u001b[38;5;241m.\u001b[39mpop(\u001b[38;5;124m'\u001b[39m\u001b[38;5;124mhasconst\u001b[39m\u001b[38;5;124m'\u001b[39m, \u001b[38;5;28;01mNone\u001b[39;00m)\n\u001b[0;32m---> 92\u001b[0m \u001b[38;5;28mself\u001b[39m\u001b[38;5;241m.\u001b[39mdata \u001b[38;5;241m=\u001b[39m \u001b[38;5;28;43mself\u001b[39;49m\u001b[38;5;241;43m.\u001b[39;49m\u001b[43m_handle_data\u001b[49m\u001b[43m(\u001b[49m\u001b[43mendog\u001b[49m\u001b[43m,\u001b[49m\u001b[43m \u001b[49m\u001b[43mexog\u001b[49m\u001b[43m,\u001b[49m\u001b[43m \u001b[49m\u001b[43mmissing\u001b[49m\u001b[43m,\u001b[49m\u001b[43m \u001b[49m\u001b[43mhasconst\u001b[49m\u001b[43m,\u001b[49m\n\u001b[1;32m     93\u001b[0m \u001b[43m                              \u001b[49m\u001b[38;5;241;43m*\u001b[39;49m\u001b[38;5;241;43m*\u001b[39;49m\u001b[43mkwargs\u001b[49m\u001b[43m)\u001b[49m\n\u001b[1;32m     94\u001b[0m \u001b[38;5;28mself\u001b[39m\u001b[38;5;241m.\u001b[39mk_constant \u001b[38;5;241m=\u001b[39m \u001b[38;5;28mself\u001b[39m\u001b[38;5;241m.\u001b[39mdata\u001b[38;5;241m.\u001b[39mk_constant\n\u001b[1;32m     95\u001b[0m \u001b[38;5;28mself\u001b[39m\u001b[38;5;241m.\u001b[39mexog \u001b[38;5;241m=\u001b[39m \u001b[38;5;28mself\u001b[39m\u001b[38;5;241m.\u001b[39mdata\u001b[38;5;241m.\u001b[39mexog\n",
      "File \u001b[0;32m/Applications/Anaconda/anaconda3/envs/sklearn/lib/python3.9/site-packages/statsmodels/base/model.py:132\u001b[0m, in \u001b[0;36mModel._handle_data\u001b[0;34m(self, endog, exog, missing, hasconst, **kwargs)\u001b[0m\n\u001b[1;32m    131\u001b[0m \u001b[38;5;28;01mdef\u001b[39;00m \u001b[38;5;21m_handle_data\u001b[39m(\u001b[38;5;28mself\u001b[39m, endog, exog, missing, hasconst, \u001b[38;5;241m*\u001b[39m\u001b[38;5;241m*\u001b[39mkwargs):\n\u001b[0;32m--> 132\u001b[0m     data \u001b[38;5;241m=\u001b[39m \u001b[43mhandle_data\u001b[49m\u001b[43m(\u001b[49m\u001b[43mendog\u001b[49m\u001b[43m,\u001b[49m\u001b[43m \u001b[49m\u001b[43mexog\u001b[49m\u001b[43m,\u001b[49m\u001b[43m \u001b[49m\u001b[43mmissing\u001b[49m\u001b[43m,\u001b[49m\u001b[43m \u001b[49m\u001b[43mhasconst\u001b[49m\u001b[43m,\u001b[49m\u001b[43m \u001b[49m\u001b[38;5;241;43m*\u001b[39;49m\u001b[38;5;241;43m*\u001b[39;49m\u001b[43mkwargs\u001b[49m\u001b[43m)\u001b[49m\n\u001b[1;32m    133\u001b[0m     \u001b[38;5;66;03m# kwargs arrays could have changed, easier to just attach here\u001b[39;00m\n\u001b[1;32m    134\u001b[0m     \u001b[38;5;28;01mfor\u001b[39;00m key \u001b[38;5;129;01min\u001b[39;00m kwargs:\n",
      "File \u001b[0;32m/Applications/Anaconda/anaconda3/envs/sklearn/lib/python3.9/site-packages/statsmodels/base/data.py:673\u001b[0m, in \u001b[0;36mhandle_data\u001b[0;34m(endog, exog, missing, hasconst, **kwargs)\u001b[0m\n\u001b[1;32m    670\u001b[0m     exog \u001b[38;5;241m=\u001b[39m np\u001b[38;5;241m.\u001b[39masarray(exog)\n\u001b[1;32m    672\u001b[0m klass \u001b[38;5;241m=\u001b[39m handle_data_class_factory(endog, exog)\n\u001b[0;32m--> 673\u001b[0m \u001b[38;5;28;01mreturn\u001b[39;00m \u001b[43mklass\u001b[49m\u001b[43m(\u001b[49m\u001b[43mendog\u001b[49m\u001b[43m,\u001b[49m\u001b[43m \u001b[49m\u001b[43mexog\u001b[49m\u001b[38;5;241;43m=\u001b[39;49m\u001b[43mexog\u001b[49m\u001b[43m,\u001b[49m\u001b[43m \u001b[49m\u001b[43mmissing\u001b[49m\u001b[38;5;241;43m=\u001b[39;49m\u001b[43mmissing\u001b[49m\u001b[43m,\u001b[49m\u001b[43m \u001b[49m\u001b[43mhasconst\u001b[49m\u001b[38;5;241;43m=\u001b[39;49m\u001b[43mhasconst\u001b[49m\u001b[43m,\u001b[49m\n\u001b[1;32m    674\u001b[0m \u001b[43m             \u001b[49m\u001b[38;5;241;43m*\u001b[39;49m\u001b[38;5;241;43m*\u001b[39;49m\u001b[43mkwargs\u001b[49m\u001b[43m)\u001b[49m\n",
      "File \u001b[0;32m/Applications/Anaconda/anaconda3/envs/sklearn/lib/python3.9/site-packages/statsmodels/base/data.py:86\u001b[0m, in \u001b[0;36mModelData.__init__\u001b[0;34m(self, endog, exog, missing, hasconst, **kwargs)\u001b[0m\n\u001b[1;32m     84\u001b[0m \u001b[38;5;28mself\u001b[39m\u001b[38;5;241m.\u001b[39mconst_idx \u001b[38;5;241m=\u001b[39m \u001b[38;5;28;01mNone\u001b[39;00m\n\u001b[1;32m     85\u001b[0m \u001b[38;5;28mself\u001b[39m\u001b[38;5;241m.\u001b[39mk_constant \u001b[38;5;241m=\u001b[39m \u001b[38;5;241m0\u001b[39m\n\u001b[0;32m---> 86\u001b[0m \u001b[38;5;28;43mself\u001b[39;49m\u001b[38;5;241;43m.\u001b[39;49m\u001b[43m_handle_constant\u001b[49m\u001b[43m(\u001b[49m\u001b[43mhasconst\u001b[49m\u001b[43m)\u001b[49m\n\u001b[1;32m     87\u001b[0m \u001b[38;5;28mself\u001b[39m\u001b[38;5;241m.\u001b[39m_check_integrity()\n\u001b[1;32m     88\u001b[0m \u001b[38;5;28mself\u001b[39m\u001b[38;5;241m.\u001b[39m_cache \u001b[38;5;241m=\u001b[39m {}\n",
      "File \u001b[0;32m/Applications/Anaconda/anaconda3/envs/sklearn/lib/python3.9/site-packages/statsmodels/base/data.py:176\u001b[0m, in \u001b[0;36mModelData._handle_constant\u001b[0;34m(self, hasconst)\u001b[0m\n\u001b[1;32m    173\u001b[0m augmented_exog \u001b[38;5;241m=\u001b[39m np\u001b[38;5;241m.\u001b[39mcolumn_stack(\n\u001b[1;32m    174\u001b[0m             (np\u001b[38;5;241m.\u001b[39mones(\u001b[38;5;28mself\u001b[39m\u001b[38;5;241m.\u001b[39mexog\u001b[38;5;241m.\u001b[39mshape[\u001b[38;5;241m0\u001b[39m]), \u001b[38;5;28mself\u001b[39m\u001b[38;5;241m.\u001b[39mexog))\n\u001b[1;32m    175\u001b[0m rank_augm \u001b[38;5;241m=\u001b[39m np\u001b[38;5;241m.\u001b[39mlinalg\u001b[38;5;241m.\u001b[39mmatrix_rank(augmented_exog)\n\u001b[0;32m--> 176\u001b[0m rank_orig \u001b[38;5;241m=\u001b[39m \u001b[43mnp\u001b[49m\u001b[38;5;241;43m.\u001b[39;49m\u001b[43mlinalg\u001b[49m\u001b[38;5;241;43m.\u001b[39;49m\u001b[43mmatrix_rank\u001b[49m\u001b[43m(\u001b[49m\u001b[38;5;28;43mself\u001b[39;49m\u001b[38;5;241;43m.\u001b[39;49m\u001b[43mexog\u001b[49m\u001b[43m)\u001b[49m\n\u001b[1;32m    177\u001b[0m \u001b[38;5;28mself\u001b[39m\u001b[38;5;241m.\u001b[39mk_constant \u001b[38;5;241m=\u001b[39m \u001b[38;5;28mint\u001b[39m(rank_orig \u001b[38;5;241m==\u001b[39m rank_augm)\n\u001b[1;32m    178\u001b[0m \u001b[38;5;28mself\u001b[39m\u001b[38;5;241m.\u001b[39mconst_idx \u001b[38;5;241m=\u001b[39m \u001b[38;5;28;01mNone\u001b[39;00m\n",
      "File \u001b[0;32m/Applications/Anaconda/anaconda3/envs/sklearn/lib/python3.9/site-packages/numpy/linalg/linalg.py:1924\u001b[0m, in \u001b[0;36mmatrix_rank\u001b[0;34m(A, tol, hermitian)\u001b[0m\n\u001b[1;32m   1922\u001b[0m S \u001b[38;5;241m=\u001b[39m svd(A, compute_uv\u001b[38;5;241m=\u001b[39m\u001b[38;5;28;01mFalse\u001b[39;00m, hermitian\u001b[38;5;241m=\u001b[39mhermitian)\n\u001b[1;32m   1923\u001b[0m \u001b[38;5;28;01mif\u001b[39;00m tol \u001b[38;5;129;01mis\u001b[39;00m \u001b[38;5;28;01mNone\u001b[39;00m:\n\u001b[0;32m-> 1924\u001b[0m     tol \u001b[38;5;241m=\u001b[39m \u001b[43mS\u001b[49m\u001b[38;5;241;43m.\u001b[39;49m\u001b[43mmax\u001b[49m\u001b[43m(\u001b[49m\u001b[43maxis\u001b[49m\u001b[38;5;241;43m=\u001b[39;49m\u001b[38;5;241;43m-\u001b[39;49m\u001b[38;5;241;43m1\u001b[39;49m\u001b[43m,\u001b[49m\u001b[43m \u001b[49m\u001b[43mkeepdims\u001b[49m\u001b[38;5;241;43m=\u001b[39;49m\u001b[38;5;28;43;01mTrue\u001b[39;49;00m\u001b[43m)\u001b[49m \u001b[38;5;241m*\u001b[39m \u001b[38;5;28mmax\u001b[39m(A\u001b[38;5;241m.\u001b[39mshape[\u001b[38;5;241m-\u001b[39m\u001b[38;5;241m2\u001b[39m:]) \u001b[38;5;241m*\u001b[39m finfo(S\u001b[38;5;241m.\u001b[39mdtype)\u001b[38;5;241m.\u001b[39meps\n\u001b[1;32m   1925\u001b[0m \u001b[38;5;28;01melse\u001b[39;00m:\n\u001b[1;32m   1926\u001b[0m     tol \u001b[38;5;241m=\u001b[39m asarray(tol)[\u001b[38;5;241m.\u001b[39m\u001b[38;5;241m.\u001b[39m\u001b[38;5;241m.\u001b[39m, newaxis]\n",
      "File \u001b[0;32m/Applications/Anaconda/anaconda3/envs/sklearn/lib/python3.9/site-packages/numpy/core/_methods.py:41\u001b[0m, in \u001b[0;36m_amax\u001b[0;34m(a, axis, out, keepdims, initial, where)\u001b[0m\n\u001b[1;32m     39\u001b[0m \u001b[38;5;28;01mdef\u001b[39;00m \u001b[38;5;21m_amax\u001b[39m(a, axis\u001b[38;5;241m=\u001b[39m\u001b[38;5;28;01mNone\u001b[39;00m, out\u001b[38;5;241m=\u001b[39m\u001b[38;5;28;01mNone\u001b[39;00m, keepdims\u001b[38;5;241m=\u001b[39m\u001b[38;5;28;01mFalse\u001b[39;00m,\n\u001b[1;32m     40\u001b[0m           initial\u001b[38;5;241m=\u001b[39m_NoValue, where\u001b[38;5;241m=\u001b[39m\u001b[38;5;28;01mTrue\u001b[39;00m):\n\u001b[0;32m---> 41\u001b[0m     \u001b[38;5;28;01mreturn\u001b[39;00m \u001b[43mumr_maximum\u001b[49m\u001b[43m(\u001b[49m\u001b[43ma\u001b[49m\u001b[43m,\u001b[49m\u001b[43m \u001b[49m\u001b[43maxis\u001b[49m\u001b[43m,\u001b[49m\u001b[43m \u001b[49m\u001b[38;5;28;43;01mNone\u001b[39;49;00m\u001b[43m,\u001b[49m\u001b[43m \u001b[49m\u001b[43mout\u001b[49m\u001b[43m,\u001b[49m\u001b[43m \u001b[49m\u001b[43mkeepdims\u001b[49m\u001b[43m,\u001b[49m\u001b[43m \u001b[49m\u001b[43minitial\u001b[49m\u001b[43m,\u001b[49m\u001b[43m \u001b[49m\u001b[43mwhere\u001b[49m\u001b[43m)\u001b[49m\n",
      "\u001b[0;31mValueError\u001b[0m: zero-size array to reduction operation maximum which has no identity"
     ]
    }
   ],
   "source": [
    "# instantiate the logistic regression model \n",
    "logreg = sm.Logit(y, X_const)\n",
    "\n",
    "# fit the model\n",
    "logreg_results = logreg.fit()\n",
    "\n",
    "# display the results \n",
    "logreg_results.summary()"
   ]
  },
  {
   "cell_type": "markdown",
   "id": "96bf0a21-b632-428d-9ffd-af746226dc32",
   "metadata": {},
   "source": [
    "PLACEHOLDER TEXT  \n",
    "All features have p-values above 0.05 except time, which is just under the limit."
   ]
  },
  {
   "cell_type": "code",
   "execution_count": 209,
   "id": "e6f51e43-cae8-4535-8c6f-784b00ce9df4",
   "metadata": {},
   "outputs": [
    {
     "ename": "NameError",
     "evalue": "name 'logreg_results' is not defined",
     "output_type": "error",
     "traceback": [
      "\u001b[0;31m---------------------------------------------------------------------------\u001b[0m",
      "\u001b[0;31mNameError\u001b[0m                                 Traceback (most recent call last)",
      "Cell \u001b[0;32mIn[209], line 3\u001b[0m\n\u001b[1;32m      1\u001b[0m \u001b[38;5;66;03m# getting the model predictions as probabilities \u001b[39;00m\n\u001b[1;32m      2\u001b[0m \u001b[38;5;66;03m# and saving to 'y_proba'\u001b[39;00m\n\u001b[0;32m----> 3\u001b[0m y_proba \u001b[38;5;241m=\u001b[39m \u001b[43mlogreg_results\u001b[49m\u001b[38;5;241m.\u001b[39mpredict(X_const)\n\u001b[1;32m      5\u001b[0m \u001b[38;5;66;03m# view \u001b[39;00m\n\u001b[1;32m      6\u001b[0m y_proba\n",
      "\u001b[0;31mNameError\u001b[0m: name 'logreg_results' is not defined"
     ]
    }
   ],
   "source": [
    "# getting the model predictions as probabilities \n",
    "# and saving to 'y_proba'\n",
    "y_proba = logreg_results.predict(X_const)\n",
    "\n",
    "# view \n",
    "y_proba"
   ]
  },
  {
   "cell_type": "code",
   "execution_count": 210,
   "id": "53e00bf8-034b-49a2-b448-7d5c2a05058c",
   "metadata": {},
   "outputs": [
    {
     "ename": "NameError",
     "evalue": "name 'y_proba' is not defined",
     "output_type": "error",
     "traceback": [
      "\u001b[0;31m---------------------------------------------------------------------------\u001b[0m",
      "\u001b[0;31mNameError\u001b[0m                                 Traceback (most recent call last)",
      "Cell \u001b[0;32mIn[210], line 4\u001b[0m\n\u001b[1;32m      1\u001b[0m \u001b[38;5;66;03m# assume probability >=50%\u001b[39;00m\n\u001b[1;32m      2\u001b[0m \u001b[38;5;66;03m# is a happy customer prediction\u001b[39;00m\n\u001b[1;32m      3\u001b[0m \u001b[38;5;66;03m# so we'll make the soft preds into hard preds\u001b[39;00m\n\u001b[0;32m----> 4\u001b[0m y_pred \u001b[38;5;241m=\u001b[39m np\u001b[38;5;241m.\u001b[39mwhere(\u001b[43my_proba\u001b[49m \u001b[38;5;241m>\u001b[39m\u001b[38;5;241m=\u001b[39m \u001b[38;5;241m0.5\u001b[39m, \u001b[38;5;241m1\u001b[39m, \u001b[38;5;241m0\u001b[39m)\n\u001b[1;32m      6\u001b[0m \u001b[38;5;66;03m# look at the model's predictions\u001b[39;00m\n\u001b[1;32m      7\u001b[0m y_pred\n",
      "\u001b[0;31mNameError\u001b[0m: name 'y_proba' is not defined"
     ]
    }
   ],
   "source": [
    "# assume probability >=50%\n",
    "# is a happy customer prediction\n",
    "# so we'll make the soft preds into hard preds\n",
    "y_pred = np.where(y_proba >= 0.5, 1, 0)\n",
    "\n",
    "# look at the model's predictions\n",
    "y_pred"
   ]
  },
  {
   "cell_type": "code",
   "execution_count": 211,
   "id": "49733a6a-603f-478a-ac13-510de61ad51c",
   "metadata": {},
   "outputs": [
    {
     "ename": "ValueError",
     "evalue": "('Lengths must match to compare', (126,), (26,))",
     "output_type": "error",
     "traceback": [
      "\u001b[0;31m---------------------------------------------------------------------------\u001b[0m",
      "\u001b[0;31mValueError\u001b[0m                                Traceback (most recent call last)",
      "Cell \u001b[0;32mIn[211], line 4\u001b[0m\n\u001b[1;32m      1\u001b[0m \u001b[38;5;66;03m# calculate accuracy\u001b[39;00m\n\u001b[1;32m      2\u001b[0m \u001b[38;5;66;03m# find where predicted = true survival\u001b[39;00m\n\u001b[1;32m      3\u001b[0m \u001b[38;5;66;03m# then divide by the number of predictions/passengers\u001b[39;00m\n\u001b[0;32m----> 4\u001b[0m acc \u001b[38;5;241m=\u001b[39m (\u001b[43my_pred\u001b[49m\u001b[43m \u001b[49m\u001b[38;5;241;43m==\u001b[39;49m\u001b[43m \u001b[49m\u001b[43my\u001b[49m)\u001b[38;5;241m.\u001b[39msum()\u001b[38;5;241m/\u001b[39mdf\u001b[38;5;241m.\u001b[39mshape[\u001b[38;5;241m0\u001b[39m]\n\u001b[1;32m      6\u001b[0m \u001b[38;5;66;03m# Print the accuracy score\u001b[39;00m\n\u001b[1;32m      7\u001b[0m \u001b[38;5;28mprint\u001b[39m(\u001b[38;5;124mf\u001b[39m\u001b[38;5;124m'\u001b[39m\u001b[38;5;124mModel accuracy = \u001b[39m\u001b[38;5;132;01m{\u001b[39;00macc\u001b[38;5;132;01m}\u001b[39;00m\u001b[38;5;124m'\u001b[39m)\n",
      "File \u001b[0;32m/Applications/Anaconda/anaconda3/envs/sklearn/lib/python3.9/site-packages/pandas/core/generic.py:2113\u001b[0m, in \u001b[0;36mNDFrame.__array_ufunc__\u001b[0;34m(self, ufunc, method, *inputs, **kwargs)\u001b[0m\n\u001b[1;32m   2109\u001b[0m \u001b[38;5;129m@final\u001b[39m\n\u001b[1;32m   2110\u001b[0m \u001b[38;5;28;01mdef\u001b[39;00m \u001b[38;5;21m__array_ufunc__\u001b[39m(\n\u001b[1;32m   2111\u001b[0m     \u001b[38;5;28mself\u001b[39m, ufunc: np\u001b[38;5;241m.\u001b[39mufunc, method: \u001b[38;5;28mstr\u001b[39m, \u001b[38;5;241m*\u001b[39minputs: Any, \u001b[38;5;241m*\u001b[39m\u001b[38;5;241m*\u001b[39mkwargs: Any\n\u001b[1;32m   2112\u001b[0m ):\n\u001b[0;32m-> 2113\u001b[0m     \u001b[38;5;28;01mreturn\u001b[39;00m \u001b[43marraylike\u001b[49m\u001b[38;5;241;43m.\u001b[39;49m\u001b[43marray_ufunc\u001b[49m\u001b[43m(\u001b[49m\u001b[38;5;28;43mself\u001b[39;49m\u001b[43m,\u001b[49m\u001b[43m \u001b[49m\u001b[43mufunc\u001b[49m\u001b[43m,\u001b[49m\u001b[43m \u001b[49m\u001b[43mmethod\u001b[49m\u001b[43m,\u001b[49m\u001b[43m \u001b[49m\u001b[38;5;241;43m*\u001b[39;49m\u001b[43minputs\u001b[49m\u001b[43m,\u001b[49m\u001b[43m \u001b[49m\u001b[38;5;241;43m*\u001b[39;49m\u001b[38;5;241;43m*\u001b[39;49m\u001b[43mkwargs\u001b[49m\u001b[43m)\u001b[49m\n",
      "File \u001b[0;32m/Applications/Anaconda/anaconda3/envs/sklearn/lib/python3.9/site-packages/pandas/core/arraylike.py:265\u001b[0m, in \u001b[0;36marray_ufunc\u001b[0;34m(self, ufunc, method, *inputs, **kwargs)\u001b[0m\n\u001b[1;32m    262\u001b[0m     \u001b[38;5;28;01mreturn\u001b[39;00m result\n\u001b[1;32m    264\u001b[0m \u001b[38;5;66;03m# for binary ops, use our custom dunder methods\u001b[39;00m\n\u001b[0;32m--> 265\u001b[0m result \u001b[38;5;241m=\u001b[39m \u001b[43mmaybe_dispatch_ufunc_to_dunder_op\u001b[49m\u001b[43m(\u001b[49m\u001b[38;5;28;43mself\u001b[39;49m\u001b[43m,\u001b[49m\u001b[43m \u001b[49m\u001b[43mufunc\u001b[49m\u001b[43m,\u001b[49m\u001b[43m \u001b[49m\u001b[43mmethod\u001b[49m\u001b[43m,\u001b[49m\u001b[43m \u001b[49m\u001b[38;5;241;43m*\u001b[39;49m\u001b[43minputs\u001b[49m\u001b[43m,\u001b[49m\u001b[43m \u001b[49m\u001b[38;5;241;43m*\u001b[39;49m\u001b[38;5;241;43m*\u001b[39;49m\u001b[43mkwargs\u001b[49m\u001b[43m)\u001b[49m\n\u001b[1;32m    266\u001b[0m \u001b[38;5;28;01mif\u001b[39;00m result \u001b[38;5;129;01mis\u001b[39;00m \u001b[38;5;129;01mnot\u001b[39;00m \u001b[38;5;28mNotImplemented\u001b[39m:\n\u001b[1;32m    267\u001b[0m     \u001b[38;5;28;01mreturn\u001b[39;00m result\n",
      "File \u001b[0;32m/Applications/Anaconda/anaconda3/envs/sklearn/lib/python3.9/site-packages/pandas/_libs/ops_dispatch.pyx:113\u001b[0m, in \u001b[0;36mpandas._libs.ops_dispatch.maybe_dispatch_ufunc_to_dunder_op\u001b[0;34m()\u001b[0m\n",
      "File \u001b[0;32m/Applications/Anaconda/anaconda3/envs/sklearn/lib/python3.9/site-packages/pandas/core/ops/common.py:72\u001b[0m, in \u001b[0;36m_unpack_zerodim_and_defer.<locals>.new_method\u001b[0;34m(self, other)\u001b[0m\n\u001b[1;32m     68\u001b[0m             \u001b[38;5;28;01mreturn\u001b[39;00m \u001b[38;5;28mNotImplemented\u001b[39m\n\u001b[1;32m     70\u001b[0m other \u001b[38;5;241m=\u001b[39m item_from_zerodim(other)\n\u001b[0;32m---> 72\u001b[0m \u001b[38;5;28;01mreturn\u001b[39;00m \u001b[43mmethod\u001b[49m\u001b[43m(\u001b[49m\u001b[38;5;28;43mself\u001b[39;49m\u001b[43m,\u001b[49m\u001b[43m \u001b[49m\u001b[43mother\u001b[49m\u001b[43m)\u001b[49m\n",
      "File \u001b[0;32m/Applications/Anaconda/anaconda3/envs/sklearn/lib/python3.9/site-packages/pandas/core/arraylike.py:42\u001b[0m, in \u001b[0;36mOpsMixin.__eq__\u001b[0;34m(self, other)\u001b[0m\n\u001b[1;32m     40\u001b[0m \u001b[38;5;129m@unpack_zerodim_and_defer\u001b[39m(\u001b[38;5;124m\"\u001b[39m\u001b[38;5;124m__eq__\u001b[39m\u001b[38;5;124m\"\u001b[39m)\n\u001b[1;32m     41\u001b[0m \u001b[38;5;28;01mdef\u001b[39;00m \u001b[38;5;21m__eq__\u001b[39m(\u001b[38;5;28mself\u001b[39m, other):\n\u001b[0;32m---> 42\u001b[0m     \u001b[38;5;28;01mreturn\u001b[39;00m \u001b[38;5;28;43mself\u001b[39;49m\u001b[38;5;241;43m.\u001b[39;49m\u001b[43m_cmp_method\u001b[49m\u001b[43m(\u001b[49m\u001b[43mother\u001b[49m\u001b[43m,\u001b[49m\u001b[43m \u001b[49m\u001b[43moperator\u001b[49m\u001b[38;5;241;43m.\u001b[39;49m\u001b[43meq\u001b[49m\u001b[43m)\u001b[49m\n",
      "File \u001b[0;32m/Applications/Anaconda/anaconda3/envs/sklearn/lib/python3.9/site-packages/pandas/core/series.py:6243\u001b[0m, in \u001b[0;36mSeries._cmp_method\u001b[0;34m(self, other, op)\u001b[0m\n\u001b[1;32m   6240\u001b[0m rvalues \u001b[38;5;241m=\u001b[39m extract_array(other, extract_numpy\u001b[38;5;241m=\u001b[39m\u001b[38;5;28;01mTrue\u001b[39;00m, extract_range\u001b[38;5;241m=\u001b[39m\u001b[38;5;28;01mTrue\u001b[39;00m)\n\u001b[1;32m   6242\u001b[0m \u001b[38;5;28;01mwith\u001b[39;00m np\u001b[38;5;241m.\u001b[39merrstate(\u001b[38;5;28mall\u001b[39m\u001b[38;5;241m=\u001b[39m\u001b[38;5;124m\"\u001b[39m\u001b[38;5;124mignore\u001b[39m\u001b[38;5;124m\"\u001b[39m):\n\u001b[0;32m-> 6243\u001b[0m     res_values \u001b[38;5;241m=\u001b[39m \u001b[43mops\u001b[49m\u001b[38;5;241;43m.\u001b[39;49m\u001b[43mcomparison_op\u001b[49m\u001b[43m(\u001b[49m\u001b[43mlvalues\u001b[49m\u001b[43m,\u001b[49m\u001b[43m \u001b[49m\u001b[43mrvalues\u001b[49m\u001b[43m,\u001b[49m\u001b[43m \u001b[49m\u001b[43mop\u001b[49m\u001b[43m)\u001b[49m\n\u001b[1;32m   6245\u001b[0m \u001b[38;5;28;01mreturn\u001b[39;00m \u001b[38;5;28mself\u001b[39m\u001b[38;5;241m.\u001b[39m_construct_result(res_values, name\u001b[38;5;241m=\u001b[39mres_name)\n",
      "File \u001b[0;32m/Applications/Anaconda/anaconda3/envs/sklearn/lib/python3.9/site-packages/pandas/core/ops/array_ops.py:264\u001b[0m, in \u001b[0;36mcomparison_op\u001b[0;34m(left, right, op)\u001b[0m\n\u001b[1;32m    259\u001b[0m \u001b[38;5;28;01mif\u001b[39;00m \u001b[38;5;28misinstance\u001b[39m(rvalues, (np\u001b[38;5;241m.\u001b[39mndarray, ABCExtensionArray)):\n\u001b[1;32m    260\u001b[0m     \u001b[38;5;66;03m# TODO: make this treatment consistent across ops and classes.\u001b[39;00m\n\u001b[1;32m    261\u001b[0m     \u001b[38;5;66;03m#  We are not catching all listlikes here (e.g. frozenset, tuple)\u001b[39;00m\n\u001b[1;32m    262\u001b[0m     \u001b[38;5;66;03m#  The ambiguous case is object-dtype.  See GH#27803\u001b[39;00m\n\u001b[1;32m    263\u001b[0m     \u001b[38;5;28;01mif\u001b[39;00m \u001b[38;5;28mlen\u001b[39m(lvalues) \u001b[38;5;241m!=\u001b[39m \u001b[38;5;28mlen\u001b[39m(rvalues):\n\u001b[0;32m--> 264\u001b[0m         \u001b[38;5;28;01mraise\u001b[39;00m \u001b[38;5;167;01mValueError\u001b[39;00m(\n\u001b[1;32m    265\u001b[0m             \u001b[38;5;124m\"\u001b[39m\u001b[38;5;124mLengths must match to compare\u001b[39m\u001b[38;5;124m\"\u001b[39m, lvalues\u001b[38;5;241m.\u001b[39mshape, rvalues\u001b[38;5;241m.\u001b[39mshape\n\u001b[1;32m    266\u001b[0m         )\n\u001b[1;32m    268\u001b[0m \u001b[38;5;28;01mif\u001b[39;00m should_extension_dispatch(lvalues, rvalues) \u001b[38;5;129;01mor\u001b[39;00m (\n\u001b[1;32m    269\u001b[0m     (\u001b[38;5;28misinstance\u001b[39m(rvalues, (Timedelta, BaseOffset, Timestamp)) \u001b[38;5;129;01mor\u001b[39;00m right \u001b[38;5;129;01mis\u001b[39;00m NaT)\n\u001b[1;32m    270\u001b[0m     \u001b[38;5;129;01mand\u001b[39;00m \u001b[38;5;129;01mnot\u001b[39;00m is_object_dtype(lvalues\u001b[38;5;241m.\u001b[39mdtype)\n\u001b[1;32m    271\u001b[0m ):\n\u001b[1;32m    272\u001b[0m     \u001b[38;5;66;03m# Call the method on lvalues\u001b[39;00m\n\u001b[1;32m    273\u001b[0m     res_values \u001b[38;5;241m=\u001b[39m op(lvalues, rvalues)\n",
      "\u001b[0;31mValueError\u001b[0m: ('Lengths must match to compare', (126,), (26,))"
     ]
    }
   ],
   "source": [
    "# calculate accuracy\n",
    "# find where predicted = true survival\n",
    "# then divide by the number of predictions/passengers\n",
    "acc = (y_pred == y).sum()/df.shape[0]\n",
    "\n",
    "# Print the accuracy score\n",
    "print(f'Model accuracy = {acc}')"
   ]
  },
  {
   "cell_type": "code",
   "execution_count": 212,
   "id": "56a6baac-a753-4980-adca-bf4b1d075164",
   "metadata": {},
   "outputs": [
    {
     "ename": "NameError",
     "evalue": "name 'logreg_results' is not defined",
     "output_type": "error",
     "traceback": [
      "\u001b[0;31m---------------------------------------------------------------------------\u001b[0m",
      "\u001b[0;31mNameError\u001b[0m                                 Traceback (most recent call last)",
      "Cell \u001b[0;32mIn[212], line 2\u001b[0m\n\u001b[1;32m      1\u001b[0m \u001b[38;5;66;03m# put params into a dataframe\u001b[39;00m\n\u001b[0;32m----> 2\u001b[0m results_df \u001b[38;5;241m=\u001b[39m pd\u001b[38;5;241m.\u001b[39mDataFrame(\u001b[43mlogreg_results\u001b[49m\u001b[38;5;241m.\u001b[39mparams, columns\u001b[38;5;241m=\u001b[39m[\u001b[38;5;124m'\u001b[39m\u001b[38;5;124mCoefficient\u001b[39m\u001b[38;5;124m'\u001b[39m])\n\u001b[1;32m      4\u001b[0m \u001b[38;5;66;03m# view the dataframe\u001b[39;00m\n\u001b[1;32m      5\u001b[0m results_df\n",
      "\u001b[0;31mNameError\u001b[0m: name 'logreg_results' is not defined"
     ]
    }
   ],
   "source": [
    "# put params into a dataframe\n",
    "results_df = pd.DataFrame(logreg_results.params, columns=['Coefficient'])\n",
    "\n",
    "# view the dataframe\n",
    "results_df"
   ]
  },
  {
   "cell_type": "code",
   "execution_count": 213,
   "id": "a4ce8ee4-ad79-4806-8b2e-fc75bd7a421b",
   "metadata": {},
   "outputs": [
    {
     "ename": "NameError",
     "evalue": "name 'results_df' is not defined",
     "output_type": "error",
     "traceback": [
      "\u001b[0;31m---------------------------------------------------------------------------\u001b[0m",
      "\u001b[0;31mNameError\u001b[0m                                 Traceback (most recent call last)",
      "Cell \u001b[0;32mIn[213], line 3\u001b[0m\n\u001b[1;32m      1\u001b[0m \u001b[38;5;66;03m# calculate and add the odds ratios to results_df\u001b[39;00m\n\u001b[1;32m      2\u001b[0m \u001b[38;5;66;03m# log odds is more interpretable\u001b[39;00m\n\u001b[0;32m----> 3\u001b[0m results_df[\u001b[38;5;124m'\u001b[39m\u001b[38;5;124modds_ratio\u001b[39m\u001b[38;5;124m'\u001b[39m] \u001b[38;5;241m=\u001b[39m np\u001b[38;5;241m.\u001b[39mexp(\u001b[43mresults_df\u001b[49m[\u001b[38;5;124m'\u001b[39m\u001b[38;5;124mCoefficient\u001b[39m\u001b[38;5;124m'\u001b[39m])\n\u001b[1;32m      5\u001b[0m \u001b[38;5;66;03m# display the dataframe\u001b[39;00m\n\u001b[1;32m      6\u001b[0m results_df\n",
      "\u001b[0;31mNameError\u001b[0m: name 'results_df' is not defined"
     ]
    }
   ],
   "source": [
    "# calculate and add the odds ratios to results_df\n",
    "# log odds is more interpretable\n",
    "results_df['odds_ratio'] = np.exp(results_df['Coefficient'])\n",
    "\n",
    "# display the dataframe\n",
    "results_df"
   ]
  },
  {
   "cell_type": "markdown",
   "id": "0b4dc69e-d83e-4fc7-b591-0b48751128cb",
   "metadata": {},
   "source": [
    "Each component of the survey shows that it has an impact on the overall happiness of the customer. Time is the largest factor, which makes sense: when you're hungry, you want food as soon as possible."
   ]
  },
  {
   "cell_type": "markdown",
   "id": "449df782-1939-4117-b021-be6783c2829c",
   "metadata": {},
   "source": [
    "Given that the p-values of time was the only factor that was below the 0.05 threshold suggests that we should try this again with only time as the independent variable."
   ]
  },
  {
   "cell_type": "code",
   "execution_count": 214,
   "id": "b852209d-1dfa-4a9c-8959-05b2663ded8e",
   "metadata": {},
   "outputs": [],
   "source": [
    "# add constant to our X\n",
    "X_const=sm.add_constant(df[[col for col in df.columns if col != 'y']])"
   ]
  },
  {
   "cell_type": "code",
   "execution_count": 215,
   "id": "b80a5c6e-cd04-4057-83f7-9141809d6eb1",
   "metadata": {},
   "outputs": [
    {
     "data": {
      "text/html": [
       "<div>\n",
       "<style scoped>\n",
       "    .dataframe tbody tr th:only-of-type {\n",
       "        vertical-align: middle;\n",
       "    }\n",
       "\n",
       "    .dataframe tbody tr th {\n",
       "        vertical-align: top;\n",
       "    }\n",
       "\n",
       "    .dataframe thead th {\n",
       "        text-align: right;\n",
       "    }\n",
       "</style>\n",
       "<table border=\"1\" class=\"dataframe\">\n",
       "  <thead>\n",
       "    <tr style=\"text-align: right;\">\n",
       "      <th></th>\n",
       "    </tr>\n",
       "  </thead>\n",
       "  <tbody>\n",
       "    <tr>\n",
       "      <th>0</th>\n",
       "    </tr>\n",
       "    <tr>\n",
       "      <th>1</th>\n",
       "    </tr>\n",
       "    <tr>\n",
       "      <th>2</th>\n",
       "    </tr>\n",
       "    <tr>\n",
       "      <th>3</th>\n",
       "    </tr>\n",
       "    <tr>\n",
       "      <th>4</th>\n",
       "    </tr>\n",
       "    <tr>\n",
       "      <th>...</th>\n",
       "    </tr>\n",
       "    <tr>\n",
       "      <th>121</th>\n",
       "    </tr>\n",
       "    <tr>\n",
       "      <th>122</th>\n",
       "    </tr>\n",
       "    <tr>\n",
       "      <th>123</th>\n",
       "    </tr>\n",
       "    <tr>\n",
       "      <th>124</th>\n",
       "    </tr>\n",
       "    <tr>\n",
       "      <th>125</th>\n",
       "    </tr>\n",
       "  </tbody>\n",
       "</table>\n",
       "<p>126 rows × 0 columns</p>\n",
       "</div>"
      ],
      "text/plain": [
       "Empty DataFrame\n",
       "Columns: []\n",
       "Index: [0, 1, 2, 3, 4, 5, 6, 7, 8, 9, 10, 11, 12, 13, 14, 15, 16, 17, 18, 19, 20, 21, 22, 23, 24, 25, 26, 27, 28, 29, 30, 31, 32, 33, 34, 35, 36, 37, 38, 39, 40, 41, 42, 43, 44, 45, 46, 47, 48, 49, 50, 51, 52, 53, 54, 55, 56, 57, 58, 59, 60, 61, 62, 63, 64, 65, 66, 67, 68, 69, 70, 71, 72, 73, 74, 75, 76, 77, 78, 79, 80, 81, 82, 83, 84, 85, 86, 87, 88, 89, 90, 91, 92, 93, 94, 95, 96, 97, 98, 99, ...]\n",
       "\n",
       "[126 rows x 0 columns]"
      ]
     },
     "execution_count": 215,
     "metadata": {},
     "output_type": "execute_result"
    }
   ],
   "source": [
    "# check it out\n",
    "X_const=X_const.drop([col for col in X_const.columns if (col !='a_time') or (col !='const')],axis=1)\n",
    "X_const"
   ]
  },
  {
   "cell_type": "code",
   "execution_count": 216,
   "id": "714b1dd5-2c33-4fd7-9d87-d5d416006c81",
   "metadata": {},
   "outputs": [
    {
     "ename": "ValueError",
     "evalue": "zero-size array to reduction operation maximum which has no identity",
     "output_type": "error",
     "traceback": [
      "\u001b[0;31m---------------------------------------------------------------------------\u001b[0m",
      "\u001b[0;31mValueError\u001b[0m                                Traceback (most recent call last)",
      "Cell \u001b[0;32mIn[216], line 2\u001b[0m\n\u001b[1;32m      1\u001b[0m \u001b[38;5;66;03m# instantiate the logistic regression model \u001b[39;00m\n\u001b[0;32m----> 2\u001b[0m logreg \u001b[38;5;241m=\u001b[39m \u001b[43msm\u001b[49m\u001b[38;5;241;43m.\u001b[39;49m\u001b[43mLogit\u001b[49m\u001b[43m(\u001b[49m\u001b[43my\u001b[49m\u001b[43m,\u001b[49m\u001b[43m \u001b[49m\u001b[43mX_const\u001b[49m\u001b[43m)\u001b[49m\n\u001b[1;32m      4\u001b[0m \u001b[38;5;66;03m# fit the model\u001b[39;00m\n\u001b[1;32m      5\u001b[0m logreg_results \u001b[38;5;241m=\u001b[39m logreg\u001b[38;5;241m.\u001b[39mfit()\n",
      "File \u001b[0;32m/Applications/Anaconda/anaconda3/envs/sklearn/lib/python3.9/site-packages/statsmodels/discrete/discrete_model.py:462\u001b[0m, in \u001b[0;36mBinaryModel.__init__\u001b[0;34m(self, endog, exog, check_rank, **kwargs)\u001b[0m\n\u001b[1;32m    459\u001b[0m \u001b[38;5;28;01mdef\u001b[39;00m \u001b[38;5;21m__init__\u001b[39m(\u001b[38;5;28mself\u001b[39m, endog, exog, check_rank\u001b[38;5;241m=\u001b[39m\u001b[38;5;28;01mTrue\u001b[39;00m, \u001b[38;5;241m*\u001b[39m\u001b[38;5;241m*\u001b[39mkwargs):\n\u001b[1;32m    460\u001b[0m     \u001b[38;5;66;03m# unconditional check, requires no extra kwargs added by subclasses\u001b[39;00m\n\u001b[1;32m    461\u001b[0m     \u001b[38;5;28mself\u001b[39m\u001b[38;5;241m.\u001b[39m_check_kwargs(kwargs)\n\u001b[0;32m--> 462\u001b[0m     \u001b[38;5;28;43msuper\u001b[39;49m\u001b[43m(\u001b[49m\u001b[43m)\u001b[49m\u001b[38;5;241;43m.\u001b[39;49m\u001b[38;5;21;43m__init__\u001b[39;49m\u001b[43m(\u001b[49m\u001b[43mendog\u001b[49m\u001b[43m,\u001b[49m\u001b[43m \u001b[49m\u001b[43mexog\u001b[49m\u001b[43m,\u001b[49m\u001b[43m \u001b[49m\u001b[43mcheck_rank\u001b[49m\u001b[43m,\u001b[49m\u001b[43m \u001b[49m\u001b[38;5;241;43m*\u001b[39;49m\u001b[38;5;241;43m*\u001b[39;49m\u001b[43mkwargs\u001b[49m\u001b[43m)\u001b[49m\n\u001b[1;32m    463\u001b[0m     \u001b[38;5;28;01mif\u001b[39;00m \u001b[38;5;129;01mnot\u001b[39;00m \u001b[38;5;28missubclass\u001b[39m(\u001b[38;5;28mself\u001b[39m\u001b[38;5;241m.\u001b[39m\u001b[38;5;18m__class__\u001b[39m, MultinomialModel):\n\u001b[1;32m    464\u001b[0m         \u001b[38;5;28;01mif\u001b[39;00m \u001b[38;5;129;01mnot\u001b[39;00m np\u001b[38;5;241m.\u001b[39mall((\u001b[38;5;28mself\u001b[39m\u001b[38;5;241m.\u001b[39mendog \u001b[38;5;241m>\u001b[39m\u001b[38;5;241m=\u001b[39m \u001b[38;5;241m0\u001b[39m) \u001b[38;5;241m&\u001b[39m (\u001b[38;5;28mself\u001b[39m\u001b[38;5;241m.\u001b[39mendog \u001b[38;5;241m<\u001b[39m\u001b[38;5;241m=\u001b[39m \u001b[38;5;241m1\u001b[39m)):\n",
      "File \u001b[0;32m/Applications/Anaconda/anaconda3/envs/sklearn/lib/python3.9/site-packages/statsmodels/discrete/discrete_model.py:178\u001b[0m, in \u001b[0;36mDiscreteModel.__init__\u001b[0;34m(self, endog, exog, check_rank, **kwargs)\u001b[0m\n\u001b[1;32m    176\u001b[0m \u001b[38;5;28;01mdef\u001b[39;00m \u001b[38;5;21m__init__\u001b[39m(\u001b[38;5;28mself\u001b[39m, endog, exog, check_rank\u001b[38;5;241m=\u001b[39m\u001b[38;5;28;01mTrue\u001b[39;00m, \u001b[38;5;241m*\u001b[39m\u001b[38;5;241m*\u001b[39mkwargs):\n\u001b[1;32m    177\u001b[0m     \u001b[38;5;28mself\u001b[39m\u001b[38;5;241m.\u001b[39m_check_rank \u001b[38;5;241m=\u001b[39m check_rank\n\u001b[0;32m--> 178\u001b[0m     \u001b[38;5;28;43msuper\u001b[39;49m\u001b[43m(\u001b[49m\u001b[43m)\u001b[49m\u001b[38;5;241;43m.\u001b[39;49m\u001b[38;5;21;43m__init__\u001b[39;49m\u001b[43m(\u001b[49m\u001b[43mendog\u001b[49m\u001b[43m,\u001b[49m\u001b[43m \u001b[49m\u001b[43mexog\u001b[49m\u001b[43m,\u001b[49m\u001b[43m \u001b[49m\u001b[38;5;241;43m*\u001b[39;49m\u001b[38;5;241;43m*\u001b[39;49m\u001b[43mkwargs\u001b[49m\u001b[43m)\u001b[49m\n\u001b[1;32m    179\u001b[0m     \u001b[38;5;28mself\u001b[39m\u001b[38;5;241m.\u001b[39mraise_on_perfect_prediction \u001b[38;5;241m=\u001b[39m \u001b[38;5;28;01mTrue\u001b[39;00m\n",
      "File \u001b[0;32m/Applications/Anaconda/anaconda3/envs/sklearn/lib/python3.9/site-packages/statsmodels/base/model.py:267\u001b[0m, in \u001b[0;36mLikelihoodModel.__init__\u001b[0;34m(self, endog, exog, **kwargs)\u001b[0m\n\u001b[1;32m    266\u001b[0m \u001b[38;5;28;01mdef\u001b[39;00m \u001b[38;5;21m__init__\u001b[39m(\u001b[38;5;28mself\u001b[39m, endog, exog\u001b[38;5;241m=\u001b[39m\u001b[38;5;28;01mNone\u001b[39;00m, \u001b[38;5;241m*\u001b[39m\u001b[38;5;241m*\u001b[39mkwargs):\n\u001b[0;32m--> 267\u001b[0m     \u001b[38;5;28;43msuper\u001b[39;49m\u001b[43m(\u001b[49m\u001b[43m)\u001b[49m\u001b[38;5;241;43m.\u001b[39;49m\u001b[38;5;21;43m__init__\u001b[39;49m\u001b[43m(\u001b[49m\u001b[43mendog\u001b[49m\u001b[43m,\u001b[49m\u001b[43m \u001b[49m\u001b[43mexog\u001b[49m\u001b[43m,\u001b[49m\u001b[43m \u001b[49m\u001b[38;5;241;43m*\u001b[39;49m\u001b[38;5;241;43m*\u001b[39;49m\u001b[43mkwargs\u001b[49m\u001b[43m)\u001b[49m\n\u001b[1;32m    268\u001b[0m     \u001b[38;5;28mself\u001b[39m\u001b[38;5;241m.\u001b[39minitialize()\n",
      "File \u001b[0;32m/Applications/Anaconda/anaconda3/envs/sklearn/lib/python3.9/site-packages/statsmodels/base/model.py:92\u001b[0m, in \u001b[0;36mModel.__init__\u001b[0;34m(self, endog, exog, **kwargs)\u001b[0m\n\u001b[1;32m     90\u001b[0m missing \u001b[38;5;241m=\u001b[39m kwargs\u001b[38;5;241m.\u001b[39mpop(\u001b[38;5;124m'\u001b[39m\u001b[38;5;124mmissing\u001b[39m\u001b[38;5;124m'\u001b[39m, \u001b[38;5;124m'\u001b[39m\u001b[38;5;124mnone\u001b[39m\u001b[38;5;124m'\u001b[39m)\n\u001b[1;32m     91\u001b[0m hasconst \u001b[38;5;241m=\u001b[39m kwargs\u001b[38;5;241m.\u001b[39mpop(\u001b[38;5;124m'\u001b[39m\u001b[38;5;124mhasconst\u001b[39m\u001b[38;5;124m'\u001b[39m, \u001b[38;5;28;01mNone\u001b[39;00m)\n\u001b[0;32m---> 92\u001b[0m \u001b[38;5;28mself\u001b[39m\u001b[38;5;241m.\u001b[39mdata \u001b[38;5;241m=\u001b[39m \u001b[38;5;28;43mself\u001b[39;49m\u001b[38;5;241;43m.\u001b[39;49m\u001b[43m_handle_data\u001b[49m\u001b[43m(\u001b[49m\u001b[43mendog\u001b[49m\u001b[43m,\u001b[49m\u001b[43m \u001b[49m\u001b[43mexog\u001b[49m\u001b[43m,\u001b[49m\u001b[43m \u001b[49m\u001b[43mmissing\u001b[49m\u001b[43m,\u001b[49m\u001b[43m \u001b[49m\u001b[43mhasconst\u001b[49m\u001b[43m,\u001b[49m\n\u001b[1;32m     93\u001b[0m \u001b[43m                              \u001b[49m\u001b[38;5;241;43m*\u001b[39;49m\u001b[38;5;241;43m*\u001b[39;49m\u001b[43mkwargs\u001b[49m\u001b[43m)\u001b[49m\n\u001b[1;32m     94\u001b[0m \u001b[38;5;28mself\u001b[39m\u001b[38;5;241m.\u001b[39mk_constant \u001b[38;5;241m=\u001b[39m \u001b[38;5;28mself\u001b[39m\u001b[38;5;241m.\u001b[39mdata\u001b[38;5;241m.\u001b[39mk_constant\n\u001b[1;32m     95\u001b[0m \u001b[38;5;28mself\u001b[39m\u001b[38;5;241m.\u001b[39mexog \u001b[38;5;241m=\u001b[39m \u001b[38;5;28mself\u001b[39m\u001b[38;5;241m.\u001b[39mdata\u001b[38;5;241m.\u001b[39mexog\n",
      "File \u001b[0;32m/Applications/Anaconda/anaconda3/envs/sklearn/lib/python3.9/site-packages/statsmodels/base/model.py:132\u001b[0m, in \u001b[0;36mModel._handle_data\u001b[0;34m(self, endog, exog, missing, hasconst, **kwargs)\u001b[0m\n\u001b[1;32m    131\u001b[0m \u001b[38;5;28;01mdef\u001b[39;00m \u001b[38;5;21m_handle_data\u001b[39m(\u001b[38;5;28mself\u001b[39m, endog, exog, missing, hasconst, \u001b[38;5;241m*\u001b[39m\u001b[38;5;241m*\u001b[39mkwargs):\n\u001b[0;32m--> 132\u001b[0m     data \u001b[38;5;241m=\u001b[39m \u001b[43mhandle_data\u001b[49m\u001b[43m(\u001b[49m\u001b[43mendog\u001b[49m\u001b[43m,\u001b[49m\u001b[43m \u001b[49m\u001b[43mexog\u001b[49m\u001b[43m,\u001b[49m\u001b[43m \u001b[49m\u001b[43mmissing\u001b[49m\u001b[43m,\u001b[49m\u001b[43m \u001b[49m\u001b[43mhasconst\u001b[49m\u001b[43m,\u001b[49m\u001b[43m \u001b[49m\u001b[38;5;241;43m*\u001b[39;49m\u001b[38;5;241;43m*\u001b[39;49m\u001b[43mkwargs\u001b[49m\u001b[43m)\u001b[49m\n\u001b[1;32m    133\u001b[0m     \u001b[38;5;66;03m# kwargs arrays could have changed, easier to just attach here\u001b[39;00m\n\u001b[1;32m    134\u001b[0m     \u001b[38;5;28;01mfor\u001b[39;00m key \u001b[38;5;129;01min\u001b[39;00m kwargs:\n",
      "File \u001b[0;32m/Applications/Anaconda/anaconda3/envs/sklearn/lib/python3.9/site-packages/statsmodels/base/data.py:673\u001b[0m, in \u001b[0;36mhandle_data\u001b[0;34m(endog, exog, missing, hasconst, **kwargs)\u001b[0m\n\u001b[1;32m    670\u001b[0m     exog \u001b[38;5;241m=\u001b[39m np\u001b[38;5;241m.\u001b[39masarray(exog)\n\u001b[1;32m    672\u001b[0m klass \u001b[38;5;241m=\u001b[39m handle_data_class_factory(endog, exog)\n\u001b[0;32m--> 673\u001b[0m \u001b[38;5;28;01mreturn\u001b[39;00m \u001b[43mklass\u001b[49m\u001b[43m(\u001b[49m\u001b[43mendog\u001b[49m\u001b[43m,\u001b[49m\u001b[43m \u001b[49m\u001b[43mexog\u001b[49m\u001b[38;5;241;43m=\u001b[39;49m\u001b[43mexog\u001b[49m\u001b[43m,\u001b[49m\u001b[43m \u001b[49m\u001b[43mmissing\u001b[49m\u001b[38;5;241;43m=\u001b[39;49m\u001b[43mmissing\u001b[49m\u001b[43m,\u001b[49m\u001b[43m \u001b[49m\u001b[43mhasconst\u001b[49m\u001b[38;5;241;43m=\u001b[39;49m\u001b[43mhasconst\u001b[49m\u001b[43m,\u001b[49m\n\u001b[1;32m    674\u001b[0m \u001b[43m             \u001b[49m\u001b[38;5;241;43m*\u001b[39;49m\u001b[38;5;241;43m*\u001b[39;49m\u001b[43mkwargs\u001b[49m\u001b[43m)\u001b[49m\n",
      "File \u001b[0;32m/Applications/Anaconda/anaconda3/envs/sklearn/lib/python3.9/site-packages/statsmodels/base/data.py:86\u001b[0m, in \u001b[0;36mModelData.__init__\u001b[0;34m(self, endog, exog, missing, hasconst, **kwargs)\u001b[0m\n\u001b[1;32m     84\u001b[0m \u001b[38;5;28mself\u001b[39m\u001b[38;5;241m.\u001b[39mconst_idx \u001b[38;5;241m=\u001b[39m \u001b[38;5;28;01mNone\u001b[39;00m\n\u001b[1;32m     85\u001b[0m \u001b[38;5;28mself\u001b[39m\u001b[38;5;241m.\u001b[39mk_constant \u001b[38;5;241m=\u001b[39m \u001b[38;5;241m0\u001b[39m\n\u001b[0;32m---> 86\u001b[0m \u001b[38;5;28;43mself\u001b[39;49m\u001b[38;5;241;43m.\u001b[39;49m\u001b[43m_handle_constant\u001b[49m\u001b[43m(\u001b[49m\u001b[43mhasconst\u001b[49m\u001b[43m)\u001b[49m\n\u001b[1;32m     87\u001b[0m \u001b[38;5;28mself\u001b[39m\u001b[38;5;241m.\u001b[39m_check_integrity()\n\u001b[1;32m     88\u001b[0m \u001b[38;5;28mself\u001b[39m\u001b[38;5;241m.\u001b[39m_cache \u001b[38;5;241m=\u001b[39m {}\n",
      "File \u001b[0;32m/Applications/Anaconda/anaconda3/envs/sklearn/lib/python3.9/site-packages/statsmodels/base/data.py:176\u001b[0m, in \u001b[0;36mModelData._handle_constant\u001b[0;34m(self, hasconst)\u001b[0m\n\u001b[1;32m    173\u001b[0m augmented_exog \u001b[38;5;241m=\u001b[39m np\u001b[38;5;241m.\u001b[39mcolumn_stack(\n\u001b[1;32m    174\u001b[0m             (np\u001b[38;5;241m.\u001b[39mones(\u001b[38;5;28mself\u001b[39m\u001b[38;5;241m.\u001b[39mexog\u001b[38;5;241m.\u001b[39mshape[\u001b[38;5;241m0\u001b[39m]), \u001b[38;5;28mself\u001b[39m\u001b[38;5;241m.\u001b[39mexog))\n\u001b[1;32m    175\u001b[0m rank_augm \u001b[38;5;241m=\u001b[39m np\u001b[38;5;241m.\u001b[39mlinalg\u001b[38;5;241m.\u001b[39mmatrix_rank(augmented_exog)\n\u001b[0;32m--> 176\u001b[0m rank_orig \u001b[38;5;241m=\u001b[39m \u001b[43mnp\u001b[49m\u001b[38;5;241;43m.\u001b[39;49m\u001b[43mlinalg\u001b[49m\u001b[38;5;241;43m.\u001b[39;49m\u001b[43mmatrix_rank\u001b[49m\u001b[43m(\u001b[49m\u001b[38;5;28;43mself\u001b[39;49m\u001b[38;5;241;43m.\u001b[39;49m\u001b[43mexog\u001b[49m\u001b[43m)\u001b[49m\n\u001b[1;32m    177\u001b[0m \u001b[38;5;28mself\u001b[39m\u001b[38;5;241m.\u001b[39mk_constant \u001b[38;5;241m=\u001b[39m \u001b[38;5;28mint\u001b[39m(rank_orig \u001b[38;5;241m==\u001b[39m rank_augm)\n\u001b[1;32m    178\u001b[0m \u001b[38;5;28mself\u001b[39m\u001b[38;5;241m.\u001b[39mconst_idx \u001b[38;5;241m=\u001b[39m \u001b[38;5;28;01mNone\u001b[39;00m\n",
      "File \u001b[0;32m/Applications/Anaconda/anaconda3/envs/sklearn/lib/python3.9/site-packages/numpy/linalg/linalg.py:1924\u001b[0m, in \u001b[0;36mmatrix_rank\u001b[0;34m(A, tol, hermitian)\u001b[0m\n\u001b[1;32m   1922\u001b[0m S \u001b[38;5;241m=\u001b[39m svd(A, compute_uv\u001b[38;5;241m=\u001b[39m\u001b[38;5;28;01mFalse\u001b[39;00m, hermitian\u001b[38;5;241m=\u001b[39mhermitian)\n\u001b[1;32m   1923\u001b[0m \u001b[38;5;28;01mif\u001b[39;00m tol \u001b[38;5;129;01mis\u001b[39;00m \u001b[38;5;28;01mNone\u001b[39;00m:\n\u001b[0;32m-> 1924\u001b[0m     tol \u001b[38;5;241m=\u001b[39m \u001b[43mS\u001b[49m\u001b[38;5;241;43m.\u001b[39;49m\u001b[43mmax\u001b[49m\u001b[43m(\u001b[49m\u001b[43maxis\u001b[49m\u001b[38;5;241;43m=\u001b[39;49m\u001b[38;5;241;43m-\u001b[39;49m\u001b[38;5;241;43m1\u001b[39;49m\u001b[43m,\u001b[49m\u001b[43m \u001b[49m\u001b[43mkeepdims\u001b[49m\u001b[38;5;241;43m=\u001b[39;49m\u001b[38;5;28;43;01mTrue\u001b[39;49;00m\u001b[43m)\u001b[49m \u001b[38;5;241m*\u001b[39m \u001b[38;5;28mmax\u001b[39m(A\u001b[38;5;241m.\u001b[39mshape[\u001b[38;5;241m-\u001b[39m\u001b[38;5;241m2\u001b[39m:]) \u001b[38;5;241m*\u001b[39m finfo(S\u001b[38;5;241m.\u001b[39mdtype)\u001b[38;5;241m.\u001b[39meps\n\u001b[1;32m   1925\u001b[0m \u001b[38;5;28;01melse\u001b[39;00m:\n\u001b[1;32m   1926\u001b[0m     tol \u001b[38;5;241m=\u001b[39m asarray(tol)[\u001b[38;5;241m.\u001b[39m\u001b[38;5;241m.\u001b[39m\u001b[38;5;241m.\u001b[39m, newaxis]\n",
      "File \u001b[0;32m/Applications/Anaconda/anaconda3/envs/sklearn/lib/python3.9/site-packages/numpy/core/_methods.py:41\u001b[0m, in \u001b[0;36m_amax\u001b[0;34m(a, axis, out, keepdims, initial, where)\u001b[0m\n\u001b[1;32m     39\u001b[0m \u001b[38;5;28;01mdef\u001b[39;00m \u001b[38;5;21m_amax\u001b[39m(a, axis\u001b[38;5;241m=\u001b[39m\u001b[38;5;28;01mNone\u001b[39;00m, out\u001b[38;5;241m=\u001b[39m\u001b[38;5;28;01mNone\u001b[39;00m, keepdims\u001b[38;5;241m=\u001b[39m\u001b[38;5;28;01mFalse\u001b[39;00m,\n\u001b[1;32m     40\u001b[0m           initial\u001b[38;5;241m=\u001b[39m_NoValue, where\u001b[38;5;241m=\u001b[39m\u001b[38;5;28;01mTrue\u001b[39;00m):\n\u001b[0;32m---> 41\u001b[0m     \u001b[38;5;28;01mreturn\u001b[39;00m \u001b[43mumr_maximum\u001b[49m\u001b[43m(\u001b[49m\u001b[43ma\u001b[49m\u001b[43m,\u001b[49m\u001b[43m \u001b[49m\u001b[43maxis\u001b[49m\u001b[43m,\u001b[49m\u001b[43m \u001b[49m\u001b[38;5;28;43;01mNone\u001b[39;49;00m\u001b[43m,\u001b[49m\u001b[43m \u001b[49m\u001b[43mout\u001b[49m\u001b[43m,\u001b[49m\u001b[43m \u001b[49m\u001b[43mkeepdims\u001b[49m\u001b[43m,\u001b[49m\u001b[43m \u001b[49m\u001b[43minitial\u001b[49m\u001b[43m,\u001b[49m\u001b[43m \u001b[49m\u001b[43mwhere\u001b[49m\u001b[43m)\u001b[49m\n",
      "\u001b[0;31mValueError\u001b[0m: zero-size array to reduction operation maximum which has no identity"
     ]
    }
   ],
   "source": [
    "# instantiate the logistic regression model \n",
    "logreg = sm.Logit(y, X_const)\n",
    "\n",
    "# fit the model\n",
    "logreg_results = logreg.fit()\n",
    "\n",
    "# display the results \n",
    "logreg_results.summary()"
   ]
  },
  {
   "cell_type": "code",
   "execution_count": 217,
   "id": "974a51fe-81fb-474b-8fcc-caec54446a6e",
   "metadata": {},
   "outputs": [
    {
     "ename": "NameError",
     "evalue": "name 'logreg_results' is not defined",
     "output_type": "error",
     "traceback": [
      "\u001b[0;31m---------------------------------------------------------------------------\u001b[0m",
      "\u001b[0;31mNameError\u001b[0m                                 Traceback (most recent call last)",
      "Cell \u001b[0;32mIn[217], line 3\u001b[0m\n\u001b[1;32m      1\u001b[0m \u001b[38;5;66;03m# getting the model predictions as probabilities \u001b[39;00m\n\u001b[1;32m      2\u001b[0m \u001b[38;5;66;03m# and saving to 'y_proba'\u001b[39;00m\n\u001b[0;32m----> 3\u001b[0m y_proba \u001b[38;5;241m=\u001b[39m \u001b[43mlogreg_results\u001b[49m\u001b[38;5;241m.\u001b[39mpredict(X_const)\n\u001b[1;32m      5\u001b[0m \u001b[38;5;66;03m# view \u001b[39;00m\n\u001b[1;32m      6\u001b[0m y_proba\n",
      "\u001b[0;31mNameError\u001b[0m: name 'logreg_results' is not defined"
     ]
    }
   ],
   "source": [
    "# getting the model predictions as probabilities \n",
    "# and saving to 'y_proba'\n",
    "y_proba = logreg_results.predict(X_const)\n",
    "\n",
    "# view \n",
    "y_proba"
   ]
  },
  {
   "cell_type": "code",
   "execution_count": 218,
   "id": "fc671e94-5aeb-41a1-88cd-4ddd4528c25f",
   "metadata": {},
   "outputs": [
    {
     "ename": "NameError",
     "evalue": "name 'y_proba' is not defined",
     "output_type": "error",
     "traceback": [
      "\u001b[0;31m---------------------------------------------------------------------------\u001b[0m",
      "\u001b[0;31mNameError\u001b[0m                                 Traceback (most recent call last)",
      "Cell \u001b[0;32mIn[218], line 4\u001b[0m\n\u001b[1;32m      1\u001b[0m \u001b[38;5;66;03m# assume probability >=50%\u001b[39;00m\n\u001b[1;32m      2\u001b[0m \u001b[38;5;66;03m# is a happy customer prediction\u001b[39;00m\n\u001b[1;32m      3\u001b[0m \u001b[38;5;66;03m# so we'll make the soft preds into hard preds\u001b[39;00m\n\u001b[0;32m----> 4\u001b[0m y_pred \u001b[38;5;241m=\u001b[39m np\u001b[38;5;241m.\u001b[39mwhere(\u001b[43my_proba\u001b[49m \u001b[38;5;241m>\u001b[39m\u001b[38;5;241m=\u001b[39m \u001b[38;5;241m0.5\u001b[39m, \u001b[38;5;241m1\u001b[39m, \u001b[38;5;241m0\u001b[39m)\n\u001b[1;32m      6\u001b[0m \u001b[38;5;66;03m# look at the model's predictions\u001b[39;00m\n\u001b[1;32m      7\u001b[0m y_pred\n",
      "\u001b[0;31mNameError\u001b[0m: name 'y_proba' is not defined"
     ]
    }
   ],
   "source": [
    "# assume probability >=50%\n",
    "# is a happy customer prediction\n",
    "# so we'll make the soft preds into hard preds\n",
    "y_pred = np.where(y_proba >= 0.5, 1, 0)\n",
    "\n",
    "# look at the model's predictions\n",
    "y_pred"
   ]
  },
  {
   "cell_type": "code",
   "execution_count": 219,
   "id": "6b5f3dbf-4021-433a-ba9e-2c2b009a969d",
   "metadata": {},
   "outputs": [
    {
     "ename": "ValueError",
     "evalue": "('Lengths must match to compare', (126,), (26,))",
     "output_type": "error",
     "traceback": [
      "\u001b[0;31m---------------------------------------------------------------------------\u001b[0m",
      "\u001b[0;31mValueError\u001b[0m                                Traceback (most recent call last)",
      "Cell \u001b[0;32mIn[219], line 4\u001b[0m\n\u001b[1;32m      1\u001b[0m \u001b[38;5;66;03m# calculate accuracy\u001b[39;00m\n\u001b[1;32m      2\u001b[0m \u001b[38;5;66;03m# find where predicted = true survival\u001b[39;00m\n\u001b[1;32m      3\u001b[0m \u001b[38;5;66;03m# then divide by the number of predictions/passengers\u001b[39;00m\n\u001b[0;32m----> 4\u001b[0m acc \u001b[38;5;241m=\u001b[39m (\u001b[43my_pred\u001b[49m\u001b[43m \u001b[49m\u001b[38;5;241;43m==\u001b[39;49m\u001b[43m \u001b[49m\u001b[43my\u001b[49m)\u001b[38;5;241m.\u001b[39msum()\u001b[38;5;241m/\u001b[39mdf\u001b[38;5;241m.\u001b[39mshape[\u001b[38;5;241m0\u001b[39m]\n\u001b[1;32m      6\u001b[0m \u001b[38;5;66;03m# Print the accuracy score\u001b[39;00m\n\u001b[1;32m      7\u001b[0m \u001b[38;5;28mprint\u001b[39m(\u001b[38;5;124mf\u001b[39m\u001b[38;5;124m'\u001b[39m\u001b[38;5;124mModel accuracy = \u001b[39m\u001b[38;5;132;01m{\u001b[39;00macc\u001b[38;5;132;01m}\u001b[39;00m\u001b[38;5;124m'\u001b[39m)\n",
      "File \u001b[0;32m/Applications/Anaconda/anaconda3/envs/sklearn/lib/python3.9/site-packages/pandas/core/generic.py:2113\u001b[0m, in \u001b[0;36mNDFrame.__array_ufunc__\u001b[0;34m(self, ufunc, method, *inputs, **kwargs)\u001b[0m\n\u001b[1;32m   2109\u001b[0m \u001b[38;5;129m@final\u001b[39m\n\u001b[1;32m   2110\u001b[0m \u001b[38;5;28;01mdef\u001b[39;00m \u001b[38;5;21m__array_ufunc__\u001b[39m(\n\u001b[1;32m   2111\u001b[0m     \u001b[38;5;28mself\u001b[39m, ufunc: np\u001b[38;5;241m.\u001b[39mufunc, method: \u001b[38;5;28mstr\u001b[39m, \u001b[38;5;241m*\u001b[39minputs: Any, \u001b[38;5;241m*\u001b[39m\u001b[38;5;241m*\u001b[39mkwargs: Any\n\u001b[1;32m   2112\u001b[0m ):\n\u001b[0;32m-> 2113\u001b[0m     \u001b[38;5;28;01mreturn\u001b[39;00m \u001b[43marraylike\u001b[49m\u001b[38;5;241;43m.\u001b[39;49m\u001b[43marray_ufunc\u001b[49m\u001b[43m(\u001b[49m\u001b[38;5;28;43mself\u001b[39;49m\u001b[43m,\u001b[49m\u001b[43m \u001b[49m\u001b[43mufunc\u001b[49m\u001b[43m,\u001b[49m\u001b[43m \u001b[49m\u001b[43mmethod\u001b[49m\u001b[43m,\u001b[49m\u001b[43m \u001b[49m\u001b[38;5;241;43m*\u001b[39;49m\u001b[43minputs\u001b[49m\u001b[43m,\u001b[49m\u001b[43m \u001b[49m\u001b[38;5;241;43m*\u001b[39;49m\u001b[38;5;241;43m*\u001b[39;49m\u001b[43mkwargs\u001b[49m\u001b[43m)\u001b[49m\n",
      "File \u001b[0;32m/Applications/Anaconda/anaconda3/envs/sklearn/lib/python3.9/site-packages/pandas/core/arraylike.py:265\u001b[0m, in \u001b[0;36marray_ufunc\u001b[0;34m(self, ufunc, method, *inputs, **kwargs)\u001b[0m\n\u001b[1;32m    262\u001b[0m     \u001b[38;5;28;01mreturn\u001b[39;00m result\n\u001b[1;32m    264\u001b[0m \u001b[38;5;66;03m# for binary ops, use our custom dunder methods\u001b[39;00m\n\u001b[0;32m--> 265\u001b[0m result \u001b[38;5;241m=\u001b[39m \u001b[43mmaybe_dispatch_ufunc_to_dunder_op\u001b[49m\u001b[43m(\u001b[49m\u001b[38;5;28;43mself\u001b[39;49m\u001b[43m,\u001b[49m\u001b[43m \u001b[49m\u001b[43mufunc\u001b[49m\u001b[43m,\u001b[49m\u001b[43m \u001b[49m\u001b[43mmethod\u001b[49m\u001b[43m,\u001b[49m\u001b[43m \u001b[49m\u001b[38;5;241;43m*\u001b[39;49m\u001b[43minputs\u001b[49m\u001b[43m,\u001b[49m\u001b[43m \u001b[49m\u001b[38;5;241;43m*\u001b[39;49m\u001b[38;5;241;43m*\u001b[39;49m\u001b[43mkwargs\u001b[49m\u001b[43m)\u001b[49m\n\u001b[1;32m    266\u001b[0m \u001b[38;5;28;01mif\u001b[39;00m result \u001b[38;5;129;01mis\u001b[39;00m \u001b[38;5;129;01mnot\u001b[39;00m \u001b[38;5;28mNotImplemented\u001b[39m:\n\u001b[1;32m    267\u001b[0m     \u001b[38;5;28;01mreturn\u001b[39;00m result\n",
      "File \u001b[0;32m/Applications/Anaconda/anaconda3/envs/sklearn/lib/python3.9/site-packages/pandas/_libs/ops_dispatch.pyx:113\u001b[0m, in \u001b[0;36mpandas._libs.ops_dispatch.maybe_dispatch_ufunc_to_dunder_op\u001b[0;34m()\u001b[0m\n",
      "File \u001b[0;32m/Applications/Anaconda/anaconda3/envs/sklearn/lib/python3.9/site-packages/pandas/core/ops/common.py:72\u001b[0m, in \u001b[0;36m_unpack_zerodim_and_defer.<locals>.new_method\u001b[0;34m(self, other)\u001b[0m\n\u001b[1;32m     68\u001b[0m             \u001b[38;5;28;01mreturn\u001b[39;00m \u001b[38;5;28mNotImplemented\u001b[39m\n\u001b[1;32m     70\u001b[0m other \u001b[38;5;241m=\u001b[39m item_from_zerodim(other)\n\u001b[0;32m---> 72\u001b[0m \u001b[38;5;28;01mreturn\u001b[39;00m \u001b[43mmethod\u001b[49m\u001b[43m(\u001b[49m\u001b[38;5;28;43mself\u001b[39;49m\u001b[43m,\u001b[49m\u001b[43m \u001b[49m\u001b[43mother\u001b[49m\u001b[43m)\u001b[49m\n",
      "File \u001b[0;32m/Applications/Anaconda/anaconda3/envs/sklearn/lib/python3.9/site-packages/pandas/core/arraylike.py:42\u001b[0m, in \u001b[0;36mOpsMixin.__eq__\u001b[0;34m(self, other)\u001b[0m\n\u001b[1;32m     40\u001b[0m \u001b[38;5;129m@unpack_zerodim_and_defer\u001b[39m(\u001b[38;5;124m\"\u001b[39m\u001b[38;5;124m__eq__\u001b[39m\u001b[38;5;124m\"\u001b[39m)\n\u001b[1;32m     41\u001b[0m \u001b[38;5;28;01mdef\u001b[39;00m \u001b[38;5;21m__eq__\u001b[39m(\u001b[38;5;28mself\u001b[39m, other):\n\u001b[0;32m---> 42\u001b[0m     \u001b[38;5;28;01mreturn\u001b[39;00m \u001b[38;5;28;43mself\u001b[39;49m\u001b[38;5;241;43m.\u001b[39;49m\u001b[43m_cmp_method\u001b[49m\u001b[43m(\u001b[49m\u001b[43mother\u001b[49m\u001b[43m,\u001b[49m\u001b[43m \u001b[49m\u001b[43moperator\u001b[49m\u001b[38;5;241;43m.\u001b[39;49m\u001b[43meq\u001b[49m\u001b[43m)\u001b[49m\n",
      "File \u001b[0;32m/Applications/Anaconda/anaconda3/envs/sklearn/lib/python3.9/site-packages/pandas/core/series.py:6243\u001b[0m, in \u001b[0;36mSeries._cmp_method\u001b[0;34m(self, other, op)\u001b[0m\n\u001b[1;32m   6240\u001b[0m rvalues \u001b[38;5;241m=\u001b[39m extract_array(other, extract_numpy\u001b[38;5;241m=\u001b[39m\u001b[38;5;28;01mTrue\u001b[39;00m, extract_range\u001b[38;5;241m=\u001b[39m\u001b[38;5;28;01mTrue\u001b[39;00m)\n\u001b[1;32m   6242\u001b[0m \u001b[38;5;28;01mwith\u001b[39;00m np\u001b[38;5;241m.\u001b[39merrstate(\u001b[38;5;28mall\u001b[39m\u001b[38;5;241m=\u001b[39m\u001b[38;5;124m\"\u001b[39m\u001b[38;5;124mignore\u001b[39m\u001b[38;5;124m\"\u001b[39m):\n\u001b[0;32m-> 6243\u001b[0m     res_values \u001b[38;5;241m=\u001b[39m \u001b[43mops\u001b[49m\u001b[38;5;241;43m.\u001b[39;49m\u001b[43mcomparison_op\u001b[49m\u001b[43m(\u001b[49m\u001b[43mlvalues\u001b[49m\u001b[43m,\u001b[49m\u001b[43m \u001b[49m\u001b[43mrvalues\u001b[49m\u001b[43m,\u001b[49m\u001b[43m \u001b[49m\u001b[43mop\u001b[49m\u001b[43m)\u001b[49m\n\u001b[1;32m   6245\u001b[0m \u001b[38;5;28;01mreturn\u001b[39;00m \u001b[38;5;28mself\u001b[39m\u001b[38;5;241m.\u001b[39m_construct_result(res_values, name\u001b[38;5;241m=\u001b[39mres_name)\n",
      "File \u001b[0;32m/Applications/Anaconda/anaconda3/envs/sklearn/lib/python3.9/site-packages/pandas/core/ops/array_ops.py:264\u001b[0m, in \u001b[0;36mcomparison_op\u001b[0;34m(left, right, op)\u001b[0m\n\u001b[1;32m    259\u001b[0m \u001b[38;5;28;01mif\u001b[39;00m \u001b[38;5;28misinstance\u001b[39m(rvalues, (np\u001b[38;5;241m.\u001b[39mndarray, ABCExtensionArray)):\n\u001b[1;32m    260\u001b[0m     \u001b[38;5;66;03m# TODO: make this treatment consistent across ops and classes.\u001b[39;00m\n\u001b[1;32m    261\u001b[0m     \u001b[38;5;66;03m#  We are not catching all listlikes here (e.g. frozenset, tuple)\u001b[39;00m\n\u001b[1;32m    262\u001b[0m     \u001b[38;5;66;03m#  The ambiguous case is object-dtype.  See GH#27803\u001b[39;00m\n\u001b[1;32m    263\u001b[0m     \u001b[38;5;28;01mif\u001b[39;00m \u001b[38;5;28mlen\u001b[39m(lvalues) \u001b[38;5;241m!=\u001b[39m \u001b[38;5;28mlen\u001b[39m(rvalues):\n\u001b[0;32m--> 264\u001b[0m         \u001b[38;5;28;01mraise\u001b[39;00m \u001b[38;5;167;01mValueError\u001b[39;00m(\n\u001b[1;32m    265\u001b[0m             \u001b[38;5;124m\"\u001b[39m\u001b[38;5;124mLengths must match to compare\u001b[39m\u001b[38;5;124m\"\u001b[39m, lvalues\u001b[38;5;241m.\u001b[39mshape, rvalues\u001b[38;5;241m.\u001b[39mshape\n\u001b[1;32m    266\u001b[0m         )\n\u001b[1;32m    268\u001b[0m \u001b[38;5;28;01mif\u001b[39;00m should_extension_dispatch(lvalues, rvalues) \u001b[38;5;129;01mor\u001b[39;00m (\n\u001b[1;32m    269\u001b[0m     (\u001b[38;5;28misinstance\u001b[39m(rvalues, (Timedelta, BaseOffset, Timestamp)) \u001b[38;5;129;01mor\u001b[39;00m right \u001b[38;5;129;01mis\u001b[39;00m NaT)\n\u001b[1;32m    270\u001b[0m     \u001b[38;5;129;01mand\u001b[39;00m \u001b[38;5;129;01mnot\u001b[39;00m is_object_dtype(lvalues\u001b[38;5;241m.\u001b[39mdtype)\n\u001b[1;32m    271\u001b[0m ):\n\u001b[1;32m    272\u001b[0m     \u001b[38;5;66;03m# Call the method on lvalues\u001b[39;00m\n\u001b[1;32m    273\u001b[0m     res_values \u001b[38;5;241m=\u001b[39m op(lvalues, rvalues)\n",
      "\u001b[0;31mValueError\u001b[0m: ('Lengths must match to compare', (126,), (26,))"
     ]
    }
   ],
   "source": [
    "# calculate accuracy\n",
    "# find where predicted = true survival\n",
    "# then divide by the number of predictions/passengers\n",
    "acc = (y_pred == y).sum()/df.shape[0]\n",
    "\n",
    "# Print the accuracy score\n",
    "print(f'Model accuracy = {acc}')"
   ]
  },
  {
   "cell_type": "code",
   "execution_count": 220,
   "id": "2bd015c4-fd22-464b-91c2-37772d627925",
   "metadata": {},
   "outputs": [
    {
     "ename": "NameError",
     "evalue": "name 'logreg_results' is not defined",
     "output_type": "error",
     "traceback": [
      "\u001b[0;31m---------------------------------------------------------------------------\u001b[0m",
      "\u001b[0;31mNameError\u001b[0m                                 Traceback (most recent call last)",
      "Cell \u001b[0;32mIn[220], line 2\u001b[0m\n\u001b[1;32m      1\u001b[0m \u001b[38;5;66;03m# put params into a dataframe\u001b[39;00m\n\u001b[0;32m----> 2\u001b[0m results_df \u001b[38;5;241m=\u001b[39m pd\u001b[38;5;241m.\u001b[39mDataFrame(\u001b[43mlogreg_results\u001b[49m\u001b[38;5;241m.\u001b[39mparams, columns\u001b[38;5;241m=\u001b[39m[\u001b[38;5;124m'\u001b[39m\u001b[38;5;124mCoefficient\u001b[39m\u001b[38;5;124m'\u001b[39m])\n\u001b[1;32m      4\u001b[0m \u001b[38;5;66;03m# view the dataframe\u001b[39;00m\n\u001b[1;32m      5\u001b[0m results_df\n",
      "\u001b[0;31mNameError\u001b[0m: name 'logreg_results' is not defined"
     ]
    }
   ],
   "source": [
    "# put params into a dataframe\n",
    "results_df = pd.DataFrame(logreg_results.params, columns=['Coefficient'])\n",
    "\n",
    "# view the dataframe\n",
    "results_df"
   ]
  },
  {
   "cell_type": "code",
   "execution_count": 221,
   "id": "37319b11-cb6f-4cac-ad69-2fe3c8523a66",
   "metadata": {},
   "outputs": [
    {
     "ename": "NameError",
     "evalue": "name 'results_df' is not defined",
     "output_type": "error",
     "traceback": [
      "\u001b[0;31m---------------------------------------------------------------------------\u001b[0m",
      "\u001b[0;31mNameError\u001b[0m                                 Traceback (most recent call last)",
      "Cell \u001b[0;32mIn[221], line 3\u001b[0m\n\u001b[1;32m      1\u001b[0m \u001b[38;5;66;03m# calculate and add the odds ratios to results_df\u001b[39;00m\n\u001b[1;32m      2\u001b[0m \u001b[38;5;66;03m# log odds is more interpretable\u001b[39;00m\n\u001b[0;32m----> 3\u001b[0m results_df[\u001b[38;5;124m'\u001b[39m\u001b[38;5;124modds_ratio\u001b[39m\u001b[38;5;124m'\u001b[39m] \u001b[38;5;241m=\u001b[39m np\u001b[38;5;241m.\u001b[39mexp(\u001b[43mresults_df\u001b[49m[\u001b[38;5;124m'\u001b[39m\u001b[38;5;124mCoefficient\u001b[39m\u001b[38;5;124m'\u001b[39m])\n\u001b[1;32m      5\u001b[0m \u001b[38;5;66;03m# display the dataframe\u001b[39;00m\n\u001b[1;32m      6\u001b[0m results_df\n",
      "\u001b[0;31mNameError\u001b[0m: name 'results_df' is not defined"
     ]
    }
   ],
   "source": [
    "# calculate and add the odds ratios to results_df\n",
    "# log odds is more interpretable\n",
    "results_df['odds_ratio'] = np.exp(results_df['Coefficient'])\n",
    "\n",
    "# display the dataframe\n",
    "results_df"
   ]
  },
  {
   "cell_type": "markdown",
   "id": "ba6ee5cf-5c9e-4c5c-9533-03e6cc082027",
   "metadata": {},
   "source": [
    "Oops, that did not work!"
   ]
  }
 ],
 "metadata": {
  "kernelspec": {
   "display_name": "sklearn",
   "language": "python",
   "name": "sklearn"
  },
  "language_info": {
   "codemirror_mode": {
    "name": "ipython",
    "version": 3
   },
   "file_extension": ".py",
   "mimetype": "text/x-python",
   "name": "python",
   "nbconvert_exporter": "python",
   "pygments_lexer": "ipython3",
   "version": "3.9.19"
  }
 },
 "nbformat": 4,
 "nbformat_minor": 5
}
