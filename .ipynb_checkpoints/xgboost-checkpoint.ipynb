{
 "cells": [
  {
   "cell_type": "markdown",
   "id": "5192b1fe-94fd-4118-a6ae-7c6cf4e453da",
   "metadata": {},
   "source": [
    "# XGBoost\n",
    "\n",
    "Using `XGBoost` to push the accuracy above 73%."
   ]
  },
  {
   "cell_type": "markdown",
   "id": "ef7d1fe5-c95e-48e8-b1a1-4701ff959762",
   "metadata": {},
   "source": [
    "## Run this section in the `lazypredict` environment"
   ]
  },
  {
   "cell_type": "code",
   "execution_count": null,
   "id": "cf17a0a6-6775-4f79-8770-1f8a27e6388d",
   "metadata": {},
   "outputs": [],
   "source": [
    "import numpy as np\n",
    "import pandas as pd\n",
    "\n",
    "from lazypredict.Supervised import LazyClassifier"
   ]
  },
  {
   "cell_type": "code",
   "execution_count": null,
   "id": "aa936368-da53-484c-ad6a-2b4b137d3a35",
   "metadata": {},
   "outputs": [],
   "source": [
    "X_train=pd.read_csv('../data/1_X_train.csv').to_numpy()\n",
    "X_test=pd.read_csv('../data/1_X_test.csv').to_numpy()\n",
    "y_train=pd.read_csv('../data/1_y_train.csv').to_numpy().flatten()\n",
    "y_test=pd.read_csv('../data/1_y_test.csv').to_numpy().flatten()"
   ]
  },
  {
   "cell_type": "code",
   "execution_count": null,
   "id": "a99f5c5c-e1e9-48c1-bf4a-513076733509",
   "metadata": {
    "tags": []
   },
   "outputs": [],
   "source": [
    "clf = LazyClassifier(verbose=0,ignore_warnings=True)\n",
    "models, predictions = clf.fit(X_train=X_train,\n",
    "                              X_test=X_test,\n",
    "                              y_train=y_train,\n",
    "                              y_test=y_test)"
   ]
  },
  {
   "cell_type": "code",
   "execution_count": null,
   "id": "270c1846-dd4e-49ea-be0e-50f04040aa1e",
   "metadata": {},
   "outputs": [],
   "source": [
    "models"
   ]
  },
  {
   "cell_type": "code",
   "execution_count": null,
   "id": "bcbc9c46-4448-4e2a-9d33-222a8e86007d",
   "metadata": {},
   "outputs": [],
   "source": [
    "models.to_csv('../joblib/1_lazypredict.csv')"
   ]
  },
  {
   "cell_type": "markdown",
   "id": "1a2f2d13-07c6-4e05-983f-5b35d76f30b8",
   "metadata": {},
   "source": [
    "## Switch to `sklearn` environment"
   ]
  },
  {
   "cell_type": "code",
   "execution_count": 3,
   "id": "18a145a8-8f16-4295-b6bd-ca9858f865da",
   "metadata": {},
   "outputs": [],
   "source": [
    "import numpy as np\n",
    "import pandas as pd"
   ]
  },
  {
   "cell_type": "code",
   "execution_count": 4,
   "id": "482c2617-6bca-43fd-89c6-5c90f8a92c66",
   "metadata": {},
   "outputs": [],
   "source": [
    "models=pd.read_csv('../joblib/1_lazypredict.csv')"
   ]
  },
  {
   "cell_type": "code",
   "execution_count": 5,
   "id": "02f26c08-22ab-4135-a5cb-599e7392c619",
   "metadata": {},
   "outputs": [
    {
     "data": {
      "text/html": [
       "<div>\n",
       "<style scoped>\n",
       "    .dataframe tbody tr th:only-of-type {\n",
       "        vertical-align: middle;\n",
       "    }\n",
       "\n",
       "    .dataframe tbody tr th {\n",
       "        vertical-align: top;\n",
       "    }\n",
       "\n",
       "    .dataframe thead th {\n",
       "        text-align: right;\n",
       "    }\n",
       "</style>\n",
       "<table border=\"1\" class=\"dataframe\">\n",
       "  <thead>\n",
       "    <tr style=\"text-align: right;\">\n",
       "      <th></th>\n",
       "      <th>Model</th>\n",
       "      <th>Accuracy</th>\n",
       "      <th>Balanced Accuracy</th>\n",
       "      <th>ROC AUC</th>\n",
       "      <th>F1 Score</th>\n",
       "      <th>Time Taken</th>\n",
       "    </tr>\n",
       "  </thead>\n",
       "  <tbody>\n",
       "    <tr>\n",
       "      <th>0</th>\n",
       "      <td>LGBMClassifier</td>\n",
       "      <td>0.615385</td>\n",
       "      <td>0.613095</td>\n",
       "      <td>0.613095</td>\n",
       "      <td>0.615385</td>\n",
       "      <td>0.075215</td>\n",
       "    </tr>\n",
       "    <tr>\n",
       "      <th>1</th>\n",
       "      <td>XGBClassifier</td>\n",
       "      <td>0.576923</td>\n",
       "      <td>0.565476</td>\n",
       "      <td>0.565476</td>\n",
       "      <td>0.567175</td>\n",
       "      <td>0.124167</td>\n",
       "    </tr>\n",
       "    <tr>\n",
       "      <th>2</th>\n",
       "      <td>LabelPropagation</td>\n",
       "      <td>0.576923</td>\n",
       "      <td>0.565476</td>\n",
       "      <td>0.565476</td>\n",
       "      <td>0.567175</td>\n",
       "      <td>0.007883</td>\n",
       "    </tr>\n",
       "    <tr>\n",
       "      <th>3</th>\n",
       "      <td>ExtraTreesClassifier</td>\n",
       "      <td>0.538462</td>\n",
       "      <td>0.529762</td>\n",
       "      <td>0.529762</td>\n",
       "      <td>0.532867</td>\n",
       "      <td>0.033458</td>\n",
       "    </tr>\n",
       "    <tr>\n",
       "      <th>4</th>\n",
       "      <td>KNeighborsClassifier</td>\n",
       "      <td>0.538462</td>\n",
       "      <td>0.529762</td>\n",
       "      <td>0.529762</td>\n",
       "      <td>0.532867</td>\n",
       "      <td>0.011579</td>\n",
       "    </tr>\n",
       "    <tr>\n",
       "      <th>5</th>\n",
       "      <td>LabelSpreading</td>\n",
       "      <td>0.538462</td>\n",
       "      <td>0.529762</td>\n",
       "      <td>0.529762</td>\n",
       "      <td>0.532867</td>\n",
       "      <td>0.016714</td>\n",
       "    </tr>\n",
       "    <tr>\n",
       "      <th>6</th>\n",
       "      <td>RandomForestClassifier</td>\n",
       "      <td>0.538462</td>\n",
       "      <td>0.523810</td>\n",
       "      <td>0.523810</td>\n",
       "      <td>0.521154</td>\n",
       "      <td>0.082213</td>\n",
       "    </tr>\n",
       "    <tr>\n",
       "      <th>7</th>\n",
       "      <td>DummyClassifier</td>\n",
       "      <td>0.538462</td>\n",
       "      <td>0.500000</td>\n",
       "      <td>0.500000</td>\n",
       "      <td>0.376923</td>\n",
       "      <td>0.002986</td>\n",
       "    </tr>\n",
       "    <tr>\n",
       "      <th>8</th>\n",
       "      <td>BaggingClassifier</td>\n",
       "      <td>0.500000</td>\n",
       "      <td>0.488095</td>\n",
       "      <td>0.488095</td>\n",
       "      <td>0.488479</td>\n",
       "      <td>0.010814</td>\n",
       "    </tr>\n",
       "    <tr>\n",
       "      <th>9</th>\n",
       "      <td>LogisticRegression</td>\n",
       "      <td>0.500000</td>\n",
       "      <td>0.482143</td>\n",
       "      <td>0.482143</td>\n",
       "      <td>0.472089</td>\n",
       "      <td>0.007460</td>\n",
       "    </tr>\n",
       "    <tr>\n",
       "      <th>10</th>\n",
       "      <td>CalibratedClassifierCV</td>\n",
       "      <td>0.500000</td>\n",
       "      <td>0.476190</td>\n",
       "      <td>0.476190</td>\n",
       "      <td>0.447059</td>\n",
       "      <td>0.013968</td>\n",
       "    </tr>\n",
       "    <tr>\n",
       "      <th>11</th>\n",
       "      <td>ExtraTreeClassifier</td>\n",
       "      <td>0.461538</td>\n",
       "      <td>0.458333</td>\n",
       "      <td>0.458333</td>\n",
       "      <td>0.461538</td>\n",
       "      <td>0.003410</td>\n",
       "    </tr>\n",
       "    <tr>\n",
       "      <th>12</th>\n",
       "      <td>QuadraticDiscriminantAnalysis</td>\n",
       "      <td>0.461538</td>\n",
       "      <td>0.452381</td>\n",
       "      <td>0.452381</td>\n",
       "      <td>0.455012</td>\n",
       "      <td>0.005760</td>\n",
       "    </tr>\n",
       "    <tr>\n",
       "      <th>13</th>\n",
       "      <td>AdaBoostClassifier</td>\n",
       "      <td>0.461538</td>\n",
       "      <td>0.446429</td>\n",
       "      <td>0.446429</td>\n",
       "      <td>0.441346</td>\n",
       "      <td>0.040083</td>\n",
       "    </tr>\n",
       "    <tr>\n",
       "      <th>14</th>\n",
       "      <td>DecisionTreeClassifier</td>\n",
       "      <td>0.461538</td>\n",
       "      <td>0.446429</td>\n",
       "      <td>0.446429</td>\n",
       "      <td>0.441346</td>\n",
       "      <td>0.003644</td>\n",
       "    </tr>\n",
       "    <tr>\n",
       "      <th>15</th>\n",
       "      <td>LinearDiscriminantAnalysis</td>\n",
       "      <td>0.461538</td>\n",
       "      <td>0.440476</td>\n",
       "      <td>0.440476</td>\n",
       "      <td>0.419306</td>\n",
       "      <td>0.036225</td>\n",
       "    </tr>\n",
       "    <tr>\n",
       "      <th>16</th>\n",
       "      <td>RidgeClassifier</td>\n",
       "      <td>0.461538</td>\n",
       "      <td>0.440476</td>\n",
       "      <td>0.440476</td>\n",
       "      <td>0.419306</td>\n",
       "      <td>0.007813</td>\n",
       "    </tr>\n",
       "    <tr>\n",
       "      <th>17</th>\n",
       "      <td>RidgeClassifierCV</td>\n",
       "      <td>0.461538</td>\n",
       "      <td>0.440476</td>\n",
       "      <td>0.440476</td>\n",
       "      <td>0.419306</td>\n",
       "      <td>0.003335</td>\n",
       "    </tr>\n",
       "    <tr>\n",
       "      <th>18</th>\n",
       "      <td>SGDClassifier</td>\n",
       "      <td>0.461538</td>\n",
       "      <td>0.440476</td>\n",
       "      <td>0.440476</td>\n",
       "      <td>0.419306</td>\n",
       "      <td>0.003141</td>\n",
       "    </tr>\n",
       "    <tr>\n",
       "      <th>19</th>\n",
       "      <td>LinearSVC</td>\n",
       "      <td>0.461538</td>\n",
       "      <td>0.440476</td>\n",
       "      <td>0.440476</td>\n",
       "      <td>0.419306</td>\n",
       "      <td>0.008510</td>\n",
       "    </tr>\n",
       "    <tr>\n",
       "      <th>20</th>\n",
       "      <td>Perceptron</td>\n",
       "      <td>0.384615</td>\n",
       "      <td>0.416667</td>\n",
       "      <td>0.416667</td>\n",
       "      <td>0.256410</td>\n",
       "      <td>0.007415</td>\n",
       "    </tr>\n",
       "    <tr>\n",
       "      <th>21</th>\n",
       "      <td>NuSVC</td>\n",
       "      <td>0.423077</td>\n",
       "      <td>0.416667</td>\n",
       "      <td>0.416667</td>\n",
       "      <td>0.420482</td>\n",
       "      <td>0.009199</td>\n",
       "    </tr>\n",
       "    <tr>\n",
       "      <th>22</th>\n",
       "      <td>NearestCentroid</td>\n",
       "      <td>0.423077</td>\n",
       "      <td>0.410714</td>\n",
       "      <td>0.410714</td>\n",
       "      <td>0.409784</td>\n",
       "      <td>0.003967</td>\n",
       "    </tr>\n",
       "    <tr>\n",
       "      <th>23</th>\n",
       "      <td>SVC</td>\n",
       "      <td>0.423077</td>\n",
       "      <td>0.410714</td>\n",
       "      <td>0.410714</td>\n",
       "      <td>0.409784</td>\n",
       "      <td>0.003386</td>\n",
       "    </tr>\n",
       "    <tr>\n",
       "      <th>24</th>\n",
       "      <td>BernoulliNB</td>\n",
       "      <td>0.423077</td>\n",
       "      <td>0.410714</td>\n",
       "      <td>0.410714</td>\n",
       "      <td>0.409784</td>\n",
       "      <td>0.003097</td>\n",
       "    </tr>\n",
       "    <tr>\n",
       "      <th>25</th>\n",
       "      <td>GaussianNB</td>\n",
       "      <td>0.423077</td>\n",
       "      <td>0.404762</td>\n",
       "      <td>0.404762</td>\n",
       "      <td>0.390872</td>\n",
       "      <td>0.004956</td>\n",
       "    </tr>\n",
       "    <tr>\n",
       "      <th>26</th>\n",
       "      <td>PassiveAggressiveClassifier</td>\n",
       "      <td>0.346154</td>\n",
       "      <td>0.345238</td>\n",
       "      <td>0.345238</td>\n",
       "      <td>0.347123</td>\n",
       "      <td>0.025230</td>\n",
       "    </tr>\n",
       "  </tbody>\n",
       "</table>\n",
       "</div>"
      ],
      "text/plain": [
       "                            Model  Accuracy  Balanced Accuracy   ROC AUC  \\\n",
       "0                  LGBMClassifier  0.615385           0.613095  0.613095   \n",
       "1                   XGBClassifier  0.576923           0.565476  0.565476   \n",
       "2                LabelPropagation  0.576923           0.565476  0.565476   \n",
       "3            ExtraTreesClassifier  0.538462           0.529762  0.529762   \n",
       "4            KNeighborsClassifier  0.538462           0.529762  0.529762   \n",
       "5                  LabelSpreading  0.538462           0.529762  0.529762   \n",
       "6          RandomForestClassifier  0.538462           0.523810  0.523810   \n",
       "7                 DummyClassifier  0.538462           0.500000  0.500000   \n",
       "8               BaggingClassifier  0.500000           0.488095  0.488095   \n",
       "9              LogisticRegression  0.500000           0.482143  0.482143   \n",
       "10         CalibratedClassifierCV  0.500000           0.476190  0.476190   \n",
       "11            ExtraTreeClassifier  0.461538           0.458333  0.458333   \n",
       "12  QuadraticDiscriminantAnalysis  0.461538           0.452381  0.452381   \n",
       "13             AdaBoostClassifier  0.461538           0.446429  0.446429   \n",
       "14         DecisionTreeClassifier  0.461538           0.446429  0.446429   \n",
       "15     LinearDiscriminantAnalysis  0.461538           0.440476  0.440476   \n",
       "16                RidgeClassifier  0.461538           0.440476  0.440476   \n",
       "17              RidgeClassifierCV  0.461538           0.440476  0.440476   \n",
       "18                  SGDClassifier  0.461538           0.440476  0.440476   \n",
       "19                      LinearSVC  0.461538           0.440476  0.440476   \n",
       "20                     Perceptron  0.384615           0.416667  0.416667   \n",
       "21                          NuSVC  0.423077           0.416667  0.416667   \n",
       "22                NearestCentroid  0.423077           0.410714  0.410714   \n",
       "23                            SVC  0.423077           0.410714  0.410714   \n",
       "24                    BernoulliNB  0.423077           0.410714  0.410714   \n",
       "25                     GaussianNB  0.423077           0.404762  0.404762   \n",
       "26    PassiveAggressiveClassifier  0.346154           0.345238  0.345238   \n",
       "\n",
       "    F1 Score  Time Taken  \n",
       "0   0.615385    0.075215  \n",
       "1   0.567175    0.124167  \n",
       "2   0.567175    0.007883  \n",
       "3   0.532867    0.033458  \n",
       "4   0.532867    0.011579  \n",
       "5   0.532867    0.016714  \n",
       "6   0.521154    0.082213  \n",
       "7   0.376923    0.002986  \n",
       "8   0.488479    0.010814  \n",
       "9   0.472089    0.007460  \n",
       "10  0.447059    0.013968  \n",
       "11  0.461538    0.003410  \n",
       "12  0.455012    0.005760  \n",
       "13  0.441346    0.040083  \n",
       "14  0.441346    0.003644  \n",
       "15  0.419306    0.036225  \n",
       "16  0.419306    0.007813  \n",
       "17  0.419306    0.003335  \n",
       "18  0.419306    0.003141  \n",
       "19  0.419306    0.008510  \n",
       "20  0.256410    0.007415  \n",
       "21  0.420482    0.009199  \n",
       "22  0.409784    0.003967  \n",
       "23  0.409784    0.003386  \n",
       "24  0.409784    0.003097  \n",
       "25  0.390872    0.004956  \n",
       "26  0.347123    0.025230  "
      ]
     },
     "execution_count": 5,
     "metadata": {},
     "output_type": "execute_result"
    }
   ],
   "source": [
    "models"
   ]
  },
  {
   "cell_type": "markdown",
   "id": "6c573aac-bd50-4dbd-984e-b4c0f9815811",
   "metadata": {},
   "source": [
    "After exploring alternatives, including `LGBMClassifier`, I will now use `XGBoost` instead."
   ]
  },
  {
   "cell_type": "markdown",
   "id": "1b511c6b-1b16-42b7-961d-622909cee8b4",
   "metadata": {},
   "source": [
    "## Imports"
   ]
  },
  {
   "cell_type": "code",
   "execution_count": 6,
   "id": "99e9814c-b8bb-4891-a954-ed577dc4faa9",
   "metadata": {},
   "outputs": [],
   "source": [
    "import matplotlib.pyplot as plt\n",
    "\n",
    "from sklearn.model_selection import train_test_split\n",
    "from xgboost import XGBClassifier\n",
    "from sklearn.metrics import accuracy_score, confusion_matrix, classification_report"
   ]
  },
  {
   "cell_type": "code",
   "execution_count": 7,
   "id": "f2bcbe63-40a0-44ce-8029-f350839ad215",
   "metadata": {},
   "outputs": [],
   "source": [
    "# read in and setup dataset\n",
    "\n",
    "df=pd.read_csv('../data/ACME-HappinessSurvey2020.csv')\n",
    "\n",
    "# renaming columns to preserve order\n",
    "# and make them more intelligible\n",
    "df.rename(columns={'Y':'y',\n",
    "                   'X1':'a_time',\n",
    "                   'X2':'b_contents',\n",
    "                   'X3':'c_complete',\n",
    "                   'X4':'d_price',\n",
    "                   'X5':'e_courier',\n",
    "                   'X6':'f_app'},inplace=True)\n",
    "\n",
    "# df.dtypes\n",
    "\n",
    "X=df[[col for col in df.columns if col != 'y']].copy()\n",
    "y=df['y'].copy().astype('int8') # because it's a binary"
   ]
  },
  {
   "cell_type": "markdown",
   "id": "ce619d8b-f7f7-48d0-af73-e62e0a77b308",
   "metadata": {},
   "source": [
    "ValueError: DataFrame.dtypes for data must be int, float, bool or category. When categorical type is supplied, The experimental DMatrix parameter`enable_categorical` must be set to `True`.  Invalid columns:a_time: category, b_contents: category, c_complete: category, d_price: category, e_courier: category, f_app: category"
   ]
  },
  {
   "cell_type": "code",
   "execution_count": 8,
   "id": "a32b1bc7-3744-4931-88b7-02cf8ebaddf1",
   "metadata": {},
   "outputs": [],
   "source": [
    "# setup random state for reproducibility\n",
    "random_state=42"
   ]
  },
  {
   "cell_type": "code",
   "execution_count": 9,
   "id": "9d323d74-488c-4762-8f60-66d3cd9a6a29",
   "metadata": {},
   "outputs": [],
   "source": [
    "X_train, X_test, y_train, y_test = train_test_split(X, \n",
    "                                                    y, \n",
    "                                                    test_size=0.2, \n",
    "                                                    stratify=y,\n",
    "                                                    random_state=random_state)"
   ]
  },
  {
   "cell_type": "code",
   "execution_count": 10,
   "id": "b98747f7-3a28-4069-ba5a-30dd6df914d1",
   "metadata": {},
   "outputs": [
    {
     "name": "stdout",
     "output_type": "stream",
     "text": [
      "\n",
      "Shapes:\n",
      "X_train: (100, 6)\n",
      "X_test:  (26, 6)\n",
      "y_train: (100,)\n",
      "y_test:  (26,)\n",
      "\n"
     ]
    }
   ],
   "source": [
    "print(f'''\n",
    "Shapes:\n",
    "X_train: {X_train.shape}\n",
    "X_test:  {X_test.shape}\n",
    "y_train: {y_train.shape}\n",
    "y_test:  {y_test.shape}\n",
    "''')"
   ]
  },
  {
   "cell_type": "markdown",
   "id": "012faf84-a2ae-4b29-a729-678e58de73c4",
   "metadata": {},
   "source": [
    "## Initial model run"
   ]
  },
  {
   "cell_type": "code",
   "execution_count": 11,
   "id": "fc9fad64-7dfc-4be0-b55c-5451f5e3af4d",
   "metadata": {},
   "outputs": [
    {
     "name": "stdout",
     "output_type": "stream",
     "text": [
      "Score on test: 0.5384615384615384\n",
      "              precision    recall  f1-score   support\n",
      "\n",
      "           0       0.50      0.42      0.45        12\n",
      "           1       0.56      0.64      0.60        14\n",
      "\n",
      "    accuracy                           0.54        26\n",
      "   macro avg       0.53      0.53      0.53        26\n",
      "weighted avg       0.53      0.54      0.53        26\n",
      "\n"
     ]
    }
   ],
   "source": [
    "xgbc = XGBClassifier()\n",
    "xgbc.fit(X_train, y_train)\n",
    "\n",
    "y_pred = xgbc.predict(X_test)\n",
    "print(f'Score on test: {xgbc.score(X_test,y_test)}')\n",
    "print(classification_report(y_test, y_pred))"
   ]
  },
  {
   "cell_type": "markdown",
   "id": "226be221-974f-42f1-901a-c038bbac5235",
   "metadata": {},
   "source": [
    "The base model is not great yet. Let's keep going forward."
   ]
  },
  {
   "cell_type": "markdown",
   "id": "513846bf-cf18-4e11-bd21-5247fe92e378",
   "metadata": {},
   "source": [
    "Note that the dataset consists of survey responses, which are categorical, but they are not encoded as such. Transforming the survey results into a `category` datatype should help."
   ]
  },
  {
   "cell_type": "code",
   "execution_count": 14,
   "id": "96a22bfd-f7b7-4e52-b4c5-7057484c7cbd",
   "metadata": {},
   "outputs": [
    {
     "name": "stdout",
     "output_type": "stream",
     "text": [
      "\n",
      "Datatypes:\n",
      "\n",
      "y: \n",
      "int8\n",
      "\n",
      "X: \n",
      "a_time        category\n",
      "b_contents    category\n",
      "c_complete    category\n",
      "d_price       category\n",
      "e_courier     category\n",
      "f_app         category\n",
      "dtype: object\n",
      "\n"
     ]
    }
   ],
   "source": [
    "for col in X.columns:\n",
    "    X[col]=X[col].astype('category')\n",
    "    \n",
    "print(f'''\n",
    "Datatypes:\n",
    "\n",
    "y: \n",
    "{y.dtypes}\n",
    "\n",
    "X: \n",
    "{X.dtypes}\n",
    "''')"
   ]
  },
  {
   "cell_type": "markdown",
   "id": "1fbcb0f7-1a9e-4359-95e6-52e06056afe6",
   "metadata": {},
   "source": [
    "From [this tutorial](#https://www.datacamp.com/tutorial/xgboost-in-python) on DataCamp, I will create a `DMatrix`. This creates an optimized dataframe for memory and speed when performing modeling."
   ]
  },
  {
   "cell_type": "code",
   "execution_count": 15,
   "id": "a20f3bdc-c6d4-424d-8afc-09d5398ed7e7",
   "metadata": {},
   "outputs": [],
   "source": [
    "import xgboost as xgb\n",
    "\n",
    "dtrain_reg = xgb.DMatrix(X_train, y_train, enable_categorical=True)\n",
    "dtest_reg = xgb.DMatrix(X_test, y_test, enable_categorical=True)"
   ]
  },
  {
   "cell_type": "code",
   "execution_count": 16,
   "id": "d454bb34-5eb4-48a6-90b9-81b0e9b5af6d",
   "metadata": {},
   "outputs": [],
   "source": [
    "from sklearn.model_selection import GridSearchCV"
   ]
  },
  {
   "cell_type": "code",
   "execution_count": 68,
   "id": "55a94c80-027f-4c52-b06c-a7a1f7024953",
   "metadata": {
    "tags": []
   },
   "outputs": [
    {
     "data": {
      "text/html": [
       "<style>#sk-container-id-16 {color: black;background-color: white;}#sk-container-id-16 pre{padding: 0;}#sk-container-id-16 div.sk-toggleable {background-color: white;}#sk-container-id-16 label.sk-toggleable__label {cursor: pointer;display: block;width: 100%;margin-bottom: 0;padding: 0.3em;box-sizing: border-box;text-align: center;}#sk-container-id-16 label.sk-toggleable__label-arrow:before {content: \"▸\";float: left;margin-right: 0.25em;color: #696969;}#sk-container-id-16 label.sk-toggleable__label-arrow:hover:before {color: black;}#sk-container-id-16 div.sk-estimator:hover label.sk-toggleable__label-arrow:before {color: black;}#sk-container-id-16 div.sk-toggleable__content {max-height: 0;max-width: 0;overflow: hidden;text-align: left;background-color: #f0f8ff;}#sk-container-id-16 div.sk-toggleable__content pre {margin: 0.2em;color: black;border-radius: 0.25em;background-color: #f0f8ff;}#sk-container-id-16 input.sk-toggleable__control:checked~div.sk-toggleable__content {max-height: 200px;max-width: 100%;overflow: auto;}#sk-container-id-16 input.sk-toggleable__control:checked~label.sk-toggleable__label-arrow:before {content: \"▾\";}#sk-container-id-16 div.sk-estimator input.sk-toggleable__control:checked~label.sk-toggleable__label {background-color: #d4ebff;}#sk-container-id-16 div.sk-label input.sk-toggleable__control:checked~label.sk-toggleable__label {background-color: #d4ebff;}#sk-container-id-16 input.sk-hidden--visually {border: 0;clip: rect(1px 1px 1px 1px);clip: rect(1px, 1px, 1px, 1px);height: 1px;margin: -1px;overflow: hidden;padding: 0;position: absolute;width: 1px;}#sk-container-id-16 div.sk-estimator {font-family: monospace;background-color: #f0f8ff;border: 1px dotted black;border-radius: 0.25em;box-sizing: border-box;margin-bottom: 0.5em;}#sk-container-id-16 div.sk-estimator:hover {background-color: #d4ebff;}#sk-container-id-16 div.sk-parallel-item::after {content: \"\";width: 100%;border-bottom: 1px solid gray;flex-grow: 1;}#sk-container-id-16 div.sk-label:hover label.sk-toggleable__label {background-color: #d4ebff;}#sk-container-id-16 div.sk-serial::before {content: \"\";position: absolute;border-left: 1px solid gray;box-sizing: border-box;top: 0;bottom: 0;left: 50%;z-index: 0;}#sk-container-id-16 div.sk-serial {display: flex;flex-direction: column;align-items: center;background-color: white;padding-right: 0.2em;padding-left: 0.2em;position: relative;}#sk-container-id-16 div.sk-item {position: relative;z-index: 1;}#sk-container-id-16 div.sk-parallel {display: flex;align-items: stretch;justify-content: center;background-color: white;position: relative;}#sk-container-id-16 div.sk-item::before, #sk-container-id-16 div.sk-parallel-item::before {content: \"\";position: absolute;border-left: 1px solid gray;box-sizing: border-box;top: 0;bottom: 0;left: 50%;z-index: -1;}#sk-container-id-16 div.sk-parallel-item {display: flex;flex-direction: column;z-index: 1;position: relative;background-color: white;}#sk-container-id-16 div.sk-parallel-item:first-child::after {align-self: flex-end;width: 50%;}#sk-container-id-16 div.sk-parallel-item:last-child::after {align-self: flex-start;width: 50%;}#sk-container-id-16 div.sk-parallel-item:only-child::after {width: 0;}#sk-container-id-16 div.sk-dashed-wrapped {border: 1px dashed gray;margin: 0 0.4em 0.5em 0.4em;box-sizing: border-box;padding-bottom: 0.4em;background-color: white;}#sk-container-id-16 div.sk-label label {font-family: monospace;font-weight: bold;display: inline-block;line-height: 1.2em;}#sk-container-id-16 div.sk-label-container {text-align: center;}#sk-container-id-16 div.sk-container {/* jupyter's `normalize.less` sets `[hidden] { display: none; }` but bootstrap.min.css set `[hidden] { display: none !important; }` so we also need the `!important` here to be able to override the default hidden behavior on the sphinx rendered scikit-learn.org. See: https://github.com/scikit-learn/scikit-learn/issues/21755 */display: inline-block !important;position: relative;}#sk-container-id-16 div.sk-text-repr-fallback {display: none;}</style><div id=\"sk-container-id-16\" class=\"sk-top-container\"><div class=\"sk-text-repr-fallback\"><pre>GridSearchCV(cv=5,\n",
       "             estimator=XGBClassifier(base_score=None, booster=None,\n",
       "                                     callbacks=None, colsample_bylevel=None,\n",
       "                                     colsample_bynode=None,\n",
       "                                     colsample_bytree=None,\n",
       "                                     early_stopping_rounds=None,\n",
       "                                     enable_categorical=False, eval_metric=None,\n",
       "                                     feature_types=None, gamma=None,\n",
       "                                     gpu_id=None, grow_policy=None,\n",
       "                                     importance_type=None,\n",
       "                                     interaction_constraints=None,\n",
       "                                     learning_rate=None,...\n",
       "             param_grid={&#x27;alpha&#x27;: [0], &#x27;gamma&#x27;: [0],\n",
       "                         &#x27;lambda&#x27;: [0.275, 0.28500000000000003,\n",
       "                                    0.29500000000000004, 0.305, 0.315, 0.325],\n",
       "                         &#x27;learning_rate&#x27;: array([1.62554876, 1.62648477, 1.62742132, 1.6283584 , 1.62929603,\n",
       "       1.6302342 , 1.63117291, 1.63211216, 1.63305195]),\n",
       "                         &#x27;max_depth&#x27;: [2],\n",
       "                         &#x27;min_child_weight&#x27;: [3.5, 3.625, 3.75, 3.875, 4.0,\n",
       "                                              4.125, 4.25, 4.375, 4.5],\n",
       "                         &#x27;n_estimators&#x27;: array([53, 54, 55, 56, 57])})</pre><b>In a Jupyter environment, please rerun this cell to show the HTML representation or trust the notebook. <br />On GitHub, the HTML representation is unable to render, please try loading this page with nbviewer.org.</b></div><div class=\"sk-container\" hidden><div class=\"sk-item sk-dashed-wrapped\"><div class=\"sk-label-container\"><div class=\"sk-label sk-toggleable\"><input class=\"sk-toggleable__control sk-hidden--visually\" id=\"sk-estimator-id-46\" type=\"checkbox\" ><label for=\"sk-estimator-id-46\" class=\"sk-toggleable__label sk-toggleable__label-arrow\">GridSearchCV</label><div class=\"sk-toggleable__content\"><pre>GridSearchCV(cv=5,\n",
       "             estimator=XGBClassifier(base_score=None, booster=None,\n",
       "                                     callbacks=None, colsample_bylevel=None,\n",
       "                                     colsample_bynode=None,\n",
       "                                     colsample_bytree=None,\n",
       "                                     early_stopping_rounds=None,\n",
       "                                     enable_categorical=False, eval_metric=None,\n",
       "                                     feature_types=None, gamma=None,\n",
       "                                     gpu_id=None, grow_policy=None,\n",
       "                                     importance_type=None,\n",
       "                                     interaction_constraints=None,\n",
       "                                     learning_rate=None,...\n",
       "             param_grid={&#x27;alpha&#x27;: [0], &#x27;gamma&#x27;: [0],\n",
       "                         &#x27;lambda&#x27;: [0.275, 0.28500000000000003,\n",
       "                                    0.29500000000000004, 0.305, 0.315, 0.325],\n",
       "                         &#x27;learning_rate&#x27;: array([1.62554876, 1.62648477, 1.62742132, 1.6283584 , 1.62929603,\n",
       "       1.6302342 , 1.63117291, 1.63211216, 1.63305195]),\n",
       "                         &#x27;max_depth&#x27;: [2],\n",
       "                         &#x27;min_child_weight&#x27;: [3.5, 3.625, 3.75, 3.875, 4.0,\n",
       "                                              4.125, 4.25, 4.375, 4.5],\n",
       "                         &#x27;n_estimators&#x27;: array([53, 54, 55, 56, 57])})</pre></div></div></div><div class=\"sk-parallel\"><div class=\"sk-parallel-item\"><div class=\"sk-item\"><div class=\"sk-label-container\"><div class=\"sk-label sk-toggleable\"><input class=\"sk-toggleable__control sk-hidden--visually\" id=\"sk-estimator-id-47\" type=\"checkbox\" ><label for=\"sk-estimator-id-47\" class=\"sk-toggleable__label sk-toggleable__label-arrow\">estimator: XGBClassifier</label><div class=\"sk-toggleable__content\"><pre>XGBClassifier(base_score=None, booster=None, callbacks=None,\n",
       "              colsample_bylevel=None, colsample_bynode=None,\n",
       "              colsample_bytree=None, early_stopping_rounds=None,\n",
       "              enable_categorical=False, eval_metric=None, feature_types=None,\n",
       "              gamma=None, gpu_id=None, grow_policy=None, importance_type=None,\n",
       "              interaction_constraints=None, learning_rate=None, max_bin=None,\n",
       "              max_cat_threshold=None, max_cat_to_onehot=None,\n",
       "              max_delta_step=None, max_depth=None, max_leaves=None,\n",
       "              min_child_weight=None, missing=nan, monotone_constraints=None,\n",
       "              n_estimators=100, n_jobs=None, num_parallel_tree=None,\n",
       "              predictor=None, random_state=None, ...)</pre></div></div></div><div class=\"sk-serial\"><div class=\"sk-item\"><div class=\"sk-estimator sk-toggleable\"><input class=\"sk-toggleable__control sk-hidden--visually\" id=\"sk-estimator-id-48\" type=\"checkbox\" ><label for=\"sk-estimator-id-48\" class=\"sk-toggleable__label sk-toggleable__label-arrow\">XGBClassifier</label><div class=\"sk-toggleable__content\"><pre>XGBClassifier(base_score=None, booster=None, callbacks=None,\n",
       "              colsample_bylevel=None, colsample_bynode=None,\n",
       "              colsample_bytree=None, early_stopping_rounds=None,\n",
       "              enable_categorical=False, eval_metric=None, feature_types=None,\n",
       "              gamma=None, gpu_id=None, grow_policy=None, importance_type=None,\n",
       "              interaction_constraints=None, learning_rate=None, max_bin=None,\n",
       "              max_cat_threshold=None, max_cat_to_onehot=None,\n",
       "              max_delta_step=None, max_depth=None, max_leaves=None,\n",
       "              min_child_weight=None, missing=nan, monotone_constraints=None,\n",
       "              n_estimators=100, n_jobs=None, num_parallel_tree=None,\n",
       "              predictor=None, random_state=None, ...)</pre></div></div></div></div></div></div></div></div></div></div>"
      ],
      "text/plain": [
       "GridSearchCV(cv=5,\n",
       "             estimator=XGBClassifier(base_score=None, booster=None,\n",
       "                                     callbacks=None, colsample_bylevel=None,\n",
       "                                     colsample_bynode=None,\n",
       "                                     colsample_bytree=None,\n",
       "                                     early_stopping_rounds=None,\n",
       "                                     enable_categorical=False, eval_metric=None,\n",
       "                                     feature_types=None, gamma=None,\n",
       "                                     gpu_id=None, grow_policy=None,\n",
       "                                     importance_type=None,\n",
       "                                     interaction_constraints=None,\n",
       "                                     learning_rate=None,...\n",
       "             param_grid={'alpha': [0], 'gamma': [0],\n",
       "                         'lambda': [0.275, 0.28500000000000003,\n",
       "                                    0.29500000000000004, 0.305, 0.315, 0.325],\n",
       "                         'learning_rate': array([1.62554876, 1.62648477, 1.62742132, 1.6283584 , 1.62929603,\n",
       "       1.6302342 , 1.63117291, 1.63211216, 1.63305195]),\n",
       "                         'max_depth': [2],\n",
       "                         'min_child_weight': [3.5, 3.625, 3.75, 3.875, 4.0,\n",
       "                                              4.125, 4.25, 4.375, 4.5],\n",
       "                         'n_estimators': array([53, 54, 55, 56, 57])})"
      ]
     },
     "execution_count": 68,
     "metadata": {},
     "output_type": "execute_result"
    }
   ],
   "source": [
    "xgbc = XGBClassifier()\n",
    "\n",
    "parameters = {\n",
    "    'alpha': [0], #(list(np.linspace(0,1,3))),\n",
    "    'gamma': [0], #(list(np.linspace(0,1,3))),\n",
    "    'lambda': (list(np.linspace(0.275,0.325,6))),\n",
    "    'learning_rate': (np.logspace(0.211,0.213,9)),\n",
    "    'max_depth': [2], #(list(np.arange(1,4))),\n",
    "    'min_child_weight': (list(np.linspace(3.5,4.5,9))),\n",
    "    'n_estimators': (np.arange(53,58))\n",
    "}\n",
    "\n",
    "grid_search = GridSearchCV(xgbc, \n",
    "                           parameters, \n",
    "                           cv = 5, \n",
    "                           n_jobs = -1, \n",
    "                           verbose = 0)\n",
    "\n",
    "grid_search.fit(X_train, y_train)"
   ]
  },
  {
   "cell_type": "code",
   "execution_count": 69,
   "id": "56f86f36-ae6e-41e8-b91f-a20fc5176612",
   "metadata": {
    "tags": []
   },
   "outputs": [
    {
     "name": "stdout",
     "output_type": "stream",
     "text": [
      "best score: 0.68\n",
      "best parameters: {'alpha': 0, 'gamma': 0, 'lambda': 0.275, 'learning_rate': 1.6330519478943344, 'max_depth': 2, 'min_child_weight': 3.875, 'n_estimators': 56}\n"
     ]
    }
   ],
   "source": [
    "# best score\n",
    "print(f\"best score: {grid_search.best_score_}\")\n",
    "\n",
    "# best parameters \n",
    "print(f\"best parameters: {grid_search.best_params_}\")"
   ]
  },
  {
   "cell_type": "markdown",
   "id": "5856bf4f-5a8f-499e-a48e-528acdbdc0aa",
   "metadata": {},
   "source": [
    "```python\n",
    "best score: 0.6900000000000001\n",
    "best parameters: {'alpha': 0, 'gamma': 0, 'lambda': 0.3, 'learning_rate': 1.6292960326397223, 'max_depth': 2, 'min_child_weight': 4.0, 'n_estimators': 55}\n",
    "```"
   ]
  },
  {
   "cell_type": "markdown",
   "id": "e2812887-3f6a-4350-88b7-10dae0c3ea05",
   "metadata": {},
   "source": [
    "### Pipeline"
   ]
  },
  {
   "cell_type": "markdown",
   "id": "9cb9c63f-0ca7-4037-b028-0b3e76d388bb",
   "metadata": {},
   "source": [
    "Example of pipeline below:"
   ]
  },
  {
   "cell_type": "markdown",
   "id": "808f3214-4eb3-498b-9536-1b14fdcba0ab",
   "metadata": {},
   "source": [
    "```python\n",
    "X_train, X_test, y_train, y_test = train_test_split(X, y, test_size=0.2, stratify=y, random_state=42)\n",
    "\n",
    "model = Pipeline(\n",
    "    steps=[\n",
    "        ('scaler', StandardScaler()),\n",
    "        ('rfe', RFE(\n",
    "            estimator=BernoulliNB(),\n",
    "            n_features_to_select=3,\n",
    "            importance_getter='feature_log_prob_'\n",
    "        )),\n",
    "        ('bnb', BernoulliNB())\n",
    "    ]\n",
    ")\n",
    "\n",
    "model.fit(X_train, y_train)\n",
    "\n",
    "y_pred = model.predict(X_test)\n",
    "metrics = {\n",
    "    'accuracy': accuracy_score(y_test, y_pred),\n",
    "    'precision': precision_score(y_test, y_pred),\n",
    "    'recall': recall_score(y_test, y_pred),\n",
    "    'f1': f1_score(y_test, y_pred)\n",
    "}\n",
    "```"
   ]
  },
  {
   "cell_type": "code",
   "execution_count": null,
   "id": "e293febb-afab-4dc5-b52b-4e0688195609",
   "metadata": {},
   "outputs": [],
   "source": []
  }
 ],
 "metadata": {
  "kernelspec": {
   "display_name": "sklearn",
   "language": "python",
   "name": "sklearn"
  },
  "language_info": {
   "codemirror_mode": {
    "name": "ipython",
    "version": 3
   },
   "file_extension": ".py",
   "mimetype": "text/x-python",
   "name": "python",
   "nbconvert_exporter": "python",
   "pygments_lexer": "ipython3",
   "version": "3.9.19"
  }
 },
 "nbformat": 4,
 "nbformat_minor": 5
}
